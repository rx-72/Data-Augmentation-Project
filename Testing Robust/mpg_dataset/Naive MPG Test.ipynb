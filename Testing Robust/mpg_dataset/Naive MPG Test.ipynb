{
 "cells": [
  {
   "cell_type": "code",
   "execution_count": 1,
   "id": "4fccc9b6",
   "metadata": {},
   "outputs": [],
   "source": [
    "import os\n",
    "import copy\n",
    "import pickle\n",
    "import sympy\n",
    "import functools\n",
    "import itertools\n",
    "\n",
    "import numpy as np\n",
    "import pandas as pd\n",
    "import matplotlib.pyplot as plt\n",
    "\n",
    "from error_injection import MissingValueError, SamplingError, Injector\n",
    "from sklearn.decomposition import PCA\n",
    "from sklearn.model_selection import train_test_split\n",
    "from sklearn.preprocessing import StandardScaler\n",
    "from sklearn.experimental import enable_iterative_imputer\n",
    "from sklearn.impute import SimpleImputer, KNNImputer, IterativeImputer\n",
    "from sklearn.metrics import mutual_info_score, auc, roc_curve, roc_auc_score, f1_score\n",
    "from scipy.optimize import minimize as scipy_min\n",
    "from scipy.spatial import ConvexHull\n",
    "from scipy.optimize import minimize, Bounds, linprog\n",
    "from sympy import Symbol as sb\n",
    "from sympy import lambdify\n",
    "from tqdm.notebook import trange,tqdm\n",
    "from IPython.display import display,clear_output\n",
    "from random import choice\n",
    "from sklearn.linear_model import LinearRegression\n",
    "from sklearn.utils import resample\n",
    "from sklearn.ensemble import RandomForestRegressor\n",
    "from sklearn.linear_model import Ridge\n",
    "\n",
    "class style():\n",
    "    RED = '\\033[31m'\n",
    "    GREEN = '\\033[32m'\n",
    "    BLUE = '\\033[34m'\n",
    "    RESET = '\\033[0m'\n",
    "\n",
    "np.random.seed(1)\n",
    "\n",
    "# ignore all the warnings\n",
    "import warnings\n",
    "warnings.filterwarnings('ignore')"
   ]
  },
  {
   "cell_type": "code",
   "execution_count": 2,
   "id": "fae72b0d",
   "metadata": {},
   "outputs": [],
   "source": [
    "# first impute the data and make it hypothetically clean\n",
    "def load_mpg_cleaned():\n",
    "    # fetch dataset\n",
    "    auto_mpg = pd.read_csv('auto-mpg.csv').drop('car name', axis=1).replace('?', np.nan)\n",
    "    \n",
    "    features = ['cylinders', 'displacement', 'horsepower', 'weight',\n",
    "                'acceleration', 'model year', 'origin']\n",
    "    X = auto_mpg[features].astype(float)\n",
    "    y = auto_mpg['mpg']\n",
    "    \n",
    "    # assumed gt imputation\n",
    "    imputer = KNNImputer(n_neighbors=10)\n",
    "    X = pd.DataFrame(imputer.fit_transform(X), columns=X.columns)\n",
    "\n",
    "    X_train, X_test, y_train, y_test = train_test_split(X, y, test_size=0.2, random_state=1)\n",
    "    X_train = copy.deepcopy(X_train).reset_index(drop=True)\n",
    "    X_test = copy.deepcopy(X_test).reset_index(drop=True)\n",
    "    y_train = y_train.reset_index(drop=True)\n",
    "    y_test = y_test.reset_index(drop=True)\n",
    "\n",
    "    return X_train, X_test, y_train, y_test"
   ]
  },
  {
   "cell_type": "code",
   "execution_count": 3,
   "id": "70de5504",
   "metadata": {},
   "outputs": [],
   "source": [
    "X_train, X_test, y_train, y_test = load_mpg_cleaned()"
   ]
  },
  {
   "cell_type": "code",
   "execution_count": 4,
   "id": "fbb1e47b",
   "metadata": {},
   "outputs": [],
   "source": [
    "def inject_ranges(X, y, uncertain_attr, uncertain_num, uncertain_radius_pct=None, \n",
    "                  uncertain_radius=None, seed=42):\n",
    "    global symbol_id\n",
    "    symbol_id = -1\n",
    "    \n",
    "    X_extended = np.append(np.ones((len(X), 1)), X, axis=1)\n",
    "    ss = StandardScaler()\n",
    "    X_extended[:, 1:] = ss.fit_transform(X_extended[:, 1:])\n",
    "    X_extended_symb = sympy.Matrix(X_extended)\n",
    "    \n",
    "    if not(uncertain_attr=='y'):\n",
    "        uncertain_attr_idx = X.columns.to_list().index(uncertain_attr) + 1\n",
    "        if not(uncertain_radius):\n",
    "            uncertain_radius = uncertain_radius_pct*(np.max(X_extended[:, uncertain_attr_idx])-\\\n",
    "                                                     np.min(X_extended[:, uncertain_attr_idx]))\n",
    "    else:\n",
    "        if not(uncertain_radius):\n",
    "            uncertain_radius = uncertain_radius_pct*(y_train.max()-y_train.min())[0]\n",
    "    \n",
    "    np.random.seed(seed)\n",
    "    uncertain_indices = np.random.choice(range(len(y)), uncertain_num, replace=False)\n",
    "    y_symb = sympy.Matrix(y)\n",
    "    symbols_in_data = set()\n",
    "    for uncertain_idx in uncertain_indices:\n",
    "        new_symb = create_symbol()\n",
    "        symbols_in_data.add(new_symb)\n",
    "        if uncertain_attr=='y':\n",
    "            y_symb[uncertain_idx] = y_symb[uncertain_idx] + uncertain_radius*new_symb\n",
    "        else:\n",
    "            X_extended_symb[uncertain_idx, uncertain_attr_idx] = X_extended_symb[uncertain_idx, uncertain_attr_idx] + uncertain_radius*new_symb\n",
    "    return X_extended_symb, y_symb, symbols_in_data, ss"
   ]
  },
  {
   "cell_type": "code",
   "execution_count": 5,
   "id": "f54b4ed1",
   "metadata": {},
   "outputs": [],
   "source": [
    "def compute_robustness_ratio_label_error(X_train, y_train, X_test, y_test, robustness_radius,\n",
    "                                         uncertain_num, uncertain_radius=None, \n",
    "                                         lr=0.1, seed=42, interval=True):\n",
    "    X, y, symbols_in_data, ss = inject_ranges(X=X_train, y=y_train, uncertain_attr='y', \n",
    "                                              uncertain_num=uncertain_num, uncertain_radius=uncertain_radius, \n",
    "                                              uncertain_radius_pct=None, seed=seed)\n",
    "    \n",
    "    assert len(X.free_symbols)==0\n",
    "    # closed-form\n",
    "    param = (X.T*X).inv()*X.T*y\n",
    "    \n",
    "    if interval:\n",
    "        # make param intervals\n",
    "        for d in range(len(param)):\n",
    "            expr = param[d]\n",
    "            if not(expr.free_symbols):\n",
    "                continue\n",
    "            else:\n",
    "                constant_part = 0\n",
    "                interval_radius = 0\n",
    "                for arg in expr.args:\n",
    "                    if arg.free_symbols:\n",
    "                        interval_radius += abs(arg.args[0])\n",
    "                    else:\n",
    "                        assert constant_part == 0\n",
    "                        constant_part = arg\n",
    "                param[d] = constant_part + create_symbol()*interval_radius\n",
    "    \n",
    "    test_preds = sympy.Matrix(np.append(np.ones((len(X_test), 1)), ss.transform(X_test), axis=1))*param\n",
    "    robustness_ls = []\n",
    "    for pred in test_preds:\n",
    "        pred_range_radius = 0\n",
    "        for arg in pred.args:\n",
    "            if arg.free_symbols:\n",
    "                pred_range_radius += abs(arg.args[0])\n",
    "        if pred_range_radius <= robustness_radius:\n",
    "            robustness_ls.append(1)\n",
    "        else:\n",
    "            robustness_ls.append(0)\n",
    "    \n",
    "#     print(param)\n",
    "    return np.mean(robustness_ls)"
   ]
  },
  {
   "cell_type": "code",
   "execution_count": 6,
   "id": "ecabe967",
   "metadata": {},
   "outputs": [],
   "source": [
    "symbol_id = -1\n",
    "def create_symbol(suffix=''):\n",
    "    global symbol_id\n",
    "    symbol_id += 1\n",
    "    name = f'e{symbol_id}_{suffix}' if suffix else f'e{symbol_id}'\n",
    "    return sympy.Symbol(name=name)"
   ]
  },
  {
   "cell_type": "code",
   "execution_count": 7,
   "id": "bed6f7f6-5998-4af6-a284-7f4480a7a5fc",
   "metadata": {},
   "outputs": [
    {
     "data": {
      "application/vnd.jupyter.widget-view+json": {
       "model_id": "1158086571214e25887e983b80ac1831",
       "version_major": 2,
       "version_minor": 0
      },
      "text/plain": [
       "Progess:   0%|          | 0/10 [00:00<?, ?it/s]"
      ]
     },
     "metadata": {},
     "output_type": "display_data"
    },
    {
     "data": {
      "application/vnd.jupyter.widget-view+json": {
       "model_id": "b5ac34fef161451eb20ead6b7200016e",
       "version_major": 2,
       "version_minor": 0
      },
      "text/plain": [
       "Varying Uncertain Radius:   0%|          | 0/5 [00:00<?, ?it/s]"
      ]
     },
     "metadata": {},
     "output_type": "display_data"
    },
    {
     "data": {
      "application/vnd.jupyter.widget-view+json": {
       "model_id": "3a57afcf2d7141e99046f7c00dc1f154",
       "version_major": 2,
       "version_minor": 0
      },
      "text/plain": [
       "Varying Uncertain Radius:   0%|          | 0/5 [00:00<?, ?it/s]"
      ]
     },
     "metadata": {},
     "output_type": "display_data"
    },
    {
     "data": {
      "application/vnd.jupyter.widget-view+json": {
       "model_id": "7bd16a5c04bb4a389f185451cea03841",
       "version_major": 2,
       "version_minor": 0
      },
      "text/plain": [
       "Varying Uncertain Radius:   0%|          | 0/5 [00:00<?, ?it/s]"
      ]
     },
     "metadata": {},
     "output_type": "display_data"
    },
    {
     "data": {
      "application/vnd.jupyter.widget-view+json": {
       "model_id": "29a56b4df54e40c497d50e77a5e43ae2",
       "version_major": 2,
       "version_minor": 0
      },
      "text/plain": [
       "Varying Uncertain Radius:   0%|          | 0/5 [00:00<?, ?it/s]"
      ]
     },
     "metadata": {},
     "output_type": "display_data"
    },
    {
     "data": {
      "application/vnd.jupyter.widget-view+json": {
       "model_id": "9c6e94da4fa94d878e10dfc3a43734c9",
       "version_major": 2,
       "version_minor": 0
      },
      "text/plain": [
       "Varying Uncertain Radius:   0%|          | 0/5 [00:00<?, ?it/s]"
      ]
     },
     "metadata": {},
     "output_type": "display_data"
    },
    {
     "data": {
      "application/vnd.jupyter.widget-view+json": {
       "model_id": "c6e7cae77442402ebfa083864a8389a8",
       "version_major": 2,
       "version_minor": 0
      },
      "text/plain": [
       "Varying Uncertain Radius:   0%|          | 0/5 [00:00<?, ?it/s]"
      ]
     },
     "metadata": {},
     "output_type": "display_data"
    },
    {
     "data": {
      "application/vnd.jupyter.widget-view+json": {
       "model_id": "779af92198a3428cae9cacbc14c3a257",
       "version_major": 2,
       "version_minor": 0
      },
      "text/plain": [
       "Varying Uncertain Radius:   0%|          | 0/5 [00:00<?, ?it/s]"
      ]
     },
     "metadata": {},
     "output_type": "display_data"
    },
    {
     "data": {
      "application/vnd.jupyter.widget-view+json": {
       "model_id": "31138ccb07a24ce1b27777240ea0226b",
       "version_major": 2,
       "version_minor": 0
      },
      "text/plain": [
       "Varying Uncertain Radius:   0%|          | 0/5 [00:00<?, ?it/s]"
      ]
     },
     "metadata": {},
     "output_type": "display_data"
    },
    {
     "data": {
      "application/vnd.jupyter.widget-view+json": {
       "model_id": "53384c8ccc784e3aa0486d974135f91d",
       "version_major": 2,
       "version_minor": 0
      },
      "text/plain": [
       "Varying Uncertain Radius:   0%|          | 0/5 [00:00<?, ?it/s]"
      ]
     },
     "metadata": {},
     "output_type": "display_data"
    },
    {
     "data": {
      "application/vnd.jupyter.widget-view+json": {
       "model_id": "13b9b1c1ad474853aed30fcd106dca5e",
       "version_major": 2,
       "version_minor": 0
      },
      "text/plain": [
       "Varying Uncertain Radius:   0%|          | 0/5 [00:00<?, ?it/s]"
      ]
     },
     "metadata": {},
     "output_type": "display_data"
    },
    {
     "data": {
      "application/vnd.jupyter.widget-view+json": {
       "model_id": "852220b6e67a49e7be80a52c87c5b06b",
       "version_major": 2,
       "version_minor": 0
      },
      "text/plain": [
       "Progess:   0%|          | 0/10 [00:00<?, ?it/s]"
      ]
     },
     "metadata": {},
     "output_type": "display_data"
    },
    {
     "data": {
      "application/vnd.jupyter.widget-view+json": {
       "model_id": "f0af38e5dbb443b29bab26026c1e6bc1",
       "version_major": 2,
       "version_minor": 0
      },
      "text/plain": [
       "Varying Uncertain Radius:   0%|          | 0/5 [00:00<?, ?it/s]"
      ]
     },
     "metadata": {},
     "output_type": "display_data"
    },
    {
     "data": {
      "application/vnd.jupyter.widget-view+json": {
       "model_id": "378517a2848e47c7b529e42189228a7f",
       "version_major": 2,
       "version_minor": 0
      },
      "text/plain": [
       "Varying Uncertain Radius:   0%|          | 0/5 [00:00<?, ?it/s]"
      ]
     },
     "metadata": {},
     "output_type": "display_data"
    },
    {
     "data": {
      "application/vnd.jupyter.widget-view+json": {
       "model_id": "4415a6a4edde4e3180947a90c723a9cd",
       "version_major": 2,
       "version_minor": 0
      },
      "text/plain": [
       "Varying Uncertain Radius:   0%|          | 0/5 [00:00<?, ?it/s]"
      ]
     },
     "metadata": {},
     "output_type": "display_data"
    },
    {
     "data": {
      "application/vnd.jupyter.widget-view+json": {
       "model_id": "be40250f4a9e41e09a6a96a476561d2b",
       "version_major": 2,
       "version_minor": 0
      },
      "text/plain": [
       "Varying Uncertain Radius:   0%|          | 0/5 [00:00<?, ?it/s]"
      ]
     },
     "metadata": {},
     "output_type": "display_data"
    },
    {
     "data": {
      "application/vnd.jupyter.widget-view+json": {
       "model_id": "2367cc75a0764e4fb2ab7b499b07774c",
       "version_major": 2,
       "version_minor": 0
      },
      "text/plain": [
       "Varying Uncertain Radius:   0%|          | 0/5 [00:00<?, ?it/s]"
      ]
     },
     "metadata": {},
     "output_type": "display_data"
    },
    {
     "data": {
      "application/vnd.jupyter.widget-view+json": {
       "model_id": "f6d489ca30fa4a3c85ccb787c19cb8e6",
       "version_major": 2,
       "version_minor": 0
      },
      "text/plain": [
       "Varying Uncertain Radius:   0%|          | 0/5 [00:00<?, ?it/s]"
      ]
     },
     "metadata": {},
     "output_type": "display_data"
    },
    {
     "data": {
      "application/vnd.jupyter.widget-view+json": {
       "model_id": "2b6eb7eb502041bea9ee4a653a43bc0c",
       "version_major": 2,
       "version_minor": 0
      },
      "text/plain": [
       "Varying Uncertain Radius:   0%|          | 0/5 [00:00<?, ?it/s]"
      ]
     },
     "metadata": {},
     "output_type": "display_data"
    },
    {
     "data": {
      "application/vnd.jupyter.widget-view+json": {
       "model_id": "eccb51b2607e40b5a8fb671656620b0a",
       "version_major": 2,
       "version_minor": 0
      },
      "text/plain": [
       "Varying Uncertain Radius:   0%|          | 0/5 [00:00<?, ?it/s]"
      ]
     },
     "metadata": {},
     "output_type": "display_data"
    },
    {
     "data": {
      "application/vnd.jupyter.widget-view+json": {
       "model_id": "765c31b365824b90bd0908335e7beadd",
       "version_major": 2,
       "version_minor": 0
      },
      "text/plain": [
       "Varying Uncertain Radius:   0%|          | 0/5 [00:00<?, ?it/s]"
      ]
     },
     "metadata": {},
     "output_type": "display_data"
    },
    {
     "data": {
      "application/vnd.jupyter.widget-view+json": {
       "model_id": "a373a5d04a0a44f59b26387c1dc3e5a8",
       "version_major": 2,
       "version_minor": 0
      },
      "text/plain": [
       "Varying Uncertain Radius:   0%|          | 0/5 [00:00<?, ?it/s]"
      ]
     },
     "metadata": {},
     "output_type": "display_data"
    },
    {
     "data": {
      "application/vnd.jupyter.widget-view+json": {
       "model_id": "2bc66c18d9614a0091c9cee54f89e577",
       "version_major": 2,
       "version_minor": 0
      },
      "text/plain": [
       "Progess:   0%|          | 0/10 [00:00<?, ?it/s]"
      ]
     },
     "metadata": {},
     "output_type": "display_data"
    },
    {
     "data": {
      "application/vnd.jupyter.widget-view+json": {
       "model_id": "4222801eca3342e3a86498c2bc51d2de",
       "version_major": 2,
       "version_minor": 0
      },
      "text/plain": [
       "Varying Uncertain Radius:   0%|          | 0/5 [00:00<?, ?it/s]"
      ]
     },
     "metadata": {},
     "output_type": "display_data"
    },
    {
     "data": {
      "application/vnd.jupyter.widget-view+json": {
       "model_id": "b26dd4e8cd55429db3caae4bea59135d",
       "version_major": 2,
       "version_minor": 0
      },
      "text/plain": [
       "Varying Uncertain Radius:   0%|          | 0/5 [00:00<?, ?it/s]"
      ]
     },
     "metadata": {},
     "output_type": "display_data"
    },
    {
     "data": {
      "application/vnd.jupyter.widget-view+json": {
       "model_id": "cbb8fbaecee249fb9d6b790c52555849",
       "version_major": 2,
       "version_minor": 0
      },
      "text/plain": [
       "Varying Uncertain Radius:   0%|          | 0/5 [00:00<?, ?it/s]"
      ]
     },
     "metadata": {},
     "output_type": "display_data"
    },
    {
     "data": {
      "application/vnd.jupyter.widget-view+json": {
       "model_id": "22ad01bad34247828e4f7a0acb5e959f",
       "version_major": 2,
       "version_minor": 0
      },
      "text/plain": [
       "Varying Uncertain Radius:   0%|          | 0/5 [00:00<?, ?it/s]"
      ]
     },
     "metadata": {},
     "output_type": "display_data"
    },
    {
     "data": {
      "application/vnd.jupyter.widget-view+json": {
       "model_id": "bbb82400fb0f42bc8559677ff49d3569",
       "version_major": 2,
       "version_minor": 0
      },
      "text/plain": [
       "Varying Uncertain Radius:   0%|          | 0/5 [00:00<?, ?it/s]"
      ]
     },
     "metadata": {},
     "output_type": "display_data"
    },
    {
     "data": {
      "application/vnd.jupyter.widget-view+json": {
       "model_id": "0d4f27ebd5c64bcdba6b425d81cddb53",
       "version_major": 2,
       "version_minor": 0
      },
      "text/plain": [
       "Varying Uncertain Radius:   0%|          | 0/5 [00:00<?, ?it/s]"
      ]
     },
     "metadata": {},
     "output_type": "display_data"
    },
    {
     "data": {
      "application/vnd.jupyter.widget-view+json": {
       "model_id": "38e9d9023651460d82ad147814ca37f8",
       "version_major": 2,
       "version_minor": 0
      },
      "text/plain": [
       "Varying Uncertain Radius:   0%|          | 0/5 [00:00<?, ?it/s]"
      ]
     },
     "metadata": {},
     "output_type": "display_data"
    },
    {
     "data": {
      "application/vnd.jupyter.widget-view+json": {
       "model_id": "4a835e41440c420088d862ee248befe9",
       "version_major": 2,
       "version_minor": 0
      },
      "text/plain": [
       "Varying Uncertain Radius:   0%|          | 0/5 [00:00<?, ?it/s]"
      ]
     },
     "metadata": {},
     "output_type": "display_data"
    },
    {
     "data": {
      "application/vnd.jupyter.widget-view+json": {
       "model_id": "7e889a4ea703468baf24e93cff2c2cc6",
       "version_major": 2,
       "version_minor": 0
      },
      "text/plain": [
       "Varying Uncertain Radius:   0%|          | 0/5 [00:00<?, ?it/s]"
      ]
     },
     "metadata": {},
     "output_type": "display_data"
    },
    {
     "data": {
      "application/vnd.jupyter.widget-view+json": {
       "model_id": "44f6ad701ce54149afa77d4177d55015",
       "version_major": 2,
       "version_minor": 0
      },
      "text/plain": [
       "Varying Uncertain Radius:   0%|          | 0/5 [00:00<?, ?it/s]"
      ]
     },
     "metadata": {},
     "output_type": "display_data"
    },
    {
     "data": {
      "application/vnd.jupyter.widget-view+json": {
       "model_id": "499d6e0bf2f947cb8d5874fdc170cfde",
       "version_major": 2,
       "version_minor": 0
      },
      "text/plain": [
       "Progess:   0%|          | 0/10 [00:00<?, ?it/s]"
      ]
     },
     "metadata": {},
     "output_type": "display_data"
    },
    {
     "data": {
      "application/vnd.jupyter.widget-view+json": {
       "model_id": "df9264da4863465f88972dec8e1f97b8",
       "version_major": 2,
       "version_minor": 0
      },
      "text/plain": [
       "Varying Uncertain Radius:   0%|          | 0/5 [00:00<?, ?it/s]"
      ]
     },
     "metadata": {},
     "output_type": "display_data"
    },
    {
     "data": {
      "application/vnd.jupyter.widget-view+json": {
       "model_id": "e5104dc40da2476684338e9e275a8cdc",
       "version_major": 2,
       "version_minor": 0
      },
      "text/plain": [
       "Varying Uncertain Radius:   0%|          | 0/5 [00:00<?, ?it/s]"
      ]
     },
     "metadata": {},
     "output_type": "display_data"
    },
    {
     "data": {
      "application/vnd.jupyter.widget-view+json": {
       "model_id": "255b9684d9ae4991b296362ce684be4a",
       "version_major": 2,
       "version_minor": 0
      },
      "text/plain": [
       "Varying Uncertain Radius:   0%|          | 0/5 [00:00<?, ?it/s]"
      ]
     },
     "metadata": {},
     "output_type": "display_data"
    },
    {
     "data": {
      "application/vnd.jupyter.widget-view+json": {
       "model_id": "4130152049a74013962b7ed261ed8178",
       "version_major": 2,
       "version_minor": 0
      },
      "text/plain": [
       "Varying Uncertain Radius:   0%|          | 0/5 [00:00<?, ?it/s]"
      ]
     },
     "metadata": {},
     "output_type": "display_data"
    },
    {
     "data": {
      "application/vnd.jupyter.widget-view+json": {
       "model_id": "e065e35de5754731a3c65234640060c5",
       "version_major": 2,
       "version_minor": 0
      },
      "text/plain": [
       "Varying Uncertain Radius:   0%|          | 0/5 [00:00<?, ?it/s]"
      ]
     },
     "metadata": {},
     "output_type": "display_data"
    },
    {
     "data": {
      "application/vnd.jupyter.widget-view+json": {
       "model_id": "5a1657f58e0e48e4b5165df2c9a91824",
       "version_major": 2,
       "version_minor": 0
      },
      "text/plain": [
       "Varying Uncertain Radius:   0%|          | 0/5 [00:00<?, ?it/s]"
      ]
     },
     "metadata": {},
     "output_type": "display_data"
    },
    {
     "data": {
      "application/vnd.jupyter.widget-view+json": {
       "model_id": "4c23a56c489b4ad79edf7f5cd6f246a4",
       "version_major": 2,
       "version_minor": 0
      },
      "text/plain": [
       "Varying Uncertain Radius:   0%|          | 0/5 [00:00<?, ?it/s]"
      ]
     },
     "metadata": {},
     "output_type": "display_data"
    },
    {
     "data": {
      "application/vnd.jupyter.widget-view+json": {
       "model_id": "73af5074dac644fdadd576bf0f39e1aa",
       "version_major": 2,
       "version_minor": 0
      },
      "text/plain": [
       "Varying Uncertain Radius:   0%|          | 0/5 [00:00<?, ?it/s]"
      ]
     },
     "metadata": {},
     "output_type": "display_data"
    },
    {
     "data": {
      "application/vnd.jupyter.widget-view+json": {
       "model_id": "499a4002e0134b2a81f1d8206804cff4",
       "version_major": 2,
       "version_minor": 0
      },
      "text/plain": [
       "Varying Uncertain Radius:   0%|          | 0/5 [00:00<?, ?it/s]"
      ]
     },
     "metadata": {},
     "output_type": "display_data"
    },
    {
     "data": {
      "application/vnd.jupyter.widget-view+json": {
       "model_id": "9f1bc058b985499f9b3de2c399946786",
       "version_major": 2,
       "version_minor": 0
      },
      "text/plain": [
       "Varying Uncertain Radius:   0%|          | 0/5 [00:00<?, ?it/s]"
      ]
     },
     "metadata": {},
     "output_type": "display_data"
    },
    {
     "data": {
      "application/vnd.jupyter.widget-view+json": {
       "model_id": "942c2736ec434b5b89ab6ff26c7f63f0",
       "version_major": 2,
       "version_minor": 0
      },
      "text/plain": [
       "Progess:   0%|          | 0/10 [00:00<?, ?it/s]"
      ]
     },
     "metadata": {},
     "output_type": "display_data"
    },
    {
     "data": {
      "application/vnd.jupyter.widget-view+json": {
       "model_id": "d4bb23a123174012aa40c22eb853db8b",
       "version_major": 2,
       "version_minor": 0
      },
      "text/plain": [
       "Varying Uncertain Radius:   0%|          | 0/5 [00:00<?, ?it/s]"
      ]
     },
     "metadata": {},
     "output_type": "display_data"
    },
    {
     "data": {
      "application/vnd.jupyter.widget-view+json": {
       "model_id": "35f20890605149b492764844fbfb2b70",
       "version_major": 2,
       "version_minor": 0
      },
      "text/plain": [
       "Varying Uncertain Radius:   0%|          | 0/5 [00:00<?, ?it/s]"
      ]
     },
     "metadata": {},
     "output_type": "display_data"
    },
    {
     "data": {
      "application/vnd.jupyter.widget-view+json": {
       "model_id": "69917bb0f33442f78210cd5e5cbee6de",
       "version_major": 2,
       "version_minor": 0
      },
      "text/plain": [
       "Varying Uncertain Radius:   0%|          | 0/5 [00:00<?, ?it/s]"
      ]
     },
     "metadata": {},
     "output_type": "display_data"
    },
    {
     "data": {
      "application/vnd.jupyter.widget-view+json": {
       "model_id": "529f58f4833747e0a7a57f1a46dc2438",
       "version_major": 2,
       "version_minor": 0
      },
      "text/plain": [
       "Varying Uncertain Radius:   0%|          | 0/5 [00:00<?, ?it/s]"
      ]
     },
     "metadata": {},
     "output_type": "display_data"
    },
    {
     "data": {
      "application/vnd.jupyter.widget-view+json": {
       "model_id": "19e0e535dfa049f9ae8bbc0499573b76",
       "version_major": 2,
       "version_minor": 0
      },
      "text/plain": [
       "Varying Uncertain Radius:   0%|          | 0/5 [00:00<?, ?it/s]"
      ]
     },
     "metadata": {},
     "output_type": "display_data"
    },
    {
     "data": {
      "application/vnd.jupyter.widget-view+json": {
       "model_id": "7febd5cdc20243e99f58ec55a95c79d3",
       "version_major": 2,
       "version_minor": 0
      },
      "text/plain": [
       "Varying Uncertain Radius:   0%|          | 0/5 [00:00<?, ?it/s]"
      ]
     },
     "metadata": {},
     "output_type": "display_data"
    },
    {
     "data": {
      "application/vnd.jupyter.widget-view+json": {
       "model_id": "e0a09a2a3d274b179d8bd785b8a599f2",
       "version_major": 2,
       "version_minor": 0
      },
      "text/plain": [
       "Varying Uncertain Radius:   0%|          | 0/5 [00:00<?, ?it/s]"
      ]
     },
     "metadata": {},
     "output_type": "display_data"
    },
    {
     "data": {
      "application/vnd.jupyter.widget-view+json": {
       "model_id": "324692dade5744fe9d17e35df1e67f33",
       "version_major": 2,
       "version_minor": 0
      },
      "text/plain": [
       "Varying Uncertain Radius:   0%|          | 0/5 [00:00<?, ?it/s]"
      ]
     },
     "metadata": {},
     "output_type": "display_data"
    },
    {
     "data": {
      "application/vnd.jupyter.widget-view+json": {
       "model_id": "a58d58546b564f5781801223055b28c8",
       "version_major": 2,
       "version_minor": 0
      },
      "text/plain": [
       "Varying Uncertain Radius:   0%|          | 0/5 [00:00<?, ?it/s]"
      ]
     },
     "metadata": {},
     "output_type": "display_data"
    },
    {
     "data": {
      "application/vnd.jupyter.widget-view+json": {
       "model_id": "ee1ba14a101d443aa0c6d956f4b614a8",
       "version_major": 2,
       "version_minor": 0
      },
      "text/plain": [
       "Varying Uncertain Radius:   0%|          | 0/5 [00:00<?, ?it/s]"
      ]
     },
     "metadata": {},
     "output_type": "display_data"
    }
   ],
   "source": [
    "robustness_dicts = []\n",
    "for seed in range(5):\n",
    "    # mpg +- 2 is robust\n",
    "    robustness_radius = 2\n",
    "    label_range = (y_train.max()-y_train.min())\n",
    "    ratios = [0.05, 0.10, 0.15, 0.2, 0.25]\n",
    "    uncertain_radiuses = [ratio*label_range for ratio in ratios]\n",
    "    uncertain_pcts = list(np.arange(1, 11)/100)\n",
    "    robustness_dict = dict()\n",
    "    robustness_dict['uncertain_radius'] = uncertain_radiuses\n",
    "    robustness_dict['uncertain_radius_ratios'] = ratios\n",
    "    for uncertain_pct in tqdm(uncertain_pcts, desc='Progess'):\n",
    "        robustness_dict[uncertain_pct] = list()\n",
    "        uncertain_num = int(uncertain_pct*len(y_train))\n",
    "        for uncertain_radius in tqdm(uncertain_radiuses, desc=f'Varying Uncertain Radius'):\n",
    "            robustness_ratio = compute_robustness_ratio_label_error(X_train, y_train, X_test, y_test, \n",
    "                                                                    uncertain_num=uncertain_num, \n",
    "                                                                    uncertain_radius=uncertain_radius, \n",
    "                                                                    robustness_radius=robustness_radius, \n",
    "                                                                    interval=False, seed=seed)\n",
    "            robustness_dict[uncertain_pct].append(robustness_ratio)\n",
    "    robustness_dicts.append(robustness_dict)"
   ]
  },
  {
   "cell_type": "code",
   "execution_count": 8,
   "id": "2b61130f-82a2-4ac1-955c-5132e16514ba",
   "metadata": {},
   "outputs": [
    {
     "data": {
      "application/vnd.jupyter.widget-view+json": {
       "model_id": "6741b90b686b4706bd1e849cf089cce6",
       "version_major": 2,
       "version_minor": 0
      },
      "text/plain": [
       "Progess:   0%|          | 0/10 [00:00<?, ?it/s]"
      ]
     },
     "metadata": {},
     "output_type": "display_data"
    },
    {
     "data": {
      "application/vnd.jupyter.widget-view+json": {
       "model_id": "f5feed2372644444a7e63893cf02de57",
       "version_major": 2,
       "version_minor": 0
      },
      "text/plain": [
       "Varying Uncertain Radius:   0%|          | 0/5 [00:00<?, ?it/s]"
      ]
     },
     "metadata": {},
     "output_type": "display_data"
    },
    {
     "data": {
      "application/vnd.jupyter.widget-view+json": {
       "model_id": "8a353697f9c7497d9be1ad9f0a8fef9a",
       "version_major": 2,
       "version_minor": 0
      },
      "text/plain": [
       "Varying Uncertain Radius:   0%|          | 0/5 [00:00<?, ?it/s]"
      ]
     },
     "metadata": {},
     "output_type": "display_data"
    },
    {
     "data": {
      "application/vnd.jupyter.widget-view+json": {
       "model_id": "b9b7decb46fd4f60ac62f44e63d8ef80",
       "version_major": 2,
       "version_minor": 0
      },
      "text/plain": [
       "Varying Uncertain Radius:   0%|          | 0/5 [00:00<?, ?it/s]"
      ]
     },
     "metadata": {},
     "output_type": "display_data"
    },
    {
     "data": {
      "application/vnd.jupyter.widget-view+json": {
       "model_id": "539f8ac08bbc414e93254c467585349d",
       "version_major": 2,
       "version_minor": 0
      },
      "text/plain": [
       "Varying Uncertain Radius:   0%|          | 0/5 [00:00<?, ?it/s]"
      ]
     },
     "metadata": {},
     "output_type": "display_data"
    },
    {
     "data": {
      "application/vnd.jupyter.widget-view+json": {
       "model_id": "c531309bbd8d433a8f88c4b839e8c488",
       "version_major": 2,
       "version_minor": 0
      },
      "text/plain": [
       "Varying Uncertain Radius:   0%|          | 0/5 [00:00<?, ?it/s]"
      ]
     },
     "metadata": {},
     "output_type": "display_data"
    },
    {
     "data": {
      "application/vnd.jupyter.widget-view+json": {
       "model_id": "dc9c45ed7e1f464ba79ae420e78c39bd",
       "version_major": 2,
       "version_minor": 0
      },
      "text/plain": [
       "Varying Uncertain Radius:   0%|          | 0/5 [00:00<?, ?it/s]"
      ]
     },
     "metadata": {},
     "output_type": "display_data"
    },
    {
     "data": {
      "application/vnd.jupyter.widget-view+json": {
       "model_id": "43d9f04beccc4a34bcb5bb594fb865b4",
       "version_major": 2,
       "version_minor": 0
      },
      "text/plain": [
       "Varying Uncertain Radius:   0%|          | 0/5 [00:00<?, ?it/s]"
      ]
     },
     "metadata": {},
     "output_type": "display_data"
    },
    {
     "data": {
      "application/vnd.jupyter.widget-view+json": {
       "model_id": "11c1dfb1320c4d09ad1d28e48775916d",
       "version_major": 2,
       "version_minor": 0
      },
      "text/plain": [
       "Varying Uncertain Radius:   0%|          | 0/5 [00:00<?, ?it/s]"
      ]
     },
     "metadata": {},
     "output_type": "display_data"
    },
    {
     "data": {
      "application/vnd.jupyter.widget-view+json": {
       "model_id": "e5d94a4499744589b32cd477cdaa76ea",
       "version_major": 2,
       "version_minor": 0
      },
      "text/plain": [
       "Varying Uncertain Radius:   0%|          | 0/5 [00:00<?, ?it/s]"
      ]
     },
     "metadata": {},
     "output_type": "display_data"
    },
    {
     "data": {
      "application/vnd.jupyter.widget-view+json": {
       "model_id": "36914729716f45edaf76e7d05cc4c605",
       "version_major": 2,
       "version_minor": 0
      },
      "text/plain": [
       "Varying Uncertain Radius:   0%|          | 0/5 [00:00<?, ?it/s]"
      ]
     },
     "metadata": {},
     "output_type": "display_data"
    },
    {
     "data": {
      "application/vnd.jupyter.widget-view+json": {
       "model_id": "9f2b4bf6ddf0483aac7c71b9b7ba0895",
       "version_major": 2,
       "version_minor": 0
      },
      "text/plain": [
       "Progess:   0%|          | 0/10 [00:00<?, ?it/s]"
      ]
     },
     "metadata": {},
     "output_type": "display_data"
    },
    {
     "data": {
      "application/vnd.jupyter.widget-view+json": {
       "model_id": "e9782bf7e4844b27b10feecd4c617f79",
       "version_major": 2,
       "version_minor": 0
      },
      "text/plain": [
       "Varying Uncertain Radius:   0%|          | 0/5 [00:00<?, ?it/s]"
      ]
     },
     "metadata": {},
     "output_type": "display_data"
    },
    {
     "data": {
      "application/vnd.jupyter.widget-view+json": {
       "model_id": "da0258cab65a4a33813eaca660cb43e9",
       "version_major": 2,
       "version_minor": 0
      },
      "text/plain": [
       "Varying Uncertain Radius:   0%|          | 0/5 [00:00<?, ?it/s]"
      ]
     },
     "metadata": {},
     "output_type": "display_data"
    },
    {
     "data": {
      "application/vnd.jupyter.widget-view+json": {
       "model_id": "31ebaf2bbb9c4feeb8f040428de0cf9f",
       "version_major": 2,
       "version_minor": 0
      },
      "text/plain": [
       "Varying Uncertain Radius:   0%|          | 0/5 [00:00<?, ?it/s]"
      ]
     },
     "metadata": {},
     "output_type": "display_data"
    },
    {
     "data": {
      "application/vnd.jupyter.widget-view+json": {
       "model_id": "b57ea44a35ad4083b2c6b1de166a22e9",
       "version_major": 2,
       "version_minor": 0
      },
      "text/plain": [
       "Varying Uncertain Radius:   0%|          | 0/5 [00:00<?, ?it/s]"
      ]
     },
     "metadata": {},
     "output_type": "display_data"
    },
    {
     "data": {
      "application/vnd.jupyter.widget-view+json": {
       "model_id": "289820ac651147819e2bde7ad1b011bc",
       "version_major": 2,
       "version_minor": 0
      },
      "text/plain": [
       "Varying Uncertain Radius:   0%|          | 0/5 [00:00<?, ?it/s]"
      ]
     },
     "metadata": {},
     "output_type": "display_data"
    },
    {
     "data": {
      "application/vnd.jupyter.widget-view+json": {
       "model_id": "263ca0ccb524411794df399a6b367fd5",
       "version_major": 2,
       "version_minor": 0
      },
      "text/plain": [
       "Varying Uncertain Radius:   0%|          | 0/5 [00:00<?, ?it/s]"
      ]
     },
     "metadata": {},
     "output_type": "display_data"
    },
    {
     "data": {
      "application/vnd.jupyter.widget-view+json": {
       "model_id": "1eb5eba0ba8e45a5b3a11420609c7702",
       "version_major": 2,
       "version_minor": 0
      },
      "text/plain": [
       "Varying Uncertain Radius:   0%|          | 0/5 [00:00<?, ?it/s]"
      ]
     },
     "metadata": {},
     "output_type": "display_data"
    },
    {
     "data": {
      "application/vnd.jupyter.widget-view+json": {
       "model_id": "17fc08441e394b7db530d7360520d067",
       "version_major": 2,
       "version_minor": 0
      },
      "text/plain": [
       "Varying Uncertain Radius:   0%|          | 0/5 [00:00<?, ?it/s]"
      ]
     },
     "metadata": {},
     "output_type": "display_data"
    },
    {
     "data": {
      "application/vnd.jupyter.widget-view+json": {
       "model_id": "2d11b71e62e142f3b8e1d82b24199b4f",
       "version_major": 2,
       "version_minor": 0
      },
      "text/plain": [
       "Varying Uncertain Radius:   0%|          | 0/5 [00:00<?, ?it/s]"
      ]
     },
     "metadata": {},
     "output_type": "display_data"
    },
    {
     "data": {
      "application/vnd.jupyter.widget-view+json": {
       "model_id": "a94509d362594088920556ccd24cffbb",
       "version_major": 2,
       "version_minor": 0
      },
      "text/plain": [
       "Varying Uncertain Radius:   0%|          | 0/5 [00:00<?, ?it/s]"
      ]
     },
     "metadata": {},
     "output_type": "display_data"
    },
    {
     "data": {
      "application/vnd.jupyter.widget-view+json": {
       "model_id": "4e43c859227c46039b3b4cb13d09dac7",
       "version_major": 2,
       "version_minor": 0
      },
      "text/plain": [
       "Progess:   0%|          | 0/10 [00:00<?, ?it/s]"
      ]
     },
     "metadata": {},
     "output_type": "display_data"
    },
    {
     "data": {
      "application/vnd.jupyter.widget-view+json": {
       "model_id": "04445f4fa9564d7b88d29e0684b957b9",
       "version_major": 2,
       "version_minor": 0
      },
      "text/plain": [
       "Varying Uncertain Radius:   0%|          | 0/5 [00:00<?, ?it/s]"
      ]
     },
     "metadata": {},
     "output_type": "display_data"
    },
    {
     "data": {
      "application/vnd.jupyter.widget-view+json": {
       "model_id": "6dc4f52cdf7e4f55bb17f98aa2bb8adc",
       "version_major": 2,
       "version_minor": 0
      },
      "text/plain": [
       "Varying Uncertain Radius:   0%|          | 0/5 [00:00<?, ?it/s]"
      ]
     },
     "metadata": {},
     "output_type": "display_data"
    },
    {
     "data": {
      "application/vnd.jupyter.widget-view+json": {
       "model_id": "893dcda3de144040ba81393b8c199c29",
       "version_major": 2,
       "version_minor": 0
      },
      "text/plain": [
       "Varying Uncertain Radius:   0%|          | 0/5 [00:00<?, ?it/s]"
      ]
     },
     "metadata": {},
     "output_type": "display_data"
    },
    {
     "data": {
      "application/vnd.jupyter.widget-view+json": {
       "model_id": "c6a792c1cd394f1e88c461d77cfad9b3",
       "version_major": 2,
       "version_minor": 0
      },
      "text/plain": [
       "Varying Uncertain Radius:   0%|          | 0/5 [00:00<?, ?it/s]"
      ]
     },
     "metadata": {},
     "output_type": "display_data"
    },
    {
     "data": {
      "application/vnd.jupyter.widget-view+json": {
       "model_id": "ad15d035789842f98115fc3001db18be",
       "version_major": 2,
       "version_minor": 0
      },
      "text/plain": [
       "Varying Uncertain Radius:   0%|          | 0/5 [00:00<?, ?it/s]"
      ]
     },
     "metadata": {},
     "output_type": "display_data"
    },
    {
     "data": {
      "application/vnd.jupyter.widget-view+json": {
       "model_id": "232ceabd3ca349a8a1b4877f6e251731",
       "version_major": 2,
       "version_minor": 0
      },
      "text/plain": [
       "Varying Uncertain Radius:   0%|          | 0/5 [00:00<?, ?it/s]"
      ]
     },
     "metadata": {},
     "output_type": "display_data"
    },
    {
     "data": {
      "application/vnd.jupyter.widget-view+json": {
       "model_id": "c9a58b7833a74dbf8085cefc27ad3e8b",
       "version_major": 2,
       "version_minor": 0
      },
      "text/plain": [
       "Varying Uncertain Radius:   0%|          | 0/5 [00:00<?, ?it/s]"
      ]
     },
     "metadata": {},
     "output_type": "display_data"
    },
    {
     "data": {
      "application/vnd.jupyter.widget-view+json": {
       "model_id": "77980bf7ae784068b3b18a0d87d313b2",
       "version_major": 2,
       "version_minor": 0
      },
      "text/plain": [
       "Varying Uncertain Radius:   0%|          | 0/5 [00:00<?, ?it/s]"
      ]
     },
     "metadata": {},
     "output_type": "display_data"
    },
    {
     "data": {
      "application/vnd.jupyter.widget-view+json": {
       "model_id": "c9a0addbc02a4a038bd522f0da9b76ae",
       "version_major": 2,
       "version_minor": 0
      },
      "text/plain": [
       "Varying Uncertain Radius:   0%|          | 0/5 [00:00<?, ?it/s]"
      ]
     },
     "metadata": {},
     "output_type": "display_data"
    },
    {
     "data": {
      "application/vnd.jupyter.widget-view+json": {
       "model_id": "82245c2052314658ba303dd2d3159dcb",
       "version_major": 2,
       "version_minor": 0
      },
      "text/plain": [
       "Varying Uncertain Radius:   0%|          | 0/5 [00:00<?, ?it/s]"
      ]
     },
     "metadata": {},
     "output_type": "display_data"
    },
    {
     "data": {
      "application/vnd.jupyter.widget-view+json": {
       "model_id": "ae992ef87a1d4420b6f15efc05488bc3",
       "version_major": 2,
       "version_minor": 0
      },
      "text/plain": [
       "Progess:   0%|          | 0/10 [00:00<?, ?it/s]"
      ]
     },
     "metadata": {},
     "output_type": "display_data"
    },
    {
     "data": {
      "application/vnd.jupyter.widget-view+json": {
       "model_id": "96266043fabc4fb7a8dea22b746747d3",
       "version_major": 2,
       "version_minor": 0
      },
      "text/plain": [
       "Varying Uncertain Radius:   0%|          | 0/5 [00:00<?, ?it/s]"
      ]
     },
     "metadata": {},
     "output_type": "display_data"
    },
    {
     "data": {
      "application/vnd.jupyter.widget-view+json": {
       "model_id": "0a96dbe9a3214080a1dfcca5569961a3",
       "version_major": 2,
       "version_minor": 0
      },
      "text/plain": [
       "Varying Uncertain Radius:   0%|          | 0/5 [00:00<?, ?it/s]"
      ]
     },
     "metadata": {},
     "output_type": "display_data"
    },
    {
     "data": {
      "application/vnd.jupyter.widget-view+json": {
       "model_id": "8d65ad1b29db409899fdf21bf8f5f718",
       "version_major": 2,
       "version_minor": 0
      },
      "text/plain": [
       "Varying Uncertain Radius:   0%|          | 0/5 [00:00<?, ?it/s]"
      ]
     },
     "metadata": {},
     "output_type": "display_data"
    },
    {
     "data": {
      "application/vnd.jupyter.widget-view+json": {
       "model_id": "d9743495ea33487eafe3b6ed5b341f93",
       "version_major": 2,
       "version_minor": 0
      },
      "text/plain": [
       "Varying Uncertain Radius:   0%|          | 0/5 [00:00<?, ?it/s]"
      ]
     },
     "metadata": {},
     "output_type": "display_data"
    },
    {
     "data": {
      "application/vnd.jupyter.widget-view+json": {
       "model_id": "345d3edd6c534b37bfdb5342ef953aeb",
       "version_major": 2,
       "version_minor": 0
      },
      "text/plain": [
       "Varying Uncertain Radius:   0%|          | 0/5 [00:00<?, ?it/s]"
      ]
     },
     "metadata": {},
     "output_type": "display_data"
    },
    {
     "data": {
      "application/vnd.jupyter.widget-view+json": {
       "model_id": "3d26f197aa0c4dcda11e421ecd8760c3",
       "version_major": 2,
       "version_minor": 0
      },
      "text/plain": [
       "Varying Uncertain Radius:   0%|          | 0/5 [00:00<?, ?it/s]"
      ]
     },
     "metadata": {},
     "output_type": "display_data"
    },
    {
     "data": {
      "application/vnd.jupyter.widget-view+json": {
       "model_id": "ee7aefb0306c4d5bbbb564696231063c",
       "version_major": 2,
       "version_minor": 0
      },
      "text/plain": [
       "Varying Uncertain Radius:   0%|          | 0/5 [00:00<?, ?it/s]"
      ]
     },
     "metadata": {},
     "output_type": "display_data"
    },
    {
     "data": {
      "application/vnd.jupyter.widget-view+json": {
       "model_id": "aef3804a5eef47309a0ec8297031c993",
       "version_major": 2,
       "version_minor": 0
      },
      "text/plain": [
       "Varying Uncertain Radius:   0%|          | 0/5 [00:00<?, ?it/s]"
      ]
     },
     "metadata": {},
     "output_type": "display_data"
    },
    {
     "data": {
      "application/vnd.jupyter.widget-view+json": {
       "model_id": "e24946049b774361acce3193fd8de9d8",
       "version_major": 2,
       "version_minor": 0
      },
      "text/plain": [
       "Varying Uncertain Radius:   0%|          | 0/5 [00:00<?, ?it/s]"
      ]
     },
     "metadata": {},
     "output_type": "display_data"
    },
    {
     "data": {
      "application/vnd.jupyter.widget-view+json": {
       "model_id": "9a4eafec21174b47b4169a5a533e4310",
       "version_major": 2,
       "version_minor": 0
      },
      "text/plain": [
       "Varying Uncertain Radius:   0%|          | 0/5 [00:00<?, ?it/s]"
      ]
     },
     "metadata": {},
     "output_type": "display_data"
    },
    {
     "data": {
      "application/vnd.jupyter.widget-view+json": {
       "model_id": "d9074caf1b6b4a8db21533bfe6a040f5",
       "version_major": 2,
       "version_minor": 0
      },
      "text/plain": [
       "Progess:   0%|          | 0/10 [00:00<?, ?it/s]"
      ]
     },
     "metadata": {},
     "output_type": "display_data"
    },
    {
     "data": {
      "application/vnd.jupyter.widget-view+json": {
       "model_id": "9416d060597141ac9d16adb19ddbf590",
       "version_major": 2,
       "version_minor": 0
      },
      "text/plain": [
       "Varying Uncertain Radius:   0%|          | 0/5 [00:00<?, ?it/s]"
      ]
     },
     "metadata": {},
     "output_type": "display_data"
    },
    {
     "data": {
      "application/vnd.jupyter.widget-view+json": {
       "model_id": "14ad6cd5408c44e6a69827ff4d6e2d8b",
       "version_major": 2,
       "version_minor": 0
      },
      "text/plain": [
       "Varying Uncertain Radius:   0%|          | 0/5 [00:00<?, ?it/s]"
      ]
     },
     "metadata": {},
     "output_type": "display_data"
    },
    {
     "data": {
      "application/vnd.jupyter.widget-view+json": {
       "model_id": "733efd22ca494bfdba5d00ccda28f672",
       "version_major": 2,
       "version_minor": 0
      },
      "text/plain": [
       "Varying Uncertain Radius:   0%|          | 0/5 [00:00<?, ?it/s]"
      ]
     },
     "metadata": {},
     "output_type": "display_data"
    },
    {
     "data": {
      "application/vnd.jupyter.widget-view+json": {
       "model_id": "c6f746e0619e4bb99334e43ec1337627",
       "version_major": 2,
       "version_minor": 0
      },
      "text/plain": [
       "Varying Uncertain Radius:   0%|          | 0/5 [00:00<?, ?it/s]"
      ]
     },
     "metadata": {},
     "output_type": "display_data"
    },
    {
     "data": {
      "application/vnd.jupyter.widget-view+json": {
       "model_id": "e3066de57db74d66a30e0e87935165e7",
       "version_major": 2,
       "version_minor": 0
      },
      "text/plain": [
       "Varying Uncertain Radius:   0%|          | 0/5 [00:00<?, ?it/s]"
      ]
     },
     "metadata": {},
     "output_type": "display_data"
    },
    {
     "data": {
      "application/vnd.jupyter.widget-view+json": {
       "model_id": "7b1e8de3f4854c04bc5393a5e33eb586",
       "version_major": 2,
       "version_minor": 0
      },
      "text/plain": [
       "Varying Uncertain Radius:   0%|          | 0/5 [00:00<?, ?it/s]"
      ]
     },
     "metadata": {},
     "output_type": "display_data"
    },
    {
     "data": {
      "application/vnd.jupyter.widget-view+json": {
       "model_id": "2c53f8d8d4644a099fc30d30c35ed99e",
       "version_major": 2,
       "version_minor": 0
      },
      "text/plain": [
       "Varying Uncertain Radius:   0%|          | 0/5 [00:00<?, ?it/s]"
      ]
     },
     "metadata": {},
     "output_type": "display_data"
    },
    {
     "data": {
      "application/vnd.jupyter.widget-view+json": {
       "model_id": "b3601aa345db48e3981478d7b4fae592",
       "version_major": 2,
       "version_minor": 0
      },
      "text/plain": [
       "Varying Uncertain Radius:   0%|          | 0/5 [00:00<?, ?it/s]"
      ]
     },
     "metadata": {},
     "output_type": "display_data"
    },
    {
     "data": {
      "application/vnd.jupyter.widget-view+json": {
       "model_id": "5480806cb8064bdaade5d34805be3328",
       "version_major": 2,
       "version_minor": 0
      },
      "text/plain": [
       "Varying Uncertain Radius:   0%|          | 0/5 [00:00<?, ?it/s]"
      ]
     },
     "metadata": {},
     "output_type": "display_data"
    },
    {
     "data": {
      "application/vnd.jupyter.widget-view+json": {
       "model_id": "39bd16bfd5e74e6baa70ce5e557bd356",
       "version_major": 2,
       "version_minor": 0
      },
      "text/plain": [
       "Varying Uncertain Radius:   0%|          | 0/5 [00:00<?, ?it/s]"
      ]
     },
     "metadata": {},
     "output_type": "display_data"
    }
   ],
   "source": [
    "robustness_dicts_interval = []\n",
    "for seed in range(5):\n",
    "    # mpg +- 2 is robust\n",
    "    robustness_radius = 2\n",
    "    label_range = (y_train.max()-y_train.min())\n",
    "    ratios = [0.05, 0.10, 0.15, 0.2, 0.25]\n",
    "    uncertain_radiuses = [ratio*label_range for ratio in ratios]\n",
    "    uncertain_pcts = list(np.arange(1, 11)/100)\n",
    "    robustness_dict_interval = dict()\n",
    "    robustness_dict_interval['uncertain_radius'] = uncertain_radiuses\n",
    "    robustness_dict_interval['uncertain_radius_ratios'] = ratios\n",
    "    for uncertain_pct in tqdm(uncertain_pcts, desc='Progess'):\n",
    "        robustness_dict_interval[uncertain_pct] = list()\n",
    "        uncertain_num = int(uncertain_pct*len(y_train))\n",
    "        for uncertain_radius in tqdm(uncertain_radiuses, desc=f'Varying Uncertain Radius'):\n",
    "            robustness_ratio = compute_robustness_ratio_label_error(X_train, y_train, X_test, y_test, \n",
    "                                                                    uncertain_num=uncertain_num, \n",
    "                                                                    uncertain_radius=uncertain_radius, \n",
    "                                                                    robustness_radius=robustness_radius, \n",
    "                                                                    interval=True, seed=seed)\n",
    "            robustness_dict_interval[uncertain_pct].append(robustness_ratio)\n",
    "    robustness_dicts_interval.append(robustness_dict_interval)"
   ]
  },
  {
   "cell_type": "code",
   "execution_count": 10,
   "id": "50bf34f8-c373-416c-974a-e291a4e80158",
   "metadata": {},
   "outputs": [],
   "source": [
    "robustness_interval_mean = sum([pd.DataFrame(robustness_dicts_interval[i]).iloc[:, 2:] for i in range(5)])/5\n",
    "robustness_interval_std = (sum([(pd.DataFrame(robustness_dicts_interval[i]).iloc[:, 2:]-robustness_interval_mean)**2 for i in range(5)])/5).apply(np.sqrt)\n",
    "robustness_zonotope_mean = sum([pd.DataFrame(robustness_dicts[i]).iloc[:, 2:] for i in range(5)])/5\n",
    "robustness_zonotope_std = (sum([(pd.DataFrame(robustness_dicts[i]).iloc[:, 2:]-robustness_zonotope_mean)**2 for i in range(5)])/5).apply(np.sqrt)"
   ]
  },
  {
   "cell_type": "code",
   "execution_count": 11,
   "id": "2605d9eb-2c8c-4c41-aa7f-c22688bdc0e5",
   "metadata": {},
   "outputs": [
    {
     "data": {
      "image/png": "[encoded data removed]",
      "text/plain": [
       "<Figure size 3000x600 with 3 Axes>"
      ]
     },
     "metadata": {},
     "output_type": "display_data"
    }
   ],
   "source": [
    "# Heatmaps\n",
    "df = robustness_interval_mean\n",
    "\n",
    "# Isolate the portion of the DataFrame for heatmap (exclude the first two columns)\n",
    "heatmap_data = df.multiply(100).values  # Convert fractions to percentages\n",
    "\n",
    "# Labels for x-axis and y-axis\n",
    "x_labels = df.columns.tolist()\n",
    "y_labels = [0.05, 0.10, 0.15, 0.2, 0.25]\n",
    "\n",
    "# Create the heatmap plot\n",
    "# fig, (ax1, ax2) = plt.subplots(1, 2, figsize=(16, 4), sharey=True, dpi=200)\n",
    "fig, (ax1, ax2) = plt.subplots(1, 2, figsize=(15, 3), dpi=200)\n",
    "# cmap = plt.get_cmap(\"coolwarm\")\n",
    "cmap = plt.get_cmap(\"autumn_r\")\n",
    "heatmap = ax1.imshow(heatmap_data, cmap=cmap, interpolation='nearest', aspect='auto', \n",
    "                     alpha=0.8, vmin=0, vmax=100)\n",
    "\n",
    "# Add color bar\n",
    "# cbar = plt.colorbar(heatmap, ax=ax1)\n",
    "# cbar.set_label('% Percentage')\n",
    "\n",
    "# Add white lines by adjusting the linewidth for minor ticks to create separation\n",
    "ax1.set_xticks(np.arange(len(x_labels)) - 0.5, minor=True)\n",
    "ax1.set_yticks(np.arange(len(y_labels)) - 0.5, minor=True)\n",
    "ax1.grid(which=\"minor\", color=\"white\", linestyle='-', linewidth=0.5)\n",
    "ax1.tick_params(which=\"minor\", size=0)\n",
    "\n",
    "# Set major ticks for labels without ticks\n",
    "ax1.set_xticks(np.arange(len(x_labels)))\n",
    "ax1.set_yticks(np.arange(len(y_labels)))\n",
    "ax1.set_xticklabels(x_labels)\n",
    "ax1.set_yticklabels(y_labels)\n",
    "ax1.tick_params(axis='both', which='both', length=0)  # Remove tick marks\n",
    "\n",
    "# Remove external boundaries\n",
    "ax1.spines['top'].set_visible(False)\n",
    "ax1.spines['right'].set_visible(False)\n",
    "ax1.spines['left'].set_visible(False)\n",
    "ax1.spines['bottom'].set_visible(False)\n",
    "\n",
    "# Set axis labels\n",
    "ax1.set_xlabel('Percentage of Uncertain Data', fontsize=12)\n",
    "ax1.set_ylabel('Uncertain Radius (%)', fontsize=12)\n",
    "\n",
    "# Add text annotations\n",
    "for i in range(len(y_labels)):\n",
    "    for j in range(len(x_labels)):\n",
    "        if heatmap_data[i][j]==100:\n",
    "            text = ax1.text(j, i, f'{heatmap_data[i][j]:.0f}', ha='center', va='center', color='black')\n",
    "        elif heatmap_data[i][j]==0:\n",
    "            text = ax1.text(j, i, '0', ha='center', va='center', color='black')\n",
    "        else:\n",
    "            text = ax1.text(j, i, f'{heatmap_data[i][j]:.1f}', ha='center', va='center', color='black')\n",
    "ax1.set_title('Meyer et al.')\n",
    "\n",
    "df = robustness_zonotope_mean\n",
    "\n",
    "# Isolate the portion of the DataFrame for heatmap (exclude the first two columns)\n",
    "heatmap_data = df.multiply(100).values  # Convert fractions to percentages\n",
    "heatmap2 = ax2.imshow(heatmap_data, cmap=cmap, interpolation='nearest', \n",
    "                      aspect='auto', alpha=0.8, vmin=0, vmax=100)\n",
    "\n",
    "# Add color bar\n",
    "# cbar.set_label('% Percentage')\n",
    "\n",
    "# Add white lines by adjusting the linewidth for minor ticks to create separation\n",
    "ax2.set_xticks(np.arange(len(x_labels)) - 0.5, minor=True)\n",
    "ax2.set_yticks(np.arange(len(y_labels)) - 0.5, minor=True)\n",
    "ax2.grid(which=\"minor\", color=\"white\", linestyle='-', linewidth=0.5)\n",
    "ax2.tick_params(which=\"minor\", size=0)\n",
    "\n",
    "# Set major ticks for labels without ticks\n",
    "ax2.set_xticks(np.arange(len(x_labels)))\n",
    "ax2.set_yticks(np.arange(len(y_labels)))\n",
    "ax2.set_xticklabels(x_labels)\n",
    "ax2.set_yticklabels(y_labels)\n",
    "ax2.tick_params(axis='both', which='both', length=0)  # Remove tick marks\n",
    "\n",
    "# Remove external boundaries\n",
    "ax2.spines['top'].set_visible(False)\n",
    "ax2.spines['right'].set_visible(False)\n",
    "ax2.spines['left'].set_visible(False)\n",
    "ax2.spines['bottom'].set_visible(False)\n",
    "\n",
    "# Set axis labels\n",
    "ax2.set_xlabel('Percentage of Uncertain Data', fontsize=12)\n",
    "ax2.set_ylabel('Uncertain Radius (%)', fontsize=12)\n",
    "\n",
    "# Add text annotations\n",
    "for i in range(len(y_labels)):\n",
    "    for j in range(len(x_labels)):\n",
    "        if heatmap_data[i][j]==100:\n",
    "            text = ax2.text(j, i, '100', ha='center', va='center', color='black')\n",
    "        elif heatmap_data[i][j]==0:\n",
    "            text = ax2.text(j, i, '0', ha='center', va='center', color='black')\n",
    "        else:\n",
    "            text = ax2.text(j, i, f'{np.around(heatmap_data[i][j], 1)}', ha='center', \n",
    "                            va='center', color='black')\n",
    "ax2.set_title('ZORRO')\n",
    "\n",
    "# fig.suptitle('Robustness Ratio (%)', fontsize=14)\n",
    "plt.subplots_adjust(wspace=0.2, bottom=0.2, left=0.1, right=0.9)\n",
    "cb = fig.colorbar(heatmap2, ax=(ax1, ax2), orientation='vertical', pad=0.02)\n",
    "cb.set_label('Robustness Ratio (%)', fontsize=12)\n",
    "plt.savefig('graph_outs/mpg_naive.pdf', bbox_inches='tight')"
   ]
  },
  {
   "cell_type": "code",
   "execution_count": null,
   "id": "019a947f-3d9b-4a04-ab7d-491e4d892050",
   "metadata": {},
   "outputs": [],
   "source": []
  }
 ],
 "metadata": {
  "kernelspec": {
   "display_name": "Python 3 (ipykernel)",
   "language": "python",
   "name": "python3"
  },
  "language_info": {
   "codemirror_mode": {
    "name": "ipython",
    "version": 3
   },
   "file_extension": ".py",
   "mimetype": "text/x-python",
   "name": "python",
   "nbconvert_exporter": "python",
   "pygments_lexer": "ipython3",
   "version": "3.11.9"
  }
 },
 "nbformat": 4,
 "nbformat_minor": 5
}

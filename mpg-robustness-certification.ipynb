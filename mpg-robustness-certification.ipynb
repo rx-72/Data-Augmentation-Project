{
 "cells": [
  {
   "cell_type": "code",
   "execution_count": 1,
   "id": "cdc19c8a",
   "metadata": {},
   "outputs": [],
   "source": [
    "import time #Checking how long they run to measure"
   ]
  },
  {
   "cell_type": "code",
   "execution_count": 2,
   "id": "c8907e0a",
   "metadata": {
    "ExecuteTime": {
     "end_time": "2024-05-10T20:12:46.210800Z",
     "start_time": "2024-05-10T20:12:43.874561Z"
    }
   },
   "outputs": [],
   "source": [
    "import os\n",
    "import copy\n",
    "import pickle\n",
    "import sympy\n",
    "import functools\n",
    "import itertools\n",
    "\n",
    "import numpy as np\n",
    "import pandas as pd\n",
    "import matplotlib.pyplot as plt\n",
    "\n",
    "from error_injection import MissingValueError, SamplingError, Injector\n",
    "from sklearn.decomposition import PCA\n",
    "from sklearn.model_selection import train_test_split\n",
    "from sklearn.preprocessing import StandardScaler\n",
    "from sklearn.experimental import enable_iterative_imputer\n",
    "from sklearn.impute import SimpleImputer, KNNImputer, IterativeImputer\n",
    "from sklearn.metrics import mutual_info_score, auc, roc_curve, roc_auc_score, f1_score\n",
    "from scipy.optimize import minimize as scipy_min\n",
    "from scipy.spatial import ConvexHull\n",
    "from scipy.optimize import minimize, Bounds, linprog\n",
    "from sympy import Symbol as sb\n",
    "from sympy import lambdify\n",
    "from tqdm.notebook import trange,tqdm\n",
    "from IPython.display import display,clear_output\n",
    "from random import choice\n",
    "\n",
    "class style():\n",
    "    RED = '\\033[31m'\n",
    "    GREEN = '\\033[32m'\n",
    "    BLUE = '\\033[34m'\n",
    "    RESET = '\\033[0m'\n",
    "\n",
    "np.random.seed(1)"
   ]
  },
  {
   "cell_type": "code",
   "execution_count": 3,
   "id": "b82891b4",
   "metadata": {
    "ExecuteTime": {
     "end_time": "2024-05-10T20:12:46.215935Z",
     "start_time": "2024-05-10T20:12:46.212995Z"
    }
   },
   "outputs": [],
   "source": [
    "# ignore all the warnings\n",
    "import warnings\n",
    "warnings.filterwarnings('ignore')"
   ]
  },
  {
   "cell_type": "code",
   "execution_count": 20,
   "id": "31686563",
   "metadata": {
    "ExecuteTime": {
     "end_time": "2024-05-10T20:23:27.365911Z",
     "start_time": "2024-05-10T20:23:27.348184Z"
    },
    "code_folding": []
   },
   "outputs": [],
   "source": [
    "def load_mpg():\n",
    "    # fetch dataset\n",
    "    auto_mpg = pd.read_csv('auto-mpg.csv').drop('car name', axis=1).replace('?', np.nan)\n",
    "    \n",
    "    features = ['cylinders', 'displacement', 'horsepower', 'weight',\n",
    "                'acceleration', 'model year', 'origin']\n",
    "    X = auto_mpg[features].astype(float)\n",
    "    y = auto_mpg['mpg']\n",
    "    \n",
    "    # with this random seed, no null value is included in the test data\n",
    "    X_train, X_test, y_train, y_test = train_test_split(X, y, test_size=0.2, random_state=1)\n",
    "    X_train = copy.deepcopy(X_train).reset_index(drop=True)\n",
    "    X_test = copy.deepcopy(X_test).reset_index(drop=True)\n",
    "    y_train = y_train.reset_index(drop=True)\n",
    "    y_test = y_test.reset_index(drop=True)\n",
    "\n",
    "    return X_train, X_test, y_train, y_test\n",
    "\n",
    "\n",
    "# first impute the data and make it hypothetically clean\n",
    "def load_mpg_cleaned():\n",
    "    # fetch dataset\n",
    "    auto_mpg = pd.read_csv('auto-mpg.csv').drop('car name', axis=1).replace('?', np.nan)\n",
    "    \n",
    "    features = ['cylinders', 'displacement', 'horsepower', 'weight',\n",
    "                'acceleration', 'model year', 'origin']\n",
    "    X = auto_mpg[features].astype(float)\n",
    "    y = auto_mpg['mpg']\n",
    "    \n",
    "    # assumed gt imputation\n",
    "    imputer = KNNImputer(n_neighbors=10)\n",
    "    X = pd.DataFrame(imputer.fit_transform(X), columns=X.columns)\n",
    "\n",
    "    X_train, X_test, y_train, y_test = train_test_split(X, y, test_size=0.2, random_state=1)\n",
    "    X_train = copy.deepcopy(X_train).reset_index(drop=True)\n",
    "    X_test = copy.deepcopy(X_test).reset_index(drop=True)\n",
    "    y_train = y_train.reset_index(drop=True)\n",
    "    y_test = y_test.reset_index(drop=True)\n",
    "\n",
    "    return X_train, X_test, y_train, y_test"
   ]
  },
  {
   "cell_type": "code",
   "execution_count": 5,
   "id": "bad8cd33",
   "metadata": {
    "ExecuteTime": {
     "end_time": "2024-05-10T20:23:27.803991Z",
     "start_time": "2024-05-10T20:23:27.778300Z"
    }
   },
   "outputs": [],
   "source": [
    "X_train, X_test, y_train, y_test = load_mpg_cleaned()"
   ]
  },
  {
   "cell_type": "code",
   "execution_count": 6,
   "id": "ede44aa4",
   "metadata": {
    "ExecuteTime": {
     "end_time": "2024-05-10T20:23:32.394030Z",
     "start_time": "2024-05-10T20:23:32.363300Z"
    }
   },
   "outputs": [
    {
     "data": {
      "text/html": [
       "<div>\n",
       "<style scoped>\n",
       "    .dataframe tbody tr th:only-of-type {\n",
       "        vertical-align: middle;\n",
       "    }\n",
       "\n",
       "    .dataframe tbody tr th {\n",
       "        vertical-align: top;\n",
       "    }\n",
       "\n",
       "    .dataframe thead th {\n",
       "        text-align: right;\n",
       "    }\n",
       "</style>\n",
       "<table border=\"1\" class=\"dataframe\">\n",
       "  <thead>\n",
       "    <tr style=\"text-align: right;\">\n",
       "      <th></th>\n",
       "      <th>cylinders</th>\n",
       "      <th>displacement</th>\n",
       "      <th>horsepower</th>\n",
       "      <th>weight</th>\n",
       "      <th>acceleration</th>\n",
       "      <th>model year</th>\n",
       "      <th>origin</th>\n",
       "    </tr>\n",
       "  </thead>\n",
       "  <tbody>\n",
       "    <tr>\n",
       "      <th>0</th>\n",
       "      <td>8.0</td>\n",
       "      <td>350.0</td>\n",
       "      <td>125.0</td>\n",
       "      <td>3900.0</td>\n",
       "      <td>17.4</td>\n",
       "      <td>79.0</td>\n",
       "      <td>1.0</td>\n",
       "    </tr>\n",
       "    <tr>\n",
       "      <th>1</th>\n",
       "      <td>8.0</td>\n",
       "      <td>455.0</td>\n",
       "      <td>225.0</td>\n",
       "      <td>3086.0</td>\n",
       "      <td>10.0</td>\n",
       "      <td>70.0</td>\n",
       "      <td>1.0</td>\n",
       "    </tr>\n",
       "    <tr>\n",
       "      <th>2</th>\n",
       "      <td>4.0</td>\n",
       "      <td>91.0</td>\n",
       "      <td>68.0</td>\n",
       "      <td>2025.0</td>\n",
       "      <td>18.2</td>\n",
       "      <td>82.0</td>\n",
       "      <td>3.0</td>\n",
       "    </tr>\n",
       "    <tr>\n",
       "      <th>3</th>\n",
       "      <td>4.0</td>\n",
       "      <td>122.0</td>\n",
       "      <td>86.0</td>\n",
       "      <td>2226.0</td>\n",
       "      <td>16.5</td>\n",
       "      <td>72.0</td>\n",
       "      <td>1.0</td>\n",
       "    </tr>\n",
       "    <tr>\n",
       "      <th>4</th>\n",
       "      <td>4.0</td>\n",
       "      <td>97.0</td>\n",
       "      <td>67.0</td>\n",
       "      <td>2065.0</td>\n",
       "      <td>17.8</td>\n",
       "      <td>81.0</td>\n",
       "      <td>3.0</td>\n",
       "    </tr>\n",
       "    <tr>\n",
       "      <th>...</th>\n",
       "      <td>...</td>\n",
       "      <td>...</td>\n",
       "      <td>...</td>\n",
       "      <td>...</td>\n",
       "      <td>...</td>\n",
       "      <td>...</td>\n",
       "      <td>...</td>\n",
       "    </tr>\n",
       "    <tr>\n",
       "      <th>313</th>\n",
       "      <td>4.0</td>\n",
       "      <td>140.0</td>\n",
       "      <td>86.0</td>\n",
       "      <td>2790.0</td>\n",
       "      <td>15.6</td>\n",
       "      <td>82.0</td>\n",
       "      <td>1.0</td>\n",
       "    </tr>\n",
       "    <tr>\n",
       "      <th>314</th>\n",
       "      <td>4.0</td>\n",
       "      <td>140.0</td>\n",
       "      <td>88.0</td>\n",
       "      <td>2720.0</td>\n",
       "      <td>15.4</td>\n",
       "      <td>78.0</td>\n",
       "      <td>1.0</td>\n",
       "    </tr>\n",
       "    <tr>\n",
       "      <th>315</th>\n",
       "      <td>8.0</td>\n",
       "      <td>304.0</td>\n",
       "      <td>150.0</td>\n",
       "      <td>3892.0</td>\n",
       "      <td>12.5</td>\n",
       "      <td>72.0</td>\n",
       "      <td>1.0</td>\n",
       "    </tr>\n",
       "    <tr>\n",
       "      <th>316</th>\n",
       "      <td>4.0</td>\n",
       "      <td>97.0</td>\n",
       "      <td>75.0</td>\n",
       "      <td>2265.0</td>\n",
       "      <td>18.2</td>\n",
       "      <td>77.0</td>\n",
       "      <td>3.0</td>\n",
       "    </tr>\n",
       "    <tr>\n",
       "      <th>317</th>\n",
       "      <td>6.0</td>\n",
       "      <td>232.0</td>\n",
       "      <td>100.0</td>\n",
       "      <td>3288.0</td>\n",
       "      <td>15.5</td>\n",
       "      <td>71.0</td>\n",
       "      <td>1.0</td>\n",
       "    </tr>\n",
       "  </tbody>\n",
       "</table>\n",
       "<p>318 rows × 7 columns</p>\n",
       "</div>"
      ],
      "text/plain": [
       "     cylinders  displacement  horsepower  weight  acceleration  model year  \\\n",
       "0          8.0         350.0       125.0  3900.0          17.4        79.0   \n",
       "1          8.0         455.0       225.0  3086.0          10.0        70.0   \n",
       "2          4.0          91.0        68.0  2025.0          18.2        82.0   \n",
       "3          4.0         122.0        86.0  2226.0          16.5        72.0   \n",
       "4          4.0          97.0        67.0  2065.0          17.8        81.0   \n",
       "..         ...           ...         ...     ...           ...         ...   \n",
       "313        4.0         140.0        86.0  2790.0          15.6        82.0   \n",
       "314        4.0         140.0        88.0  2720.0          15.4        78.0   \n",
       "315        8.0         304.0       150.0  3892.0          12.5        72.0   \n",
       "316        4.0          97.0        75.0  2265.0          18.2        77.0   \n",
       "317        6.0         232.0       100.0  3288.0          15.5        71.0   \n",
       "\n",
       "     origin  \n",
       "0       1.0  \n",
       "1       1.0  \n",
       "2       3.0  \n",
       "3       1.0  \n",
       "4       3.0  \n",
       "..      ...  \n",
       "313     1.0  \n",
       "314     1.0  \n",
       "315     1.0  \n",
       "316     3.0  \n",
       "317     1.0  \n",
       "\n",
       "[318 rows x 7 columns]"
      ]
     },
     "execution_count": 6,
     "metadata": {},
     "output_type": "execute_result"
    }
   ],
   "source": [
    "X_train"
   ]
  },
  {
   "cell_type": "code",
   "execution_count": null,
   "id": "e3587728",
   "metadata": {
    "ExecuteTime": {
     "end_time": "2024-05-08T21:50:31.706218Z",
     "start_time": "2024-05-08T21:50:31.581473Z"
    }
   },
   "outputs": [],
   "source": []
  },
  {
   "cell_type": "code",
   "execution_count": 7,
   "id": "582a979f",
   "metadata": {
    "ExecuteTime": {
     "end_time": "2024-05-10T20:23:38.374392Z",
     "start_time": "2024-05-10T20:23:38.314234Z"
    },
    "code_folding": [
     3,
     27,
     71,
     104,
     125,
     150
    ]
   },
   "outputs": [],
   "source": [
    "# useful functions\n",
    "\n",
    "symbol_id = -1\n",
    "def create_symbol(suffix=''):\n",
    "    global symbol_id\n",
    "    symbol_id += 1\n",
    "    name = f'e{symbol_id}_{suffix}' if suffix else f'e{symbol_id}'\n",
    "    return sympy.Symbol(name=name)\n",
    "\n",
    "\n",
    "scaler_symbols = set([sb(f'k{i}') for i in range(X_train.shape[1]+1)])\n",
    "linearization_dict = dict()\n",
    "reverse_linearization_dict = dict()\n",
    "\n",
    "\n",
    "def sample_data(imputed_datasets, uncert_inds=[], seed=42):\n",
    "    imp_np = np.array(imputed_datasets)\n",
    "    if len(uncert_inds) == 0:\n",
    "        uncert_inds = list(itertools.product(range(imp_np.shape[1]),range(imp_np.shape[2])))\n",
    "    np.random.seed(seed)\n",
    "    choices = np.random.choice(np.arange(imp_np.shape[0]), len(uncert_inds), replace=True)\n",
    "    sample_result = imputed_datasets[0].copy()\n",
    "    for i, ind in enumerate(uncert_inds):\n",
    "        sample_result[ind[0]][ind[1]] = imputed_datasets[choices[i]][ind[0]][ind[1]]\n",
    "    return sample_result\n",
    "\n",
    "\n",
    "def linearization(expr_ls):\n",
    "    processed_expr_ls = [0 for _ in range(len(expr_ls))]\n",
    "    for expr_id, expr in enumerate(expr_ls):\n",
    "        # Do not support monomial expr currently, e.g., expr = 1.5*e1. \n",
    "        # At lease two monomials in expr, e.g., expr = 1.5*e1 + 2.\n",
    "        if not(expr.free_symbols):\n",
    "            processed_expr_ls[expr_id] += expr\n",
    "            continue\n",
    "        expr = expr.expand()\n",
    "        for arg in expr.args:\n",
    "            if not(arg.free_symbols):\n",
    "                processed_expr_ls[expr_id] += arg\n",
    "                continue\n",
    "            p = arg.as_poly()\n",
    "            monomial_exponents = p.monoms()[0]\n",
    "            \n",
    "            # only deal with non-linear monomials (order > 2)\n",
    "            if sum(monomial_exponents) <= 1:\n",
    "                processed_expr_ls[expr_id] += arg\n",
    "                continue\n",
    "\n",
    "            monomial = sympy.prod(x**k for x, k in zip(p.gens, monomial_exponents) \n",
    "                                  if not(x in scaler_symbols))\n",
    "            # check global substitution dictionary\n",
    "            if monomial in linearization_dict:\n",
    "                processed_expr_ls[expr_id] += arg.coeff(monomial)*linearization_dict[monomial]\n",
    "            else:\n",
    "                found = False\n",
    "                subs_monomial = create_symbol()\n",
    "                for symb in monomial.free_symbols:\n",
    "                    if symb in reverse_linearization_dict:\n",
    "                        equivalent_monomial = monomial.subs(symb, reverse_linearization_dict[symb])\n",
    "                        if equivalent_monomial in linearization_dict:\n",
    "                            subs_monomial = linearization_dict[equivalent_monomial]\n",
    "                            found = True\n",
    "                            break\n",
    "                linearization_dict[monomial] = subs_monomial\n",
    "                if not(found):\n",
    "                    reverse_linearization_dict[subs_monomial] = monomial\n",
    "                processed_expr_ls[expr_id] += arg.coeff(monomial)*subs_monomial\n",
    "                \n",
    "    return processed_expr_ls\n",
    "\n",
    "\n",
    "def merge_small_components_pca(expr_ls, budget=10):\n",
    "    if not(isinstance(expr_ls, sympy.Expr)):\n",
    "        expr_ls = sympy.Matrix(expr_ls)\n",
    "    if expr_ls.free_symbols:\n",
    "        center = expr_ls.subs(dict([(symb, 0) for symb in expr_ls.free_symbols]))\n",
    "    else:\n",
    "        return expr_ls\n",
    "    monomials_dict = get_generators(expr_ls)\n",
    "    generators = np.array([monomials_dict[m] for m in monomials_dict])\n",
    "    if len(generators) <= budget:\n",
    "        return expr_ls\n",
    "    monomials = [m for m in monomials_dict]\n",
    "    pca = PCA(n_components=len(generators[0]))\n",
    "    pca.fit(np.concatenate([generators, -generators]))\n",
    "    transformed_generators = pca.transform(generators)\n",
    "    transformed_generator_norms = np.linalg.norm(transformed_generators, axis=1, ord=2)\n",
    "    # from largest to lowest norm\n",
    "    sorted_indices = transformed_generator_norms.argsort()[::-1].astype(int)\n",
    "    sorted_transformed_generators = transformed_generators[sorted_indices]\n",
    "    sorted_monomials = [monomials[idx] for idx in sorted_indices]\n",
    "    new_transformed_generators = np.concatenate([sorted_transformed_generators[:budget], \n",
    "                                                 np.diag(np.sum(np.abs(sorted_transformed_generators[budget:]), \n",
    "                                                                axis=0))])\n",
    "    new_generators = pca.inverse_transform(new_transformed_generators)\n",
    "    new_monomials = sorted_monomials[:budget] + [create_symbol() for _ in range(len(generators[0]))]\n",
    "    \n",
    "    processed_expr_ls = center\n",
    "    for monomial_id in range(len(new_monomials)):\n",
    "        processed_expr_ls += sympy.Matrix(new_generators[monomial_id])*new_monomials[monomial_id]\n",
    "    \n",
    "    return processed_expr_ls\n",
    "\n",
    "\n",
    "def get_vertices(affset):\n",
    "    l = len(affset)\n",
    "    distinct_symbols = set()\n",
    "    for expr in affset:\n",
    "        if not(isinstance(expr, sympy.Expr)):\n",
    "            assert isinstance(expr, int) or isinstance(expr, float)\n",
    "        else:\n",
    "            if distinct_symbols:\n",
    "                distinct_symbols = distinct_symbols.union(expr.free_symbols)\n",
    "            else:\n",
    "                distinct_symbols = expr.free_symbols\n",
    "    distinct_symbols = list(distinct_symbols)\n",
    "    # print(distinct_symbols)\n",
    "    combs = [list(zip(distinct_symbols,list(l))) for l in list(itertools.product([-1, 1], repeat=len(distinct_symbols)))]\n",
    "    res = set()\n",
    "    for assignment in combs:\n",
    "        res.add(tuple([expr.subs(assignment) for expr in affset]))\n",
    "    return(res)\n",
    "\n",
    "\n",
    "# take a list of expressions as input, output the list of monomials and generator vectors,\n",
    "def get_generators(expr_ls):\n",
    "    monomials = dict()\n",
    "    for expr_id, expr in enumerate(expr_ls):\n",
    "        if not(isinstance(expr, sympy.Expr)) or not(expr.free_symbols):\n",
    "            continue\n",
    "        expr = expr.expand()\n",
    "        p = sympy.Poly(expr)\n",
    "        monomials_in_expr = [sympy.prod(x**k for x, k in zip(p.gens, mon)) \n",
    "                             for mon in p.monoms() if sum(mon) >= 1]\n",
    "        for monomial in monomials_in_expr:\n",
    "            coef = float(p.coeff_monomial(monomial))\n",
    "            if monomial in monomials:\n",
    "                if len(monomials[monomial]) < expr_id:\n",
    "                    monomials[monomial] = monomials[monomial] + [0 for _ in range(expr_id-len(monomials[monomial]))]\n",
    "                monomials[monomial].append(coef)\n",
    "            else:\n",
    "                monomials[monomial] = [0 for _ in range(expr_id)] + [coef]\n",
    "\n",
    "    for monomial in monomials:\n",
    "        if len(monomials[monomial]) < len(expr_ls):\n",
    "            monomials[monomial] = monomials[monomial] + [0 for _ in range(len(expr_ls)-len(monomials[monomial]))]\n",
    "    \n",
    "    return monomials\n",
    "\n",
    "\n",
    "def plot_conretiztion(affset, alpha = 0.5, color='red', budget=-1):\n",
    "    if budget > -1:\n",
    "        affset = merge_small_components_pca(affset, budget=budget)\n",
    "    pts = np.array(list(map(list, get_vertices(affset))))\n",
    "    hull = ConvexHull(pts)\n",
    "    plt.fill(pts[hull.vertices,0], pts[hull.vertices,1],color,alpha=alpha)"
   ]
  },
  {
   "cell_type": "code",
   "execution_count": 8,
   "id": "0d64b782",
   "metadata": {
    "ExecuteTime": {
     "end_time": "2024-05-10T20:23:43.854357Z",
     "start_time": "2024-05-10T20:23:43.834979Z"
    },
    "code_folding": [
     0,
     33
    ]
   },
   "outputs": [],
   "source": [
    "def inject_ranges(X, y, uncertain_attr, uncertain_num, uncertain_radius_pct=None, \n",
    "                  uncertain_radius=None, seed=42):\n",
    "    global symbol_id\n",
    "    symbol_id = -1\n",
    "    \n",
    "    X_extended = np.append(np.ones((len(X), 1)), X, axis=1)\n",
    "    ss = StandardScaler()\n",
    "    X_extended[:, 1:] = ss.fit_transform(X_extended[:, 1:])\n",
    "    X_extended_symb = sympy.Matrix(X_extended)\n",
    "    \n",
    "    if not(uncertain_attr=='y'):\n",
    "        uncertain_attr_idx = X.columns.to_list().index(uncertain_attr) + 1\n",
    "        if not(uncertain_radius):\n",
    "            uncertain_radius = uncertain_radius_pct*(np.max(X_extended[:, uncertain_attr_idx])-\\\n",
    "                                                     np.min(X_extended[:, uncertain_attr_idx]))\n",
    "    else:\n",
    "        if not(uncertain_radius):\n",
    "            uncertain_radius = uncertain_radius_pct*(y_train.max()-y_train.min())[0]\n",
    "    \n",
    "    np.random.seed(seed)\n",
    "    uncertain_indices = np.random.choice(range(len(y)), uncertain_num, replace=False)\n",
    "    y_symb = sympy.Matrix(y)\n",
    "    symbols_in_data = set()\n",
    "    for uncertain_idx in uncertain_indices:\n",
    "        new_symb = create_symbol()\n",
    "        symbols_in_data.add(new_symb)\n",
    "        if uncertain_attr=='y':\n",
    "            y_symb[uncertain_idx] = y_symb[uncertain_idx] + uncertain_radius*new_symb\n",
    "        else:\n",
    "            X_extended_symb[uncertain_idx, uncertain_attr_idx] = X_extended_symb[uncertain_idx, uncertain_attr_idx] + uncertain_radius*new_symb\n",
    "    return X_extended_symb, y_symb, symbols_in_data, ss\n",
    "\n",
    "\n",
    "def sample_data_from_ranges(X, y, seed=42):\n",
    "    all_free_symbols = X.free_symbols.union(y.free_symbols)\n",
    "    subs_dict = dict()\n",
    "    np.random.seed(seed)\n",
    "    for symb in all_free_symbols:\n",
    "        subs_dict[symb] = (np.random.uniform()-.5)*2\n",
    "    return X.subs(subs_dict), y.subs(subs_dict)"
   ]
  },
  {
   "cell_type": "markdown",
   "id": "52d7c4a9",
   "metadata": {},
   "source": [
    "## Verification"
   ]
  },
  {
   "cell_type": "code",
   "execution_count": 9,
   "id": "6e0e0fc2",
   "metadata": {
    "ExecuteTime": {
     "end_time": "2024-05-21T00:51:00.024712Z",
     "start_time": "2024-05-21T00:50:59.976500Z"
    },
    "code_folding": [
     0,
     108
    ]
   },
   "outputs": [],
   "source": [
    "def compute_robustness_ratio(X_train, y_train, X_test, y_test, robustness_radius, uncertain_attr, \n",
    "                             uncertain_num, uncertain_radius=None, uncertain_radius_ratio=None, \n",
    "                             lr=0.1, seed=42):\n",
    "    X, y, symbols_in_data, ss = inject_ranges(X=X_train, y=y_train, uncertain_attr=uncertain_attr, \n",
    "                                              uncertain_num=uncertain_num, uncertain_radius=uncertain_radius, \n",
    "                                              uncertain_radius_pct=uncertain_radius_ratio, seed=seed)\n",
    "    \n",
    "    n = X.shape[0]\n",
    "    XS = copy.deepcopy(X)\n",
    "    XR = copy.deepcopy(X)\n",
    "    yS = copy.deepcopy(y)\n",
    "    yR = copy.deepcopy(y)\n",
    "\n",
    "    for row in range(X.shape[0]):\n",
    "        for col in range(X.shape[1]):\n",
    "            expr = X[row, col]\n",
    "            if isinstance(expr, sympy.Expr) and expr.free_symbols:\n",
    "                XR[row, col] = expr.subs(dict([(symb, 0) for symb in expr.free_symbols]))\n",
    "                XS[row, col] = expr - XR[row, col]\n",
    "            else:\n",
    "                XR[row, col] = expr\n",
    "                XS[row, col] = 0\n",
    "\n",
    "    for row in range(y.shape[0]):\n",
    "        expr = y[row]\n",
    "        if isinstance(expr, sympy.Expr) and expr.free_symbols:\n",
    "            yR[row] = expr.subs(dict([(symb, 0) for symb in expr.free_symbols]))\n",
    "            yS[row] = expr - yR[row]\n",
    "        else:\n",
    "            yR[row] = expr\n",
    "            yS[row] = 0\n",
    "\n",
    "    VT, sigma, V = np.linalg.svd(np.array((XR.T*XR).tolist()).astype(float))\n",
    "    V = sympy.Matrix(V)\n",
    "\n",
    "    wR = (XR.T*XR).inv()*XR.T*yR\n",
    "    wS_non_data = 0.0*V.row(0).T\n",
    "    for i in range(X.shape[1]):\n",
    "        wS_non_data = wS_non_data + sb(f'k{i}')*sb(f'ep{i}')*V.row(i).T\n",
    "\n",
    "    eigenvalues = 1 - sigma/n*2*lr\n",
    "    for eigenvalue in eigenvalues:\n",
    "        try:\n",
    "            assert abs(eigenvalue) <= 1\n",
    "            assert eigenvalue >= 0\n",
    "        except:\n",
    "            print(X)\n",
    "            raise ArithmeticError('Inappropriate lambda!')\n",
    "    \n",
    "    A = V.T*np.diag(eigenvalues)*V\n",
    "\n",
    "    wS_data = (np.identity(X.shape[1])-A).inv()*((XS.T*XR + XR.T*XS)*wR - XS.T*yR - XR.T*yS)*(-lr*2/n)\n",
    "\n",
    "    wS = wS_non_data + wS_data\n",
    "    w = wS + wR\n",
    "    w_prime = (-lr*2/n)*((XS.T*XR + XR.T*XS + XS.T*XS)*wS + XS.T*XS*wR - XS.T*yS).expand()\n",
    "    w_prime_projected = V*w_prime\n",
    "    \n",
    "    eqs = []\n",
    "    for d in range(X.shape[1]):\n",
    "        eq1 = (1-abs(eigenvalues[d]))*sb(f'k{d}')\n",
    "        eq2 = 0\n",
    "        coef_dict = dict()\n",
    "        coef_dict['const'] = 0\n",
    "        for i in range(X.shape[1]):\n",
    "            coef_dict[sb(f'k{i}')] = 0\n",
    "        for arg in w_prime_projected[d].args:\n",
    "            contain_k = False\n",
    "            for i in range(X.shape[1]):\n",
    "                symb_k = sb(f'k{i}')\n",
    "                if symb_k in arg.free_symbols:\n",
    "                    coef_dict[symb_k] = coef_dict[symb_k] + abs(arg.args[0])\n",
    "                    contain_k = True\n",
    "                    break\n",
    "            if not(contain_k):\n",
    "                coef_dict['const'] = coef_dict['const'] + abs(arg.args[0])\n",
    "        eq2 = coef_dict['const']\n",
    "        for i in range(X.shape[1]):\n",
    "            eq2 = eq2 + sb(f'k{i}')*coef_dict[sb(f'k{i}')]\n",
    "        eqs.append(sympy.Eq(eq1, eq2))\n",
    "        \n",
    "    result = sympy.solve(eqs, [sb(f'k{i}') for i in range(X.shape[1])])\n",
    "    for ki in result:\n",
    "        try:\n",
    "            assert result[ki] >= 0\n",
    "        except:\n",
    "            print(result)\n",
    "            print(eqs)\n",
    "            raise ArithmeticError('Negative k!')\n",
    "    param = wR + wS.subs(result)\n",
    "    \n",
    "    test_preds = sympy.Matrix(np.append(np.ones((len(X_test), 1)), ss.transform(X_test), axis=1))*param\n",
    "    robustness_ls = []\n",
    "    for pred in test_preds:\n",
    "        pred_range_radius = 0\n",
    "        for arg in pred.args:\n",
    "            if arg.free_symbols:\n",
    "                pred_range_radius += abs(arg.args[0])\n",
    "        if pred_range_radius <= robustness_radius:\n",
    "            robustness_ls.append(1)\n",
    "        else:\n",
    "            robustness_ls.append(0)\n",
    "    \n",
    "#     print(param)\n",
    "    return np.mean(robustness_ls)\n",
    "\n",
    "\n",
    "# if interval=True, use interval arithmetic, otherwise use zonotopes\n",
    "def compute_robustness_ratio_label_error(X_train, y_train, X_test, y_test, robustness_radius,\n",
    "                                         uncertain_num, uncertain_radius=None, \n",
    "                                         lr=0.1, seed=42, interval=True):\n",
    "    X, y, symbols_in_data, ss = inject_ranges(X=X_train, y=y_train, uncertain_attr='y', \n",
    "                                              uncertain_num=uncertain_num, uncertain_radius=uncertain_radius, \n",
    "                                              uncertain_radius_pct=None, seed=seed)\n",
    "    \n",
    "    assert len(X.free_symbols)==0\n",
    "    # closed-form\n",
    "    param = (X.T*X).inv()*X.T*y\n",
    "    \n",
    "    if interval:\n",
    "        # make param intervals\n",
    "        for d in range(len(param)):\n",
    "            expr = param[d]\n",
    "            if not(expr.free_symbols):\n",
    "                continue\n",
    "            else:\n",
    "                constant_part = 0\n",
    "                interval_radius = 0\n",
    "                for arg in expr.args:\n",
    "                    if arg.free_symbols:\n",
    "                        interval_radius += abs(arg.args[0])\n",
    "                    else:\n",
    "                        assert constant_part == 0\n",
    "                        constant_part = arg\n",
    "                param[d] = constant_part + create_symbol()*interval_radius\n",
    "    \n",
    "    test_preds = sympy.Matrix(np.append(np.ones((len(X_test), 1)), ss.transform(X_test), axis=1))*param\n",
    "    robustness_ls = []\n",
    "    for pred in test_preds:\n",
    "        pred_range_radius = 0\n",
    "        for arg in pred.args:\n",
    "            if arg.free_symbols:\n",
    "                pred_range_radius += abs(arg.args[0])\n",
    "        if pred_range_radius <= robustness_radius:\n",
    "            robustness_ls.append(1)\n",
    "        else:\n",
    "            robustness_ls.append(0)\n",
    "    \n",
    "#     print(param)\n",
    "    return np.mean(robustness_ls)\n",
    "    "
   ]
  },
  {
   "cell_type": "code",
   "execution_count": null,
   "id": "51abf3de",
   "metadata": {
    "ExecuteTime": {
     "end_time": "2024-05-08T23:49:10.820858Z",
     "start_time": "2024-05-08T23:49:10.812609Z"
    }
   },
   "outputs": [],
   "source": []
  },
  {
   "cell_type": "markdown",
   "id": "52320828",
   "metadata": {},
   "source": [
    "### Uncertain Labels"
   ]
  },
  {
   "cell_type": "markdown",
   "id": "2353ec4a",
   "metadata": {},
   "source": [
    "**Zonotope + Label Error**"
   ]
  },
  {
   "cell_type": "code",
   "execution_count": 10,
   "id": "c8aa46dd",
   "metadata": {},
   "outputs": [],
   "source": [
    "start_time = time.time()"
   ]
  },
  {
   "cell_type": "code",
   "execution_count": 11,
   "id": "50958ee3",
   "metadata": {
    "ExecuteTime": {
     "end_time": "2024-05-22T07:08:58.738615Z",
     "start_time": "2024-05-22T07:00:14.593819Z"
    },
    "scrolled": true
   },
   "outputs": [
    {
     "data": {
      "application/vnd.jupyter.widget-view+json": {
       "model_id": "b07aa1908a8a4ec0a4a7ed51a91809ae",
       "version_major": 2,
       "version_minor": 0
      },
      "text/plain": [
       "Progess:   0%|          | 0/10 [00:00<?, ?it/s]"
      ]
     },
     "metadata": {},
     "output_type": "display_data"
    },
    {
     "data": {
      "application/vnd.jupyter.widget-view+json": {
       "model_id": "2cc38b889063464c898277869965ac01",
       "version_major": 2,
       "version_minor": 0
      },
      "text/plain": [
       "Varying Uncertain Radius:   0%|          | 0/5 [00:00<?, ?it/s]"
      ]
     },
     "metadata": {},
     "output_type": "display_data"
    },
    {
     "data": {
      "application/vnd.jupyter.widget-view+json": {
       "model_id": "a62cbd83d0ec4fe7aaf639c7086b9583",
       "version_major": 2,
       "version_minor": 0
      },
      "text/plain": [
       "Varying Uncertain Radius:   0%|          | 0/5 [00:00<?, ?it/s]"
      ]
     },
     "metadata": {},
     "output_type": "display_data"
    },
    {
     "data": {
      "application/vnd.jupyter.widget-view+json": {
       "model_id": "be55423b63854150998e032a2b4a19b3",
       "version_major": 2,
       "version_minor": 0
      },
      "text/plain": [
       "Varying Uncertain Radius:   0%|          | 0/5 [00:00<?, ?it/s]"
      ]
     },
     "metadata": {},
     "output_type": "display_data"
    },
    {
     "data": {
      "application/vnd.jupyter.widget-view+json": {
       "model_id": "f0b1daaa8f2845b6b54555fea1b270c7",
       "version_major": 2,
       "version_minor": 0
      },
      "text/plain": [
       "Varying Uncertain Radius:   0%|          | 0/5 [00:00<?, ?it/s]"
      ]
     },
     "metadata": {},
     "output_type": "display_data"
    },
    {
     "data": {
      "application/vnd.jupyter.widget-view+json": {
       "model_id": "a938d354f9b84e5583dd757da13bfd2c",
       "version_major": 2,
       "version_minor": 0
      },
      "text/plain": [
       "Varying Uncertain Radius:   0%|          | 0/5 [00:00<?, ?it/s]"
      ]
     },
     "metadata": {},
     "output_type": "display_data"
    },
    {
     "data": {
      "application/vnd.jupyter.widget-view+json": {
       "model_id": "f583d0a56be145c09d55a5620aa5c934",
       "version_major": 2,
       "version_minor": 0
      },
      "text/plain": [
       "Varying Uncertain Radius:   0%|          | 0/5 [00:00<?, ?it/s]"
      ]
     },
     "metadata": {},
     "output_type": "display_data"
    },
    {
     "data": {
      "application/vnd.jupyter.widget-view+json": {
       "model_id": "e4abee881b11487dbddd22ce0ea60fdd",
       "version_major": 2,
       "version_minor": 0
      },
      "text/plain": [
       "Varying Uncertain Radius:   0%|          | 0/5 [00:00<?, ?it/s]"
      ]
     },
     "metadata": {},
     "output_type": "display_data"
    },
    {
     "data": {
      "application/vnd.jupyter.widget-view+json": {
       "model_id": "031c7f6c6ba24860b163b800ed683f2b",
       "version_major": 2,
       "version_minor": 0
      },
      "text/plain": [
       "Varying Uncertain Radius:   0%|          | 0/5 [00:00<?, ?it/s]"
      ]
     },
     "metadata": {},
     "output_type": "display_data"
    },
    {
     "data": {
      "application/vnd.jupyter.widget-view+json": {
       "model_id": "ac72466a87434c8aa52ffb4b53c20542",
       "version_major": 2,
       "version_minor": 0
      },
      "text/plain": [
       "Varying Uncertain Radius:   0%|          | 0/5 [00:00<?, ?it/s]"
      ]
     },
     "metadata": {},
     "output_type": "display_data"
    },
    {
     "data": {
      "application/vnd.jupyter.widget-view+json": {
       "model_id": "5d5c006cf6c2491e96014f6da64d71a3",
       "version_major": 2,
       "version_minor": 0
      },
      "text/plain": [
       "Varying Uncertain Radius:   0%|          | 0/5 [00:00<?, ?it/s]"
      ]
     },
     "metadata": {},
     "output_type": "display_data"
    },
    {
     "data": {
      "application/vnd.jupyter.widget-view+json": {
       "model_id": "a66973fa20674a668dbc6a68071235c0",
       "version_major": 2,
       "version_minor": 0
      },
      "text/plain": [
       "Progess:   0%|          | 0/10 [00:00<?, ?it/s]"
      ]
     },
     "metadata": {},
     "output_type": "display_data"
    },
    {
     "data": {
      "application/vnd.jupyter.widget-view+json": {
       "model_id": "5e880c43cd264a9a843743f00c00effd",
       "version_major": 2,
       "version_minor": 0
      },
      "text/plain": [
       "Varying Uncertain Radius:   0%|          | 0/5 [00:00<?, ?it/s]"
      ]
     },
     "metadata": {},
     "output_type": "display_data"
    },
    {
     "data": {
      "application/vnd.jupyter.widget-view+json": {
       "model_id": "cd07ee5d69434556abb6068978ac068f",
       "version_major": 2,
       "version_minor": 0
      },
      "text/plain": [
       "Varying Uncertain Radius:   0%|          | 0/5 [00:00<?, ?it/s]"
      ]
     },
     "metadata": {},
     "output_type": "display_data"
    },
    {
     "data": {
      "application/vnd.jupyter.widget-view+json": {
       "model_id": "03ccacbf61264824a7ad6efd55126f79",
       "version_major": 2,
       "version_minor": 0
      },
      "text/plain": [
       "Varying Uncertain Radius:   0%|          | 0/5 [00:00<?, ?it/s]"
      ]
     },
     "metadata": {},
     "output_type": "display_data"
    },
    {
     "data": {
      "application/vnd.jupyter.widget-view+json": {
       "model_id": "6d763cfbd41d4e629c1c3370e5b92b79",
       "version_major": 2,
       "version_minor": 0
      },
      "text/plain": [
       "Varying Uncertain Radius:   0%|          | 0/5 [00:00<?, ?it/s]"
      ]
     },
     "metadata": {},
     "output_type": "display_data"
    },
    {
     "data": {
      "application/vnd.jupyter.widget-view+json": {
       "model_id": "eab3090a41a94c729e513673d21bc12e",
       "version_major": 2,
       "version_minor": 0
      },
      "text/plain": [
       "Varying Uncertain Radius:   0%|          | 0/5 [00:00<?, ?it/s]"
      ]
     },
     "metadata": {},
     "output_type": "display_data"
    },
    {
     "data": {
      "application/vnd.jupyter.widget-view+json": {
       "model_id": "a42e07aa44704db09cfdd6fb72065e03",
       "version_major": 2,
       "version_minor": 0
      },
      "text/plain": [
       "Varying Uncertain Radius:   0%|          | 0/5 [00:00<?, ?it/s]"
      ]
     },
     "metadata": {},
     "output_type": "display_data"
    },
    {
     "data": {
      "application/vnd.jupyter.widget-view+json": {
       "model_id": "7cc4b6ae007747b49e6707f185453016",
       "version_major": 2,
       "version_minor": 0
      },
      "text/plain": [
       "Varying Uncertain Radius:   0%|          | 0/5 [00:00<?, ?it/s]"
      ]
     },
     "metadata": {},
     "output_type": "display_data"
    },
    {
     "data": {
      "application/vnd.jupyter.widget-view+json": {
       "model_id": "ffee631f6e3444878868b3a8b0144b39",
       "version_major": 2,
       "version_minor": 0
      },
      "text/plain": [
       "Varying Uncertain Radius:   0%|          | 0/5 [00:00<?, ?it/s]"
      ]
     },
     "metadata": {},
     "output_type": "display_data"
    },
    {
     "data": {
      "application/vnd.jupyter.widget-view+json": {
       "model_id": "7a55efd3c1d2418090896031fef6908e",
       "version_major": 2,
       "version_minor": 0
      },
      "text/plain": [
       "Varying Uncertain Radius:   0%|          | 0/5 [00:00<?, ?it/s]"
      ]
     },
     "metadata": {},
     "output_type": "display_data"
    },
    {
     "data": {
      "application/vnd.jupyter.widget-view+json": {
       "model_id": "05bca8dbf02c4711bde7c8e6ac65b47c",
       "version_major": 2,
       "version_minor": 0
      },
      "text/plain": [
       "Varying Uncertain Radius:   0%|          | 0/5 [00:00<?, ?it/s]"
      ]
     },
     "metadata": {},
     "output_type": "display_data"
    },
    {
     "data": {
      "application/vnd.jupyter.widget-view+json": {
       "model_id": "e69c85f8ed5846b09f0cb6f7aec3e864",
       "version_major": 2,
       "version_minor": 0
      },
      "text/plain": [
       "Progess:   0%|          | 0/10 [00:00<?, ?it/s]"
      ]
     },
     "metadata": {},
     "output_type": "display_data"
    },
    {
     "data": {
      "application/vnd.jupyter.widget-view+json": {
       "model_id": "f5104a190009492ba3cbc31c07540058",
       "version_major": 2,
       "version_minor": 0
      },
      "text/plain": [
       "Varying Uncertain Radius:   0%|          | 0/5 [00:00<?, ?it/s]"
      ]
     },
     "metadata": {},
     "output_type": "display_data"
    },
    {
     "data": {
      "application/vnd.jupyter.widget-view+json": {
       "model_id": "fd6e83fabdb64f529ffaaf4365f4f152",
       "version_major": 2,
       "version_minor": 0
      },
      "text/plain": [
       "Varying Uncertain Radius:   0%|          | 0/5 [00:00<?, ?it/s]"
      ]
     },
     "metadata": {},
     "output_type": "display_data"
    },
    {
     "data": {
      "application/vnd.jupyter.widget-view+json": {
       "model_id": "97f0ebb369a44cac9a7fff16723e0360",
       "version_major": 2,
       "version_minor": 0
      },
      "text/plain": [
       "Varying Uncertain Radius:   0%|          | 0/5 [00:00<?, ?it/s]"
      ]
     },
     "metadata": {},
     "output_type": "display_data"
    },
    {
     "data": {
      "application/vnd.jupyter.widget-view+json": {
       "model_id": "1345b07201d64f10b26b436d71a78c76",
       "version_major": 2,
       "version_minor": 0
      },
      "text/plain": [
       "Varying Uncertain Radius:   0%|          | 0/5 [00:00<?, ?it/s]"
      ]
     },
     "metadata": {},
     "output_type": "display_data"
    },
    {
     "data": {
      "application/vnd.jupyter.widget-view+json": {
       "model_id": "35d0d99a285d4232ab5a5992053f4eb3",
       "version_major": 2,
       "version_minor": 0
      },
      "text/plain": [
       "Varying Uncertain Radius:   0%|          | 0/5 [00:00<?, ?it/s]"
      ]
     },
     "metadata": {},
     "output_type": "display_data"
    },
    {
     "data": {
      "application/vnd.jupyter.widget-view+json": {
       "model_id": "cf30d6e3e4694b72a8a9679a4c469258",
       "version_major": 2,
       "version_minor": 0
      },
      "text/plain": [
       "Varying Uncertain Radius:   0%|          | 0/5 [00:00<?, ?it/s]"
      ]
     },
     "metadata": {},
     "output_type": "display_data"
    },
    {
     "data": {
      "application/vnd.jupyter.widget-view+json": {
       "model_id": "9c5918ea3ec84b22883ecca5be9cdc66",
       "version_major": 2,
       "version_minor": 0
      },
      "text/plain": [
       "Varying Uncertain Radius:   0%|          | 0/5 [00:00<?, ?it/s]"
      ]
     },
     "metadata": {},
     "output_type": "display_data"
    },
    {
     "data": {
      "application/vnd.jupyter.widget-view+json": {
       "model_id": "6bcd99a13e7d414d9b663da50644a254",
       "version_major": 2,
       "version_minor": 0
      },
      "text/plain": [
       "Varying Uncertain Radius:   0%|          | 0/5 [00:00<?, ?it/s]"
      ]
     },
     "metadata": {},
     "output_type": "display_data"
    },
    {
     "data": {
      "application/vnd.jupyter.widget-view+json": {
       "model_id": "d7ae793e4c504f4a8a9bd53df1f4fd9f",
       "version_major": 2,
       "version_minor": 0
      },
      "text/plain": [
       "Varying Uncertain Radius:   0%|          | 0/5 [00:00<?, ?it/s]"
      ]
     },
     "metadata": {},
     "output_type": "display_data"
    },
    {
     "data": {
      "application/vnd.jupyter.widget-view+json": {
       "model_id": "159a6d0555474a88b03e86330516bb6d",
       "version_major": 2,
       "version_minor": 0
      },
      "text/plain": [
       "Varying Uncertain Radius:   0%|          | 0/5 [00:00<?, ?it/s]"
      ]
     },
     "metadata": {},
     "output_type": "display_data"
    },
    {
     "data": {
      "application/vnd.jupyter.widget-view+json": {
       "model_id": "148e2019e8ea46dba71ae81a19be07ef",
       "version_major": 2,
       "version_minor": 0
      },
      "text/plain": [
       "Progess:   0%|          | 0/10 [00:00<?, ?it/s]"
      ]
     },
     "metadata": {},
     "output_type": "display_data"
    },
    {
     "data": {
      "application/vnd.jupyter.widget-view+json": {
       "model_id": "7a2cb8d684814a0db28120f9b1a7d2ec",
       "version_major": 2,
       "version_minor": 0
      },
      "text/plain": [
       "Varying Uncertain Radius:   0%|          | 0/5 [00:00<?, ?it/s]"
      ]
     },
     "metadata": {},
     "output_type": "display_data"
    },
    {
     "data": {
      "application/vnd.jupyter.widget-view+json": {
       "model_id": "632edc0bb75e43be92bff4bb612098a4",
       "version_major": 2,
       "version_minor": 0
      },
      "text/plain": [
       "Varying Uncertain Radius:   0%|          | 0/5 [00:00<?, ?it/s]"
      ]
     },
     "metadata": {},
     "output_type": "display_data"
    },
    {
     "data": {
      "application/vnd.jupyter.widget-view+json": {
       "model_id": "98df192f4c02453a9f2c521919eb7879",
       "version_major": 2,
       "version_minor": 0
      },
      "text/plain": [
       "Varying Uncertain Radius:   0%|          | 0/5 [00:00<?, ?it/s]"
      ]
     },
     "metadata": {},
     "output_type": "display_data"
    },
    {
     "data": {
      "application/vnd.jupyter.widget-view+json": {
       "model_id": "cfad6dd591d7421ba33c005f8c242e00",
       "version_major": 2,
       "version_minor": 0
      },
      "text/plain": [
       "Varying Uncertain Radius:   0%|          | 0/5 [00:00<?, ?it/s]"
      ]
     },
     "metadata": {},
     "output_type": "display_data"
    },
    {
     "data": {
      "application/vnd.jupyter.widget-view+json": {
       "model_id": "9254d9f835dd44aa80058d8d5d54657e",
       "version_major": 2,
       "version_minor": 0
      },
      "text/plain": [
       "Varying Uncertain Radius:   0%|          | 0/5 [00:00<?, ?it/s]"
      ]
     },
     "metadata": {},
     "output_type": "display_data"
    },
    {
     "data": {
      "application/vnd.jupyter.widget-view+json": {
       "model_id": "97a47f58ed3d4431a3401a1bacc23d97",
       "version_major": 2,
       "version_minor": 0
      },
      "text/plain": [
       "Varying Uncertain Radius:   0%|          | 0/5 [00:00<?, ?it/s]"
      ]
     },
     "metadata": {},
     "output_type": "display_data"
    },
    {
     "data": {
      "application/vnd.jupyter.widget-view+json": {
       "model_id": "d37f8ea198064fbba654c2a11cc9b774",
       "version_major": 2,
       "version_minor": 0
      },
      "text/plain": [
       "Varying Uncertain Radius:   0%|          | 0/5 [00:00<?, ?it/s]"
      ]
     },
     "metadata": {},
     "output_type": "display_data"
    },
    {
     "data": {
      "application/vnd.jupyter.widget-view+json": {
       "model_id": "ffa4ce32328f4c5b8524db0ed59c9e5a",
       "version_major": 2,
       "version_minor": 0
      },
      "text/plain": [
       "Varying Uncertain Radius:   0%|          | 0/5 [00:00<?, ?it/s]"
      ]
     },
     "metadata": {},
     "output_type": "display_data"
    },
    {
     "data": {
      "application/vnd.jupyter.widget-view+json": {
       "model_id": "741f12d149a54aa5806aa2025c48b45b",
       "version_major": 2,
       "version_minor": 0
      },
      "text/plain": [
       "Varying Uncertain Radius:   0%|          | 0/5 [00:00<?, ?it/s]"
      ]
     },
     "metadata": {},
     "output_type": "display_data"
    },
    {
     "data": {
      "application/vnd.jupyter.widget-view+json": {
       "model_id": "c1d1d6ee339a43a390d9b6aebee70dd8",
       "version_major": 2,
       "version_minor": 0
      },
      "text/plain": [
       "Varying Uncertain Radius:   0%|          | 0/5 [00:00<?, ?it/s]"
      ]
     },
     "metadata": {},
     "output_type": "display_data"
    },
    {
     "data": {
      "application/vnd.jupyter.widget-view+json": {
       "model_id": "6dd6a615a20b471bafd485737a7ab54d",
       "version_major": 2,
       "version_minor": 0
      },
      "text/plain": [
       "Progess:   0%|          | 0/10 [00:00<?, ?it/s]"
      ]
     },
     "metadata": {},
     "output_type": "display_data"
    },
    {
     "data": {
      "application/vnd.jupyter.widget-view+json": {
       "model_id": "7c3abc21ee7d40fe8b2d84a8cdaaab9d",
       "version_major": 2,
       "version_minor": 0
      },
      "text/plain": [
       "Varying Uncertain Radius:   0%|          | 0/5 [00:00<?, ?it/s]"
      ]
     },
     "metadata": {},
     "output_type": "display_data"
    },
    {
     "data": {
      "application/vnd.jupyter.widget-view+json": {
       "model_id": "bf69c23cdedf43fc82e6c68874e648da",
       "version_major": 2,
       "version_minor": 0
      },
      "text/plain": [
       "Varying Uncertain Radius:   0%|          | 0/5 [00:00<?, ?it/s]"
      ]
     },
     "metadata": {},
     "output_type": "display_data"
    },
    {
     "data": {
      "application/vnd.jupyter.widget-view+json": {
       "model_id": "3b378d01a02a4cdd96117f7470ef116e",
       "version_major": 2,
       "version_minor": 0
      },
      "text/plain": [
       "Varying Uncertain Radius:   0%|          | 0/5 [00:00<?, ?it/s]"
      ]
     },
     "metadata": {},
     "output_type": "display_data"
    },
    {
     "data": {
      "application/vnd.jupyter.widget-view+json": {
       "model_id": "7521b77a78c447b6995bdd835a19d7ae",
       "version_major": 2,
       "version_minor": 0
      },
      "text/plain": [
       "Varying Uncertain Radius:   0%|          | 0/5 [00:00<?, ?it/s]"
      ]
     },
     "metadata": {},
     "output_type": "display_data"
    },
    {
     "data": {
      "application/vnd.jupyter.widget-view+json": {
       "model_id": "13e0b367e6014fb68cc4980863bb1541",
       "version_major": 2,
       "version_minor": 0
      },
      "text/plain": [
       "Varying Uncertain Radius:   0%|          | 0/5 [00:00<?, ?it/s]"
      ]
     },
     "metadata": {},
     "output_type": "display_data"
    },
    {
     "data": {
      "application/vnd.jupyter.widget-view+json": {
       "model_id": "58c42493996b472eb341dd689a5aef88",
       "version_major": 2,
       "version_minor": 0
      },
      "text/plain": [
       "Varying Uncertain Radius:   0%|          | 0/5 [00:00<?, ?it/s]"
      ]
     },
     "metadata": {},
     "output_type": "display_data"
    },
    {
     "data": {
      "application/vnd.jupyter.widget-view+json": {
       "model_id": "b9208cd492ef475eaa8ae13ab0a6e776",
       "version_major": 2,
       "version_minor": 0
      },
      "text/plain": [
       "Varying Uncertain Radius:   0%|          | 0/5 [00:00<?, ?it/s]"
      ]
     },
     "metadata": {},
     "output_type": "display_data"
    },
    {
     "data": {
      "application/vnd.jupyter.widget-view+json": {
       "model_id": "c86efc7127494199bb3db932ca695d48",
       "version_major": 2,
       "version_minor": 0
      },
      "text/plain": [
       "Varying Uncertain Radius:   0%|          | 0/5 [00:00<?, ?it/s]"
      ]
     },
     "metadata": {},
     "output_type": "display_data"
    },
    {
     "data": {
      "application/vnd.jupyter.widget-view+json": {
       "model_id": "8b7a3c632be34a96a07158c8472a74d0",
       "version_major": 2,
       "version_minor": 0
      },
      "text/plain": [
       "Varying Uncertain Radius:   0%|          | 0/5 [00:00<?, ?it/s]"
      ]
     },
     "metadata": {},
     "output_type": "display_data"
    },
    {
     "data": {
      "application/vnd.jupyter.widget-view+json": {
       "model_id": "98ca5882d01b4e5fa5c76c1fd696b5a2",
       "version_major": 2,
       "version_minor": 0
      },
      "text/plain": [
       "Varying Uncertain Radius:   0%|          | 0/5 [00:00<?, ?it/s]"
      ]
     },
     "metadata": {},
     "output_type": "display_data"
    }
   ],
   "source": [
    "robustness_dicts = []\n",
    "for seed in range(5):\n",
    "    # mpg +- 2 is robust\n",
    "    robustness_radius = 2\n",
    "    label_range = (y_train.max()-y_train.min())\n",
    "    ratios = [0.05, 0.10, 0.15, 0.2, 0.25]\n",
    "    uncertain_radiuses = [ratio*label_range for ratio in ratios]\n",
    "    uncertain_pcts = list(np.arange(1, 11)/100)\n",
    "    robustness_dict = dict()\n",
    "    robustness_dict['uncertain_radius'] = uncertain_radiuses\n",
    "    robustness_dict['uncertain_radius_ratios'] = ratios\n",
    "    for uncertain_pct in tqdm(uncertain_pcts, desc='Progess'):\n",
    "        robustness_dict[uncertain_pct] = list()\n",
    "        uncertain_num = int(uncertain_pct*len(y_train))\n",
    "        for uncertain_radius in tqdm(uncertain_radiuses, desc=f'Varying Uncertain Radius'):\n",
    "            robustness_ratio = compute_robustness_ratio_label_error(X_train, y_train, X_test, y_test, \n",
    "                                                                    uncertain_num=uncertain_num, \n",
    "                                                                    uncertain_radius=uncertain_radius, \n",
    "                                                                    robustness_radius=robustness_radius, \n",
    "                                                                    interval=False, seed=seed)\n",
    "            robustness_dict[uncertain_pct].append(robustness_ratio)\n",
    "    robustness_dicts.append(robustness_dict)"
   ]
  },
  {
   "cell_type": "code",
   "execution_count": 12,
   "id": "1b0d6c48",
   "metadata": {},
   "outputs": [
    {
     "name": "stdout",
     "output_type": "stream",
     "text": [
      "Execution time: 654.5839183330536 seconds\n"
     ]
    }
   ],
   "source": [
    "end_time = time.time()\n",
    "\n",
    "execution_time = end_time - start_time\n",
    "print(f\"Execution time: {execution_time} seconds\")"
   ]
  },
  {
   "cell_type": "markdown",
   "id": "b1bc3643",
   "metadata": {},
   "source": [
    "**Interval + Label Error**"
   ]
  },
  {
   "cell_type": "code",
   "execution_count": 13,
   "id": "1f7d521f",
   "metadata": {},
   "outputs": [],
   "source": [
    "start_time = time.time()"
   ]
  },
  {
   "cell_type": "code",
   "execution_count": 14,
   "id": "230e5d8f",
   "metadata": {
    "ExecuteTime": {
     "end_time": "2024-05-22T00:16:00.996844Z",
     "start_time": "2024-05-22T00:13:08.927910Z"
    },
    "scrolled": true
   },
   "outputs": [
    {
     "data": {
      "application/vnd.jupyter.widget-view+json": {
       "model_id": "93befad8d9f94a06ab9125bf274c91e2",
       "version_major": 2,
       "version_minor": 0
      },
      "text/plain": [
       "Progess:   0%|          | 0/10 [00:00<?, ?it/s]"
      ]
     },
     "metadata": {},
     "output_type": "display_data"
    },
    {
     "data": {
      "application/vnd.jupyter.widget-view+json": {
       "model_id": "ab0ee08bafe545d2838758a609ba0ec3",
       "version_major": 2,
       "version_minor": 0
      },
      "text/plain": [
       "Varying Uncertain Radius:   0%|          | 0/5 [00:00<?, ?it/s]"
      ]
     },
     "metadata": {},
     "output_type": "display_data"
    },
    {
     "data": {
      "application/vnd.jupyter.widget-view+json": {
       "model_id": "a4a634787f0d4da89b317b40489839e0",
       "version_major": 2,
       "version_minor": 0
      },
      "text/plain": [
       "Varying Uncertain Radius:   0%|          | 0/5 [00:00<?, ?it/s]"
      ]
     },
     "metadata": {},
     "output_type": "display_data"
    },
    {
     "data": {
      "application/vnd.jupyter.widget-view+json": {
       "model_id": "b664ed2f2b894ad0a3c9e940cad26fb4",
       "version_major": 2,
       "version_minor": 0
      },
      "text/plain": [
       "Varying Uncertain Radius:   0%|          | 0/5 [00:00<?, ?it/s]"
      ]
     },
     "metadata": {},
     "output_type": "display_data"
    },
    {
     "data": {
      "application/vnd.jupyter.widget-view+json": {
       "model_id": "a7aa16a73b794501b2776c51a16a1452",
       "version_major": 2,
       "version_minor": 0
      },
      "text/plain": [
       "Varying Uncertain Radius:   0%|          | 0/5 [00:00<?, ?it/s]"
      ]
     },
     "metadata": {},
     "output_type": "display_data"
    },
    {
     "data": {
      "application/vnd.jupyter.widget-view+json": {
       "model_id": "a4d7ebd051764dbaaa05d57ea128a1b2",
       "version_major": 2,
       "version_minor": 0
      },
      "text/plain": [
       "Varying Uncertain Radius:   0%|          | 0/5 [00:00<?, ?it/s]"
      ]
     },
     "metadata": {},
     "output_type": "display_data"
    },
    {
     "data": {
      "application/vnd.jupyter.widget-view+json": {
       "model_id": "90f22a3d463643fcad359378792cd490",
       "version_major": 2,
       "version_minor": 0
      },
      "text/plain": [
       "Varying Uncertain Radius:   0%|          | 0/5 [00:00<?, ?it/s]"
      ]
     },
     "metadata": {},
     "output_type": "display_data"
    },
    {
     "data": {
      "application/vnd.jupyter.widget-view+json": {
       "model_id": "4dea05a4f6f34e94a54f8fd6c3cd15da",
       "version_major": 2,
       "version_minor": 0
      },
      "text/plain": [
       "Varying Uncertain Radius:   0%|          | 0/5 [00:00<?, ?it/s]"
      ]
     },
     "metadata": {},
     "output_type": "display_data"
    },
    {
     "data": {
      "application/vnd.jupyter.widget-view+json": {
       "model_id": "2ef009b8a1a140b59ca740e0b370e4bf",
       "version_major": 2,
       "version_minor": 0
      },
      "text/plain": [
       "Varying Uncertain Radius:   0%|          | 0/5 [00:00<?, ?it/s]"
      ]
     },
     "metadata": {},
     "output_type": "display_data"
    },
    {
     "data": {
      "application/vnd.jupyter.widget-view+json": {
       "model_id": "8262716b273646a68da87e70f8e6ef40",
       "version_major": 2,
       "version_minor": 0
      },
      "text/plain": [
       "Varying Uncertain Radius:   0%|          | 0/5 [00:00<?, ?it/s]"
      ]
     },
     "metadata": {},
     "output_type": "display_data"
    },
    {
     "data": {
      "application/vnd.jupyter.widget-view+json": {
       "model_id": "5d3fee86a6f743bc84a11dc12492f8e5",
       "version_major": 2,
       "version_minor": 0
      },
      "text/plain": [
       "Varying Uncertain Radius:   0%|          | 0/5 [00:00<?, ?it/s]"
      ]
     },
     "metadata": {},
     "output_type": "display_data"
    },
    {
     "data": {
      "application/vnd.jupyter.widget-view+json": {
       "model_id": "eee7ae59c6274706b36fb93288e92037",
       "version_major": 2,
       "version_minor": 0
      },
      "text/plain": [
       "Progess:   0%|          | 0/10 [00:00<?, ?it/s]"
      ]
     },
     "metadata": {},
     "output_type": "display_data"
    },
    {
     "data": {
      "application/vnd.jupyter.widget-view+json": {
       "model_id": "63affe72f6eb49f0a605244aa150b619",
       "version_major": 2,
       "version_minor": 0
      },
      "text/plain": [
       "Varying Uncertain Radius:   0%|          | 0/5 [00:00<?, ?it/s]"
      ]
     },
     "metadata": {},
     "output_type": "display_data"
    },
    {
     "data": {
      "application/vnd.jupyter.widget-view+json": {
       "model_id": "185aeea71a1948babf8f1442b6b04b56",
       "version_major": 2,
       "version_minor": 0
      },
      "text/plain": [
       "Varying Uncertain Radius:   0%|          | 0/5 [00:00<?, ?it/s]"
      ]
     },
     "metadata": {},
     "output_type": "display_data"
    },
    {
     "data": {
      "application/vnd.jupyter.widget-view+json": {
       "model_id": "20205222f8224cb89a3ade95998b749c",
       "version_major": 2,
       "version_minor": 0
      },
      "text/plain": [
       "Varying Uncertain Radius:   0%|          | 0/5 [00:00<?, ?it/s]"
      ]
     },
     "metadata": {},
     "output_type": "display_data"
    },
    {
     "data": {
      "application/vnd.jupyter.widget-view+json": {
       "model_id": "09436aa5699d4766bb3b91271fbce8dc",
       "version_major": 2,
       "version_minor": 0
      },
      "text/plain": [
       "Varying Uncertain Radius:   0%|          | 0/5 [00:00<?, ?it/s]"
      ]
     },
     "metadata": {},
     "output_type": "display_data"
    },
    {
     "data": {
      "application/vnd.jupyter.widget-view+json": {
       "model_id": "08f4be678f644815aa32243baa4e56b8",
       "version_major": 2,
       "version_minor": 0
      },
      "text/plain": [
       "Varying Uncertain Radius:   0%|          | 0/5 [00:00<?, ?it/s]"
      ]
     },
     "metadata": {},
     "output_type": "display_data"
    },
    {
     "data": {
      "application/vnd.jupyter.widget-view+json": {
       "model_id": "ded249612ddb441a9e17f8626a6d4cdf",
       "version_major": 2,
       "version_minor": 0
      },
      "text/plain": [
       "Varying Uncertain Radius:   0%|          | 0/5 [00:00<?, ?it/s]"
      ]
     },
     "metadata": {},
     "output_type": "display_data"
    },
    {
     "data": {
      "application/vnd.jupyter.widget-view+json": {
       "model_id": "96d071b2e7224ad295725ee3340941f0",
       "version_major": 2,
       "version_minor": 0
      },
      "text/plain": [
       "Varying Uncertain Radius:   0%|          | 0/5 [00:00<?, ?it/s]"
      ]
     },
     "metadata": {},
     "output_type": "display_data"
    },
    {
     "data": {
      "application/vnd.jupyter.widget-view+json": {
       "model_id": "be82fc21dd8644d0a9d7b71167282f45",
       "version_major": 2,
       "version_minor": 0
      },
      "text/plain": [
       "Varying Uncertain Radius:   0%|          | 0/5 [00:00<?, ?it/s]"
      ]
     },
     "metadata": {},
     "output_type": "display_data"
    },
    {
     "data": {
      "application/vnd.jupyter.widget-view+json": {
       "model_id": "53ce477aaa644659bdf2a4a3fa7c91c0",
       "version_major": 2,
       "version_minor": 0
      },
      "text/plain": [
       "Varying Uncertain Radius:   0%|          | 0/5 [00:00<?, ?it/s]"
      ]
     },
     "metadata": {},
     "output_type": "display_data"
    },
    {
     "data": {
      "application/vnd.jupyter.widget-view+json": {
       "model_id": "e7f956a2813141d38d8dc85332afa3d2",
       "version_major": 2,
       "version_minor": 0
      },
      "text/plain": [
       "Varying Uncertain Radius:   0%|          | 0/5 [00:00<?, ?it/s]"
      ]
     },
     "metadata": {},
     "output_type": "display_data"
    },
    {
     "data": {
      "application/vnd.jupyter.widget-view+json": {
       "model_id": "3481777040d34279817e1d85a1a6a4d7",
       "version_major": 2,
       "version_minor": 0
      },
      "text/plain": [
       "Progess:   0%|          | 0/10 [00:00<?, ?it/s]"
      ]
     },
     "metadata": {},
     "output_type": "display_data"
    },
    {
     "data": {
      "application/vnd.jupyter.widget-view+json": {
       "model_id": "93bd20b9f6b44816a429e83b471e6666",
       "version_major": 2,
       "version_minor": 0
      },
      "text/plain": [
       "Varying Uncertain Radius:   0%|          | 0/5 [00:00<?, ?it/s]"
      ]
     },
     "metadata": {},
     "output_type": "display_data"
    },
    {
     "data": {
      "application/vnd.jupyter.widget-view+json": {
       "model_id": "18b14dea88f34c59848b580249dc4120",
       "version_major": 2,
       "version_minor": 0
      },
      "text/plain": [
       "Varying Uncertain Radius:   0%|          | 0/5 [00:00<?, ?it/s]"
      ]
     },
     "metadata": {},
     "output_type": "display_data"
    },
    {
     "data": {
      "application/vnd.jupyter.widget-view+json": {
       "model_id": "a8796102e7314a92bfe8d757f2996d8d",
       "version_major": 2,
       "version_minor": 0
      },
      "text/plain": [
       "Varying Uncertain Radius:   0%|          | 0/5 [00:00<?, ?it/s]"
      ]
     },
     "metadata": {},
     "output_type": "display_data"
    },
    {
     "data": {
      "application/vnd.jupyter.widget-view+json": {
       "model_id": "215b899509a34c37b01ce2f690776253",
       "version_major": 2,
       "version_minor": 0
      },
      "text/plain": [
       "Varying Uncertain Radius:   0%|          | 0/5 [00:00<?, ?it/s]"
      ]
     },
     "metadata": {},
     "output_type": "display_data"
    },
    {
     "data": {
      "application/vnd.jupyter.widget-view+json": {
       "model_id": "b3b93b97321e4aeba331d931268e4b55",
       "version_major": 2,
       "version_minor": 0
      },
      "text/plain": [
       "Varying Uncertain Radius:   0%|          | 0/5 [00:00<?, ?it/s]"
      ]
     },
     "metadata": {},
     "output_type": "display_data"
    },
    {
     "data": {
      "application/vnd.jupyter.widget-view+json": {
       "model_id": "a3b6077fb8884d2a9222b2f4aa2abd3a",
       "version_major": 2,
       "version_minor": 0
      },
      "text/plain": [
       "Varying Uncertain Radius:   0%|          | 0/5 [00:00<?, ?it/s]"
      ]
     },
     "metadata": {},
     "output_type": "display_data"
    },
    {
     "data": {
      "application/vnd.jupyter.widget-view+json": {
       "model_id": "48c25887d0cc4268942d278a2d4fa7da",
       "version_major": 2,
       "version_minor": 0
      },
      "text/plain": [
       "Varying Uncertain Radius:   0%|          | 0/5 [00:00<?, ?it/s]"
      ]
     },
     "metadata": {},
     "output_type": "display_data"
    },
    {
     "data": {
      "application/vnd.jupyter.widget-view+json": {
       "model_id": "97d69d0af11b4487992c8b396e059b7e",
       "version_major": 2,
       "version_minor": 0
      },
      "text/plain": [
       "Varying Uncertain Radius:   0%|          | 0/5 [00:00<?, ?it/s]"
      ]
     },
     "metadata": {},
     "output_type": "display_data"
    },
    {
     "data": {
      "application/vnd.jupyter.widget-view+json": {
       "model_id": "00b5f78fdb7f42d0991c39bf5a21b049",
       "version_major": 2,
       "version_minor": 0
      },
      "text/plain": [
       "Varying Uncertain Radius:   0%|          | 0/5 [00:00<?, ?it/s]"
      ]
     },
     "metadata": {},
     "output_type": "display_data"
    },
    {
     "data": {
      "application/vnd.jupyter.widget-view+json": {
       "model_id": "20ea636c03bc41b590f79d3b44c199e9",
       "version_major": 2,
       "version_minor": 0
      },
      "text/plain": [
       "Varying Uncertain Radius:   0%|          | 0/5 [00:00<?, ?it/s]"
      ]
     },
     "metadata": {},
     "output_type": "display_data"
    },
    {
     "data": {
      "application/vnd.jupyter.widget-view+json": {
       "model_id": "50fc19ce7b0644f5981d3e8a203d6f5d",
       "version_major": 2,
       "version_minor": 0
      },
      "text/plain": [
       "Progess:   0%|          | 0/10 [00:00<?, ?it/s]"
      ]
     },
     "metadata": {},
     "output_type": "display_data"
    },
    {
     "data": {
      "application/vnd.jupyter.widget-view+json": {
       "model_id": "d7cbb8c2b4e54ace8ea933a538be6215",
       "version_major": 2,
       "version_minor": 0
      },
      "text/plain": [
       "Varying Uncertain Radius:   0%|          | 0/5 [00:00<?, ?it/s]"
      ]
     },
     "metadata": {},
     "output_type": "display_data"
    },
    {
     "data": {
      "application/vnd.jupyter.widget-view+json": {
       "model_id": "548d8f3c59944f629326bcac3fbdeb31",
       "version_major": 2,
       "version_minor": 0
      },
      "text/plain": [
       "Varying Uncertain Radius:   0%|          | 0/5 [00:00<?, ?it/s]"
      ]
     },
     "metadata": {},
     "output_type": "display_data"
    },
    {
     "data": {
      "application/vnd.jupyter.widget-view+json": {
       "model_id": "9e4bff486ebf4104a1db56ad8b11a08e",
       "version_major": 2,
       "version_minor": 0
      },
      "text/plain": [
       "Varying Uncertain Radius:   0%|          | 0/5 [00:00<?, ?it/s]"
      ]
     },
     "metadata": {},
     "output_type": "display_data"
    },
    {
     "data": {
      "application/vnd.jupyter.widget-view+json": {
       "model_id": "bbbc2bcaef6a42239b031ff7e8d3e94e",
       "version_major": 2,
       "version_minor": 0
      },
      "text/plain": [
       "Varying Uncertain Radius:   0%|          | 0/5 [00:00<?, ?it/s]"
      ]
     },
     "metadata": {},
     "output_type": "display_data"
    },
    {
     "data": {
      "application/vnd.jupyter.widget-view+json": {
       "model_id": "895daac8b0004f4896dbb8c06095de20",
       "version_major": 2,
       "version_minor": 0
      },
      "text/plain": [
       "Varying Uncertain Radius:   0%|          | 0/5 [00:00<?, ?it/s]"
      ]
     },
     "metadata": {},
     "output_type": "display_data"
    },
    {
     "data": {
      "application/vnd.jupyter.widget-view+json": {
       "model_id": "f06a79479c9242018d611e925dfd8445",
       "version_major": 2,
       "version_minor": 0
      },
      "text/plain": [
       "Varying Uncertain Radius:   0%|          | 0/5 [00:00<?, ?it/s]"
      ]
     },
     "metadata": {},
     "output_type": "display_data"
    },
    {
     "data": {
      "application/vnd.jupyter.widget-view+json": {
       "model_id": "7f3cbc7154cd4675949813bf4f66197c",
       "version_major": 2,
       "version_minor": 0
      },
      "text/plain": [
       "Varying Uncertain Radius:   0%|          | 0/5 [00:00<?, ?it/s]"
      ]
     },
     "metadata": {},
     "output_type": "display_data"
    },
    {
     "data": {
      "application/vnd.jupyter.widget-view+json": {
       "model_id": "84821110acbe4baeaa7c17c629855ab7",
       "version_major": 2,
       "version_minor": 0
      },
      "text/plain": [
       "Varying Uncertain Radius:   0%|          | 0/5 [00:00<?, ?it/s]"
      ]
     },
     "metadata": {},
     "output_type": "display_data"
    },
    {
     "data": {
      "application/vnd.jupyter.widget-view+json": {
       "model_id": "948981d8cc014a3a9a308bac51486537",
       "version_major": 2,
       "version_minor": 0
      },
      "text/plain": [
       "Varying Uncertain Radius:   0%|          | 0/5 [00:00<?, ?it/s]"
      ]
     },
     "metadata": {},
     "output_type": "display_data"
    },
    {
     "data": {
      "application/vnd.jupyter.widget-view+json": {
       "model_id": "ab093116857b4f15980295577189429a",
       "version_major": 2,
       "version_minor": 0
      },
      "text/plain": [
       "Varying Uncertain Radius:   0%|          | 0/5 [00:00<?, ?it/s]"
      ]
     },
     "metadata": {},
     "output_type": "display_data"
    },
    {
     "data": {
      "application/vnd.jupyter.widget-view+json": {
       "model_id": "2ac42a5a531e46798f4831b6af0b8ad6",
       "version_major": 2,
       "version_minor": 0
      },
      "text/plain": [
       "Progess:   0%|          | 0/10 [00:00<?, ?it/s]"
      ]
     },
     "metadata": {},
     "output_type": "display_data"
    },
    {
     "data": {
      "application/vnd.jupyter.widget-view+json": {
       "model_id": "20b05df5ae2441369e32d16bc118b504",
       "version_major": 2,
       "version_minor": 0
      },
      "text/plain": [
       "Varying Uncertain Radius:   0%|          | 0/5 [00:00<?, ?it/s]"
      ]
     },
     "metadata": {},
     "output_type": "display_data"
    },
    {
     "data": {
      "application/vnd.jupyter.widget-view+json": {
       "model_id": "47284063390a49989c628bf0ba3009f7",
       "version_major": 2,
       "version_minor": 0
      },
      "text/plain": [
       "Varying Uncertain Radius:   0%|          | 0/5 [00:00<?, ?it/s]"
      ]
     },
     "metadata": {},
     "output_type": "display_data"
    },
    {
     "data": {
      "application/vnd.jupyter.widget-view+json": {
       "model_id": "e1c71c9acacb4daa831be0f7c00150c4",
       "version_major": 2,
       "version_minor": 0
      },
      "text/plain": [
       "Varying Uncertain Radius:   0%|          | 0/5 [00:00<?, ?it/s]"
      ]
     },
     "metadata": {},
     "output_type": "display_data"
    },
    {
     "data": {
      "application/vnd.jupyter.widget-view+json": {
       "model_id": "b03fb2273c9641838f3d94855cbeada0",
       "version_major": 2,
       "version_minor": 0
      },
      "text/plain": [
       "Varying Uncertain Radius:   0%|          | 0/5 [00:00<?, ?it/s]"
      ]
     },
     "metadata": {},
     "output_type": "display_data"
    },
    {
     "data": {
      "application/vnd.jupyter.widget-view+json": {
       "model_id": "5e9222648dd54ab3b6f31db761267891",
       "version_major": 2,
       "version_minor": 0
      },
      "text/plain": [
       "Varying Uncertain Radius:   0%|          | 0/5 [00:00<?, ?it/s]"
      ]
     },
     "metadata": {},
     "output_type": "display_data"
    },
    {
     "data": {
      "application/vnd.jupyter.widget-view+json": {
       "model_id": "a689cf6e69ad473fb2fe3ffc74155471",
       "version_major": 2,
       "version_minor": 0
      },
      "text/plain": [
       "Varying Uncertain Radius:   0%|          | 0/5 [00:00<?, ?it/s]"
      ]
     },
     "metadata": {},
     "output_type": "display_data"
    },
    {
     "data": {
      "application/vnd.jupyter.widget-view+json": {
       "model_id": "c1bda9d79afb4813b5d950fb908766cc",
       "version_major": 2,
       "version_minor": 0
      },
      "text/plain": [
       "Varying Uncertain Radius:   0%|          | 0/5 [00:00<?, ?it/s]"
      ]
     },
     "metadata": {},
     "output_type": "display_data"
    },
    {
     "data": {
      "application/vnd.jupyter.widget-view+json": {
       "model_id": "728c6fb52abc4772be66b09d2d5452e3",
       "version_major": 2,
       "version_minor": 0
      },
      "text/plain": [
       "Varying Uncertain Radius:   0%|          | 0/5 [00:00<?, ?it/s]"
      ]
     },
     "metadata": {},
     "output_type": "display_data"
    },
    {
     "data": {
      "application/vnd.jupyter.widget-view+json": {
       "model_id": "3dc908281b0645d1bb9d0d381c5d8d05",
       "version_major": 2,
       "version_minor": 0
      },
      "text/plain": [
       "Varying Uncertain Radius:   0%|          | 0/5 [00:00<?, ?it/s]"
      ]
     },
     "metadata": {},
     "output_type": "display_data"
    },
    {
     "data": {
      "application/vnd.jupyter.widget-view+json": {
       "model_id": "27a69a0b9ea348c6830c66f4e476ecd1",
       "version_major": 2,
       "version_minor": 0
      },
      "text/plain": [
       "Varying Uncertain Radius:   0%|          | 0/5 [00:00<?, ?it/s]"
      ]
     },
     "metadata": {},
     "output_type": "display_data"
    }
   ],
   "source": [
    "robustness_dicts_interval = []\n",
    "for seed in range(5):\n",
    "    # mpg +- 2 is robust\n",
    "    robustness_radius = 2\n",
    "    label_range = (y_train.max()-y_train.min())\n",
    "    ratios = [0.05, 0.10, 0.15, 0.2, 0.25]\n",
    "    uncertain_radiuses = [ratio*label_range for ratio in ratios]\n",
    "    uncertain_pcts = list(np.arange(1, 11)/100)\n",
    "    robustness_dict_interval = dict()\n",
    "    robustness_dict_interval['uncertain_radius'] = uncertain_radiuses\n",
    "    robustness_dict_interval['uncertain_radius_ratios'] = ratios\n",
    "    for uncertain_pct in tqdm(uncertain_pcts, desc='Progess'):\n",
    "        robustness_dict_interval[uncertain_pct] = list()\n",
    "        uncertain_num = int(uncertain_pct*len(y_train))\n",
    "        for uncertain_radius in tqdm(uncertain_radiuses, desc=f'Varying Uncertain Radius'):\n",
    "            robustness_ratio = compute_robustness_ratio_label_error(X_train, y_train, X_test, y_test, \n",
    "                                                                    uncertain_num=uncertain_num, \n",
    "                                                                    uncertain_radius=uncertain_radius, \n",
    "                                                                    robustness_radius=robustness_radius, \n",
    "                                                                    interval=True, seed=seed)\n",
    "            robustness_dict_interval[uncertain_pct].append(robustness_ratio)\n",
    "    robustness_dicts_interval.append(robustness_dict_interval)"
   ]
  },
  {
   "cell_type": "code",
   "execution_count": 15,
   "id": "d8e5d26a",
   "metadata": {},
   "outputs": [
    {
     "name": "stdout",
     "output_type": "stream",
     "text": [
      "Execution time: 188.16305303573608 seconds\n"
     ]
    }
   ],
   "source": [
    "end_time = time.time()\n",
    "\n",
    "execution_time = end_time - start_time\n",
    "print(f\"Execution time: {execution_time} seconds\")"
   ]
  },
  {
   "cell_type": "code",
   "execution_count": 16,
   "id": "10620d49",
   "metadata": {
    "ExecuteTime": {
     "end_time": "2024-05-22T00:20:13.772883Z",
     "start_time": "2024-05-22T00:20:13.742573Z"
    }
   },
   "outputs": [
    {
     "data": {
      "text/html": [
       "<div>\n",
       "<style scoped>\n",
       "    .dataframe tbody tr th:only-of-type {\n",
       "        vertical-align: middle;\n",
       "    }\n",
       "\n",
       "    .dataframe tbody tr th {\n",
       "        vertical-align: top;\n",
       "    }\n",
       "\n",
       "    .dataframe thead th {\n",
       "        text-align: right;\n",
       "    }\n",
       "</style>\n",
       "<table border=\"1\" class=\"dataframe\">\n",
       "  <thead>\n",
       "    <tr style=\"text-align: right;\">\n",
       "      <th></th>\n",
       "      <th>uncertain_radius</th>\n",
       "      <th>uncertain_radius_ratios</th>\n",
       "      <th>0.01</th>\n",
       "      <th>0.02</th>\n",
       "      <th>0.03</th>\n",
       "      <th>0.04</th>\n",
       "      <th>0.05</th>\n",
       "      <th>0.06</th>\n",
       "      <th>0.07</th>\n",
       "      <th>0.08</th>\n",
       "      <th>0.09</th>\n",
       "      <th>0.1</th>\n",
       "    </tr>\n",
       "  </thead>\n",
       "  <tbody>\n",
       "    <tr>\n",
       "      <th>0</th>\n",
       "      <td>1.88</td>\n",
       "      <td>0.05</td>\n",
       "      <td>1.000</td>\n",
       "      <td>1.0000</td>\n",
       "      <td>1.0000</td>\n",
       "      <td>0.9750</td>\n",
       "      <td>0.8750</td>\n",
       "      <td>0.675</td>\n",
       "      <td>0.6000</td>\n",
       "      <td>0.5500</td>\n",
       "      <td>0.4250</td>\n",
       "      <td>0.3750</td>\n",
       "    </tr>\n",
       "    <tr>\n",
       "      <th>1</th>\n",
       "      <td>3.76</td>\n",
       "      <td>0.10</td>\n",
       "      <td>1.000</td>\n",
       "      <td>1.0000</td>\n",
       "      <td>0.8875</td>\n",
       "      <td>0.6125</td>\n",
       "      <td>0.3750</td>\n",
       "      <td>0.200</td>\n",
       "      <td>0.1125</td>\n",
       "      <td>0.0875</td>\n",
       "      <td>0.0625</td>\n",
       "      <td>0.0375</td>\n",
       "    </tr>\n",
       "    <tr>\n",
       "      <th>2</th>\n",
       "      <td>5.64</td>\n",
       "      <td>0.15</td>\n",
       "      <td>1.000</td>\n",
       "      <td>0.9375</td>\n",
       "      <td>0.5625</td>\n",
       "      <td>0.3125</td>\n",
       "      <td>0.1125</td>\n",
       "      <td>0.050</td>\n",
       "      <td>0.0250</td>\n",
       "      <td>0.0000</td>\n",
       "      <td>0.0000</td>\n",
       "      <td>0.0000</td>\n",
       "    </tr>\n",
       "    <tr>\n",
       "      <th>3</th>\n",
       "      <td>7.52</td>\n",
       "      <td>0.20</td>\n",
       "      <td>1.000</td>\n",
       "      <td>0.7375</td>\n",
       "      <td>0.3375</td>\n",
       "      <td>0.1375</td>\n",
       "      <td>0.0375</td>\n",
       "      <td>0.000</td>\n",
       "      <td>0.0000</td>\n",
       "      <td>0.0000</td>\n",
       "      <td>0.0000</td>\n",
       "      <td>0.0000</td>\n",
       "    </tr>\n",
       "    <tr>\n",
       "      <th>4</th>\n",
       "      <td>9.40</td>\n",
       "      <td>0.25</td>\n",
       "      <td>0.975</td>\n",
       "      <td>0.5375</td>\n",
       "      <td>0.2000</td>\n",
       "      <td>0.0500</td>\n",
       "      <td>0.0000</td>\n",
       "      <td>0.000</td>\n",
       "      <td>0.0000</td>\n",
       "      <td>0.0000</td>\n",
       "      <td>0.0000</td>\n",
       "      <td>0.0000</td>\n",
       "    </tr>\n",
       "  </tbody>\n",
       "</table>\n",
       "</div>"
      ],
      "text/plain": [
       "   uncertain_radius  uncertain_radius_ratios   0.01    0.02    0.03    0.04  \\\n",
       "0              1.88                     0.05  1.000  1.0000  1.0000  0.9750   \n",
       "1              3.76                     0.10  1.000  1.0000  0.8875  0.6125   \n",
       "2              5.64                     0.15  1.000  0.9375  0.5625  0.3125   \n",
       "3              7.52                     0.20  1.000  0.7375  0.3375  0.1375   \n",
       "4              9.40                     0.25  0.975  0.5375  0.2000  0.0500   \n",
       "\n",
       "     0.05   0.06    0.07    0.08    0.09     0.1  \n",
       "0  0.8750  0.675  0.6000  0.5500  0.4250  0.3750  \n",
       "1  0.3750  0.200  0.1125  0.0875  0.0625  0.0375  \n",
       "2  0.1125  0.050  0.0250  0.0000  0.0000  0.0000  \n",
       "3  0.0375  0.000  0.0000  0.0000  0.0000  0.0000  \n",
       "4  0.0000  0.000  0.0000  0.0000  0.0000  0.0000  "
      ]
     },
     "execution_count": 16,
     "metadata": {},
     "output_type": "execute_result"
    }
   ],
   "source": [
    "pd.DataFrame(robustness_dicts_interval[0])"
   ]
  },
  {
   "cell_type": "code",
   "execution_count": 17,
   "id": "b93018cf",
   "metadata": {
    "ExecuteTime": {
     "end_time": "2024-05-22T00:41:32.199932Z",
     "start_time": "2024-05-22T00:41:32.172348Z"
    }
   },
   "outputs": [],
   "source": [
    "robustness_interval_mean = sum([pd.DataFrame(robustness_dicts_interval[i]).iloc[:, 2:] for i in range(5)])/5\n",
    "robustness_interval_std = (sum([(pd.DataFrame(robustness_dicts_interval[i]).iloc[:, 2:]-robustness_interval_mean)**2 for i in range(5)])/5).apply(np.sqrt)\n"
   ]
  },
  {
   "cell_type": "code",
   "execution_count": 18,
   "id": "29bc96ad",
   "metadata": {
    "ExecuteTime": {
     "end_time": "2024-05-22T07:08:58.747337Z",
     "start_time": "2024-05-22T07:08:58.740006Z"
    }
   },
   "outputs": [],
   "source": [
    "robustness_zonotope_mean = sum([pd.DataFrame(robustness_dicts[i]).iloc[:, 2:] for i in range(5)])/5\n",
    "robustness_zonotope_std = (sum([(pd.DataFrame(robustness_dicts[i]).iloc[:, 2:]-robustness_zonotope_mean)**2 for i in range(5)])/5).apply(np.sqrt)\n"
   ]
  },
  {
   "cell_type": "code",
   "execution_count": 19,
   "id": "a9692039",
   "metadata": {
    "ExecuteTime": {
     "end_time": "2024-05-22T07:08:59.811976Z",
     "start_time": "2024-05-22T07:08:58.772683Z"
    },
    "code_folding": [
     0
    ]
   },
   "outputs": [
    {
     "data": {
      "image/png": "[encoded data removed]",
      "text/plain": [
       "<Figure size 3000x600 with 3 Axes>"
      ]
     },
     "metadata": {
      "needs_background": "light"
     },
     "output_type": "display_data"
    }
   ],
   "source": [
    "# Heatmaps\n",
    "df = robustness_interval_mean\n",
    "\n",
    "# Isolate the portion of the DataFrame for heatmap (exclude the first two columns)\n",
    "heatmap_data = df.multiply(100).values  # Convert fractions to percentages\n",
    "\n",
    "# Labels for x-axis and y-axis\n",
    "x_labels = df.columns.tolist()\n",
    "y_labels = [0.05, 0.10, 0.15, 0.2, 0.25]\n",
    "\n",
    "# Create the heatmap plot\n",
    "# fig, (ax1, ax2) = plt.subplots(1, 2, figsize=(16, 4), sharey=True, dpi=200)\n",
    "fig, (ax1, ax2) = plt.subplots(1, 2, figsize=(15, 3), dpi=200)\n",
    "# cmap = plt.get_cmap(\"coolwarm\")\n",
    "cmap = plt.get_cmap(\"autumn_r\")\n",
    "heatmap = ax1.imshow(heatmap_data, cmap=cmap, interpolation='nearest', aspect='auto', \n",
    "                     alpha=0.8, vmin=0, vmax=100)\n",
    "\n",
    "# Add color bar\n",
    "# cbar = plt.colorbar(heatmap, ax=ax1)\n",
    "# cbar.set_label('% Percentage')\n",
    "\n",
    "# Add white lines by adjusting the linewidth for minor ticks to create separation\n",
    "ax1.set_xticks(np.arange(len(x_labels)) - 0.5, minor=True)\n",
    "ax1.set_yticks(np.arange(len(y_labels)) - 0.5, minor=True)\n",
    "ax1.grid(which=\"minor\", color=\"white\", linestyle='-', linewidth=0.5)\n",
    "ax1.tick_params(which=\"minor\", size=0)\n",
    "\n",
    "# Set major ticks for labels without ticks\n",
    "ax1.set_xticks(np.arange(len(x_labels)))\n",
    "ax1.set_yticks(np.arange(len(y_labels)))\n",
    "ax1.set_xticklabels(x_labels)\n",
    "ax1.set_yticklabels(y_labels)\n",
    "ax1.tick_params(axis='both', which='both', length=0)  # Remove tick marks\n",
    "\n",
    "# Remove external boundaries\n",
    "ax1.spines['top'].set_visible(False)\n",
    "ax1.spines['right'].set_visible(False)\n",
    "ax1.spines['left'].set_visible(False)\n",
    "ax1.spines['bottom'].set_visible(False)\n",
    "\n",
    "# Set axis labels\n",
    "ax1.set_xlabel('Percentage of Uncertain Data', fontsize=12)\n",
    "ax1.set_ylabel('Uncertain Radius (%)', fontsize=12)\n",
    "\n",
    "# Add text annotations\n",
    "for i in range(len(y_labels)):\n",
    "    for j in range(len(x_labels)):\n",
    "        if heatmap_data[i][j]==100:\n",
    "            text = ax1.text(j, i, f'{heatmap_data[i][j]:.0f}', ha='center', va='center', color='black')\n",
    "        elif heatmap_data[i][j]==0:\n",
    "            text = ax1.text(j, i, '0', ha='center', va='center', color='black')\n",
    "        else:\n",
    "            text = ax1.text(j, i, f'{heatmap_data[i][j]:.1f}', ha='center', va='center', color='black')\n",
    "ax1.set_title('Meyer et al.')\n",
    "\n",
    "df = robustness_zonotope_mean\n",
    "\n",
    "# Isolate the portion of the DataFrame for heatmap (exclude the first two columns)\n",
    "heatmap_data = df.multiply(100).values  # Convert fractions to percentages\n",
    "heatmap2 = ax2.imshow(heatmap_data, cmap=cmap, interpolation='nearest', \n",
    "                      aspect='auto', alpha=0.8, vmin=0, vmax=100)\n",
    "\n",
    "# Add color bar\n",
    "# cbar.set_label('% Percentage')\n",
    "\n",
    "# Add white lines by adjusting the linewidth for minor ticks to create separation\n",
    "ax2.set_xticks(np.arange(len(x_labels)) - 0.5, minor=True)\n",
    "ax2.set_yticks(np.arange(len(y_labels)) - 0.5, minor=True)\n",
    "ax2.grid(which=\"minor\", color=\"white\", linestyle='-', linewidth=0.5)\n",
    "ax2.tick_params(which=\"minor\", size=0)\n",
    "\n",
    "# Set major ticks for labels without ticks\n",
    "ax2.set_xticks(np.arange(len(x_labels)))\n",
    "ax2.set_yticks(np.arange(len(y_labels)))\n",
    "ax2.set_xticklabels(x_labels)\n",
    "ax2.set_yticklabels(y_labels)\n",
    "ax2.tick_params(axis='both', which='both', length=0)  # Remove tick marks\n",
    "\n",
    "# Remove external boundaries\n",
    "ax2.spines['top'].set_visible(False)\n",
    "ax2.spines['right'].set_visible(False)\n",
    "ax2.spines['left'].set_visible(False)\n",
    "ax2.spines['bottom'].set_visible(False)\n",
    "\n",
    "# Set axis labels\n",
    "ax2.set_xlabel('Percentage of Uncertain Data', fontsize=12)\n",
    "ax2.set_ylabel('Uncertain Radius (%)', fontsize=12)\n",
    "\n",
    "# Add text annotations\n",
    "for i in range(len(y_labels)):\n",
    "    for j in range(len(x_labels)):\n",
    "        if heatmap_data[i][j]==100:\n",
    "            text = ax2.text(j, i, '100', ha='center', va='center', color='black')\n",
    "        elif heatmap_data[i][j]==0:\n",
    "            text = ax2.text(j, i, '0', ha='center', va='center', color='black')\n",
    "        else:\n",
    "            text = ax2.text(j, i, f'{np.around(heatmap_data[i][j], 1)}', ha='center', \n",
    "                            va='center', color='black')\n",
    "ax2.set_title('ZORRO')\n",
    "\n",
    "# fig.suptitle('Robustness Ratio (%)', fontsize=14)\n",
    "plt.subplots_adjust(wspace=0.2, bottom=0.2, left=0.1, right=0.9)\n",
    "cb = fig.colorbar(heatmap2, ax=(ax1, ax2), orientation='vertical', pad=0.02)\n",
    "cb.set_label('Robustness Ratio (%)', fontsize=12)\n",
    "plt.savefig('mpg-heatmap.pdf', bbox_inches='tight')"
   ]
  },
  {
   "cell_type": "code",
   "execution_count": 20,
   "id": "227d6711",
   "metadata": {
    "ExecuteTime": {
     "end_time": "2024-05-22T00:54:10.789582Z",
     "start_time": "2024-05-22T00:54:09.011388Z"
    }
   },
   "outputs": [
    {
     "data": {
      "image/png": "[encoded data removed]",
      "text/plain": [
       "<Figure size 2400x400 with 4 Axes>"
      ]
     },
     "metadata": {
      "needs_background": "light"
     },
     "output_type": "display_data"
    }
   ],
   "source": [
    "uncertain_pcts = np.array([0, 0.01, 0.02, 0.03, 0.04, 0.05, 0.06, 0.07, 0.08, 0.09, 0.1])*100\n",
    "uncertain_radius_ratios = [0.05, 0.10, 0.15, 0.2, 0.25]\n",
    "\n",
    "zonotope_data_mean_dict = dict()\n",
    "zonotope_data_std_dict = dict()\n",
    "for i, radius_ratio in enumerate(uncertain_radius_ratios):\n",
    "    zonotope_data_mean_dict[radius_ratio] = np.append([1], robustness_zonotope_mean.iloc[i, :].to_numpy())\n",
    "    zonotope_data_std_dict[radius_ratio] = np.append([0], robustness_zonotope_std.iloc[i, :].to_numpy())\n",
    "\n",
    "interval_data_mean_dict = dict()\n",
    "interval_data_std_dict = dict()\n",
    "for i, radius_ratio in enumerate(uncertain_radius_ratios):\n",
    "    interval_data_mean_dict[radius_ratio] = np.append([1], robustness_interval_mean.iloc[i, :].to_numpy())\n",
    "    interval_data_std_dict[radius_ratio] = np.append([0], robustness_interval_std.iloc[i, :].to_numpy())\n",
    "    \n",
    "fig, axes = plt.subplots(nrows=1, ncols=4, figsize=(12, 2), sharex=True, dpi=200)\n",
    "\n",
    "for i in range(4):\n",
    "    uncertain_radius_ratio = uncertain_radius_ratios[i]\n",
    "    axes[i].errorbar(uncertain_pcts, zonotope_data_mean_dict[uncertain_radius_ratio],\n",
    "                     yerr=3*zonotope_data_std_dict[uncertain_radius_ratio],\n",
    "                     marker='o', color='red', label='ZORRO', linestyle='-')\n",
    "    axes[i].errorbar(uncertain_pcts, interval_data_mean_dict[uncertain_radius_ratio],\n",
    "                     yerr=3*interval_data_std_dict[uncertain_radius_ratio],\n",
    "                     marker='s', color='green', label='Meyer et al.', linestyle='--')\n",
    "    axes[i].set_title(f'Uncertain Radius: {int(uncertain_radius_ratio*100)} %')\n",
    "    if i == 0:\n",
    "        axes[i].set_ylabel('Robustness Ratio', fontsize=12)\n",
    "    axes[i].set_ylim(-0.05, 1.05)\n",
    "    axes[i].grid(True)\n",
    "\n",
    "# Adjust layout\n",
    "lines_labels = [axes[0].get_legend_handles_labels()]\n",
    "lines, labels = [sum(lol, []) for lol in zip(*lines_labels)]\n",
    "fig.legend(lines, labels, loc = (0.73, 0.03), ncol=2, frameon=False)\n",
    "\n",
    "plt.subplots_adjust(wspace=0.2, top=0.8, bottom=0.25, left=0.1, right=0.9)\n",
    "fig.supxlabel('Uncertain Data Percentage (%)', fontsize=12, verticalalignment='bottom')\n",
    "# plt.tight_layout()\n",
    "# plt.show()\n",
    "plt.savefig('mpg-labels-lineplot.pdf', bbox_inches='tight')"
   ]
  },
  {
   "cell_type": "code",
   "execution_count": null,
   "id": "53cfb55f",
   "metadata": {},
   "outputs": [],
   "source": []
  },
  {
   "cell_type": "markdown",
   "id": "de25a109",
   "metadata": {},
   "source": [
    "### Uncertain Features"
   ]
  },
  {
   "cell_type": "code",
   "execution_count": 21,
   "id": "7c7c36af",
   "metadata": {},
   "outputs": [],
   "source": [
    "start_time = time.time()"
   ]
  },
  {
   "cell_type": "code",
   "execution_count": 22,
   "id": "f7cb4fd4",
   "metadata": {
    "ExecuteTime": {
     "end_time": "2024-05-22T01:34:21.109745Z",
     "start_time": "2024-05-22T00:54:31.634021Z"
    },
    "scrolled": false
   },
   "outputs": [
    {
     "data": {
      "application/vnd.jupyter.widget-view+json": {
       "model_id": "b353e9c5a42843dd83ee5b8d62dca0f8",
       "version_major": 2,
       "version_minor": 0
      },
      "text/plain": [
       "Progess:   0%|          | 0/10 [00:00<?, ?it/s]"
      ]
     },
     "metadata": {},
     "output_type": "display_data"
    },
    {
     "data": {
      "application/vnd.jupyter.widget-view+json": {
       "model_id": "c8424cb9f1404d70af36d4a46f7f5bd9",
       "version_major": 2,
       "version_minor": 0
      },
      "text/plain": [
       "Uncertain Data PCT: 0.01:   0%|          | 0/4 [00:00<?, ?it/s]"
      ]
     },
     "metadata": {},
     "output_type": "display_data"
    },
    {
     "data": {
      "application/vnd.jupyter.widget-view+json": {
       "model_id": "03b2f715295d4648b53c5c8b7ef7c6d8",
       "version_major": 2,
       "version_minor": 0
      },
      "text/plain": [
       "Uncertain Data PCT: 0.02:   0%|          | 0/4 [00:00<?, ?it/s]"
      ]
     },
     "metadata": {},
     "output_type": "display_data"
    },
    {
     "data": {
      "application/vnd.jupyter.widget-view+json": {
       "model_id": "bddc91d168db495f83457a9f899ef73e",
       "version_major": 2,
       "version_minor": 0
      },
      "text/plain": [
       "Uncertain Data PCT: 0.03:   0%|          | 0/4 [00:00<?, ?it/s]"
      ]
     },
     "metadata": {},
     "output_type": "display_data"
    },
    {
     "data": {
      "application/vnd.jupyter.widget-view+json": {
       "model_id": "96899d051e9f498eaa57b94a81fd59f1",
       "version_major": 2,
       "version_minor": 0
      },
      "text/plain": [
       "Uncertain Data PCT: 0.04:   0%|          | 0/4 [00:00<?, ?it/s]"
      ]
     },
     "metadata": {},
     "output_type": "display_data"
    },
    {
     "data": {
      "application/vnd.jupyter.widget-view+json": {
       "model_id": "6bfa54a8734c4a5e9ec634c3cfae4d14",
       "version_major": 2,
       "version_minor": 0
      },
      "text/plain": [
       "Uncertain Data PCT: 0.05:   0%|          | 0/4 [00:00<?, ?it/s]"
      ]
     },
     "metadata": {},
     "output_type": "display_data"
    },
    {
     "data": {
      "application/vnd.jupyter.widget-view+json": {
       "model_id": "50d6fe4d9918428bb073633b6ba61a8d",
       "version_major": 2,
       "version_minor": 0
      },
      "text/plain": [
       "Uncertain Data PCT: 0.06:   0%|          | 0/4 [00:00<?, ?it/s]"
      ]
     },
     "metadata": {},
     "output_type": "display_data"
    },
    {
     "data": {
      "application/vnd.jupyter.widget-view+json": {
       "model_id": "c4ec7c368aa542378d0af0dd63b410c0",
       "version_major": 2,
       "version_minor": 0
      },
      "text/plain": [
       "Uncertain Data PCT: 0.07:   0%|          | 0/4 [00:00<?, ?it/s]"
      ]
     },
     "metadata": {},
     "output_type": "display_data"
    },
    {
     "data": {
      "application/vnd.jupyter.widget-view+json": {
       "model_id": "70cbe217647c4bb68412ab5cf573ebf1",
       "version_major": 2,
       "version_minor": 0
      },
      "text/plain": [
       "Uncertain Data PCT: 0.08:   0%|          | 0/4 [00:00<?, ?it/s]"
      ]
     },
     "metadata": {},
     "output_type": "display_data"
    },
    {
     "data": {
      "application/vnd.jupyter.widget-view+json": {
       "model_id": "a8a7e2b1258a4cd19a92f6a4cde19a18",
       "version_major": 2,
       "version_minor": 0
      },
      "text/plain": [
       "Uncertain Data PCT: 0.09:   0%|          | 0/4 [00:00<?, ?it/s]"
      ]
     },
     "metadata": {},
     "output_type": "display_data"
    },
    {
     "data": {
      "application/vnd.jupyter.widget-view+json": {
       "model_id": "aaaf626b4b3b4ae787fa2af18c3a0a23",
       "version_major": 2,
       "version_minor": 0
      },
      "text/plain": [
       "Uncertain Data PCT: 0.1:   0%|          | 0/4 [00:00<?, ?it/s]"
      ]
     },
     "metadata": {},
     "output_type": "display_data"
    },
    {
     "data": {
      "application/vnd.jupyter.widget-view+json": {
       "model_id": "52f20d9e7092406cbaf6c547d77646e8",
       "version_major": 2,
       "version_minor": 0
      },
      "text/plain": [
       "Progess:   0%|          | 0/10 [00:00<?, ?it/s]"
      ]
     },
     "metadata": {},
     "output_type": "display_data"
    },
    {
     "data": {
      "application/vnd.jupyter.widget-view+json": {
       "model_id": "26a503acba6a44a7a89a06d9eb0e76a0",
       "version_major": 2,
       "version_minor": 0
      },
      "text/plain": [
       "Uncertain Data PCT: 0.01:   0%|          | 0/4 [00:00<?, ?it/s]"
      ]
     },
     "metadata": {},
     "output_type": "display_data"
    },
    {
     "data": {
      "application/vnd.jupyter.widget-view+json": {
       "model_id": "9d887f501fa84dbbaa363f595cd9839a",
       "version_major": 2,
       "version_minor": 0
      },
      "text/plain": [
       "Uncertain Data PCT: 0.02:   0%|          | 0/4 [00:00<?, ?it/s]"
      ]
     },
     "metadata": {},
     "output_type": "display_data"
    },
    {
     "data": {
      "application/vnd.jupyter.widget-view+json": {
       "model_id": "137d180f65f240c2a462215665af89a3",
       "version_major": 2,
       "version_minor": 0
      },
      "text/plain": [
       "Uncertain Data PCT: 0.03:   0%|          | 0/4 [00:00<?, ?it/s]"
      ]
     },
     "metadata": {},
     "output_type": "display_data"
    },
    {
     "data": {
      "application/vnd.jupyter.widget-view+json": {
       "model_id": "e5cf001978834521b36087500d850b86",
       "version_major": 2,
       "version_minor": 0
      },
      "text/plain": [
       "Uncertain Data PCT: 0.04:   0%|          | 0/4 [00:00<?, ?it/s]"
      ]
     },
     "metadata": {},
     "output_type": "display_data"
    },
    {
     "data": {
      "application/vnd.jupyter.widget-view+json": {
       "model_id": "098493d94af94b828537f25118990527",
       "version_major": 2,
       "version_minor": 0
      },
      "text/plain": [
       "Uncertain Data PCT: 0.05:   0%|          | 0/4 [00:00<?, ?it/s]"
      ]
     },
     "metadata": {},
     "output_type": "display_data"
    },
    {
     "data": {
      "application/vnd.jupyter.widget-view+json": {
       "model_id": "74955dbf733f4fd0918fcdaa018698ba",
       "version_major": 2,
       "version_minor": 0
      },
      "text/plain": [
       "Uncertain Data PCT: 0.06:   0%|          | 0/4 [00:00<?, ?it/s]"
      ]
     },
     "metadata": {},
     "output_type": "display_data"
    },
    {
     "data": {
      "application/vnd.jupyter.widget-view+json": {
       "model_id": "c742baebb90c402798335f005ff5ddc3",
       "version_major": 2,
       "version_minor": 0
      },
      "text/plain": [
       "Uncertain Data PCT: 0.07:   0%|          | 0/4 [00:00<?, ?it/s]"
      ]
     },
     "metadata": {},
     "output_type": "display_data"
    },
    {
     "data": {
      "application/vnd.jupyter.widget-view+json": {
       "model_id": "26d0002434c346cc9a0bd322c2c0df0a",
       "version_major": 2,
       "version_minor": 0
      },
      "text/plain": [
       "Uncertain Data PCT: 0.08:   0%|          | 0/4 [00:00<?, ?it/s]"
      ]
     },
     "metadata": {},
     "output_type": "display_data"
    },
    {
     "data": {
      "application/vnd.jupyter.widget-view+json": {
       "model_id": "440090e5952447fda0e85865fa42be26",
       "version_major": 2,
       "version_minor": 0
      },
      "text/plain": [
       "Uncertain Data PCT: 0.09:   0%|          | 0/4 [00:00<?, ?it/s]"
      ]
     },
     "metadata": {},
     "output_type": "display_data"
    },
    {
     "data": {
      "application/vnd.jupyter.widget-view+json": {
       "model_id": "fa3450e43a4640c29714cb65c44ff4fe",
       "version_major": 2,
       "version_minor": 0
      },
      "text/plain": [
       "Uncertain Data PCT: 0.1:   0%|          | 0/4 [00:00<?, ?it/s]"
      ]
     },
     "metadata": {},
     "output_type": "display_data"
    },
    {
     "data": {
      "application/vnd.jupyter.widget-view+json": {
       "model_id": "f97aca9174c146129f1e1d70aee6a5f9",
       "version_major": 2,
       "version_minor": 0
      },
      "text/plain": [
       "Progess:   0%|          | 0/10 [00:00<?, ?it/s]"
      ]
     },
     "metadata": {},
     "output_type": "display_data"
    },
    {
     "data": {
      "application/vnd.jupyter.widget-view+json": {
       "model_id": "3d3235be85ae43a3b0f1c76706b7691b",
       "version_major": 2,
       "version_minor": 0
      },
      "text/plain": [
       "Uncertain Data PCT: 0.01:   0%|          | 0/4 [00:00<?, ?it/s]"
      ]
     },
     "metadata": {},
     "output_type": "display_data"
    },
    {
     "data": {
      "application/vnd.jupyter.widget-view+json": {
       "model_id": "3934985d2280478fadb0a208eca71cfd",
       "version_major": 2,
       "version_minor": 0
      },
      "text/plain": [
       "Uncertain Data PCT: 0.02:   0%|          | 0/4 [00:00<?, ?it/s]"
      ]
     },
     "metadata": {},
     "output_type": "display_data"
    },
    {
     "data": {
      "application/vnd.jupyter.widget-view+json": {
       "model_id": "eecf008e0bc04421913550dc0e817a1d",
       "version_major": 2,
       "version_minor": 0
      },
      "text/plain": [
       "Uncertain Data PCT: 0.03:   0%|          | 0/4 [00:00<?, ?it/s]"
      ]
     },
     "metadata": {},
     "output_type": "display_data"
    },
    {
     "data": {
      "application/vnd.jupyter.widget-view+json": {
       "model_id": "75b7a9751ff542e0b4d177a1f21ab40c",
       "version_major": 2,
       "version_minor": 0
      },
      "text/plain": [
       "Uncertain Data PCT: 0.04:   0%|          | 0/4 [00:00<?, ?it/s]"
      ]
     },
     "metadata": {},
     "output_type": "display_data"
    },
    {
     "data": {
      "application/vnd.jupyter.widget-view+json": {
       "model_id": "295baea8606b47ca8f6d64351c5873d1",
       "version_major": 2,
       "version_minor": 0
      },
      "text/plain": [
       "Uncertain Data PCT: 0.05:   0%|          | 0/4 [00:00<?, ?it/s]"
      ]
     },
     "metadata": {},
     "output_type": "display_data"
    },
    {
     "data": {
      "application/vnd.jupyter.widget-view+json": {
       "model_id": "810efe72c48f4d5187cee612201acf38",
       "version_major": 2,
       "version_minor": 0
      },
      "text/plain": [
       "Uncertain Data PCT: 0.06:   0%|          | 0/4 [00:00<?, ?it/s]"
      ]
     },
     "metadata": {},
     "output_type": "display_data"
    },
    {
     "data": {
      "application/vnd.jupyter.widget-view+json": {
       "model_id": "272637c2f8ff493e8a74effae2d4a0ef",
       "version_major": 2,
       "version_minor": 0
      },
      "text/plain": [
       "Uncertain Data PCT: 0.07:   0%|          | 0/4 [00:00<?, ?it/s]"
      ]
     },
     "metadata": {},
     "output_type": "display_data"
    },
    {
     "data": {
      "application/vnd.jupyter.widget-view+json": {
       "model_id": "2e2ccb375c0c4b63807721d177f26c03",
       "version_major": 2,
       "version_minor": 0
      },
      "text/plain": [
       "Uncertain Data PCT: 0.08:   0%|          | 0/4 [00:00<?, ?it/s]"
      ]
     },
     "metadata": {},
     "output_type": "display_data"
    },
    {
     "data": {
      "application/vnd.jupyter.widget-view+json": {
       "model_id": "dbd397feb6164669925dc9fe523f5f26",
       "version_major": 2,
       "version_minor": 0
      },
      "text/plain": [
       "Uncertain Data PCT: 0.09:   0%|          | 0/4 [00:00<?, ?it/s]"
      ]
     },
     "metadata": {},
     "output_type": "display_data"
    },
    {
     "data": {
      "application/vnd.jupyter.widget-view+json": {
       "model_id": "316bebb9f8064874801d3de305a978c2",
       "version_major": 2,
       "version_minor": 0
      },
      "text/plain": [
       "Uncertain Data PCT: 0.1:   0%|          | 0/4 [00:00<?, ?it/s]"
      ]
     },
     "metadata": {},
     "output_type": "display_data"
    },
    {
     "data": {
      "application/vnd.jupyter.widget-view+json": {
       "model_id": "b9ab37911c8049878059d5c8c6a032ca",
       "version_major": 2,
       "version_minor": 0
      },
      "text/plain": [
       "Progess:   0%|          | 0/10 [00:00<?, ?it/s]"
      ]
     },
     "metadata": {},
     "output_type": "display_data"
    },
    {
     "data": {
      "application/vnd.jupyter.widget-view+json": {
       "model_id": "9b72bbc231474d9c8b94d4e4819e44f2",
       "version_major": 2,
       "version_minor": 0
      },
      "text/plain": [
       "Uncertain Data PCT: 0.01:   0%|          | 0/4 [00:00<?, ?it/s]"
      ]
     },
     "metadata": {},
     "output_type": "display_data"
    },
    {
     "data": {
      "application/vnd.jupyter.widget-view+json": {
       "model_id": "820041a66f494927b267b48aa1db2ba8",
       "version_major": 2,
       "version_minor": 0
      },
      "text/plain": [
       "Uncertain Data PCT: 0.02:   0%|          | 0/4 [00:00<?, ?it/s]"
      ]
     },
     "metadata": {},
     "output_type": "display_data"
    },
    {
     "data": {
      "application/vnd.jupyter.widget-view+json": {
       "model_id": "dadd41fbfa7b443f98d9d6997cf6aa67",
       "version_major": 2,
       "version_minor": 0
      },
      "text/plain": [
       "Uncertain Data PCT: 0.03:   0%|          | 0/4 [00:00<?, ?it/s]"
      ]
     },
     "metadata": {},
     "output_type": "display_data"
    },
    {
     "data": {
      "application/vnd.jupyter.widget-view+json": {
       "model_id": "0c7fb959e5e64de2bc98086426ad16c4",
       "version_major": 2,
       "version_minor": 0
      },
      "text/plain": [
       "Uncertain Data PCT: 0.04:   0%|          | 0/4 [00:00<?, ?it/s]"
      ]
     },
     "metadata": {},
     "output_type": "display_data"
    },
    {
     "data": {
      "application/vnd.jupyter.widget-view+json": {
       "model_id": "df597f8752d24da288ffc2cb53eca254",
       "version_major": 2,
       "version_minor": 0
      },
      "text/plain": [
       "Uncertain Data PCT: 0.05:   0%|          | 0/4 [00:00<?, ?it/s]"
      ]
     },
     "metadata": {},
     "output_type": "display_data"
    },
    {
     "data": {
      "application/vnd.jupyter.widget-view+json": {
       "model_id": "39a402081db0432396a601f16844f070",
       "version_major": 2,
       "version_minor": 0
      },
      "text/plain": [
       "Uncertain Data PCT: 0.06:   0%|          | 0/4 [00:00<?, ?it/s]"
      ]
     },
     "metadata": {},
     "output_type": "display_data"
    },
    {
     "data": {
      "application/vnd.jupyter.widget-view+json": {
       "model_id": "a96f7369bf3b464683123b1275217427",
       "version_major": 2,
       "version_minor": 0
      },
      "text/plain": [
       "Uncertain Data PCT: 0.07:   0%|          | 0/4 [00:00<?, ?it/s]"
      ]
     },
     "metadata": {},
     "output_type": "display_data"
    },
    {
     "data": {
      "application/vnd.jupyter.widget-view+json": {
       "model_id": "5da8c93384a34bdbb4e4799ba07e5280",
       "version_major": 2,
       "version_minor": 0
      },
      "text/plain": [
       "Uncertain Data PCT: 0.08:   0%|          | 0/4 [00:00<?, ?it/s]"
      ]
     },
     "metadata": {},
     "output_type": "display_data"
    },
    {
     "data": {
      "application/vnd.jupyter.widget-view+json": {
       "model_id": "42951cb0ac724483b268835cd5946645",
       "version_major": 2,
       "version_minor": 0
      },
      "text/plain": [
       "Uncertain Data PCT: 0.09:   0%|          | 0/4 [00:00<?, ?it/s]"
      ]
     },
     "metadata": {},
     "output_type": "display_data"
    },
    {
     "data": {
      "application/vnd.jupyter.widget-view+json": {
       "model_id": "a166a06c40694c6ab18246779031160e",
       "version_major": 2,
       "version_minor": 0
      },
      "text/plain": [
       "Uncertain Data PCT: 0.1:   0%|          | 0/4 [00:00<?, ?it/s]"
      ]
     },
     "metadata": {},
     "output_type": "display_data"
    },
    {
     "data": {
      "application/vnd.jupyter.widget-view+json": {
       "model_id": "f13b13d364584f8d98c0d16cb09b1b6a",
       "version_major": 2,
       "version_minor": 0
      },
      "text/plain": [
       "Progess:   0%|          | 0/10 [00:00<?, ?it/s]"
      ]
     },
     "metadata": {},
     "output_type": "display_data"
    },
    {
     "data": {
      "application/vnd.jupyter.widget-view+json": {
       "model_id": "33777d87bf7244fe8f7782234ab7dcb5",
       "version_major": 2,
       "version_minor": 0
      },
      "text/plain": [
       "Uncertain Data PCT: 0.01:   0%|          | 0/4 [00:00<?, ?it/s]"
      ]
     },
     "metadata": {},
     "output_type": "display_data"
    },
    {
     "data": {
      "application/vnd.jupyter.widget-view+json": {
       "model_id": "2320374e2fb141b09614f0acc2a87cd1",
       "version_major": 2,
       "version_minor": 0
      },
      "text/plain": [
       "Uncertain Data PCT: 0.02:   0%|          | 0/4 [00:00<?, ?it/s]"
      ]
     },
     "metadata": {},
     "output_type": "display_data"
    },
    {
     "data": {
      "application/vnd.jupyter.widget-view+json": {
       "model_id": "3137ac0323d74cb6a549eedb07d78125",
       "version_major": 2,
       "version_minor": 0
      },
      "text/plain": [
       "Uncertain Data PCT: 0.03:   0%|          | 0/4 [00:00<?, ?it/s]"
      ]
     },
     "metadata": {},
     "output_type": "display_data"
    },
    {
     "data": {
      "application/vnd.jupyter.widget-view+json": {
       "model_id": "4919664984494c30a54f002798aec46e",
       "version_major": 2,
       "version_minor": 0
      },
      "text/plain": [
       "Uncertain Data PCT: 0.04:   0%|          | 0/4 [00:00<?, ?it/s]"
      ]
     },
     "metadata": {},
     "output_type": "display_data"
    },
    {
     "data": {
      "application/vnd.jupyter.widget-view+json": {
       "model_id": "58f559ca42f948d3b9ddd512a13d8568",
       "version_major": 2,
       "version_minor": 0
      },
      "text/plain": [
       "Uncertain Data PCT: 0.05:   0%|          | 0/4 [00:00<?, ?it/s]"
      ]
     },
     "metadata": {},
     "output_type": "display_data"
    },
    {
     "data": {
      "application/vnd.jupyter.widget-view+json": {
       "model_id": "fd7bb1d804cd40cdac18dacde0119560",
       "version_major": 2,
       "version_minor": 0
      },
      "text/plain": [
       "Uncertain Data PCT: 0.06:   0%|          | 0/4 [00:00<?, ?it/s]"
      ]
     },
     "metadata": {},
     "output_type": "display_data"
    },
    {
     "data": {
      "application/vnd.jupyter.widget-view+json": {
       "model_id": "047d65d2344a43898568b3fc174bb20b",
       "version_major": 2,
       "version_minor": 0
      },
      "text/plain": [
       "Uncertain Data PCT: 0.07:   0%|          | 0/4 [00:00<?, ?it/s]"
      ]
     },
     "metadata": {},
     "output_type": "display_data"
    },
    {
     "data": {
      "application/vnd.jupyter.widget-view+json": {
       "model_id": "9d3a5383c17b4b9f844978fffc80c11e",
       "version_major": 2,
       "version_minor": 0
      },
      "text/plain": [
       "Uncertain Data PCT: 0.08:   0%|          | 0/4 [00:00<?, ?it/s]"
      ]
     },
     "metadata": {},
     "output_type": "display_data"
    },
    {
     "data": {
      "application/vnd.jupyter.widget-view+json": {
       "model_id": "e763c0e70faf4ace805c67bdf0523ec9",
       "version_major": 2,
       "version_minor": 0
      },
      "text/plain": [
       "Uncertain Data PCT: 0.09:   0%|          | 0/4 [00:00<?, ?it/s]"
      ]
     },
     "metadata": {},
     "output_type": "display_data"
    },
    {
     "data": {
      "application/vnd.jupyter.widget-view+json": {
       "model_id": "85e71bd7c02b4f6bab230517b793530d",
       "version_major": 2,
       "version_minor": 0
      },
      "text/plain": [
       "Uncertain Data PCT: 0.1:   0%|          | 0/4 [00:00<?, ?it/s]"
      ]
     },
     "metadata": {},
     "output_type": "display_data"
    }
   ],
   "source": [
    "robustness_dicts = []\n",
    "for seed in range(5):\n",
    "    # mpg +- 2 is robust\n",
    "    robustness_radius = 2\n",
    "    weight_interval = X_train.weight.max()-X_train.weight.min()\n",
    "    uncertain_radius_ratios = [0.06, 0.08, 0.10, 0.12]\n",
    "    uncertain_radiuses = [ratio*weight_interval for ratio in uncertain_radius_ratios]\n",
    "    uncertain_pcts = list(np.arange(1, 11)/100)\n",
    "    robustness_dict = dict()\n",
    "    robustness_dict['uncertain_radius'] = uncertain_radiuses\n",
    "    robustness_dict['uncertain_radius_ratios'] = uncertain_radius_ratios\n",
    "    for uncertain_pct in tqdm(uncertain_pcts, desc='Progess'):\n",
    "        robustness_dict[uncertain_pct] = list()\n",
    "        uncertain_num = int(uncertain_pct*len(y_train))\n",
    "        for uncertain_radius_ratio in tqdm(uncertain_radius_ratios, desc=f'Uncertain Data PCT: {uncertain_pct}'):\n",
    "            robustness_ratio = compute_robustness_ratio(X_train, y_train, X_test, y_test, \n",
    "                                                        uncertain_attr='weight', \n",
    "                                                        uncertain_num=uncertain_num, \n",
    "                                                        uncertain_radius_ratio=uncertain_radius_ratio, \n",
    "                                                        robustness_radius=robustness_radius, seed=seed)\n",
    "            if robustness_ratio==0:\n",
    "                trials_left = len(uncertain_radius_ratios)-uncertain_radius_ratios.index(uncertain_radius_ratio)\n",
    "                for _ in range(trials_left):\n",
    "                    robustness_dict[uncertain_pct].append(0)\n",
    "                break\n",
    "            robustness_dict[uncertain_pct].append(robustness_ratio)\n",
    "    robustness_dicts.append(robustness_dict)"
   ]
  },
  {
   "cell_type": "code",
   "execution_count": 23,
   "id": "f8b7c36c",
   "metadata": {},
   "outputs": [
    {
     "name": "stdout",
     "output_type": "stream",
     "text": [
      "Execution time: 2971.58549952507 seconds\n"
     ]
    }
   ],
   "source": [
    "end_time = time.time()\n",
    "\n",
    "execution_time = end_time - start_time\n",
    "print(f\"Execution time: {execution_time} seconds\")"
   ]
  },
  {
   "cell_type": "code",
   "execution_count": 24,
   "id": "f0504215",
   "metadata": {
    "ExecuteTime": {
     "end_time": "2024-05-22T01:48:54.674408Z",
     "start_time": "2024-05-22T01:48:54.644691Z"
    }
   },
   "outputs": [
    {
     "data": {
      "text/html": [
       "<div>\n",
       "<style scoped>\n",
       "    .dataframe tbody tr th:only-of-type {\n",
       "        vertical-align: middle;\n",
       "    }\n",
       "\n",
       "    .dataframe tbody tr th {\n",
       "        vertical-align: top;\n",
       "    }\n",
       "\n",
       "    .dataframe thead th {\n",
       "        text-align: right;\n",
       "    }\n",
       "</style>\n",
       "<table border=\"1\" class=\"dataframe\">\n",
       "  <thead>\n",
       "    <tr style=\"text-align: right;\">\n",
       "      <th></th>\n",
       "      <th>uncertain_radius</th>\n",
       "      <th>uncertain_radius_ratios</th>\n",
       "      <th>0.01</th>\n",
       "      <th>0.02</th>\n",
       "      <th>0.03</th>\n",
       "      <th>0.04</th>\n",
       "      <th>0.05</th>\n",
       "      <th>0.06</th>\n",
       "      <th>0.07</th>\n",
       "      <th>0.08</th>\n",
       "      <th>0.09</th>\n",
       "      <th>0.1</th>\n",
       "    </tr>\n",
       "  </thead>\n",
       "  <tbody>\n",
       "    <tr>\n",
       "      <th>0</th>\n",
       "      <td>211.62</td>\n",
       "      <td>0.06</td>\n",
       "      <td>1.0</td>\n",
       "      <td>1.0</td>\n",
       "      <td>1.0</td>\n",
       "      <td>1.0</td>\n",
       "      <td>1.0000</td>\n",
       "      <td>1.0000</td>\n",
       "      <td>1.0000</td>\n",
       "      <td>1.0000</td>\n",
       "      <td>1.0000</td>\n",
       "      <td>1.0000</td>\n",
       "    </tr>\n",
       "    <tr>\n",
       "      <th>1</th>\n",
       "      <td>282.16</td>\n",
       "      <td>0.08</td>\n",
       "      <td>1.0</td>\n",
       "      <td>1.0</td>\n",
       "      <td>1.0</td>\n",
       "      <td>1.0</td>\n",
       "      <td>1.0000</td>\n",
       "      <td>1.0000</td>\n",
       "      <td>1.0000</td>\n",
       "      <td>0.9875</td>\n",
       "      <td>0.9875</td>\n",
       "      <td>0.9750</td>\n",
       "    </tr>\n",
       "    <tr>\n",
       "      <th>2</th>\n",
       "      <td>352.70</td>\n",
       "      <td>0.10</td>\n",
       "      <td>1.0</td>\n",
       "      <td>1.0</td>\n",
       "      <td>1.0</td>\n",
       "      <td>1.0</td>\n",
       "      <td>1.0000</td>\n",
       "      <td>0.9875</td>\n",
       "      <td>0.9750</td>\n",
       "      <td>0.8250</td>\n",
       "      <td>0.6625</td>\n",
       "      <td>0.3625</td>\n",
       "    </tr>\n",
       "    <tr>\n",
       "      <th>3</th>\n",
       "      <td>423.24</td>\n",
       "      <td>0.12</td>\n",
       "      <td>1.0</td>\n",
       "      <td>1.0</td>\n",
       "      <td>1.0</td>\n",
       "      <td>1.0</td>\n",
       "      <td>0.9875</td>\n",
       "      <td>0.7875</td>\n",
       "      <td>0.5625</td>\n",
       "      <td>0.2375</td>\n",
       "      <td>0.0000</td>\n",
       "      <td>0.0000</td>\n",
       "    </tr>\n",
       "  </tbody>\n",
       "</table>\n",
       "</div>"
      ],
      "text/plain": [
       "   uncertain_radius  uncertain_radius_ratios  0.01  0.02  0.03  0.04    0.05  \\\n",
       "0            211.62                     0.06   1.0   1.0   1.0   1.0  1.0000   \n",
       "1            282.16                     0.08   1.0   1.0   1.0   1.0  1.0000   \n",
       "2            352.70                     0.10   1.0   1.0   1.0   1.0  1.0000   \n",
       "3            423.24                     0.12   1.0   1.0   1.0   1.0  0.9875   \n",
       "\n",
       "     0.06    0.07    0.08    0.09     0.1  \n",
       "0  1.0000  1.0000  1.0000  1.0000  1.0000  \n",
       "1  1.0000  1.0000  0.9875  0.9875  0.9750  \n",
       "2  0.9875  0.9750  0.8250  0.6625  0.3625  \n",
       "3  0.7875  0.5625  0.2375  0.0000  0.0000  "
      ]
     },
     "execution_count": 24,
     "metadata": {},
     "output_type": "execute_result"
    }
   ],
   "source": [
    "pd.DataFrame(robustness_dicts[0])"
   ]
  },
  {
   "cell_type": "code",
   "execution_count": 25,
   "id": "9b3d9ebb",
   "metadata": {
    "ExecuteTime": {
     "end_time": "2024-05-22T01:49:00.995496Z",
     "start_time": "2024-05-22T01:49:00.968058Z"
    }
   },
   "outputs": [
    {
     "data": {
      "text/html": [
       "<div>\n",
       "<style scoped>\n",
       "    .dataframe tbody tr th:only-of-type {\n",
       "        vertical-align: middle;\n",
       "    }\n",
       "\n",
       "    .dataframe tbody tr th {\n",
       "        vertical-align: top;\n",
       "    }\n",
       "\n",
       "    .dataframe thead th {\n",
       "        text-align: right;\n",
       "    }\n",
       "</style>\n",
       "<table border=\"1\" class=\"dataframe\">\n",
       "  <thead>\n",
       "    <tr style=\"text-align: right;\">\n",
       "      <th></th>\n",
       "      <th>uncertain_radius</th>\n",
       "      <th>uncertain_radius_ratios</th>\n",
       "      <th>0.01</th>\n",
       "      <th>0.02</th>\n",
       "      <th>0.03</th>\n",
       "      <th>0.04</th>\n",
       "      <th>0.05</th>\n",
       "      <th>0.06</th>\n",
       "      <th>0.07</th>\n",
       "      <th>0.08</th>\n",
       "      <th>0.09</th>\n",
       "      <th>0.1</th>\n",
       "    </tr>\n",
       "  </thead>\n",
       "  <tbody>\n",
       "    <tr>\n",
       "      <th>0</th>\n",
       "      <td>211.62</td>\n",
       "      <td>0.06</td>\n",
       "      <td>1.0</td>\n",
       "      <td>1.0</td>\n",
       "      <td>1.0</td>\n",
       "      <td>1.0</td>\n",
       "      <td>1.0</td>\n",
       "      <td>1.0000</td>\n",
       "      <td>1.0000</td>\n",
       "      <td>1.0000</td>\n",
       "      <td>1.0000</td>\n",
       "      <td>1.000</td>\n",
       "    </tr>\n",
       "    <tr>\n",
       "      <th>1</th>\n",
       "      <td>282.16</td>\n",
       "      <td>0.08</td>\n",
       "      <td>1.0</td>\n",
       "      <td>1.0</td>\n",
       "      <td>1.0</td>\n",
       "      <td>1.0</td>\n",
       "      <td>1.0</td>\n",
       "      <td>1.0000</td>\n",
       "      <td>1.0000</td>\n",
       "      <td>1.0000</td>\n",
       "      <td>1.0000</td>\n",
       "      <td>0.975</td>\n",
       "    </tr>\n",
       "    <tr>\n",
       "      <th>2</th>\n",
       "      <td>352.70</td>\n",
       "      <td>0.10</td>\n",
       "      <td>1.0</td>\n",
       "      <td>1.0</td>\n",
       "      <td>1.0</td>\n",
       "      <td>1.0</td>\n",
       "      <td>1.0</td>\n",
       "      <td>1.0000</td>\n",
       "      <td>0.9875</td>\n",
       "      <td>0.9375</td>\n",
       "      <td>0.8000</td>\n",
       "      <td>0.600</td>\n",
       "    </tr>\n",
       "    <tr>\n",
       "      <th>3</th>\n",
       "      <td>423.24</td>\n",
       "      <td>0.12</td>\n",
       "      <td>1.0</td>\n",
       "      <td>1.0</td>\n",
       "      <td>1.0</td>\n",
       "      <td>1.0</td>\n",
       "      <td>1.0</td>\n",
       "      <td>0.9375</td>\n",
       "      <td>0.7750</td>\n",
       "      <td>0.5000</td>\n",
       "      <td>0.1625</td>\n",
       "      <td>0.000</td>\n",
       "    </tr>\n",
       "  </tbody>\n",
       "</table>\n",
       "</div>"
      ],
      "text/plain": [
       "   uncertain_radius  uncertain_radius_ratios  0.01  0.02  0.03  0.04  0.05  \\\n",
       "0            211.62                     0.06   1.0   1.0   1.0   1.0   1.0   \n",
       "1            282.16                     0.08   1.0   1.0   1.0   1.0   1.0   \n",
       "2            352.70                     0.10   1.0   1.0   1.0   1.0   1.0   \n",
       "3            423.24                     0.12   1.0   1.0   1.0   1.0   1.0   \n",
       "\n",
       "     0.06    0.07    0.08    0.09    0.1  \n",
       "0  1.0000  1.0000  1.0000  1.0000  1.000  \n",
       "1  1.0000  1.0000  1.0000  1.0000  0.975  \n",
       "2  1.0000  0.9875  0.9375  0.8000  0.600  \n",
       "3  0.9375  0.7750  0.5000  0.1625  0.000  "
      ]
     },
     "execution_count": 25,
     "metadata": {},
     "output_type": "execute_result"
    }
   ],
   "source": [
    "pd.DataFrame(robustness_dicts[1])"
   ]
  },
  {
   "cell_type": "code",
   "execution_count": 26,
   "id": "f1388337",
   "metadata": {
    "ExecuteTime": {
     "end_time": "2024-05-22T01:49:57.555286Z",
     "start_time": "2024-05-22T01:49:57.527682Z"
    }
   },
   "outputs": [],
   "source": [
    "robustness_zonotope_mean = sum([pd.DataFrame(robustness_dicts[i]).iloc[:, 2:] for i in range(5)])/5\n",
    "robustness_zonotope_std = (sum([(pd.DataFrame(robustness_dicts[i]).iloc[:, 2:]-robustness_zonotope_mean)**2 for i in range(5)])/5).apply(np.sqrt)\n"
   ]
  },
  {
   "cell_type": "code",
   "execution_count": 27,
   "id": "240627f0",
   "metadata": {
    "ExecuteTime": {
     "end_time": "2024-05-22T01:50:11.972072Z",
     "start_time": "2024-05-22T01:50:11.442999Z"
    }
   },
   "outputs": [
    {
     "data": {
      "image/png": "[encoded data removed]",
      "text/plain": [
       "<Figure size 2400x400 with 4 Axes>"
      ]
     },
     "metadata": {
      "needs_background": "light"
     },
     "output_type": "display_data"
    }
   ],
   "source": [
    "from matplotlib.ticker import FormatStrFormatter\n",
    "uncertain_pcts = (np.array([0, 0.01, 0.02, 0.03, 0.04, 0.05, 0.06, 0.07, 0.08, 0.09, 0.1])*100)\n",
    "# uncertain_radius_ratios = [0.06, 0.08, 0.10, 0.12]\n",
    "\n",
    "zonotope_data_mean_dict = dict()\n",
    "zonotope_data_std_dict = dict()\n",
    "for i, radius_ratio in enumerate(uncertain_radius_ratios):\n",
    "    zonotope_data_mean_dict[radius_ratio] = np.append([1], robustness_zonotope_mean.iloc[i, :].to_numpy())\n",
    "    zonotope_data_std_dict[radius_ratio] = np.append([0], robustness_zonotope_std.iloc[i, :].to_numpy())\n",
    "\n",
    "fig, axes = plt.subplots(nrows=1, ncols=4, figsize=(12, 2), sharex=True, dpi=200)\n",
    "\n",
    "for i in range(4):\n",
    "    uncertain_radius = uncertain_radiuses[i]\n",
    "    uncertain_radius_ratio = uncertain_radius_ratios[i]\n",
    "    axes[i].errorbar(uncertain_pcts, zonotope_data_mean_dict[uncertain_radius_ratio],\n",
    "                     yerr=3*zonotope_data_std_dict[uncertain_radius_ratio],\n",
    "                     marker='o', color='red', label='ZORRO', linestyle='-')\n",
    "    radius_title = str(int(uncertain_radius_ratio*100))\n",
    "    if uncertain_radius_ratio == 0.1:\n",
    "        radius_title = '10'\n",
    "    axes[i].set_title(f'Uncertain Radius: {radius_title} %')\n",
    "    if i == 0:\n",
    "        axes[i].set_ylabel('Robustness Ratio', fontsize=12)\n",
    "    axes[i].set_ylim(-0.05, 1.05)\n",
    "    axes[i].xaxis.set_major_formatter(FormatStrFormatter('%.1f'))\n",
    "    axes[i].grid(True)\n",
    "\n",
    "# Adjust layout\n",
    "lines_labels = [axes[0].get_legend_handles_labels()]\n",
    "lines, labels = [sum(lol, []) for lol in zip(*lines_labels)]\n",
    "fig.legend(lines, labels, loc = (0.85, 0.03), ncol=2, frameon=False)\n",
    "\n",
    "plt.subplots_adjust(wspace=0.2, top=0.8, bottom=0.25, left=0.1, right=0.9)\n",
    "fig.supxlabel('Uncertain Data Percentage (%)', fontsize=12, verticalalignment='bottom')\n",
    "# plt.tight_layout()\n",
    "# plt.show()\n",
    "plt.savefig('mpg-features-lineplot.pdf', bbox_inches='tight')"
   ]
  },
  {
   "cell_type": "code",
   "execution_count": null,
   "id": "78e8b407",
   "metadata": {},
   "outputs": [],
   "source": []
  },
  {
   "cell_type": "code",
   "execution_count": null,
   "id": "6672de78",
   "metadata": {},
   "outputs": [],
   "source": []
  },
  {
   "cell_type": "markdown",
   "id": "23e995d9",
   "metadata": {},
   "source": [
    "## Regularization"
   ]
  },
  {
   "cell_type": "code",
   "execution_count": 10,
   "id": "3f24e7a1",
   "metadata": {
    "ExecuteTime": {
     "end_time": "2024-05-08T23:52:08.199857Z",
     "start_time": "2024-05-08T23:52:08.162315Z"
    },
    "code_folding": [
     1
    ]
   },
   "outputs": [],
   "source": [
    "# use interval hull for order reduction\n",
    "def compute_robustness_ratio_IH(X_train, y_train, X_test, y_test, robustness_radius, uncertain_attr, \n",
    "                                uncertain_num, uncertain_radius=None, uncertain_radius_ratio=None, \n",
    "                                lamb=0.1, seed=42):\n",
    "    X, y, symbols_in_data, ss = inject_ranges(X=X_train, y=y_train, uncertain_attr=uncertain_attr, \n",
    "                                              uncertain_num=uncertain_num, uncertain_radius=uncertain_radius, \n",
    "                                              uncertain_radius_pct=uncertain_radius_ratio, seed=seed)\n",
    "    \n",
    "    n = X.shape[0]\n",
    "    XS = copy.deepcopy(X)\n",
    "    XR = copy.deepcopy(X)\n",
    "    yS = copy.deepcopy(y)\n",
    "    yR = copy.deepcopy(y)\n",
    "\n",
    "    for row in range(X.shape[0]):\n",
    "        for col in range(X.shape[1]):\n",
    "            expr = X[row, col]\n",
    "            if isinstance(expr, sympy.Expr) and expr.free_symbols:\n",
    "                XR[row, col] = expr.subs(dict([(symb, 0) for symb in expr.free_symbols]))\n",
    "                XS[row, col] = expr - XR[row, col]\n",
    "            else:\n",
    "                XR[row, col] = expr\n",
    "                XS[row, col] = 0\n",
    "\n",
    "    for row in range(y.shape[0]):\n",
    "        expr = y[row]\n",
    "        if isinstance(expr, sympy.Expr) and expr.free_symbols:\n",
    "            yR[row] = expr.subs(dict([(symb, 0) for symb in expr.free_symbols]))\n",
    "            yS[row] = expr - yR[row]\n",
    "        else:\n",
    "            yR[row] = expr\n",
    "            yS[row] = 0\n",
    "\n",
    "    sigma = np.ones(X.shape[1])\n",
    "    V = sympy.Matrix(np.identity(X.shape[1]))\n",
    "\n",
    "    wR = (XR.T*XR).inv()*XR.T*yR\n",
    "    wS_non_data = 0.0*XR.row(0).T\n",
    "    for i in range(X.shape[1]):\n",
    "        wS_non_data = wS_non_data + sb(f'k{i}')*sb(f'ep{i}')*V.row(i).T\n",
    "    \n",
    "    eigenvalues = 1 - sigma/n*2*lamb\n",
    "    for eigenvalue in eigenvalues:\n",
    "        assert abs(eigenvalue) <= 1\n",
    "    \n",
    "    A = V.T*np.diag(eigenvalues)*V\n",
    "\n",
    "    wS_data = (np.identity(X.shape[1])-A).inv()*((XS.T*XR + XR.T*XS)*wR - XS.T*yR - XR.T*yS)*(-lamb*2/n)\n",
    "\n",
    "    wS = wS_non_data + wS_data\n",
    "    w = wS + wR\n",
    "    w_prime = (-lamb*2/n)*((XS.T*XR + XR.T*XS + XS.T*XS)*wS + XS.T*XS*wR - XS.T*yS).expand()\n",
    "    w_prime_projected = V*w_prime\n",
    "    \n",
    "    eqs = []\n",
    "    for d in range(X.shape[1]):\n",
    "        eq1 = (1-abs(eigenvalues[d]))*sb(f'k{d}')\n",
    "        eq2 = 0\n",
    "        coef_dict = dict()\n",
    "        coef_dict['const'] = 0\n",
    "        for i in range(X.shape[1]):\n",
    "            coef_dict[sb(f'k{i}')] = 0\n",
    "        for arg in w_prime_projected[d].args:\n",
    "            contain_k = False\n",
    "            for i in range(X.shape[1]):\n",
    "                symb_k = sb(f'k{i}')\n",
    "                if symb_k in arg.free_symbols:\n",
    "                    coef_dict[symb_k] = coef_dict[symb_k] + abs(arg.args[0])\n",
    "                    contain_k = True\n",
    "                    break\n",
    "            if not(contain_k):\n",
    "                coef_dict['const'] = coef_dict['const'] + abs(arg.args[0])\n",
    "        eq2 = coef_dict['const']\n",
    "        for i in range(X.shape[1]):\n",
    "            eq2 = eq2 + sb(f'k{i}')*coef_dict[sb(f'k{i}')]\n",
    "        eqs.append(sympy.Eq(eq1, eq2))\n",
    "        \n",
    "    result = sympy.solve(eqs, [sb(f'k{i}') for i in range(X.shape[1])])\n",
    "    print(eqs)\n",
    "    print(result)\n",
    "    param = wR + wS.subs(result)\n",
    "    \n",
    "    test_preds = sympy.Matrix(np.append(np.ones((len(X_test), 1)), ss.transform(X_test), axis=1))*param\n",
    "    robustness_ls = []\n",
    "    for pred in test_preds:\n",
    "        pred_range_radius = 0\n",
    "        for arg in pred.args:\n",
    "            if arg.free_symbols:\n",
    "                pred_range_radius += abs(arg.args[0])\n",
    "        if pred_range_radius <= robustness_radius:\n",
    "            robustness_ls.append(1)\n",
    "        else:\n",
    "            robustness_ls.append(0)\n",
    "    \n",
    "#     print(param)\n",
    "    return np.mean(robustness_ls)\n"
   ]
  },
  {
   "cell_type": "code",
   "execution_count": 11,
   "id": "827cc21c",
   "metadata": {
    "ExecuteTime": {
     "end_time": "2024-05-13T06:35:18.346564Z",
     "start_time": "2024-05-13T06:35:18.305918Z"
    },
    "code_folding": [
     0
    ]
   },
   "outputs": [
    {
     "name": "stdout",
     "output_type": "stream",
     "text": [
      "Minimum Value: 0\n",
      "Maximum Value: 4\n"
     ]
    }
   ],
   "source": [
    "def min_max_sympy_expression(expr):\n",
    "    \"\"\"\n",
    "    Calculates the minimum and maximum values of a second order polynomial \n",
    "    expression with one symbol, where the symbol ranges from -1 to 1.\n",
    "    \n",
    "    Args:\n",
    "    expr (sympy.Expr): A SymPy expression.\n",
    "    \n",
    "    Returns:\n",
    "    tuple: (minimum value, maximum value) of the expression over the interval [-1, 1].\n",
    "    \"\"\"\n",
    "    # Extract the symbol from the expression\n",
    "    if len(expr.free_symbols) != 1:\n",
    "        raise ValueError(\"The expression must contain exactly one symbol.\")\n",
    "    \n",
    "    symbol = list(expr.free_symbols)[0]\n",
    "    \n",
    "    # Derivative of the expression\n",
    "    df = sympy.diff(expr, symbol)\n",
    "    \n",
    "    # Find critical points\n",
    "    critical_points = sympy.solveset(df, symbol, domain=sympy.Interval(-1, 1))\n",
    "    \n",
    "    # Evaluate the expression at critical points and at the interval boundaries\n",
    "    critical_values = [expr.subs(symbol, cp) for cp in critical_points]\n",
    "    boundary_values = [expr.subs(symbol, b) for b in [-1, 1]]\n",
    "    \n",
    "    # Combine all values to determine the min and max\n",
    "    all_values = critical_values + boundary_values\n",
    "    min_value = min(all_values)\n",
    "    max_value = max(all_values)\n",
    "    \n",
    "    return min_value, max_value\n",
    "\n",
    "\n",
    "# Example usage:\n",
    "x = sympy.symbols('x')\n",
    "expr = x**2 - 2*x + 1\n",
    "min_val, max_val = min_max_sympy_expression(expr)\n",
    "print(\"Minimum Value:\", min_val)\n",
    "print(\"Maximum Value:\", max_val)"
   ]
  },
  {
   "cell_type": "code",
   "execution_count": 12,
   "id": "47e11b86",
   "metadata": {
    "ExecuteTime": {
     "end_time": "2024-05-13T19:07:14.128323Z",
     "start_time": "2024-05-13T19:07:14.089822Z"
    },
    "code_folding": [
     10
    ]
   },
   "outputs": [],
   "source": [
    "def get_expr_range_radius(expr):\n",
    "    expr_range_radius = 0\n",
    "    for arg in expr.args:\n",
    "        if arg.free_symbols:\n",
    "            expr_range_radius += abs(arg.args[0])\n",
    "    return expr_range_radius\n",
    "\n",
    "def get_expr_center(expr):\n",
    "    return expr.subs(dict([(symb, 0) for symb in expr.free_symbols]))\n",
    "    \n",
    "def compute_robustness_ratio_reg(X_train, y_train, X_test, y_test, robustness_radius, uncertain_attr, \n",
    "                                 uncertain_num, uncertain_radius=None, uncertain_radius_ratio=None, \n",
    "                                 lr=0.03, reg=0, seed=42):\n",
    "    X, y, symbols_in_data, ss = inject_ranges(X=X_train, y=y_train, uncertain_attr=uncertain_attr, \n",
    "                                              uncertain_num=uncertain_num, uncertain_radius=uncertain_radius, \n",
    "                                              uncertain_radius_pct=uncertain_radius_ratio, seed=seed)\n",
    "    \n",
    "    n = X.shape[0]\n",
    "    XS = copy.deepcopy(X)\n",
    "    XR = copy.deepcopy(X)\n",
    "    yS = copy.deepcopy(y)\n",
    "    yR = copy.deepcopy(y)\n",
    "    y_test = sympy.Matrix(y_test.to_numpy().reshape(-1, 1))\n",
    "    X_test = sympy.Matrix(np.append(np.ones((len(X_test), 1)), ss.transform(X_test), axis=1))\n",
    "\n",
    "    for row in range(X.shape[0]):\n",
    "        for col in range(X.shape[1]):\n",
    "            expr = X[row, col]\n",
    "            if isinstance(expr, sympy.Expr) and expr.free_symbols:\n",
    "                XR[row, col] = expr.subs(dict([(symb, 0) for symb in expr.free_symbols]))\n",
    "                XS[row, col] = expr - XR[row, col]\n",
    "            else:\n",
    "                XR[row, col] = expr\n",
    "                XS[row, col] = 0\n",
    "\n",
    "    for row in range(y.shape[0]):\n",
    "        expr = y[row]\n",
    "        if isinstance(expr, sympy.Expr) and expr.free_symbols:\n",
    "            yR[row] = expr.subs(dict([(symb, 0) for symb in expr.free_symbols]))\n",
    "            yS[row] = expr - yR[row]\n",
    "        else:\n",
    "            yR[row] = expr\n",
    "            yS[row] = 0\n",
    "    \n",
    "    common_inv = (XR.T*XR + reg*n*np.identity(X.shape[1])).inv()\n",
    "    \n",
    "    V, sigma, VT = np.linalg.svd(np.array((XR.T*XR).tolist()).astype(float))\n",
    "    V = sympy.Matrix(V)\n",
    "    VT = sympy.Matrix(VT)\n",
    "\n",
    "    wR = common_inv*XR.T*yR\n",
    "    wS_data = common_inv*((XS.T*XR + XR.T*XS)*wR - XS.T*yR - XR.T*yS)\n",
    "    wS_non_data = 0.0*VT.row(0).T\n",
    "    for i in range(X.shape[1]):\n",
    "        wS_non_data = wS_non_data + sb(f'k{i}')*sb(f'ep{i}')*VT.row(i).T\n",
    "\n",
    "    eigenvalues = 1 - 2*lr*reg - 2*lr*sigma/n\n",
    "    for eigenvalue in eigenvalues:\n",
    "        assert eigenvalue <= 1\n",
    "        assert eigenvalue >= 0\n",
    "    \n",
    "    wS = wS_non_data + wS_data\n",
    "    w = wS + wR\n",
    "    w_prime = (-lr*2/n)*((XS.T*XR + XR.T*XS + XS.T*XS)*wS + XS.T*XS*wR - XS.T*yS).expand()\n",
    "    w_prime_projected = VT*w_prime\n",
    "    \n",
    "    eqs = []\n",
    "    for d in range(X.shape[1]):\n",
    "        eq1 = (1-abs(eigenvalues[d]))*sb(f'k{d}')\n",
    "        eq2 = 0\n",
    "        coef_dict = dict()\n",
    "        coef_dict['const'] = 0\n",
    "        for i in range(X.shape[1]):\n",
    "            coef_dict[sb(f'k{i}')] = 0\n",
    "        for arg in w_prime_projected[d].args:\n",
    "            contain_k = False\n",
    "            for i in range(X.shape[1]):\n",
    "                symb_k = sb(f'k{i}')\n",
    "                if symb_k in arg.free_symbols:\n",
    "                    coef_dict[symb_k] = coef_dict[symb_k] + abs(arg.args[0])\n",
    "                    contain_k = True\n",
    "                    break\n",
    "            if not(contain_k):\n",
    "                coef_dict['const'] = coef_dict['const'] + abs(arg.args[0])\n",
    "        eq2 = coef_dict['const']\n",
    "        for i in range(X.shape[1]):\n",
    "            eq2 = eq2 + sb(f'k{i}')*coef_dict[sb(f'k{i}')]\n",
    "        eqs.append(sympy.Eq(eq1, eq2))\n",
    "        \n",
    "    result = sympy.solve(eqs, [sb(f'k{i}') for i in range(X.shape[1])])\n",
    "    for ki in result:\n",
    "        assert result[ki] >= 0\n",
    "    param = wR + wS.subs(result)\n",
    "    \n",
    "    center_preds = X_test*get_expr_center(param)\n",
    "    print('one-poss-world:', [((center_preds - y_test).T*(center_preds - y_test)/n)[0]])\n",
    "    \n",
    "    test_preds = X_test*param\n",
    "    robustness_ls = []\n",
    "#     se_min_ls = []\n",
    "#     se_max_ls = []\n",
    "    for pred_id, pred in enumerate(test_preds):\n",
    "        label_test = y_test[pred_id]\n",
    "        pred_range_radius = get_expr_range_radius(pred)\n",
    "        if pred_range_radius <= robustness_radius:\n",
    "            robustness_ls.append(1)\n",
    "        else:\n",
    "            robustness_ls.append(0)\n",
    "#         pred_center = get_expr_center(pred)\n",
    "#         rewrite_pred = pred_center+pred_range_radius*sb('err_pred')\n",
    "#         se_min, se_max = min_max_sympy_expression((rewrite_pred-label_test)**2)\n",
    "#         se_min_ls.append(se_min)\n",
    "#         se_max_ls.append(se_max)\n",
    "    preds_diff = linearization([((test_preds - y_test).T*(test_preds - y_test)/n)[0]])[0]\n",
    "    preds_diff_center = get_expr_center(preds_diff)\n",
    "    preds_diff_radius = get_expr_range_radius(preds_diff)\n",
    "#     print(preds_diff_center)\n",
    "#     print(preds_diff_radius)\n",
    "    \n",
    "#     print(param)\n",
    "    return np.mean(robustness_ls), preds_diff_center - preds_diff_radius, \\\n",
    "           preds_diff_center + preds_diff_radius\n"
   ]
  },
  {
   "cell_type": "code",
   "execution_count": null,
   "id": "f14d1a32",
   "metadata": {
    "ExecuteTime": {
     "end_time": "2024-05-13T06:24:47.535457Z",
     "start_time": "2024-05-13T06:24:47.524260Z"
    }
   },
   "outputs": [],
   "source": []
  },
  {
   "cell_type": "markdown",
   "id": "3f453852",
   "metadata": {},
   "source": [
    "### Uncertain Labels"
   ]
  },
  {
   "cell_type": "code",
   "execution_count": 31,
   "id": "841100bd",
   "metadata": {},
   "outputs": [],
   "source": [
    "start_time = time.time()"
   ]
  },
  {
   "cell_type": "code",
   "execution_count": 32,
   "id": "b8395430",
   "metadata": {
    "ExecuteTime": {
     "end_time": "2024-05-22T03:24:55.407597Z",
     "start_time": "2024-05-22T02:03:59.275967Z"
    },
    "scrolled": true
   },
   "outputs": [
    {
     "data": {
      "application/vnd.jupyter.widget-view+json": {
       "model_id": "587578fde86f4241a8e04434b6d4fad0",
       "version_major": 2,
       "version_minor": 0
      },
      "text/plain": [
       "Progess:   0%|          | 0/4 [00:00<?, ?it/s]"
      ]
     },
     "metadata": {},
     "output_type": "display_data"
    },
    {
     "data": {
      "application/vnd.jupyter.widget-view+json": {
       "model_id": "fcc1700ec4e643a8bba4d9e4dbbab04c",
       "version_major": 2,
       "version_minor": 0
      },
      "text/plain": [
       "Varying Regularization Coefficient:   0%|          | 0/7 [00:00<?, ?it/s]"
      ]
     },
     "metadata": {},
     "output_type": "display_data"
    },
    {
     "name": "stdout",
     "output_type": "stream",
     "text": [
      "one-poss-world: [1.93532098061252]\n",
      "(0.825, 1.28055036425234, 2.59009159697269)\n",
      "one-poss-world: [1.94280212875598]\n",
      "(0.825, 1.29555815043546, 2.59004610707651)\n",
      "one-poss-world: [1.95728486456244]\n",
      "(0.825, 1.31097905115891, 2.60359067796597)\n",
      "one-poss-world: [1.97819786772122]\n",
      "(0.8625, 1.32730681332948, 2.62908892211296)\n",
      "one-poss-world: [2.00525926677026]\n",
      "(0.8625, 1.34292863550359, 2.66758989803692)\n",
      "one-poss-world: [2.03829695460416]\n",
      "(0.875, 1.36019084629971, 2.71640306290862)\n",
      "one-poss-world: [2.07717879672616]\n",
      "(0.8875, 1.38079813714375, 2.77355945630856)\n"
     ]
    },
    {
     "data": {
      "application/vnd.jupyter.widget-view+json": {
       "model_id": "195d64e6265742d4980e0ca2bcf4a2d0",
       "version_major": 2,
       "version_minor": 0
      },
      "text/plain": [
       "Varying Regularization Coefficient:   0%|          | 0/7 [00:00<?, ?it/s]"
      ]
     },
     "metadata": {},
     "output_type": "display_data"
    },
    {
     "name": "stdout",
     "output_type": "stream",
     "text": [
      "one-poss-world: [1.93532098061252]\n",
      "(0.525, 1.10477649775506, 2.76586546346997)\n",
      "one-poss-world: [1.94280212875598]\n",
      "(0.5625, 1.13598311961051, 2.74962113790146)\n",
      "one-poss-world: [1.95728486456244]\n",
      "(0.6, 1.16585988348375, 2.74870984564114)\n",
      "one-poss-world: [1.97819786772122]\n",
      "(0.6375, 1.19539384065483, 2.76100189478761)\n",
      "one-poss-world: [2.00525926677026]\n",
      "(0.6875, 1.21931658859081, 2.79120194494970)\n",
      "one-poss-world: [2.03829695460416]\n",
      "(0.7125, 1.23721455467466, 2.83937935453367)\n",
      "one-poss-world: [2.07717879672616]\n",
      "(0.725, 1.25800067747787, 2.89635691597445)\n"
     ]
    },
    {
     "data": {
      "application/vnd.jupyter.widget-view+json": {
       "model_id": "725fe4c023f747a4814f156cfe8b9654",
       "version_major": 2,
       "version_minor": 0
      },
      "text/plain": [
       "Varying Regularization Coefficient:   0%|          | 0/7 [00:00<?, ?it/s]"
      ]
     },
     "metadata": {},
     "output_type": "display_data"
    },
    {
     "name": "stdout",
     "output_type": "stream",
     "text": [
      "one-poss-world: [1.93532098061252]\n",
      "(0.15, 0.727313417489940, 3.14332854373509)\n",
      "one-poss-world: [1.94280212875598]\n",
      "(0.1625, 0.768968310225549, 3.11663594728642)\n",
      "one-poss-world: [1.95728486456244]\n",
      "(0.2375, 0.807457636897024, 3.10711209222786)\n",
      "one-poss-world: [1.97819786772122]\n",
      "(0.25, 0.843302302669575, 3.11309343277287)\n",
      "one-poss-world: [2.00525926677026]\n",
      "(0.25, 0.871121232589150, 3.13939730095137)\n",
      "one-poss-world: [2.03829695460416]\n",
      "(0.275, 0.890597001647393, 3.18599690756094)\n",
      "one-poss-world: [2.07717879672616]\n",
      "(0.3, 0.911880904161893, 3.24247668929042)\n"
     ]
    },
    {
     "data": {
      "application/vnd.jupyter.widget-view+json": {
       "model_id": "eda9e51f4a32453c9b87b6301b499cda",
       "version_major": 2,
       "version_minor": 0
      },
      "text/plain": [
       "Varying Regularization Coefficient:   0%|          | 0/7 [00:00<?, ?it/s]"
      ]
     },
     "metadata": {},
     "output_type": "display_data"
    },
    {
     "name": "stdout",
     "output_type": "stream",
     "text": [
      "one-poss-world: [1.93532098061252]\n",
      "(0.0625, 0.400783600312755, 3.46985836091228)\n",
      "one-poss-world: [1.94280212875598]\n",
      "(0.0625, 0.447388984528396, 3.43821527298357)\n",
      "one-poss-world: [1.95728486456244]\n",
      "(0.0625, 0.488592965401954, 3.42597676372293)\n",
      "one-poss-world: [1.97819786772122]\n",
      "(0.075, 0.525731040989752, 3.43066469445269)\n",
      "one-poss-world: [2.00525926677026]\n",
      "(0.075, 0.553645150385453, 3.45687338315506)\n",
      "one-poss-world: [2.03829695460416]\n",
      "(0.075, 0.572932771112296, 3.50366113809603)\n",
      "one-poss-world: [2.07717879672616]\n",
      "(0.0875, 0.593207462253185, 3.56115013119913)\n"
     ]
    },
    {
     "data": {
      "application/vnd.jupyter.widget-view+json": {
       "model_id": "a0a75efff990483e8daa083e5321767e",
       "version_major": 2,
       "version_minor": 0
      },
      "text/plain": [
       "Progess:   0%|          | 0/4 [00:00<?, ?it/s]"
      ]
     },
     "metadata": {},
     "output_type": "display_data"
    },
    {
     "data": {
      "application/vnd.jupyter.widget-view+json": {
       "model_id": "493184b78dc740ad9f219c0c66473925",
       "version_major": 2,
       "version_minor": 0
      },
      "text/plain": [
       "Varying Regularization Coefficient:   0%|          | 0/7 [00:00<?, ?it/s]"
      ]
     },
     "metadata": {},
     "output_type": "display_data"
    },
    {
     "name": "stdout",
     "output_type": "stream",
     "text": [
      "one-poss-world: [1.93532098061252]\n",
      "(0.8625, 1.16921743883460, 2.70142452239043)\n",
      "one-poss-world: [1.94280212875598]\n",
      "(0.8875, 1.22324877470657, 2.66235548280540)\n",
      "one-poss-world: [1.95728486456244]\n",
      "(0.9, 1.27697692706452, 2.63759280206036)\n",
      "one-poss-world: [1.97819786772122]\n",
      "(0.9, 1.32592006377807, 2.63047567166437)\n",
      "one-poss-world: [2.00525926677026]\n",
      "(0.9125, 1.37503627541913, 2.63548225812139)\n",
      "one-poss-world: [2.03829695460416]\n",
      "(0.9125, 1.41988858180660, 2.65670532740173)\n",
      "one-poss-world: [2.07717879672616]\n",
      "(0.9125, 1.45616918304933, 2.69818841040299)\n"
     ]
    },
    {
     "data": {
      "application/vnd.jupyter.widget-view+json": {
       "model_id": "fd67e828183f4c999d4a9201b30e0d94",
       "version_major": 2,
       "version_minor": 0
      },
      "text/plain": [
       "Varying Regularization Coefficient:   0%|          | 0/7 [00:00<?, ?it/s]"
      ]
     },
     "metadata": {},
     "output_type": "display_data"
    },
    {
     "name": "stdout",
     "output_type": "stream",
     "text": [
      "one-poss-world: [1.93532098061252]\n",
      "(0.5875, 1.01900752317093, 2.85163443805410)\n",
      "one-poss-world: [1.94280212875598]\n",
      "(0.6125, 1.06570022278641, 2.81990403472555)\n",
      "one-poss-world: [1.95728486456244]\n",
      "(0.65, 1.11349957898708, 2.80107015013780)\n",
      "one-poss-world: [1.97819786772122]\n",
      "(0.6875, 1.15739042157738, 2.79900531386506)\n",
      "one-poss-world: [2.00525926677026]\n",
      "(0.7, 1.20168381976954, 2.80883471377097)\n",
      "one-poss-world: [2.03829695460416]\n",
      "(0.7125, 1.24211136462036, 2.83448254458797)\n",
      "one-poss-world: [2.07717879672616]\n",
      "(0.7625, 1.27421903904600, 2.88013855440631)\n"
     ]
    },
    {
     "data": {
      "application/vnd.jupyter.widget-view+json": {
       "model_id": "bfd222aedcb34462b04f22636e1cdc13",
       "version_major": 2,
       "version_minor": 0
      },
      "text/plain": [
       "Varying Regularization Coefficient:   0%|          | 0/7 [00:00<?, ?it/s]"
      ]
     },
     "metadata": {},
     "output_type": "display_data"
    },
    {
     "name": "stdout",
     "output_type": "stream",
     "text": [
      "one-poss-world: [1.93532098061252]\n",
      "(0.2, 0.733078820189072, 3.13756314103596)\n",
      "one-poss-world: [1.94280212875598]\n",
      "(0.25, 0.788097359167097, 3.09750689834487)\n",
      "one-poss-world: [1.95728486456244]\n",
      "(0.275, 0.843590602602299, 3.07097912652259)\n",
      "one-poss-world: [1.97819786772122]\n",
      "(0.275, 0.893862572842572, 3.06253316259987)\n",
      "one-poss-world: [2.00525926677026]\n",
      "(0.3, 0.944057933754565, 3.06646059978595)\n",
      "one-poss-world: [2.03829695460416]\n",
      "(0.325, 0.989790286217465, 3.08680362299086)\n",
      "one-poss-world: [2.07717879672616]\n",
      "(0.35, 1.02657439785346, 3.12778319559885)\n"
     ]
    },
    {
     "data": {
      "application/vnd.jupyter.widget-view+json": {
       "model_id": "3837d3390b75439ab4def0ffbb438d7f",
       "version_major": 2,
       "version_minor": 0
      },
      "text/plain": [
       "Varying Regularization Coefficient:   0%|          | 0/7 [00:00<?, ?it/s]"
      ]
     },
     "metadata": {},
     "output_type": "display_data"
    },
    {
     "name": "stdout",
     "output_type": "stream",
     "text": [
      "one-poss-world: [1.93532098061252]\n",
      "(0.075, 0.577004691554629, 3.29363726967040)\n",
      "one-poss-world: [1.94280212875598]\n",
      "(0.075, 0.634513808791827, 3.25109044872014)\n",
      "one-poss-world: [1.95728486456244]\n",
      "(0.0875, 0.689726457066778, 3.22484327205811)\n",
      "one-poss-world: [1.97819786772122]\n",
      "(0.0875, 0.738013418710821, 3.21838231673162)\n",
      "one-poss-world: [2.00525926677026]\n",
      "(0.1, 0.785971796116817, 3.22454673742370)\n",
      "one-poss-world: [2.03829695460416]\n",
      "(0.125, 0.828880614103006, 3.24771329510532)\n",
      "one-poss-world: [2.07717879672616]\n",
      "(0.1375, 0.858694158435560, 3.29566343501675)\n"
     ]
    },
    {
     "data": {
      "application/vnd.jupyter.widget-view+json": {
       "model_id": "6e82a485531f4647b9afd37dab31dd14",
       "version_major": 2,
       "version_minor": 0
      },
      "text/plain": [
       "Progess:   0%|          | 0/4 [00:00<?, ?it/s]"
      ]
     },
     "metadata": {},
     "output_type": "display_data"
    },
    {
     "data": {
      "application/vnd.jupyter.widget-view+json": {
       "model_id": "a180dd204f8c482284ae28af44c578ca",
       "version_major": 2,
       "version_minor": 0
      },
      "text/plain": [
       "Varying Regularization Coefficient:   0%|          | 0/7 [00:00<?, ?it/s]"
      ]
     },
     "metadata": {},
     "output_type": "display_data"
    },
    {
     "name": "stdout",
     "output_type": "stream",
     "text": [
      "one-poss-world: [1.93532098061252]\n",
      "(0.825, 1.25450001439985, 2.61614194682519)\n",
      "one-poss-world: [1.94280212875598]\n",
      "(0.85, 1.28084518188284, 2.60475907562913)\n",
      "one-poss-world: [1.95728486456244]\n",
      "(0.8625, 1.30886073464178, 2.60570899448310)\n",
      "one-poss-world: [1.97819786772122]\n",
      "(0.875, 1.33606039618796, 2.62033533925448)\n",
      "one-poss-world: [2.00525926677026]\n",
      "(0.9125, 1.36717385237755, 2.64334468116297)\n",
      "one-poss-world: [2.03829695460416]\n",
      "(0.925, 1.39908198084021, 2.67751192836812)\n",
      "one-poss-world: [2.07717879672616]\n",
      "(0.95, 1.42827015593832, 2.72608743751399)\n"
     ]
    },
    {
     "data": {
      "application/vnd.jupyter.widget-view+json": {
       "model_id": "ef3bcae6b45c485593e80edf0020cbe5",
       "version_major": 2,
       "version_minor": 0
      },
      "text/plain": [
       "Varying Regularization Coefficient:   0%|          | 0/7 [00:00<?, ?it/s]"
      ]
     },
     "metadata": {},
     "output_type": "display_data"
    },
    {
     "name": "stdout",
     "output_type": "stream",
     "text": [
      "one-poss-world: [1.93532098061252]\n",
      "(0.5375, 1.02669866571413, 2.84394329551090)\n",
      "one-poss-world: [1.94280212875598]\n",
      "(0.5875, 1.05473642205400, 2.83086783545797)\n",
      "one-poss-world: [1.95728486456244]\n",
      "(0.6125, 1.08409434926434, 2.83047537986055)\n",
      "one-poss-world: [1.97819786772122]\n",
      "(0.6125, 1.11268115115226, 2.84371458429018)\n",
      "one-poss-world: [2.00525926677026]\n",
      "(0.625, 1.14514256610601, 2.86537596743450)\n",
      "one-poss-world: [2.03829695460416]\n",
      "(0.6375, 1.17419378555163, 2.90240012365670)\n",
      "one-poss-world: [2.07717879672616]\n",
      "(0.65, 1.19720575771665, 2.95715183573566)\n"
     ]
    },
    {
     "data": {
      "application/vnd.jupyter.widget-view+json": {
       "model_id": "ee759a32c76f4676b7f93992f5d41ab7",
       "version_major": 2,
       "version_minor": 0
      },
      "text/plain": [
       "Varying Regularization Coefficient:   0%|          | 0/7 [00:00<?, ?it/s]"
      ]
     },
     "metadata": {},
     "output_type": "display_data"
    },
    {
     "name": "stdout",
     "output_type": "stream",
     "text": [
      "one-poss-world: [1.93532098061252]\n",
      "(0.2375, 0.800961084245648, 3.06968087697938)\n",
      "one-poss-world: [1.94280212875598]\n",
      "(0.2625, 0.834284994667461, 3.05131926284450)\n",
      "one-poss-world: [1.95728486456244]\n",
      "(0.275, 0.868579619196844, 3.04599010992804)\n",
      "one-poss-world: [1.97819786772122]\n",
      "(0.3125, 0.896689433405258, 3.05970630203718)\n",
      "one-poss-world: [2.00525926677026]\n",
      "(0.375, 0.923226042051432, 3.08729249148908)\n",
      "one-poss-world: [2.03829695460416]\n",
      "(0.3875, 0.946346814023471, 3.13024709518486)\n",
      "one-poss-world: [2.07717879672616]\n",
      "(0.4, 0.963271334224379, 3.19108625922793)\n"
     ]
    },
    {
     "data": {
      "application/vnd.jupyter.widget-view+json": {
       "model_id": "3a259728e4ea47e2a877c134f94f01a4",
       "version_major": 2,
       "version_minor": 0
      },
      "text/plain": [
       "Varying Regularization Coefficient:   0%|          | 0/7 [00:00<?, ?it/s]"
      ]
     },
     "metadata": {},
     "output_type": "display_data"
    },
    {
     "name": "stdout",
     "output_type": "stream",
     "text": [
      "one-poss-world: [1.93532098061252]\n",
      "(0.1375, 0.634114723453208, 3.23652723777182)\n",
      "one-poss-world: [1.94280212875598]\n",
      "(0.15, 0.670380256297800, 3.21522400121416)\n",
      "one-poss-world: [1.95728486456244]\n",
      "(0.15, 0.707373244061499, 3.20719648506339)\n",
      "one-poss-world: [1.97819786772122]\n",
      "(0.15, 0.736119592778494, 3.22027614266395)\n",
      "one-poss-world: [2.00525926677026]\n",
      "(0.1625, 0.762611863288386, 3.24790667025213)\n",
      "one-poss-world: [2.03829695460416]\n",
      "(0.175, 0.786043410802426, 3.29055049840590)\n",
      "one-poss-world: [2.07717879672616]\n",
      "(0.1875, 0.803658566374771, 3.35069902707754)\n"
     ]
    },
    {
     "data": {
      "application/vnd.jupyter.widget-view+json": {
       "model_id": "b9f3e50159fb4e0db286c14c2fc1ff1f",
       "version_major": 2,
       "version_minor": 0
      },
      "text/plain": [
       "Progess:   0%|          | 0/4 [00:00<?, ?it/s]"
      ]
     },
     "metadata": {},
     "output_type": "display_data"
    },
    {
     "data": {
      "application/vnd.jupyter.widget-view+json": {
       "model_id": "9ff0ca9560bd46d9820e064ce7b9b803",
       "version_major": 2,
       "version_minor": 0
      },
      "text/plain": [
       "Varying Regularization Coefficient:   0%|          | 0/7 [00:00<?, ?it/s]"
      ]
     },
     "metadata": {},
     "output_type": "display_data"
    },
    {
     "name": "stdout",
     "output_type": "stream",
     "text": [
      "one-poss-world: [1.93532098061252]\n",
      "(0.875, 1.38302864483815, 2.48761331638689)\n",
      "one-poss-world: [1.94280212875598]\n",
      "(0.875, 1.39076022934213, 2.49484402816984)\n",
      "one-poss-world: [1.95728486456244]\n",
      "(0.9, 1.39808475882766, 2.51648497029723)\n",
      "one-poss-world: [1.97819786772122]\n",
      "(0.9125, 1.40270039600493, 2.55369533943751)\n",
      "one-poss-world: [2.00525926677026]\n",
      "(0.9375, 1.41024839444656, 2.60027013909395)\n",
      "one-poss-world: [2.03829695460416]\n",
      "(0.9375, 1.41764026447266, 2.65895364473567)\n",
      "one-poss-world: [2.07717879672616]\n",
      "(0.9625, 1.43116829486022, 2.72318929859209)\n"
     ]
    },
    {
     "data": {
      "application/vnd.jupyter.widget-view+json": {
       "model_id": "039c2fe69f304d4f95e189b309440945",
       "version_major": 2,
       "version_minor": 0
      },
      "text/plain": [
       "Varying Regularization Coefficient:   0%|          | 0/7 [00:00<?, ?it/s]"
      ]
     },
     "metadata": {},
     "output_type": "display_data"
    },
    {
     "name": "stdout",
     "output_type": "stream",
     "text": [
      "one-poss-world: [1.93532098061252]\n",
      "(0.625, 1.25126049968473, 2.61938146154030)\n",
      "one-poss-world: [1.94280212875598]\n",
      "(0.65, 1.26216162838110, 2.62344262913086)\n",
      "one-poss-world: [1.95728486456244]\n",
      "(0.7, 1.27306054692731, 2.64150918219758)\n",
      "one-poss-world: [1.97819786772122]\n",
      "(0.7375, 1.28137562509039, 2.67502011035205)\n",
      "one-poss-world: [2.00525926677026]\n",
      "(0.7875, 1.28487244739586, 2.72564608614466)\n",
      "one-poss-world: [2.03829695460416]\n",
      "(0.8, 1.28707378972831, 2.78952011948002)\n",
      "one-poss-world: [2.07717879672616]\n",
      "(0.8125, 1.29535071416034, 2.85900687929197)\n"
     ]
    },
    {
     "data": {
      "application/vnd.jupyter.widget-view+json": {
       "model_id": "457e907771a54588932421d1aa82a0a4",
       "version_major": 2,
       "version_minor": 0
      },
      "text/plain": [
       "Varying Regularization Coefficient:   0%|          | 0/7 [00:00<?, ?it/s]"
      ]
     },
     "metadata": {},
     "output_type": "display_data"
    },
    {
     "name": "stdout",
     "output_type": "stream",
     "text": [
      "one-poss-world: [1.93532098061252]\n",
      "(0.225, 0.916345906610961, 2.95429605461407)\n",
      "one-poss-world: [1.94280212875598]\n",
      "(0.225, 0.929178974406291, 2.95642528310567)\n",
      "one-poss-world: [1.95728486456244]\n",
      "(0.25, 0.937633635328111, 2.97693609379677)\n",
      "one-poss-world: [1.97819786772122]\n",
      "(0.275, 0.942152812083535, 3.01424292335891)\n",
      "one-poss-world: [2.00525926677026]\n",
      "(0.35, 0.941258365383807, 3.06926016815671)\n",
      "one-poss-world: [2.03829695460416]\n",
      "(0.3875, 0.934476636633817, 3.14211727257451)\n",
      "one-poss-world: [2.07717879672616]\n",
      "(0.4, 0.933856901110675, 3.22050069234164)\n"
     ]
    },
    {
     "data": {
      "application/vnd.jupyter.widget-view+json": {
       "model_id": "b5f511056820422682eb0a950010d43d",
       "version_major": 2,
       "version_minor": 0
      },
      "text/plain": [
       "Varying Regularization Coefficient:   0%|          | 0/7 [00:00<?, ?it/s]"
      ]
     },
     "metadata": {},
     "output_type": "display_data"
    },
    {
     "name": "stdout",
     "output_type": "stream",
     "text": [
      "one-poss-world: [1.93532098061252]\n",
      "(0.075, 0.743217633428116, 3.12742432779692)\n",
      "one-poss-world: [1.94280212875598]\n",
      "(0.1, 0.750939543835758, 3.13466471367621)\n",
      "one-poss-world: [1.95728486456244]\n",
      "(0.1, 0.757415150356835, 3.15715457876805)\n",
      "one-poss-world: [1.97819786772122]\n",
      "(0.1125, 0.760374386872079, 3.19602134857036)\n",
      "one-poss-world: [2.00525926677026]\n",
      "(0.1125, 0.755365956190936, 3.25515257734958)\n",
      "one-poss-world: [2.03829695460416]\n",
      "(0.1125, 0.741194292007542, 3.33539961720079)\n",
      "one-poss-world: [2.07717879672616]\n",
      "(0.1125, 0.732823113485182, 3.42153447996713)\n"
     ]
    },
    {
     "data": {
      "application/vnd.jupyter.widget-view+json": {
       "model_id": "79c313e162b24c3d8c565607df51630c",
       "version_major": 2,
       "version_minor": 0
      },
      "text/plain": [
       "Progess:   0%|          | 0/4 [00:00<?, ?it/s]"
      ]
     },
     "metadata": {},
     "output_type": "display_data"
    },
    {
     "data": {
      "application/vnd.jupyter.widget-view+json": {
       "model_id": "e951bb60cec543b99913f11d7497a6f0",
       "version_major": 2,
       "version_minor": 0
      },
      "text/plain": [
       "Varying Regularization Coefficient:   0%|          | 0/7 [00:00<?, ?it/s]"
      ]
     },
     "metadata": {},
     "output_type": "display_data"
    },
    {
     "name": "stdout",
     "output_type": "stream",
     "text": [
      "one-poss-world: [1.93532098061252]\n",
      "(0.8, 1.20332292086009, 2.66731904036495)\n",
      "one-poss-world: [1.94280212875598]\n",
      "(0.8125, 1.23916397797086, 2.64644027954111)\n",
      "one-poss-world: [1.95728486456244]\n",
      "(0.8375, 1.27073864206027, 2.64383108706462)\n",
      "one-poss-world: [1.97819786772122]\n",
      "(0.85, 1.30122123936302, 2.65517449607942)\n",
      "one-poss-world: [2.00525926677026]\n",
      "(0.8875, 1.32564254385909, 2.68487598968142)\n",
      "one-poss-world: [2.03829695460416]\n",
      "(0.8875, 1.35021014077549, 2.72638376843283)\n",
      "one-poss-world: [2.07717879672616]\n",
      "(0.9375, 1.37935589630669, 2.77500169714562)\n"
     ]
    },
    {
     "data": {
      "application/vnd.jupyter.widget-view+json": {
       "model_id": "ce8ee98962f14479af94235fb4c25074",
       "version_major": 2,
       "version_minor": 0
      },
      "text/plain": [
       "Varying Regularization Coefficient:   0%|          | 0/7 [00:00<?, ?it/s]"
      ]
     },
     "metadata": {},
     "output_type": "display_data"
    },
    {
     "name": "stdout",
     "output_type": "stream",
     "text": [
      "one-poss-world: [1.93532098061252]\n",
      "(0.5625, 1.00866259207352, 2.86197936915151)\n",
      "one-poss-world: [1.94280212875598]\n",
      "(0.625, 1.05101864316469, 2.83458561434727)\n",
      "one-poss-world: [1.95728486456244]\n",
      "(0.6375, 1.08431412317448, 2.83025560595040)\n",
      "one-poss-world: [1.97819786772122]\n",
      "(0.6375, 1.11534839100632, 2.84104734443612)\n",
      "one-poss-world: [2.00525926677026]\n",
      "(0.6625, 1.13968792316917, 2.87083061037135)\n",
      "one-poss-world: [2.03829695460416]\n",
      "(0.6875, 1.16255747497356, 2.91403643423476)\n",
      "one-poss-world: [2.07717879672616]\n",
      "(0.725, 1.18915821856875, 2.96519937488356)\n"
     ]
    },
    {
     "data": {
      "application/vnd.jupyter.widget-view+json": {
       "model_id": "d979ae14a27748f28cf840979fa9cd3f",
       "version_major": 2,
       "version_minor": 0
      },
      "text/plain": [
       "Varying Regularization Coefficient:   0%|          | 0/7 [00:00<?, ?it/s]"
      ]
     },
     "metadata": {},
     "output_type": "display_data"
    },
    {
     "name": "stdout",
     "output_type": "stream",
     "text": [
      "one-poss-world: [1.93532098061252]\n",
      "(0.175, 0.739768732988275, 3.13087322823676)\n",
      "one-poss-world: [1.94280212875598]\n",
      "(0.2125, 0.782542714284653, 3.10306154322731)\n",
      "one-poss-world: [1.95728486456244]\n",
      "(0.2125, 0.815021690678673, 3.09954803844621)\n",
      "one-poss-world: [1.97819786772122]\n",
      "(0.225, 0.841564029089949, 3.11483170635249)\n",
      "one-poss-world: [2.00525926677026]\n",
      "(0.25, 0.855586089075202, 3.15493244446531)\n",
      "one-poss-world: [2.03829695460416]\n",
      "(0.3, 0.868189572250771, 3.20840433695756)\n",
      "one-poss-world: [2.07717879672616]\n",
      "(0.35, 0.883878515299292, 3.27047907815302)\n"
     ]
    },
    {
     "data": {
      "application/vnd.jupyter.widget-view+json": {
       "model_id": "b53945a9200a4f1794363e9218995ecc",
       "version_major": 2,
       "version_minor": 0
      },
      "text/plain": [
       "Varying Regularization Coefficient:   0%|          | 0/7 [00:00<?, ?it/s]"
      ]
     },
     "metadata": {},
     "output_type": "display_data"
    },
    {
     "name": "stdout",
     "output_type": "stream",
     "text": [
      "one-poss-world: [1.93532098061252]\n",
      "(0.0375, 0.545036934099701, 3.32560502712533)\n",
      "one-poss-world: [1.94280212875598]\n",
      "(0.05, 0.579108977210539, 3.30649528030143)\n",
      "one-poss-world: [1.95728486456244]\n",
      "(0.075, 0.604782402761523, 3.30978732636336)\n",
      "one-poss-world: [1.97819786772122]\n",
      "(0.075, 0.624079447471401, 3.33231628797104)\n",
      "one-poss-world: [2.00525926677026]\n",
      "(0.075, 0.630754129786373, 3.37976440375414)\n",
      "one-poss-world: [2.03829695460416]\n",
      "(0.125, 0.636045832865051, 3.44054807634328)\n",
      "one-poss-world: [2.07717879672616]\n",
      "(0.1375, 0.644845176303887, 3.50951241714843)\n"
     ]
    }
   ],
   "source": [
    "robustness_ratio_dicts = []\n",
    "max_mse_dicts = []\n",
    "min_mse_dicts = []\n",
    "for seed in range(5):\n",
    "    # mpg +- 2 is robust\n",
    "    robustness_radius = 2\n",
    "    # uncertain label +- 10\n",
    "    uncertain_radius = 10\n",
    "    uncertain_pcts = [0.08, 0.10, 0.12, 0.14]\n",
    "    # regs = [0, 0.001, 0.003, 0.01, 0.03]\n",
    "    regs = [0, 0.005, 0.01, 0.015, 0.02, 0.025, 0.03]\n",
    "\n",
    "    robustness_ratio_dict = dict()\n",
    "    max_mse_dict = dict()\n",
    "    min_mse_dict = dict()\n",
    "    # robustness_dict['uncertain_radius'] = uncertain_radiuses\n",
    "    robustness_ratio_dict['Reg. Coef.'] = regs\n",
    "    for uncertain_pct in tqdm(uncertain_pcts, desc='Progess'):\n",
    "        robustness_ratio_dict[uncertain_pct] = list()\n",
    "        max_mse_dict[uncertain_pct] = list()\n",
    "        min_mse_dict[uncertain_pct] = list()\n",
    "        uncertain_num = int(uncertain_pct*len(y_train))\n",
    "        for reg in tqdm(regs, desc=f'Varying Regularization Coefficient'):\n",
    "            res = compute_robustness_ratio_reg(X_train, y_train, X_test, y_test, \n",
    "                                               uncertain_attr='y', uncertain_num=uncertain_num, \n",
    "                                               uncertain_radius=uncertain_radius, \n",
    "                                               robustness_radius=robustness_radius, \n",
    "                                               reg=reg, seed=seed)\n",
    "            robustness_ratio, min_mse, max_mse = res\n",
    "            print(res)\n",
    "            robustness_ratio_dict[uncertain_pct].append(robustness_ratio)\n",
    "            max_mse_dict[uncertain_pct].append(max_mse)\n",
    "            min_mse_dict[uncertain_pct].append(min_mse)\n",
    "    robustness_ratio_dicts.append(robustness_ratio_dict)\n",
    "    max_mse_dicts.append(max_mse_dict)\n",
    "    min_mse_dicts.append(min_mse_dict)"
   ]
  },
  {
   "cell_type": "code",
   "execution_count": 33,
   "id": "0a50d112",
   "metadata": {},
   "outputs": [
    {
     "name": "stdout",
     "output_type": "stream",
     "text": [
      "Execution time: 5400.774076700211 seconds\n"
     ]
    }
   ],
   "source": [
    "end_time = time.time()\n",
    "\n",
    "execution_time = end_time - start_time\n",
    "print(f\"Execution time: {execution_time} seconds\")"
   ]
  },
  {
   "cell_type": "code",
   "execution_count": 34,
   "id": "719d80ec",
   "metadata": {
    "ExecuteTime": {
     "end_time": "2024-05-22T05:26:02.128742Z",
     "start_time": "2024-05-22T05:26:02.109634Z"
    }
   },
   "outputs": [],
   "source": [
    "robustness_ratio_zonotope_mean = (sum([pd.DataFrame(robustness_ratio_dicts[i]).iloc[:, 1:] for i in range(5)])/5).astype(float)\n",
    "robustness_ratio_zonotope_std = (sum([(pd.DataFrame(robustness_ratio_dicts[i]).iloc[:, 1:]-robustness_ratio_zonotope_mean)**2 for i in range(5)])/5).astype(float).apply(np.sqrt)\n",
    "max_mse_zonotope_mean = (sum([pd.DataFrame(max_mse_dicts[i]) for i in range(5)])/5).astype(float)\n",
    "max_mse_zonotope_std = (sum([(pd.DataFrame(max_mse_dicts[i])-max_mse_zonotope_mean)**2 for i in range(5)])/5).astype(float).apply(np.sqrt)\n"
   ]
  },
  {
   "cell_type": "code",
   "execution_count": 35,
   "id": "900ce2a7",
   "metadata": {
    "ExecuteTime": {
     "end_time": "2024-05-22T06:46:29.375109Z",
     "start_time": "2024-05-22T06:46:28.694275Z"
    }
   },
   "outputs": [
    {
     "data": {
      "image/png": "[encoded data removed]",
      "text/plain": [
       "<Figure size 2400x400 with 8 Axes>"
      ]
     },
     "metadata": {
      "needs_background": "light"
     },
     "output_type": "display_data"
    }
   ],
   "source": [
    "from matplotlib.ticker import FormatStrFormatter\n",
    "\n",
    "fig, axes = plt.subplots(nrows=1, ncols=4, figsize=(12, 2), sharex=True, dpi=200)\n",
    "color1 = 'tab:red'\n",
    "color2 = 'tab:green'\n",
    "\n",
    "for i in range(4):\n",
    "    ax1 = axes[i]\n",
    "    ax1.set_xlabel('$\\lambda$', fontsize=12)\n",
    "    if i==0:\n",
    "        ax1.set_ylabel('Worst-case Loss', color=color1, fontsize=12)\n",
    "    ax1.errorbar(regs, max_mse_zonotope_mean.iloc[:, i].values,\n",
    "                 yerr=3*max_mse_zonotope_std.iloc[:, i],\n",
    "                 color=color1, marker='o', linestyle='-')\n",
    "#     ax1.plot(regs, pd.DataFrame(max_mse_dict)[uncertain_pcts[i]], color=color1, marker='o')\n",
    "    ax1.tick_params(axis='y', labelcolor=color1)\n",
    "\n",
    "    ax2 = ax1.twinx()\n",
    "\n",
    "    if i==3:\n",
    "        ax2.set_ylabel('Robustness Ratio', color=color2, fontsize=12)\n",
    "    ax2.errorbar(regs, robustness_ratio_zonotope_mean.iloc[:, i].values,\n",
    "                 yerr=3*robustness_ratio_zonotope_std.iloc[:, i],\n",
    "                 color=color2, marker='s', linestyle='-')\n",
    "#     ax2.plot(regs, (pd.DataFrame(robustness_ratio_dict))[uncertain_pcts[i]], color=color2, marker='s')\n",
    "    ax2.tick_params(axis='y', labelcolor=color2)\n",
    "    ax1.set_title(f'Uncertain Data: {int(uncertain_pcts[i]*100)}%')\n",
    "    ax1.grid(True)\n",
    "#     ax1.xaxis.set_major_formatter(FormatStrFormatter('%.2f'))\n",
    "    ax1.yaxis.set_major_formatter(FormatStrFormatter('%.2f'))\n",
    "    \n",
    "plt.subplots_adjust(wspace=0.4, top=0.8, bottom=0.25, left=0.1, right=0.9)\n",
    "plt.savefig('mpg-regularization-labels-3sigma-lineplot.pdf', bbox_inches='tight')\n"
   ]
  },
  {
   "cell_type": "code",
   "execution_count": 36,
   "id": "73f75919",
   "metadata": {
    "ExecuteTime": {
     "end_time": "2024-05-22T06:46:30.235904Z",
     "start_time": "2024-05-22T06:46:29.543328Z"
    }
   },
   "outputs": [
    {
     "data": {
      "image/png": "[encoded data removed]",
      "text/plain": [
       "<Figure size 2400x400 with 8 Axes>"
      ]
     },
     "metadata": {
      "needs_background": "light"
     },
     "output_type": "display_data"
    }
   ],
   "source": [
    "from matplotlib.ticker import FormatStrFormatter\n",
    "\n",
    "fig, axes = plt.subplots(nrows=1, ncols=4, figsize=(12, 2), sharex=True, dpi=200)\n",
    "color1 = 'tab:red'\n",
    "color2 = 'tab:green'\n",
    "\n",
    "for i in range(4):\n",
    "    ax1 = axes[i]\n",
    "    ax1.set_xlabel('$\\lambda$', fontsize=12)\n",
    "    if i==0:\n",
    "        ax1.set_ylabel('Worst-case Loss', color=color1, fontsize=12)\n",
    "    ax1.errorbar(regs, max_mse_zonotope_mean.iloc[:, i].values,\n",
    "                 yerr=max_mse_zonotope_std.iloc[:, i],\n",
    "                 color=color1, marker='o', linestyle='-')\n",
    "#     ax1.plot(regs, pd.DataFrame(max_mse_dict)[uncertain_pcts[i]], color=color1, marker='o')\n",
    "    ax1.tick_params(axis='y', labelcolor=color1)\n",
    "\n",
    "    ax2 = ax1.twinx()\n",
    "\n",
    "    if i==3:\n",
    "        ax2.set_ylabel('Robustness Ratio', color=color2, fontsize=12)\n",
    "    ax2.errorbar(regs, robustness_ratio_zonotope_mean.iloc[:, i].values,\n",
    "                 yerr=robustness_ratio_zonotope_std.iloc[:, i],\n",
    "                 color=color2, marker='s', linestyle='-')\n",
    "#     ax2.plot(regs, (pd.DataFrame(robustness_ratio_dict))[uncertain_pcts[i]], color=color2, marker='s')\n",
    "    ax2.tick_params(axis='y', labelcolor=color2)\n",
    "    ax1.set_title(f'Uncertain Data: {int(uncertain_pcts[i]*100)}%')\n",
    "    ax1.grid(True)\n",
    "#     ax1.xaxis.set_major_formatter(FormatStrFormatter('%.2f'))\n",
    "    ax1.yaxis.set_major_formatter(FormatStrFormatter('%.2f'))\n",
    "    \n",
    "plt.subplots_adjust(wspace=0.4, top=0.8, bottom=0.25, left=0.1, right=0.9)\n",
    "plt.savefig('mpg-regularization-labels-1sigma-lineplot.pdf', bbox_inches='tight')\n"
   ]
  },
  {
   "cell_type": "code",
   "execution_count": null,
   "id": "792b50b7",
   "metadata": {
    "ExecuteTime": {
     "end_time": "2024-05-16T18:14:44.298409Z",
     "start_time": "2024-05-16T18:14:44.277791Z"
    }
   },
   "outputs": [],
   "source": []
  },
  {
   "cell_type": "code",
   "execution_count": null,
   "id": "aa42d0f2",
   "metadata": {},
   "outputs": [],
   "source": []
  },
  {
   "cell_type": "code",
   "execution_count": null,
   "id": "8102438a",
   "metadata": {},
   "outputs": [],
   "source": []
  },
  {
   "cell_type": "markdown",
   "id": "a02b787d",
   "metadata": {},
   "source": [
    "### Uncertain Features"
   ]
  },
  {
   "cell_type": "code",
   "execution_count": 13,
   "id": "3af0661b",
   "metadata": {},
   "outputs": [],
   "source": [
    "start_time = time.time()"
   ]
  },
  {
   "cell_type": "code",
   "execution_count": 14,
   "id": "e7e7b726",
   "metadata": {
    "ExecuteTime": {
     "end_time": "2024-05-22T05:41:53.914051Z",
     "start_time": "2024-05-22T01:53:55.384424Z"
    },
    "scrolled": true
   },
   "outputs": [
    {
     "data": {
      "application/vnd.jupyter.widget-view+json": {
       "model_id": "4a252ead0496499997e883ef1303281e",
       "version_major": 2,
       "version_minor": 0
      },
      "text/plain": [
       "Progess:   0%|          | 0/4 [00:00<?, ?it/s]"
      ]
     },
     "metadata": {},
     "output_type": "display_data"
    },
    {
     "data": {
      "application/vnd.jupyter.widget-view+json": {
       "model_id": "0256d33f0e544894a10f575a230aa904",
       "version_major": 2,
       "version_minor": 0
      },
      "text/plain": [
       "Varying Regularization Coefficient:   0%|          | 0/7 [00:00<?, ?it/s]"
      ]
     },
     "metadata": {},
     "output_type": "display_data"
    },
    {
     "name": "stdout",
     "output_type": "stream",
     "text": [
      "one-poss-world: [1.93532098061252]\n",
      "(0.9875, 1.64101959979360, 2.22962236143143)\n",
      "one-poss-world: [1.95728486456244]\n",
      "(1.0, 1.72822897018221, 2.18634075894268)\n",
      "one-poss-world: [2.00525926677026]\n",
      "(1.0, 1.81442591384964, 2.19609261969088)\n",
      "one-poss-world: [2.07717879672616]\n",
      "(1.0, 1.90737878341827, 2.24697881003405)\n",
      "one-poss-world: [2.17199693301695]\n",
      "(1.0, 2.01218878857264, 2.33180507746126)\n",
      "one-poss-world: [2.28875343008631]\n",
      "(1.0, 2.13522047737370, 2.44228638279892)\n",
      "one-poss-world: [2.42645058359078]\n",
      "(1.0, 2.27585285084336, 2.57704831633819)\n"
     ]
    },
    {
     "data": {
      "application/vnd.jupyter.widget-view+json": {
       "model_id": "7cf0b937ec8545268fc9548b19606286",
       "version_major": 2,
       "version_minor": 0
      },
      "text/plain": [
       "Varying Regularization Coefficient:   0%|          | 0/7 [00:00<?, ?it/s]"
      ]
     },
     "metadata": {},
     "output_type": "display_data"
    },
    {
     "name": "stdout",
     "output_type": "stream",
     "text": [
      "one-poss-world: [1.93532098061252]\n",
      "(0.825, 1.44588305027227, 2.42475891095276)\n",
      "one-poss-world: [1.95728486456244]\n",
      "(0.975, 1.60628652105173, 2.30828320807316)\n",
      "one-poss-world: [2.00525926677026]\n",
      "(1.0, 1.72964594136318, 2.28087259217733)\n",
      "one-poss-world: [2.07717879672616]\n",
      "(1.0, 1.84165066251457, 2.31270693093775)\n",
      "one-poss-world: [2.17199693301695]\n",
      "(1.0, 1.95497914038001, 2.38901472565389)\n",
      "one-poss-world: [2.28875343008631]\n",
      "(1.0, 2.08199255753974, 2.49551430263288)\n",
      "one-poss-world: [2.42645058359078]\n",
      "(1.0, 2.22489852355271, 2.62800264362885)\n"
     ]
    },
    {
     "data": {
      "application/vnd.jupyter.widget-view+json": {
       "model_id": "f9dfe3327aba44d5a50dc9d5e2dc2287",
       "version_major": 2,
       "version_minor": 0
      },
      "text/plain": [
       "Varying Regularization Coefficient:   0%|          | 0/7 [00:00<?, ?it/s]"
      ]
     },
     "metadata": {},
     "output_type": "display_data"
    },
    {
     "name": "stdout",
     "output_type": "stream",
     "text": [
      "one-poss-world: [1.93532098061252]\n",
      "(0.275, 0.925100745840208, 2.94554121538482)\n",
      "one-poss-world: [1.95728486456244]\n",
      "(0.7375, 1.31371631188486, 2.60085341724002)\n",
      "one-poss-world: [2.00525926677026]\n",
      "(0.9, 1.53216819420290, 2.47835033933762)\n",
      "one-poss-world: [2.07717879672616]\n",
      "(0.975, 1.69063962704487, 2.46371796640744)\n",
      "one-poss-world: [2.17199693301695]\n",
      "(1.0, 1.82899912213531, 2.51499474389859)\n",
      "one-poss-world: [2.28875343008631]\n",
      "(1.0, 1.97162162894625, 2.60588523122636)\n",
      "one-poss-world: [2.42645058359078]\n",
      "(1.0, 2.12491089279899, 2.72799027438257)\n"
     ]
    },
    {
     "data": {
      "application/vnd.jupyter.widget-view+json": {
       "model_id": "b84b10ffa7fc475e994db63f1bc0fe19",
       "version_major": 2,
       "version_minor": 0
      },
      "text/plain": [
       "Varying Regularization Coefficient:   0%|          | 0/7 [00:00<?, ?it/s]"
      ]
     },
     "metadata": {},
     "output_type": "display_data"
    },
    {
     "name": "stdout",
     "output_type": "stream",
     "text": [
      "one-poss-world: [1.93532098061252]\n",
      "(0.0, 0.0194128910896578, 3.85122907013537)\n",
      "one-poss-world: [1.95728486456244]\n",
      "(0.25, 0.877200068360442, 3.03736966076444)\n",
      "one-poss-world: [2.00525926677026]\n",
      "(0.6625, 1.26187456411883, 2.74864396942169)\n",
      "one-poss-world: [2.07717879672616]\n",
      "(0.825, 1.49570358196284, 2.65865401148947)\n",
      "one-poss-world: [2.17199693301695]\n",
      "(0.9625, 1.67317337284313, 2.67082049319078)\n",
      "one-poss-world: [2.28875343008631]\n",
      "(0.9875, 1.83983456668115, 2.73767229349147)\n",
      "one-poss-world: [2.42645058359078]\n",
      "(1.0, 2.00896272044992, 2.84393844673163)\n"
     ]
    },
    {
     "data": {
      "application/vnd.jupyter.widget-view+json": {
       "model_id": "93589bf080214e16ae1d4b9368f5cf68",
       "version_major": 2,
       "version_minor": 0
      },
      "text/plain": [
       "Progess:   0%|          | 0/4 [00:00<?, ?it/s]"
      ]
     },
     "metadata": {},
     "output_type": "display_data"
    },
    {
     "data": {
      "application/vnd.jupyter.widget-view+json": {
       "model_id": "c4d30803d07a4c1590a0607f53f5a0f0",
       "version_major": 2,
       "version_minor": 0
      },
      "text/plain": [
       "Varying Regularization Coefficient:   0%|          | 0/7 [00:00<?, ?it/s]"
      ]
     },
     "metadata": {},
     "output_type": "display_data"
    },
    {
     "name": "stdout",
     "output_type": "stream",
     "text": [
      "one-poss-world: [1.93532098061252]\n",
      "(1.0, 1.67881723995935, 2.19182472126568)\n",
      "one-poss-world: [1.95728486456244]\n",
      "(1.0, 1.75663011048544, 2.15793961863945)\n",
      "one-poss-world: [2.00525926677026]\n",
      "(1.0, 1.83886160366666, 2.17165692987385)\n",
      "one-poss-world: [2.07717879672616]\n",
      "(1.0, 1.93314366190899, 2.22121393154332)\n",
      "one-poss-world: [2.17199693301695]\n",
      "(1.0, 2.03981208343910, 2.30418178259480)\n",
      "one-poss-world: [2.28875343008631]\n",
      "(1.0, 2.16115317429569, 2.41635368587692)\n",
      "one-poss-world: [2.42645058359078]\n",
      "(1.0, 2.29946539291781, 2.55343577426375)\n"
     ]
    },
    {
     "data": {
      "application/vnd.jupyter.widget-view+json": {
       "model_id": "aec670b45ab74ea6b6d7854e80e740a2",
       "version_major": 2,
       "version_minor": 0
      },
      "text/plain": [
       "Varying Regularization Coefficient:   0%|          | 0/7 [00:00<?, ?it/s]"
      ]
     },
     "metadata": {},
     "output_type": "display_data"
    },
    {
     "name": "stdout",
     "output_type": "stream",
     "text": [
      "one-poss-world: [1.93532098061252]\n",
      "(0.925, 1.52487528116563, 2.34576668005940)\n",
      "one-poss-world: [1.95728486456244]\n",
      "(0.9875, 1.64649129641394, 2.26807843271095)\n",
      "one-poss-world: [2.00525926677026]\n",
      "(1.0, 1.75244404539579, 2.25807448814472)\n",
      "one-poss-world: [2.07717879672616]\n",
      "(1.0, 1.86039934988950, 2.29395824356281)\n",
      "one-poss-world: [2.17199693301695]\n",
      "(1.0, 1.97530372523881, 2.36869014079509)\n",
      "one-poss-world: [2.28875343008631]\n",
      "(1.0, 2.10186266948932, 2.47564419068330)\n",
      "one-poss-world: [2.42645058359078]\n",
      "(1.0, 2.24351520405322, 2.60938596312833)\n"
     ]
    },
    {
     "data": {
      "application/vnd.jupyter.widget-view+json": {
       "model_id": "3a86833fbd8e400884aeee5656536cca",
       "version_major": 2,
       "version_minor": 0
      },
      "text/plain": [
       "Varying Regularization Coefficient:   0%|          | 0/7 [00:00<?, ?it/s]"
      ]
     },
     "metadata": {},
     "output_type": "display_data"
    },
    {
     "name": "stdout",
     "output_type": "stream",
     "text": [
      "one-poss-world: [1.93532098061252]\n",
      "(0.625, 1.20884562116720, 2.66179634005783)\n",
      "one-poss-world: [1.95728486456244]\n",
      "(0.85, 1.44675821128602, 2.46781151783887)\n",
      "one-poss-world: [2.00525926677026]\n",
      "(0.975, 1.60866216807568, 2.40185636546484)\n",
      "one-poss-world: [2.07717879672616]\n",
      "(1.0, 1.74640705607583, 2.40795053737648)\n",
      "one-poss-world: [2.17199693301695]\n",
      "(1.0, 1.87854931325237, 2.46544455278154)\n",
      "one-poss-world: [2.28875343008631]\n",
      "(1.0, 2.01582748358351, 2.56167937658910)\n",
      "one-poss-world: [2.42645058359078]\n",
      "(1.0, 2.16401017315897, 2.68889099402258)\n"
     ]
    },
    {
     "data": {
      "application/vnd.jupyter.widget-view+json": {
       "model_id": "fe7bfe361c484feb8ae2f739445d4d5f",
       "version_major": 2,
       "version_minor": 0
      },
      "text/plain": [
       "Varying Regularization Coefficient:   0%|          | 0/7 [00:00<?, ?it/s]"
      ]
     },
     "metadata": {},
     "output_type": "display_data"
    },
    {
     "name": "stdout",
     "output_type": "stream",
     "text": [
      "one-poss-world: [1.93532098061252]\n",
      "(0.0875, 0.722746766883069, 3.14789519434196)\n",
      "one-poss-world: [1.95728486456244]\n",
      "(0.5625, 1.17848542645258, 2.73608430267230)\n",
      "one-poss-world: [2.00525926677026]\n",
      "(0.8, 1.43110936667054, 2.57940916686998)\n",
      "one-poss-world: [2.07717879672616]\n",
      "(0.9625, 1.61352691427596, 2.54083067917635)\n",
      "one-poss-world: [2.17199693301695]\n",
      "(0.9875, 1.76899279977810, 2.57500106625581)\n",
      "one-poss-world: [2.28875343008631]\n",
      "(1.0, 1.92081493842295, 2.65669192174967)\n",
      "one-poss-world: [2.42645058359078]\n",
      "(1.0, 2.07841938655430, 2.77448178062725)\n"
     ]
    },
    {
     "data": {
      "application/vnd.jupyter.widget-view+json": {
       "model_id": "a417aec81e974f40abbd5b04c0a4c4d5",
       "version_major": 2,
       "version_minor": 0
      },
      "text/plain": [
       "Progess:   0%|          | 0/4 [00:00<?, ?it/s]"
      ]
     },
     "metadata": {},
     "output_type": "display_data"
    },
    {
     "data": {
      "application/vnd.jupyter.widget-view+json": {
       "model_id": "38d204c7c1d8440b9a417946fe0af453",
       "version_major": 2,
       "version_minor": 0
      },
      "text/plain": [
       "Varying Regularization Coefficient:   0%|          | 0/7 [00:00<?, ?it/s]"
      ]
     },
     "metadata": {},
     "output_type": "display_data"
    },
    {
     "name": "stdout",
     "output_type": "stream",
     "text": [
      "one-poss-world: [1.93532098061252]\n",
      "(0.975, 1.64382856636828, 2.22681339485675)\n",
      "one-poss-world: [1.95728486456244]\n",
      "(1.0, 1.72959320879466, 2.18497652033022)\n",
      "one-poss-world: [2.00525926677026]\n",
      "(1.0, 1.81773499058101, 2.19278354295951)\n",
      "one-poss-world: [2.07717879672616]\n",
      "(1.0, 1.91090522078598, 2.24345237266633)\n",
      "one-poss-world: [2.17199693301695]\n",
      "(1.0, 2.01677191768390, 2.32722194835001)\n",
      "one-poss-world: [2.28875343008631]\n",
      "(1.0, 2.13922717954545, 2.43827968062716)\n",
      "one-poss-world: [2.42645058359078]\n",
      "(1.0, 2.27995895932581, 2.57294220785575)\n"
     ]
    },
    {
     "data": {
      "application/vnd.jupyter.widget-view+json": {
       "model_id": "0bc87cbd36b54bc38692b7a78904cc78",
       "version_major": 2,
       "version_minor": 0
      },
      "text/plain": [
       "Varying Regularization Coefficient:   0%|          | 0/7 [00:00<?, ?it/s]"
      ]
     },
     "metadata": {},
     "output_type": "display_data"
    },
    {
     "name": "stdout",
     "output_type": "stream",
     "text": [
      "one-poss-world: [1.93532098061252]\n",
      "(0.8125, 1.40681586493198, 2.46382609629306)\n",
      "one-poss-world: [1.95728486456244]\n",
      "(0.975, 1.57523875230494, 2.33933097681995)\n",
      "one-poss-world: [2.00525926677026]\n",
      "(0.9875, 1.70437136335516, 2.30614717018536)\n",
      "one-poss-world: [2.07717879672616]\n",
      "(1.0, 1.81934553305287, 2.33501206039944)\n",
      "one-poss-world: [2.17199693301695]\n",
      "(1.0, 1.93687149384404, 2.40712237218987)\n",
      "one-poss-world: [2.28875343008631]\n",
      "(1.0, 2.06718713576785, 2.51031972440476)\n",
      "one-poss-world: [2.42645058359078]\n",
      "(1.0, 2.21343851235554, 2.63946265482602)\n"
     ]
    },
    {
     "data": {
      "application/vnd.jupyter.widget-view+json": {
       "model_id": "855e0f4a2ce749c5af969f9312bc8dcf",
       "version_major": 2,
       "version_minor": 0
      },
      "text/plain": [
       "Varying Regularization Coefficient:   0%|          | 0/7 [00:00<?, ?it/s]"
      ]
     },
     "metadata": {},
     "output_type": "display_data"
    },
    {
     "name": "stdout",
     "output_type": "stream",
     "text": [
      "one-poss-world: [1.93532098061252]\n",
      "(0.35, 0.981735636101883, 2.88890632512315)\n",
      "one-poss-world: [1.95728486456244]\n",
      "(0.7375, 1.33036616058929, 2.58420356853560)\n",
      "one-poss-world: [2.00525926677026]\n",
      "(0.925, 1.53772330262133, 2.47279523091918)\n",
      "one-poss-world: [2.07717879672616]\n",
      "(0.9875, 1.69179053175987, 2.46256706169244)\n",
      "one-poss-world: [2.17199693301695]\n",
      "(1.0, 1.83009156270538, 2.51390230332853)\n",
      "one-poss-world: [2.28875343008631]\n",
      "(1.0, 1.97361902546034, 2.60388783471227)\n",
      "one-poss-world: [2.42645058359078]\n",
      "(1.0, 2.12880188756794, 2.72409927961362)\n"
     ]
    },
    {
     "data": {
      "application/vnd.jupyter.widget-view+json": {
       "model_id": "73b40e7e8026433f9071e0dd29594d71",
       "version_major": 2,
       "version_minor": 0
      },
      "text/plain": [
       "Varying Regularization Coefficient:   0%|          | 0/7 [00:00<?, ?it/s]"
      ]
     },
     "metadata": {},
     "output_type": "display_data"
    },
    {
     "name": "stdout",
     "output_type": "stream",
     "text": [
      "one-poss-world: [1.93532098061252]\n",
      "(0.0, 0.189627363931016, 3.68101459729402)\n",
      "one-poss-world: [1.95728486456244]\n",
      "(0.3, 0.927020736340972, 2.98754899278391)\n",
      "one-poss-world: [2.00525926677026]\n",
      "(0.6375, 1.28386587157967, 2.72665266196084)\n",
      "one-poss-world: [2.07717879672616]\n",
      "(0.875, 1.50979527137937, 2.64456232207294)\n",
      "one-poss-world: [2.17199693301695]\n",
      "(0.9625, 1.68644146252684, 2.65755240350706)\n",
      "one-poss-world: [2.28875343008631]\n",
      "(0.9875, 1.85365291634152, 2.72385394383110)\n",
      "one-poss-world: [2.42645058359078]\n",
      "(1.0, 2.02412380219635, 2.82877736498521)\n"
     ]
    },
    {
     "data": {
      "application/vnd.jupyter.widget-view+json": {
       "model_id": "954436bf20304548ae0c33119e5c5ca6",
       "version_major": 2,
       "version_minor": 0
      },
      "text/plain": [
       "Progess:   0%|          | 0/4 [00:00<?, ?it/s]"
      ]
     },
     "metadata": {},
     "output_type": "display_data"
    },
    {
     "data": {
      "application/vnd.jupyter.widget-view+json": {
       "model_id": "8933cafbb7cf4bffb57437a6f3d5efde",
       "version_major": 2,
       "version_minor": 0
      },
      "text/plain": [
       "Varying Regularization Coefficient:   0%|          | 0/7 [00:00<?, ?it/s]"
      ]
     },
     "metadata": {},
     "output_type": "display_data"
    },
    {
     "name": "stdout",
     "output_type": "stream",
     "text": [
      "one-poss-world: [1.93532098061252]\n",
      "(0.9875, 1.68201520823350, 2.18862675299153)\n",
      "one-poss-world: [1.95728486456244]\n",
      "(1.0, 1.75695412161978, 2.15761560750511)\n",
      "one-poss-world: [2.00525926677026]\n",
      "(1.0, 1.83316623857671, 2.17735229496381)\n",
      "one-poss-world: [2.07717879672616]\n",
      "(1.0, 1.92003630456000, 2.23432128889231)\n",
      "one-poss-world: [2.17199693301695]\n",
      "(1.0, 2.02309203186760, 2.32090183416630)\n",
      "one-poss-world: [2.28875343008631]\n",
      "(1.0, 2.14489782200524, 2.43260903816737)\n",
      "one-poss-world: [2.42645058359078]\n",
      "(1.0, 2.28504407878259, 2.56785708839897)\n"
     ]
    },
    {
     "data": {
      "application/vnd.jupyter.widget-view+json": {
       "model_id": "7012fb695d7442ed9930f34b84430fff",
       "version_major": 2,
       "version_minor": 0
      },
      "text/plain": [
       "Varying Regularization Coefficient:   0%|          | 0/7 [00:00<?, ?it/s]"
      ]
     },
     "metadata": {},
     "output_type": "display_data"
    },
    {
     "name": "stdout",
     "output_type": "stream",
     "text": [
      "one-poss-world: [1.93532098061252]\n",
      "(0.9, 1.52473694569060, 2.34590501553443)\n",
      "one-poss-world: [1.95728486456244]\n",
      "(0.9875, 1.65375851846394, 2.26081121066095)\n",
      "one-poss-world: [2.00525926677026]\n",
      "(1.0, 1.75766506285911, 2.25285347068141)\n",
      "one-poss-world: [2.07717879672616]\n",
      "(1.0, 1.85977814363541, 2.29457944981691)\n",
      "one-poss-world: [2.17199693301695]\n",
      "(1.0, 1.97018839827928, 2.37380546775463)\n",
      "one-poss-world: [2.28875343008631]\n",
      "(1.0, 2.09580806022078, 2.48169879995184)\n",
      "one-poss-world: [2.42645058359078]\n",
      "(1.0, 2.23831545810497, 2.61458570907658)\n"
     ]
    },
    {
     "data": {
      "application/vnd.jupyter.widget-view+json": {
       "model_id": "e3c2736600f748dcbf8c0edc54bb1192",
       "version_major": 2,
       "version_minor": 0
      },
      "text/plain": [
       "Varying Regularization Coefficient:   0%|          | 0/7 [00:00<?, ?it/s]"
      ]
     },
     "metadata": {},
     "output_type": "display_data"
    },
    {
     "name": "stdout",
     "output_type": "stream",
     "text": [
      "one-poss-world: [1.93532098061252]\n",
      "(0.4375, 1.07685862570165, 2.79378333552338)\n",
      "one-poss-world: [1.95728486456244]\n",
      "(0.8125, 1.39225149201842, 2.52231823710646)\n",
      "one-poss-world: [2.00525926677026]\n",
      "(0.975, 1.57643388396523, 2.43408464957528)\n",
      "one-poss-world: [2.07717879672616]\n",
      "(0.9875, 1.71829729777554, 2.43606029567678)\n",
      "one-poss-world: [2.17199693301695]\n",
      "(1.0, 1.85027997206034, 2.49371389397356)\n",
      "one-poss-world: [2.28875343008631]\n",
      "(1.0, 1.98983575086197, 2.58767110931065)\n",
      "one-poss-world: [2.42645058359078]\n",
      "(1.0, 2.14175224142956, 2.71114892575200)\n"
     ]
    },
    {
     "data": {
      "application/vnd.jupyter.widget-view+json": {
       "model_id": "b3e2429effba47c9b82f255c2f3f2c19",
       "version_major": 2,
       "version_minor": 0
      },
      "text/plain": [
       "Varying Regularization Coefficient:   0%|          | 0/7 [00:00<?, ?it/s]"
      ]
     },
     "metadata": {},
     "output_type": "display_data"
    },
    {
     "name": "stdout",
     "output_type": "stream",
     "text": [
      "one-poss-world: [1.93532098061252]\n",
      "(0.0375, 0.416740463552358, 3.45390149767267)\n",
      "one-poss-world: [1.95728486456244]\n",
      "(0.425, 1.06836242869481, 2.84620730043008)\n",
      "one-poss-world: [2.00525926677026]\n",
      "(0.7625, 1.37586446670029, 2.63465406684023)\n",
      "one-poss-world: [2.07717879672616]\n",
      "(0.95, 1.57420329837946, 2.58015429507285)\n",
      "one-poss-world: [2.17199693301695]\n",
      "(0.975, 1.73419663893196, 2.60979722710195)\n",
      "one-poss-world: [2.28875343008631]\n",
      "(1.0, 1.89065979890204, 2.68684706127057)\n",
      "one-poss-world: [2.42645058359078]\n",
      "(1.0, 2.05348316025918, 2.79941800692238)\n"
     ]
    },
    {
     "data": {
      "application/vnd.jupyter.widget-view+json": {
       "model_id": "b2312d4e0aa04f83bbacf4cd6cb03c29",
       "version_major": 2,
       "version_minor": 0
      },
      "text/plain": [
       "Progess:   0%|          | 0/4 [00:00<?, ?it/s]"
      ]
     },
     "metadata": {},
     "output_type": "display_data"
    },
    {
     "data": {
      "application/vnd.jupyter.widget-view+json": {
       "model_id": "c237ea2234714c4195b029340a7a4180",
       "version_major": 2,
       "version_minor": 0
      },
      "text/plain": [
       "Varying Regularization Coefficient:   0%|          | 0/7 [00:00<?, ?it/s]"
      ]
     },
     "metadata": {},
     "output_type": "display_data"
    },
    {
     "name": "stdout",
     "output_type": "stream",
     "text": [
      "one-poss-world: [1.93532098061252]\n",
      "(0.9875, 1.66547608835240, 2.20516587287264)\n",
      "one-poss-world: [1.95728486456244]\n",
      "(1.0, 1.74347669266398, 2.17109303646090)\n",
      "one-poss-world: [2.00525926677026]\n",
      "(1.0, 1.82552226820868, 2.18499626533183)\n",
      "one-poss-world: [2.07717879672616]\n",
      "(1.0, 1.91741893844079, 2.23693865501152)\n",
      "one-poss-world: [2.17199693301695]\n",
      "(1.0, 2.02272965325288, 2.32126421278103)\n",
      "one-poss-world: [2.28875343008631]\n",
      "(1.0, 2.14459361554285, 2.43291324462976)\n",
      "one-poss-world: [2.42645058359078]\n",
      "(1.0, 2.28498015664758, 2.56792101053398)\n"
     ]
    },
    {
     "data": {
      "application/vnd.jupyter.widget-view+json": {
       "model_id": "59100b8d892f4365ae455991f06febe4",
       "version_major": 2,
       "version_minor": 0
      },
      "text/plain": [
       "Varying Regularization Coefficient:   0%|          | 0/7 [00:00<?, ?it/s]"
      ]
     },
     "metadata": {},
     "output_type": "display_data"
    },
    {
     "name": "stdout",
     "output_type": "stream",
     "text": [
      "one-poss-world: [1.93532098061252]\n",
      "(0.825, 1.40731446802577, 2.46332749319926)\n",
      "one-poss-world: [1.95728486456244]\n",
      "(0.975, 1.58261747276605, 2.33195225635884)\n",
      "one-poss-world: [2.00525926677026]\n",
      "(0.9875, 1.71036687649537, 2.30015165704515)\n",
      "one-poss-world: [2.07717879672616]\n",
      "(1.0, 1.82589825563883, 2.32845933781348)\n",
      "one-poss-world: [2.17199693301695]\n",
      "(1.0, 1.94441770650523, 2.39957615952868)\n",
      "one-poss-world: [2.28875343008631]\n",
      "(1.0, 2.07478705562069, 2.50271980455192)\n",
      "one-poss-world: [2.42645058359078]\n",
      "(1.0, 2.22092955024390, 2.63197161693766)\n"
     ]
    },
    {
     "data": {
      "application/vnd.jupyter.widget-view+json": {
       "model_id": "7417c32546b443f396b73d99f2a7e8f0",
       "version_major": 2,
       "version_minor": 0
      },
      "text/plain": [
       "Varying Regularization Coefficient:   0%|          | 0/7 [00:00<?, ?it/s]"
      ]
     },
     "metadata": {},
     "output_type": "display_data"
    },
    {
     "name": "stdout",
     "output_type": "stream",
     "text": [
      "one-poss-world: [1.93532098061252]\n",
      "(0.3, 0.904881334826618, 2.96576062639841)\n",
      "one-poss-world: [1.95728486456244]\n",
      "(0.7625, 1.30444011787838, 2.61012961124651)\n",
      "one-poss-world: [2.00525926677026]\n",
      "(0.9375, 1.52240669385310, 2.48811183968741)\n",
      "one-poss-world: [2.07717879672616]\n",
      "(0.975, 1.68144699382288, 2.47291059962943)\n",
      "one-poss-world: [2.17199693301695]\n",
      "(1.0, 1.82329830365422, 2.52069556237968)\n",
      "one-poss-world: [2.28875343008631]\n",
      "(1.0, 1.96812518386534, 2.60938167630728)\n",
      "one-poss-world: [2.42645058359078]\n",
      "(1.0, 2.12378272849416, 2.72911843868739)\n"
     ]
    },
    {
     "data": {
      "application/vnd.jupyter.widget-view+json": {
       "model_id": "b547ffeec2b244df8b2a638f285d3589",
       "version_major": 2,
       "version_minor": 0
      },
      "text/plain": [
       "Varying Regularization Coefficient:   0%|          | 0/7 [00:00<?, ?it/s]"
      ]
     },
     "metadata": {},
     "output_type": "display_data"
    },
    {
     "name": "stdout",
     "output_type": "stream",
     "text": [
      "one-poss-world: [1.93532098061252]\n",
      "(0.0, 0.00980022769370170, 3.86084173353133)\n",
      "one-poss-world: [1.95728486456244]\n",
      "(0.3, 0.912206160690041, 3.00236356843484)\n",
      "one-poss-world: [2.00525926677026]\n",
      "(0.725, 1.29267342830745, 2.71784510523307)\n",
      "one-poss-world: [2.07717879672616]\n",
      "(0.9125, 1.52153995164373, 2.63281764180858)\n",
      "one-poss-world: [2.17199693301695]\n",
      "(0.975, 1.69872559952816, 2.64526826650575)\n",
      "one-poss-world: [2.28875343008631]\n",
      "(0.9875, 1.86435594899675, 2.71315091117586)\n",
      "one-poss-world: [2.42645058359078]\n",
      "(1.0, 2.03325124807902, 2.81964991910253)\n"
     ]
    }
   ],
   "source": [
    "robustness_ratio_dicts = []\n",
    "max_mse_dicts = []\n",
    "min_mse_dicts = []\n",
    "for seed in range(5):\n",
    "    # mpg +- 2 is robust\n",
    "    robustness_radius = 2\n",
    "    # uncertain label +- 10\n",
    "    uncertain_radius = 300\n",
    "    weight_interval = X_train.weight.max()-X_train.weight.min()\n",
    "    uncertain_radius_ratio = uncertain_radius/weight_interval\n",
    "    uncertain_pcts = [0.08, 0.10, 0.12, 0.14]\n",
    "    regs = [0, 0.01, 0.02, 0.03, 0.04, 0.05, 0.06]\n",
    "\n",
    "    robustness_ratio_dict = dict()\n",
    "    max_mse_dict = dict()\n",
    "    min_mse_dict = dict()\n",
    "    # robustness_dict['uncertain_radius'] = uncertain_radiuses\n",
    "    robustness_ratio_dict['Reg. Coef.'] = regs\n",
    "    for uncertain_pct in tqdm(uncertain_pcts, desc='Progess'):\n",
    "        robustness_ratio_dict[uncertain_pct] = list()\n",
    "        max_mse_dict[uncertain_pct] = list()\n",
    "        min_mse_dict[uncertain_pct] = list()\n",
    "        uncertain_num = int(uncertain_pct*len(y_train))\n",
    "        for reg in tqdm(regs, desc=f'Varying Regularization Coefficient'):\n",
    "            res = compute_robustness_ratio_reg(X_train, y_train, X_test, y_test, \n",
    "                                               uncertain_attr='weight', uncertain_num=uncertain_num, \n",
    "                                               uncertain_radius_ratio=uncertain_radius_ratio, \n",
    "                                               robustness_radius=robustness_radius, reg=reg, seed=seed)\n",
    "            robustness_ratio, min_mse, max_mse = res\n",
    "            print(res)\n",
    "            robustness_ratio_dict[uncertain_pct].append(robustness_ratio)\n",
    "            max_mse_dict[uncertain_pct].append(max_mse)\n",
    "            min_mse_dict[uncertain_pct].append(min_mse)\n",
    "    robustness_ratio_dicts.append(robustness_ratio_dict)\n",
    "    max_mse_dicts.append(max_mse_dict)\n",
    "    min_mse_dicts.append(min_mse_dict)"
   ]
  },
  {
   "cell_type": "code",
   "execution_count": 15,
   "id": "ce1bcdc6",
   "metadata": {},
   "outputs": [
    {
     "name": "stdout",
     "output_type": "stream",
     "text": [
      "Execution time: 12226.697786808014 seconds\n"
     ]
    }
   ],
   "source": [
    "end_time = time.time()\n",
    "\n",
    "execution_time = end_time - start_time\n",
    "print(f\"Execution time: {execution_time} seconds\")"
   ]
  },
  {
   "cell_type": "code",
   "execution_count": 16,
   "id": "cfdfab2a",
   "metadata": {
    "ExecuteTime": {
     "end_time": "2024-05-22T06:29:04.464763Z",
     "start_time": "2024-05-22T06:29:04.375156Z"
    }
   },
   "outputs": [],
   "source": [
    "robustness_ratio_zonotope_mean = (sum([pd.DataFrame(robustness_ratio_dicts[i]).iloc[:, 1:] for i in range(5)])/5).astype(float)\n",
    "robustness_ratio_zonotope_std = (sum([(pd.DataFrame(robustness_ratio_dicts[i]).iloc[:, 1:]-robustness_ratio_zonotope_mean)**2 for i in range(5)])/5).astype(float).apply(np.sqrt)\n",
    "max_mse_zonotope_mean = (sum([pd.DataFrame(max_mse_dicts[i]) for i in range(5)])/5).astype(float)\n",
    "max_mse_zonotope_std = (sum([(pd.DataFrame(max_mse_dicts[i])-max_mse_zonotope_mean)**2 for i in range(5)])/5).astype(float).apply(np.sqrt)\n"
   ]
  },
  {
   "cell_type": "code",
   "execution_count": 17,
   "id": "27849379",
   "metadata": {
    "ExecuteTime": {
     "end_time": "2024-05-22T06:47:12.777590Z",
     "start_time": "2024-05-22T06:47:12.058486Z"
    }
   },
   "outputs": [
    {
     "data": {
      "image/png": "[encoded data removed]",
      "text/plain": [
       "<Figure size 2400x400 with 8 Axes>"
      ]
     },
     "metadata": {
      "needs_background": "light"
     },
     "output_type": "display_data"
    }
   ],
   "source": [
    "from matplotlib.ticker import FormatStrFormatter\n",
    "\n",
    "fig, axes = plt.subplots(nrows=1, ncols=4, figsize=(12, 2), sharex=True, dpi=200)\n",
    "color1 = 'tab:red'\n",
    "color2 = 'tab:green'\n",
    "\n",
    "for i in range(4):\n",
    "    ax1 = axes[i]\n",
    "    ax1.set_xlabel('$\\lambda$', fontsize=12)\n",
    "    if i==0:\n",
    "        ax1.set_ylabel('Worst-case Loss', color=color1, fontsize=12)\n",
    "    ax1.errorbar(regs, max_mse_zonotope_mean.iloc[:, i].values,\n",
    "                 yerr=3*max_mse_zonotope_std.iloc[:, i],\n",
    "                 color=color1, marker='o', linestyle='-')\n",
    "#     ax1.plot(regs, pd.DataFrame(max_mse_dict)[uncertain_pcts[i]], color=color1, marker='o')\n",
    "    ax1.tick_params(axis='y', labelcolor=color1)\n",
    "\n",
    "    ax2 = ax1.twinx()\n",
    "\n",
    "    if i==3:\n",
    "        ax2.set_ylabel('Robustness Ratio', color=color2, fontsize=12)\n",
    "    ax2.errorbar(regs, robustness_ratio_zonotope_mean.iloc[:, i].values,\n",
    "                 yerr=3*robustness_ratio_zonotope_std.iloc[:, i],\n",
    "                 color=color2, marker='s', linestyle='-')\n",
    "#     ax2.plot(regs, (pd.DataFrame(robustness_ratio_dict))[uncertain_pcts[i]], color=color2, marker='s')\n",
    "    ax2.tick_params(axis='y', labelcolor=color2)\n",
    "    ax1.set_title(f'Uncertain Data: {int(uncertain_pcts[i]*100)}%')\n",
    "    ax1.grid(True)\n",
    "#     ax1.xaxis.set_major_formatter(FormatStrFormatter('%.2f'))\n",
    "    ax1.yaxis.set_major_formatter(FormatStrFormatter('%.2f'))\n",
    "    \n",
    "plt.subplots_adjust(wspace=0.4, top=0.8, bottom=0.25, left=0.1, right=0.9)\n",
    "\n",
    "plt.savefig('mpg-regularization-features-3sigma-lineplot.pdf', bbox_inches='tight')\n"
   ]
  },
  {
   "cell_type": "code",
   "execution_count": 18,
   "id": "1de78c32",
   "metadata": {
    "ExecuteTime": {
     "end_time": "2024-05-22T06:47:29.264107Z",
     "start_time": "2024-05-22T06:47:28.558143Z"
    }
   },
   "outputs": [
    {
     "data": {
      "image/png": "[encoded data removed]",
      "text/plain": [
       "<Figure size 2400x400 with 8 Axes>"
      ]
     },
     "metadata": {
      "needs_background": "light"
     },
     "output_type": "display_data"
    }
   ],
   "source": [
    "from matplotlib.ticker import FormatStrFormatter\n",
    "\n",
    "fig, axes = plt.subplots(nrows=1, ncols=4, figsize=(12, 2), sharex=True, dpi=200)\n",
    "color1 = 'tab:red'\n",
    "color2 = 'tab:green'\n",
    "\n",
    "for i in range(4):\n",
    "    ax1 = axes[i]\n",
    "    ax1.set_xlabel('$\\lambda$', fontsize=12)\n",
    "    if i==0:\n",
    "        ax1.set_ylabel('Worst-case Loss', color=color1, fontsize=12)\n",
    "    ax1.errorbar(regs, max_mse_zonotope_mean.iloc[:, i].values,\n",
    "                 yerr=max_mse_zonotope_std.iloc[:, i],\n",
    "                 color=color1, marker='o', linestyle='-')\n",
    "#     ax1.plot(regs, pd.DataFrame(max_mse_dict)[uncertain_pcts[i]], color=color1, marker='o')\n",
    "    ax1.tick_params(axis='y', labelcolor=color1)\n",
    "\n",
    "    ax2 = ax1.twinx()\n",
    "\n",
    "    if i==3:\n",
    "        ax2.set_ylabel('Robustness Ratio', color=color2, fontsize=12)\n",
    "    ax2.errorbar(regs, robustness_ratio_zonotope_mean.iloc[:, i].values,\n",
    "                 yerr=robustness_ratio_zonotope_std.iloc[:, i],\n",
    "                 color=color2, marker='s', linestyle='-')\n",
    "#     ax2.plot(regs, (pd.DataFrame(robustness_ratio_dict))[uncertain_pcts[i]], color=color2, marker='s')\n",
    "    ax2.tick_params(axis='y', labelcolor=color2)\n",
    "    ax1.set_title(f'Uncertain Data: {int(uncertain_pcts[i]*100)}%')\n",
    "    ax1.grid(True)\n",
    "#     ax1.xaxis.set_major_formatter(FormatStrFormatter('%.2f'))\n",
    "    ax1.yaxis.set_major_formatter(FormatStrFormatter('%.2f'))\n",
    "    \n",
    "plt.subplots_adjust(wspace=0.4, top=0.8, bottom=0.25, left=0.1, right=0.9)\n",
    "\n",
    "plt.savefig('mpg-regularization-features-1sigma-lineplot.pdf', bbox_inches='tight')\n"
   ]
  },
  {
   "cell_type": "code",
   "execution_count": null,
   "id": "506c3aec",
   "metadata": {},
   "outputs": [],
   "source": []
  },
  {
   "cell_type": "code",
   "execution_count": null,
   "id": "55de45fb",
   "metadata": {},
   "outputs": [],
   "source": []
  },
  {
   "cell_type": "code",
   "execution_count": null,
   "id": "6029889d",
   "metadata": {},
   "outputs": [],
   "source": []
  },
  {
   "cell_type": "code",
   "execution_count": null,
   "id": "6ca1b200",
   "metadata": {},
   "outputs": [],
   "source": []
  }
 ],
 "metadata": {
  "kernelspec": {
   "display_name": "Python 3 (ipykernel)",
   "language": "python",
   "name": "python3"
  },
  "language_info": {
   "codemirror_mode": {
    "name": "ipython",
    "version": 3
   },
   "file_extension": ".py",
   "mimetype": "text/x-python",
   "name": "python",
   "nbconvert_exporter": "python",
   "pygments_lexer": "ipython3",
   "version": "3.9.5"
  },
  "latex_envs": {
   "LaTeX_envs_menu_present": true,
   "autoclose": true,
   "autocomplete": true,
   "bibliofile": "biblio.bib",
   "cite_by": "apalike",
   "current_citInitial": 1,
   "eqLabelWithNumbers": true,
   "eqNumInitial": 1,
   "hotkeys": {
    "equation": "Ctrl-E",
    "itemize": "Ctrl-I"
   },
   "labels_anchors": false,
   "latex_user_defs": false,
   "report_style_numbering": false,
   "user_envs_cfg": false
  }
 },
 "nbformat": 4,
 "nbformat_minor": 5
}

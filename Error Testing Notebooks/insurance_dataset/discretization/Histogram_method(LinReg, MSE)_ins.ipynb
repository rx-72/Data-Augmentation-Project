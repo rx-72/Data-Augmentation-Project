{
 "cells": [
  {
   "cell_type": "code",
   "execution_count": 1,
   "id": "efd397d7-231a-4176-997a-505b41d4a847",
   "metadata": {},
   "outputs": [],
   "source": [
    "import os\n",
    "import copy\n",
    "import pickle\n",
    "import sympy\n",
    "import functools\n",
    "import itertools\n",
    "\n",
    "import numpy as np\n",
    "import pandas as pd\n",
    "import matplotlib.pyplot as plt\n",
    "\n",
    "from error_injection import MissingValueError, SamplingError, Injector\n",
    "from sklearn.decomposition import PCA\n",
    "from sklearn.model_selection import train_test_split\n",
    "from sklearn.preprocessing import StandardScaler\n",
    "from sklearn.experimental import enable_iterative_imputer\n",
    "from sklearn.impute import SimpleImputer, KNNImputer, IterativeImputer\n",
    "from sklearn.metrics import mutual_info_score, auc, roc_curve, roc_auc_score, f1_score\n",
    "from scipy.optimize import minimize as scipy_min\n",
    "from scipy.spatial import ConvexHull\n",
    "from scipy.optimize import minimize, Bounds, linprog\n",
    "from sympy import Symbol as sb\n",
    "from sympy import lambdify\n",
    "from tqdm.notebook import trange,tqdm\n",
    "from IPython.display import display,clear_output\n",
    "from random import choice\n",
    "from sklearn.linear_model import LinearRegression\n",
    "from sklearn.utils import resample\n",
    "from sklearn.ensemble import RandomForestRegressor\n",
    "from sklearn.linear_model import Ridge\n",
    "from sklearn.tree import DecisionTreeClassifier\n",
    "from sklearn.tree import _tree\n",
    "from sklearn.model_selection import GridSearchCV\n",
    "from sklearn.metrics import make_scorer, recall_score\n",
    "\n",
    "class style():\n",
    "    RED = '\\033[31m'\n",
    "    GREEN = '\\033[32m'\n",
    "    BLUE = '\\033[34m'\n",
    "    RESET = '\\033[0m'\n",
    "\n",
    "np.random.seed(1)\n",
    "\n",
    "# ignore all the warnings\n",
    "import warnings\n",
    "warnings.filterwarnings('ignore')"
   ]
  },
  {
   "cell_type": "code",
   "execution_count": 2,
   "id": "25642a8a-aa26-4cc9-911c-365a93376c6b",
   "metadata": {},
   "outputs": [],
   "source": [
    "def load_ins_cleaned():\n",
    "    # fetch dataset\n",
    "    auto_mpg = pd.read_csv('insurance.csv').drop('sex', axis=1).drop('smoker', axis=1).drop('region', axis=1).replace('?', np.nan)\n",
    "    features = ['age', 'bmi', 'children']\n",
    "    X = auto_mpg[features].astype(float)\n",
    "    y = auto_mpg['charges']\n",
    "    \n",
    "    # assumed gt imputation\n",
    "    imputer = KNNImputer(n_neighbors=10)\n",
    "    X = pd.DataFrame(imputer.fit_transform(X), columns=X.columns)\n",
    "\n",
    "    X_train, X_test, y_train, y_test = train_test_split(X, y, test_size=0.2, random_state=1)\n",
    "    X_train = copy.deepcopy(X_train).reset_index(drop=True)\n",
    "    X_test = copy.deepcopy(X_test).reset_index(drop=True)\n",
    "    y_train = y_train.reset_index(drop=True)\n",
    "    y_test = y_test.reset_index(drop=True)\n",
    "\n",
    "    return X_train, X_test, y_train, y_test\n",
    "\n",
    "X_train, X_test, y_train, y_test = load_ins_cleaned()"
   ]
  },
  {
   "cell_type": "code",
   "execution_count": 3,
   "id": "74724540-7eca-43f3-a753-71b819b28f6f",
   "metadata": {},
   "outputs": [
    {
     "data": {
      "text/plain": [
       "'age'"
      ]
     },
     "execution_count": 3,
     "metadata": {},
     "output_type": "execute_result"
    }
   ],
   "source": [
    "def select_best_feature(X, y, method=\"correlation\"):\n",
    "    if method == \"correlation\":\n",
    "        correlations = X.corrwith(y)\n",
    "        best_feature = correlations.abs().idxmax()\n",
    "    return best_feature\n",
    "\n",
    "best_feature = select_best_feature(X_train, y_train)\n",
    "best_feature"
   ]
  },
  {
   "cell_type": "code",
   "execution_count": 4,
   "id": "8c7b2e14-9c7d-4051-95be-6aa289676df8",
   "metadata": {},
   "outputs": [],
   "source": [
    "#Useful functions\n",
    "symbol_id = -1\n",
    "def create_symbol(suffix=''):\n",
    "    global symbol_id\n",
    "    symbol_id += 1\n",
    "    name = f'e{symbol_id}_{suffix}' if suffix else f'e{symbol_id}'\n",
    "    return sympy.Symbol(name=name)\n",
    "\n",
    "\n",
    "scaler_symbols = set([sb(f'k{i}') for i in range(X_train.shape[1]+1)])\n",
    "linearization_dict = dict()\n",
    "reverse_linearization_dict = dict()\n",
    "\n",
    "def inject_sensitive_ranges(X, y, uncertain_attr, uncertain_num, boundary_indices, uncertain_radius_pct=None, \n",
    "                  uncertain_radius=None, seed=42):\n",
    "    global symbol_id\n",
    "    symbol_id = -1\n",
    "    \n",
    "    X_extended = np.append(np.ones((len(X), 1)), X, axis=1)\n",
    "    ss = StandardScaler()\n",
    "    X_extended[:, 1:] = ss.fit_transform(X_extended[:, 1:])\n",
    "    X_extended_symb = sympy.Matrix(X_extended)\n",
    "    \n",
    "    if not(uncertain_attr=='y'):\n",
    "        uncertain_attr_idx = X.columns.to_list().index(uncertain_attr) + 1\n",
    "        if not(uncertain_radius):\n",
    "            uncertain_radius = uncertain_radius_pct*(np.max(X_extended[:, uncertain_attr_idx])-\\\n",
    "                                                     np.min(X_extended[:, uncertain_attr_idx]))\n",
    "    else:\n",
    "        if not(uncertain_radius):\n",
    "            uncertain_radius = uncertain_radius_pct*(y_train.max()-y_train.min())[0]\n",
    "    \n",
    "    np.random.seed(seed)\n",
    "    uncertain_indices = boundary_indices[:uncertain_num]\n",
    "    y_symb = sympy.Matrix(y)\n",
    "    symbols_in_data = set()\n",
    "    #print(uncertain_indices)\n",
    "    for uncertain_idx in uncertain_indices:\n",
    "        new_symb = create_symbol()\n",
    "        symbols_in_data.add(new_symb)\n",
    "        if uncertain_attr=='y':\n",
    "            y_symb[uncertain_idx] = y_symb[uncertain_idx] + uncertain_radius*new_symb\n",
    "        else:\n",
    "            X_extended_symb[uncertain_idx, uncertain_attr_idx] = X_extended_symb[uncertain_idx, uncertain_attr_idx] + uncertain_radius*new_symb\n",
    "    return X_extended_symb, y_symb, symbols_in_data, ss\n",
    "\n",
    "# if interval=True, use interval arithmetic, otherwise use zonotopes\n",
    "def compute_robustness_ratio_sensitive_label_error(X_train, y_train, X_test, y_test, robustness_radius,\n",
    "                                         uncertain_num, boundary_indices, uncertain_radius=None, \n",
    "                                         lr=0.1, seed=42, interval=True):\n",
    "    X, y, symbols_in_data, ss = inject_sensitive_ranges(X=X_train, y=y_train, uncertain_attr='y', \n",
    "                                              uncertain_num=uncertain_num, boundary_indices=boundary_indices, \n",
    "                                              uncertain_radius=uncertain_radius, \n",
    "                                              uncertain_radius_pct=None, seed=seed)\n",
    "    \n",
    "    assert len(X.free_symbols)==0\n",
    "    # closed-form\n",
    "    param = (X.T*X).inv()*X.T*y\n",
    "    \n",
    "    if interval:\n",
    "        # make param intervals\n",
    "        for d in range(len(param)):\n",
    "            expr = param[d]\n",
    "            if not(expr.free_symbols):\n",
    "                continue\n",
    "            else:\n",
    "                constant_part = 0\n",
    "                interval_radius = 0\n",
    "                for arg in expr.args:\n",
    "                    if arg.free_symbols:\n",
    "                        interval_radius += abs(arg.args[0])\n",
    "                    else:\n",
    "                        assert constant_part == 0\n",
    "                        constant_part = arg\n",
    "                param[d] = constant_part + create_symbol()*interval_radius\n",
    "    \n",
    "    test_preds = sympy.Matrix(np.append(np.ones((len(X_test), 1)), ss.transform(X_test), axis=1))*param\n",
    "    robustness_ls = []\n",
    "    for pred in test_preds:\n",
    "        pred_range_radius = 0\n",
    "        for arg in pred.args:\n",
    "            if arg.free_symbols:\n",
    "                pred_range_radius += abs(arg.args[0])\n",
    "        if pred_range_radius <= robustness_radius:\n",
    "            robustness_ls.append(1)\n",
    "        else:\n",
    "            robustness_ls.append(0)\n",
    "    \n",
    "#     print(param)\n",
    "    return np.mean(robustness_ls)\n",
    "\n",
    "def inject_ranges(X, y, uncertain_attr, uncertain_num, uncertain_radius_pct=None, uncertain_radius=None, seed=42):\n",
    "    global symbol_id\n",
    "    symbol_id = -1\n",
    "    \n",
    "    X_extended = np.append(np.ones((len(X), 1)), X, axis=1)\n",
    "    ss = StandardScaler()\n",
    "    X_extended[:, 1:] = ss.fit_transform(X_extended[:, 1:])\n",
    "    X_extended_symb = sympy.Matrix(X_extended)\n",
    "    \n",
    "    if not(uncertain_attr=='y'):\n",
    "        uncertain_attr_idx = X.columns.to_list().index(uncertain_attr) + 1\n",
    "        if not(uncertain_radius):\n",
    "            uncertain_radius = uncertain_radius_pct*(np.max(X_extended[:, uncertain_attr_idx])-\\\n",
    "                                                     np.min(X_extended[:, uncertain_attr_idx]))\n",
    "    else:\n",
    "        if not(uncertain_radius):\n",
    "            uncertain_radius = uncertain_radius_pct*(y_train.max()-y_train.min())[0]\n",
    "    \n",
    "    np.random.seed(seed)\n",
    "    uncertain_indices = np.random.choice(range(len(y)), uncertain_num, replace=False)\n",
    "    y_symb = sympy.Matrix(y)\n",
    "    symbols_in_data = set()\n",
    "    for uncertain_idx in uncertain_indices:\n",
    "        new_symb = create_symbol()\n",
    "        symbols_in_data.add(new_symb)\n",
    "        if uncertain_attr=='y':\n",
    "            y_symb[uncertain_idx] = y_symb[uncertain_idx] + uncertain_radius*new_symb\n",
    "        else:\n",
    "            X_extended_symb[uncertain_idx, uncertain_attr_idx] = X_extended_symb[uncertain_idx, uncertain_attr_idx] + uncertain_radius*new_symb\n",
    "    return X_extended_symb, y_symb, symbols_in_data, ss\n",
    "\n",
    "# if interval=True, use interval arithmetic, otherwise use zonotopes\n",
    "def compute_robustness_ratio_label_error(X_train, y_train, X_test, y_test, robustness_radius,\n",
    "                                         uncertain_num, uncertain_radius=None, \n",
    "                                         lr=0.1, seed=42, interval=True):\n",
    "    X, y, symbols_in_data, ss = inject_ranges(X=X_train, y=y_train, uncertain_attr='y', \n",
    "                                              uncertain_num=uncertain_num, uncertain_radius=uncertain_radius, \n",
    "                                              uncertain_radius_pct=None, seed=seed)\n",
    "    \n",
    "    assert len(X.free_symbols)==0\n",
    "    # closed-form\n",
    "    param = (X.T*X).inv()*X.T*y\n",
    "    \n",
    "    if interval:\n",
    "        # make param intervals\n",
    "        for d in range(len(param)):\n",
    "            expr = param[d]\n",
    "            if not(expr.free_symbols):\n",
    "                continue\n",
    "            else:\n",
    "                constant_part = 0\n",
    "                interval_radius = 0\n",
    "                for arg in expr.args:\n",
    "                    if arg.free_symbols:\n",
    "                        interval_radius += abs(arg.args[0])\n",
    "                    else:\n",
    "                        assert constant_part == 0\n",
    "                        constant_part = arg\n",
    "                param[d] = constant_part + create_symbol()*interval_radius\n",
    "    \n",
    "    test_preds = sympy.Matrix(np.append(np.ones((len(X_test), 1)), ss.transform(X_test), axis=1))*param\n",
    "    robustness_ls = []\n",
    "    for pred in test_preds:\n",
    "        pred_range_radius = 0\n",
    "        for arg in pred.args:\n",
    "            if arg.free_symbols:\n",
    "                pred_range_radius += abs(arg.args[0])\n",
    "        if pred_range_radius <= robustness_radius:\n",
    "            robustness_ls.append(1)\n",
    "        else:\n",
    "            robustness_ls.append(0)\n",
    "    \n",
    "#     print(param)\n",
    "    return np.mean(robustness_ls)"
   ]
  },
  {
   "cell_type": "code",
   "execution_count": 5,
   "id": "a82ac82e-489a-462d-978d-c74cda380da9",
   "metadata": {},
   "outputs": [],
   "source": [
    "#accuracy r2 = True; rmse, mse = False for maximize\n",
    "def leave_one_out(X_train, y_train, X_test, y_test, model, metric, maximize=True): \n",
    "    predictions = model.fit(X_train, y_train).predict(X_test)\n",
    "    initial_metric = metric(y_test.to_numpy(), predictions)\n",
    "    influence_results = []\n",
    "   \n",
    "    for i in range(len(X_train)):\n",
    "        X_train_new = np.delete(X_train, i, axis=0)\n",
    "        y_train_new = np.delete(y_train, i, axis=0)\n",
    "       \n",
    "        model_clone = model.__class__(**model.get_params())\n",
    "        new_preds = model_clone.fit(X_train_new, y_train_new).predict(X_test)\n",
    "        new_metric = metric(y_test.to_numpy(), new_preds)\n",
    "       \n",
    "        metric_diff = (initial_metric - new_metric) if maximize else (new_metric - initial_metric)\n",
    "        \n",
    "        influence_results.append((i, metric_diff))\n",
    "       \n",
    "       \n",
    "   \n",
    "    influence_results = sorted(influence_results,key=lambda x: x[1], reverse=True)\n",
    "    #print(influence_results)\n",
    "    return [i[0] for i in influence_results]\n",
    "\n",
    "def mae(y_true, y_pred):\n",
    "    return sum(abs(y_true - y_pred))/len(y_true)\n",
    "\n",
    "def mse(y_true, y_pred):\n",
    "    return sum((y_true - y_pred)**2)/len(y_true)\n",
    "\n",
    "def r_squared(y_true, y_pred):\n",
    "    y_bar = np.mean(y_true)\n",
    "    return 1 -(sum((y_true - y_pred)**2)/sum((y_true-y_bar)**2))\n",
    "\n",
    "def rmse(y_true, y_pred):\n",
    "    return np.sqrt(sum((y_true - y_pred)**2)/len(y_true))"
   ]
  },
  {
   "cell_type": "code",
   "execution_count": 6,
   "id": "2d110dc2-ce94-4450-a032-9495d65eff8a",
   "metadata": {},
   "outputs": [],
   "source": [
    "lr = LinearRegression()\n",
    "X_train, X_test, y_train, y_test = X_train.reset_index(drop=True) , X_test.reset_index(drop=True) , y_train.reset_index(drop=True) , y_test.reset_index(drop=True)\n",
    "boundary_indices = leave_one_out(X_train, y_train, X_test, y_test, lr, mse, maximize=False)"
   ]
  },
  {
   "cell_type": "code",
   "execution_count": 7,
   "id": "06a92ec3-a6f0-4401-8682-aa090ece0f88",
   "metadata": {},
   "outputs": [
    {
     "data": {
      "text/plain": [
       "[(0, 24.0), (0, 39.5), (26.0, 64.0)]"
      ]
     },
     "execution_count": 7,
     "metadata": {},
     "output_type": "execute_result"
    }
   ],
   "source": [
    "# Decision Tree research: 1% of the data\n",
    "array_indexes = np.zeros(len(X_train))\n",
    "perc = 0.1 * len(X_train)\n",
    "for i in range(0, len(X_train)):\n",
    "    if i <= perc:\n",
    "        index = boundary_indices[i]\n",
    "        array_indexes[index] = 1\n",
    "\n",
    "clf = DecisionTreeClassifier(max_depth=None)\n",
    "clf.fit(X_train, array_indexes)\n",
    "\n",
    "feature_max_values = X_train.max()\n",
    "\n",
    "def get_positive_paths(tree, feature_names, node=0, depth=0, conditions=None, results=None, min_positive_ratio=0.5):\n",
    "    if conditions is None:\n",
    "        conditions = {}\n",
    "    if results is None:\n",
    "        results = []\n",
    "\n",
    "    left_child = tree.children_left[node]\n",
    "    right_child = tree.children_right[node]\n",
    "    threshold = tree.threshold[node]\n",
    "    feature = tree.feature[node]\n",
    "\n",
    "    # Count samples in this node\n",
    "    sample_count = int(tree.n_node_samples[node])\n",
    "    positive_count = int(tree.value[node][0, 1]) if tree.n_outputs == 1 else int(tree.value[node][0][1])\n",
    "    negative_count = int(tree.value[node][0, 0]) if tree.n_outputs == 1 else int(tree.value[node][0][0])\n",
    "\n",
    "    # Calculate the positive ratio for this node\n",
    "    positive_ratio = positive_count / sample_count if sample_count > 0 else 0\n",
    "\n",
    "    # If it's a leaf or qualifies as a 'positive node' by ratio, store the path\n",
    "    if (left_child == _tree.TREE_LEAF and right_child == _tree.TREE_LEAF) or positive_ratio >= min_positive_ratio:\n",
    "        path_conditions = {}\n",
    "        for feat, bounds in conditions.items():\n",
    "            lower_bound = bounds.get('lower', 0)\n",
    "            upper_bound = bounds.get('upper', feature_max_values.get(feat, '∞'))  # Use the max value for the feature\n",
    "            path_conditions[feat] = (lower_bound, upper_bound)\n",
    "        \n",
    "        # Only store if there are significant positives\n",
    "        if positive_count > 0:  # Ensure that there's at least one positive sample\n",
    "            results.append((positive_count, sample_count, path_conditions, positive_ratio, depth))\n",
    "\n",
    "    # Update bounds for the current feature in conditions and recurse\n",
    "    feature_name = feature_names[feature] if feature != _tree.TREE_UNDEFINED else None\n",
    "    if left_child != _tree.TREE_LEAF and feature_name:\n",
    "        # Left child represents the <= threshold split\n",
    "        new_conditions = {k: v.copy() for k, v in conditions.items()}\n",
    "        new_conditions.setdefault(feature_name, {}).update({'upper': threshold})\n",
    "        get_positive_paths(tree, feature_names, left_child, depth + 1, new_conditions, results, min_positive_ratio)\n",
    "\n",
    "    if right_child != _tree.TREE_LEAF and feature_name:\n",
    "        # Right child represents the > threshold split\n",
    "        new_conditions = {k: v.copy() for k, v in conditions.items()}\n",
    "        new_conditions.setdefault(feature_name, {}).update({'lower': threshold})\n",
    "        get_positive_paths(tree, feature_names, right_child, depth + 1, new_conditions, results, min_positive_ratio)\n",
    "\n",
    "    # Print and store paths after completing all nodes, if we are at the root node\n",
    "    if node == 0:\n",
    "        # Sort results first by depth (root to leaf), then by positive ratio, and then by positive count\n",
    "        top_results = sorted(results, key=lambda x: (x[4], x[3], x[0]), reverse=False)[:3]  # Prioritize by depth first\n",
    "        \n",
    "        # Store top thresholds\n",
    "        top_thresholds = []\n",
    "        for idx, (pos_count, total_count, conditions, pos_ratio, dep) in enumerate(top_results, start=1):\n",
    "            top_thresholds.append(conditions)  # Save conditions (thresholds) for each scenario    \n",
    "        return top_thresholds\n",
    "            \n",
    "tree = clf.tree_\n",
    "feature_names = X_train.columns\n",
    "best_thresholds = get_positive_paths(tree, feature_names)\n",
    "thresholds = [thres[best_feature] for thres in best_thresholds if best_feature in thres]\n",
    "thresholds"
   ]
  },
  {
   "cell_type": "code",
   "execution_count": 8,
   "id": "5e052fa7-692c-44bd-848d-0c6adeaf986b",
   "metadata": {},
   "outputs": [],
   "source": [
    "def discretize_and_sample(X_train, feature, thresholds, total_samples, num_bins):\n",
    "    feature_values = X_train[feature]  # Extract the column of interest\n",
    "    min_val, max_val = feature_values.min(), feature_values.max()\n",
    "\n",
    "    # Ensure the values are within the valid range of bins (clip out-of-range values)\n",
    "    feature_values = feature_values.clip(lower=min_val, upper=max_val)\n",
    "\n",
    "    # Dynamically calculate bin edges based on the feature values range\n",
    "    bin_edges = np.linspace(min_val, max_val, num_bins + 1)\n",
    "    bin_counts, bin_labels = pd.cut(feature_values, bins=bin_edges, labels=False, retbins=True)\n",
    "\n",
    "    selected_bins_by_threshold = []  # Combined threshold list\n",
    "    for thresh in thresholds:  # Iterate over age thresholds\n",
    "        selected_bins = []  # New bin list for that respective threshold\n",
    "        for bin_idx in range(num_bins):  # For each bin\n",
    "            bin_lower = bin_edges[bin_idx]  # Get lower bin threshold at bin_idx\n",
    "            bin_upper = bin_edges[bin_idx + 1]  # Get upper bin threshold at bin_idx\n",
    "            if thresh[0] <= bin_lower and thresh[1] >= bin_upper:  # If bin meets threshold requirements\n",
    "                selected_bins.append(bin_idx)\n",
    "        selected_bins_by_threshold.append(selected_bins)  # Add threshold bin list to combined threshold list\n",
    "\n",
    "    sampled_indices = set()\n",
    "\n",
    "    for threshold_idx, selected_bins in enumerate(selected_bins_by_threshold):\n",
    "        bin_freqs = feature_values.groupby(bin_counts).size()  # Calculate bin frequency of each bin for this threshold\n",
    "        \n",
    "        # Reindex to ensure all bins are accounted for, including those with zero frequency\n",
    "        bin_freqs = bin_freqs.reindex(range(num_bins), fill_value=0)\n",
    "\n",
    "        bin_priority = sorted([(bin_idx, bin_freqs[bin_idx])  # Sort by frequency of bin, decreasing\n",
    "                           for bin_idx in selected_bins], \n",
    "                          key=lambda x: -x[1]) \n",
    "\n",
    "        for bin_idx, _ in bin_priority:  # Enumerate over the bins ordered by frequency for this threshold\n",
    "            bin_indices = feature_values[bin_counts == bin_idx].index  # Get the indices\n",
    "            needed = total_samples - len(sampled_indices)  # Get however many values are still needed to grab\n",
    "            \n",
    "            for idx in bin_indices:  # Iterate over indices\n",
    "                if len(sampled_indices) < total_samples:\n",
    "                    sampled_indices.add(idx)\n",
    "                else:\n",
    "                    break\n",
    "            if len(sampled_indices) >= total_samples:\n",
    "                break\n",
    "\n",
    "        if len(sampled_indices) >= total_samples:  # End early if total samples needed is met\n",
    "            break\n",
    "            \n",
    "    return list(sampled_indices), bin_edges\n",
    "\n",
    "def find_best_bin_size(X_train, y_train, X_test, y_test, feature, thresholds, ratio, robustness_radius, uncertain_percentage):\n",
    "\n",
    "    label_range = (y_train.max() - y_train.min())\n",
    "    uncertain_radius = ratio * label_range\n",
    "    min_robustness_ratio = float('inf')\n",
    "    best_bins = None\n",
    "    best_result = None\n",
    "    \n",
    "    # Wrapping the range with tqdm to display a progress bar\n",
    "    for num_bins in tqdm(range(5, 51), desc='Testing bin sizes'):  # Progress bar with a description\n",
    "        sampled_indices, bin_edges = discretize_and_sample(X_train, feature, thresholds, \n",
    "                                                           total_samples=int(uncertain_percentage * len(X_train)), \n",
    "                                                           num_bins=num_bins)\n",
    "        \n",
    "        boundary_indices = np.array(sampled_indices)\n",
    "        robustness_ratio = compute_robustness_ratio_sensitive_label_error(\n",
    "            X_train, y_train, X_test, y_test,\n",
    "            uncertain_num=int(uncertain_percentage * len(X_train)),\n",
    "            boundary_indices=boundary_indices,\n",
    "            uncertain_radius=uncertain_radius,\n",
    "            robustness_radius=robustness_radius,\n",
    "            interval=False\n",
    "        )\n",
    "        \n",
    "        if robustness_ratio < min_robustness_ratio:\n",
    "            min_robustness_ratio = robustness_ratio\n",
    "            best_bins = num_bins\n",
    "            best_result = (bin_edges, robustness_ratio)\n",
    "        elif robustness_ratio == min_robustness_ratio:\n",
    "            if num_bins > best_bins:\n",
    "                best_bins = num_bins\n",
    "                best_result = (bin_edges, robustness_ratio)\n",
    "    \n",
    "    return best_bins, best_result"
   ]
  },
  {
   "cell_type": "code",
   "execution_count": 9,
   "id": "4f4de60c-4f18-44af-9f22-bead5aa65421",
   "metadata": {},
   "outputs": [
    {
     "data": {
      "application/vnd.jupyter.widget-view+json": {
       "model_id": "62de514411f04bea9d2a20d968c5acac",
       "version_major": 2,
       "version_minor": 0
      },
      "text/plain": [
       "Testing bin sizes:   0%|          | 0/46 [00:00<?, ?it/s]"
      ]
     },
     "metadata": {},
     "output_type": "display_data"
    }
   ],
   "source": [
    "best_bins, best_result = find_best_bin_size(X_train, y_train, X_test, y_test, best_feature, thresholds, 0.08, 500, 0.1)"
   ]
  },
  {
   "cell_type": "code",
   "execution_count": 10,
   "id": "c434996e-33a9-453b-b056-05b5cc10820c",
   "metadata": {},
   "outputs": [
    {
     "data": {
      "text/plain": [
       "(36,\n",
       " (array([18.        , 19.27777778, 20.55555556, 21.83333333, 23.11111111,\n",
       "         24.38888889, 25.66666667, 26.94444444, 28.22222222, 29.5       ,\n",
       "         30.77777778, 32.05555556, 33.33333333, 34.61111111, 35.88888889,\n",
       "         37.16666667, 38.44444444, 39.72222222, 41.        , 42.27777778,\n",
       "         43.55555556, 44.83333333, 46.11111111, 47.38888889, 48.66666667,\n",
       "         49.94444444, 51.22222222, 52.5       , 53.77777778, 55.05555556,\n",
       "         56.33333333, 57.61111111, 58.88888889, 60.16666667, 61.44444444,\n",
       "         62.72222222, 64.        ]),\n",
       "  0.25))"
      ]
     },
     "execution_count": 10,
     "metadata": {},
     "output_type": "execute_result"
    }
   ],
   "source": [
    "best_bins, best_result"
   ]
  },
  {
   "cell_type": "code",
   "execution_count": 11,
   "id": "93cbddc7-f410-4c2c-8a7b-e6a9f207457e",
   "metadata": {},
   "outputs": [],
   "source": [
    "boundary_indices, bin_edges = discretize_and_sample(X_train, best_feature, thresholds, total_samples=int(0.1 * len(X_train)), num_bins=best_bins)"
   ]
  },
  {
   "cell_type": "code",
   "execution_count": 12,
   "id": "234eb869-eb21-4550-baa6-b0de64588acd",
   "metadata": {},
   "outputs": [
    {
     "data": {
      "text/plain": [
       "1070"
      ]
     },
     "execution_count": 12,
     "metadata": {},
     "output_type": "execute_result"
    }
   ],
   "source": [
    "len(X_train)"
   ]
  },
  {
   "cell_type": "code",
   "execution_count": 13,
   "id": "4cf6c4ce-2e00-4947-adb7-d28012ea8e2b",
   "metadata": {},
   "outputs": [
    {
     "data": {
      "text/plain": [
       "[1024,\n",
       " 10,\n",
       " 523,\n",
       " 12,\n",
       " 1037,\n",
       " 15,\n",
       " 534,\n",
       " 26,\n",
       " 545,\n",
       " 1057,\n",
       " 548,\n",
       " 1063,\n",
       " 1064,\n",
       " 43,\n",
       " 65,\n",
       " 73,\n",
       " 79,\n",
       " 80,\n",
       " 86,\n",
       " 610,\n",
       " 611,\n",
       " 109,\n",
       " 622,\n",
       " 114,\n",
       " 628,\n",
       " 126,\n",
       " 130,\n",
       " 131,\n",
       " 652,\n",
       " 149,\n",
       " 663,\n",
       " 664,\n",
       " 151,\n",
       " 157,\n",
       " 158,\n",
       " 161,\n",
       " 674,\n",
       " 163,\n",
       " 164,\n",
       " 182,\n",
       " 187,\n",
       " 189,\n",
       " 190,\n",
       " 191,\n",
       " 192,\n",
       " 701,\n",
       " 194,\n",
       " 714,\n",
       " 715,\n",
       " 206,\n",
       " 218,\n",
       " 220,\n",
       " 221,\n",
       " 236,\n",
       " 241,\n",
       " 760,\n",
       " 264,\n",
       " 265,\n",
       " 271,\n",
       " 787,\n",
       " 790,\n",
       " 798,\n",
       " 287,\n",
       " 294,\n",
       " 810,\n",
       " 811,\n",
       " 302,\n",
       " 308,\n",
       " 309,\n",
       " 310,\n",
       " 315,\n",
       " 321,\n",
       " 328,\n",
       " 842,\n",
       " 856,\n",
       " 345,\n",
       " 860,\n",
       " 862,\n",
       " 359,\n",
       " 871,\n",
       " 370,\n",
       " 373,\n",
       " 887,\n",
       " 379,\n",
       " 901,\n",
       " 397,\n",
       " 400,\n",
       " 929,\n",
       " 417,\n",
       " 427,\n",
       " 940,\n",
       " 429,\n",
       " 947,\n",
       " 436,\n",
       " 441,\n",
       " 445,\n",
       " 957,\n",
       " 466,\n",
       " 991,\n",
       " 993,\n",
       " 999,\n",
       " 491,\n",
       " 493,\n",
       " 498,\n",
       " 501,\n",
       " 1018,\n",
       " 508]"
      ]
     },
     "execution_count": 13,
     "metadata": {},
     "output_type": "execute_result"
    }
   ],
   "source": [
    "boundary_indices"
   ]
  },
  {
   "cell_type": "code",
   "execution_count": 14,
   "id": "2a45006a-57ed-470b-b8d5-24efd8efc734",
   "metadata": {},
   "outputs": [
    {
     "data": {
      "application/vnd.jupyter.widget-view+json": {
       "model_id": "baa2cfb1259f4c80a4c10b48c4a34708",
       "version_major": 2,
       "version_minor": 0
      },
      "text/plain": [
       "Progess:   0%|          | 0/10 [00:00<?, ?it/s]"
      ]
     },
     "metadata": {},
     "output_type": "display_data"
    },
    {
     "data": {
      "application/vnd.jupyter.widget-view+json": {
       "model_id": "921929181ce2417bb74f35ee919416d0",
       "version_major": 2,
       "version_minor": 0
      },
      "text/plain": [
       "Varying Uncertain Radius:   0%|          | 0/4 [00:00<?, ?it/s]"
      ]
     },
     "metadata": {},
     "output_type": "display_data"
    },
    {
     "data": {
      "application/vnd.jupyter.widget-view+json": {
       "model_id": "b0938e657d4840668491ffe4b6c0c86f",
       "version_major": 2,
       "version_minor": 0
      },
      "text/plain": [
       "Varying Uncertain Radius:   0%|          | 0/4 [00:00<?, ?it/s]"
      ]
     },
     "metadata": {},
     "output_type": "display_data"
    },
    {
     "data": {
      "application/vnd.jupyter.widget-view+json": {
       "model_id": "f91aeaf5099e44e7b5fce57aff13404b",
       "version_major": 2,
       "version_minor": 0
      },
      "text/plain": [
       "Varying Uncertain Radius:   0%|          | 0/4 [00:00<?, ?it/s]"
      ]
     },
     "metadata": {},
     "output_type": "display_data"
    },
    {
     "data": {
      "application/vnd.jupyter.widget-view+json": {
       "model_id": "7a1abdd6a9e44ef58f36674ae707c6d1",
       "version_major": 2,
       "version_minor": 0
      },
      "text/plain": [
       "Varying Uncertain Radius:   0%|          | 0/4 [00:00<?, ?it/s]"
      ]
     },
     "metadata": {},
     "output_type": "display_data"
    },
    {
     "data": {
      "application/vnd.jupyter.widget-view+json": {
       "model_id": "31dda4e241584801b1e6ea50aeb03530",
       "version_major": 2,
       "version_minor": 0
      },
      "text/plain": [
       "Varying Uncertain Radius:   0%|          | 0/4 [00:00<?, ?it/s]"
      ]
     },
     "metadata": {},
     "output_type": "display_data"
    },
    {
     "data": {
      "application/vnd.jupyter.widget-view+json": {
       "model_id": "5ca70fdd91ef4ddd8bc5672f4b36c2b9",
       "version_major": 2,
       "version_minor": 0
      },
      "text/plain": [
       "Varying Uncertain Radius:   0%|          | 0/4 [00:00<?, ?it/s]"
      ]
     },
     "metadata": {},
     "output_type": "display_data"
    },
    {
     "data": {
      "application/vnd.jupyter.widget-view+json": {
       "model_id": "bf65a97eeea8449d8ce36dd8a831cc45",
       "version_major": 2,
       "version_minor": 0
      },
      "text/plain": [
       "Varying Uncertain Radius:   0%|          | 0/4 [00:00<?, ?it/s]"
      ]
     },
     "metadata": {},
     "output_type": "display_data"
    },
    {
     "data": {
      "application/vnd.jupyter.widget-view+json": {
       "model_id": "a42af7fe25b647aeb80b2dcc9317996d",
       "version_major": 2,
       "version_minor": 0
      },
      "text/plain": [
       "Varying Uncertain Radius:   0%|          | 0/4 [00:00<?, ?it/s]"
      ]
     },
     "metadata": {},
     "output_type": "display_data"
    },
    {
     "data": {
      "application/vnd.jupyter.widget-view+json": {
       "model_id": "d5f37608b6204f61b9e5e60e3a5e17e1",
       "version_major": 2,
       "version_minor": 0
      },
      "text/plain": [
       "Varying Uncertain Radius:   0%|          | 0/4 [00:00<?, ?it/s]"
      ]
     },
     "metadata": {},
     "output_type": "display_data"
    },
    {
     "data": {
      "application/vnd.jupyter.widget-view+json": {
       "model_id": "630236723f7b4de8a77940d175e905cc",
       "version_major": 2,
       "version_minor": 0
      },
      "text/plain": [
       "Varying Uncertain Radius:   0%|          | 0/4 [00:00<?, ?it/s]"
      ]
     },
     "metadata": {},
     "output_type": "display_data"
    },
    {
     "data": {
      "application/vnd.jupyter.widget-view+json": {
       "model_id": "54433017e2eb42e6ba7da794c9621d1e",
       "version_major": 2,
       "version_minor": 0
      },
      "text/plain": [
       "Progess:   0%|          | 0/10 [00:00<?, ?it/s]"
      ]
     },
     "metadata": {},
     "output_type": "display_data"
    },
    {
     "data": {
      "application/vnd.jupyter.widget-view+json": {
       "model_id": "52f801fd77f9404689992b85ae738c51",
       "version_major": 2,
       "version_minor": 0
      },
      "text/plain": [
       "Varying Uncertain Radius:   0%|          | 0/4 [00:00<?, ?it/s]"
      ]
     },
     "metadata": {},
     "output_type": "display_data"
    },
    {
     "data": {
      "application/vnd.jupyter.widget-view+json": {
       "model_id": "f5299ecf213e447b8196dabb8832ed38",
       "version_major": 2,
       "version_minor": 0
      },
      "text/plain": [
       "Varying Uncertain Radius:   0%|          | 0/4 [00:00<?, ?it/s]"
      ]
     },
     "metadata": {},
     "output_type": "display_data"
    },
    {
     "data": {
      "application/vnd.jupyter.widget-view+json": {
       "model_id": "e9077d2f37f045aa86523953ea79ba83",
       "version_major": 2,
       "version_minor": 0
      },
      "text/plain": [
       "Varying Uncertain Radius:   0%|          | 0/4 [00:00<?, ?it/s]"
      ]
     },
     "metadata": {},
     "output_type": "display_data"
    },
    {
     "data": {
      "application/vnd.jupyter.widget-view+json": {
       "model_id": "677239ea6ea7435a806f11cba5a3ffe9",
       "version_major": 2,
       "version_minor": 0
      },
      "text/plain": [
       "Varying Uncertain Radius:   0%|          | 0/4 [00:00<?, ?it/s]"
      ]
     },
     "metadata": {},
     "output_type": "display_data"
    },
    {
     "data": {
      "application/vnd.jupyter.widget-view+json": {
       "model_id": "4bda8bb304044248877cad823dc565bf",
       "version_major": 2,
       "version_minor": 0
      },
      "text/plain": [
       "Varying Uncertain Radius:   0%|          | 0/4 [00:00<?, ?it/s]"
      ]
     },
     "metadata": {},
     "output_type": "display_data"
    },
    {
     "data": {
      "application/vnd.jupyter.widget-view+json": {
       "model_id": "76e32e3bf7074da59d5c800f444ba120",
       "version_major": 2,
       "version_minor": 0
      },
      "text/plain": [
       "Varying Uncertain Radius:   0%|          | 0/4 [00:00<?, ?it/s]"
      ]
     },
     "metadata": {},
     "output_type": "display_data"
    },
    {
     "data": {
      "application/vnd.jupyter.widget-view+json": {
       "model_id": "dc8844e009824efab35bade5f41d95ac",
       "version_major": 2,
       "version_minor": 0
      },
      "text/plain": [
       "Varying Uncertain Radius:   0%|          | 0/4 [00:00<?, ?it/s]"
      ]
     },
     "metadata": {},
     "output_type": "display_data"
    },
    {
     "data": {
      "application/vnd.jupyter.widget-view+json": {
       "model_id": "79a1cc8c2342459ea00dfaea8de94ea4",
       "version_major": 2,
       "version_minor": 0
      },
      "text/plain": [
       "Varying Uncertain Radius:   0%|          | 0/4 [00:00<?, ?it/s]"
      ]
     },
     "metadata": {},
     "output_type": "display_data"
    },
    {
     "data": {
      "application/vnd.jupyter.widget-view+json": {
       "model_id": "04ca40490a23466d8d9ca91bd50804cc",
       "version_major": 2,
       "version_minor": 0
      },
      "text/plain": [
       "Varying Uncertain Radius:   0%|          | 0/4 [00:00<?, ?it/s]"
      ]
     },
     "metadata": {},
     "output_type": "display_data"
    },
    {
     "data": {
      "application/vnd.jupyter.widget-view+json": {
       "model_id": "83b76575f990470ba8e2ce6134c5c1e0",
       "version_major": 2,
       "version_minor": 0
      },
      "text/plain": [
       "Varying Uncertain Radius:   0%|          | 0/4 [00:00<?, ?it/s]"
      ]
     },
     "metadata": {},
     "output_type": "display_data"
    },
    {
     "data": {
      "application/vnd.jupyter.widget-view+json": {
       "model_id": "4eac20155e9346e1af961a328a1084ed",
       "version_major": 2,
       "version_minor": 0
      },
      "text/plain": [
       "Progess:   0%|          | 0/10 [00:00<?, ?it/s]"
      ]
     },
     "metadata": {},
     "output_type": "display_data"
    },
    {
     "data": {
      "application/vnd.jupyter.widget-view+json": {
       "model_id": "5ba35f03ac334f009da667127ba6a5cd",
       "version_major": 2,
       "version_minor": 0
      },
      "text/plain": [
       "Varying Uncertain Radius:   0%|          | 0/4 [00:00<?, ?it/s]"
      ]
     },
     "metadata": {},
     "output_type": "display_data"
    },
    {
     "data": {
      "application/vnd.jupyter.widget-view+json": {
       "model_id": "c2af302fb4754998a90056b69f253075",
       "version_major": 2,
       "version_minor": 0
      },
      "text/plain": [
       "Varying Uncertain Radius:   0%|          | 0/4 [00:00<?, ?it/s]"
      ]
     },
     "metadata": {},
     "output_type": "display_data"
    },
    {
     "data": {
      "application/vnd.jupyter.widget-view+json": {
       "model_id": "3b65033b4f0a422f87717ad5204a4fff",
       "version_major": 2,
       "version_minor": 0
      },
      "text/plain": [
       "Varying Uncertain Radius:   0%|          | 0/4 [00:00<?, ?it/s]"
      ]
     },
     "metadata": {},
     "output_type": "display_data"
    },
    {
     "data": {
      "application/vnd.jupyter.widget-view+json": {
       "model_id": "ce54ddb0b3624fc8807420169135aed7",
       "version_major": 2,
       "version_minor": 0
      },
      "text/plain": [
       "Varying Uncertain Radius:   0%|          | 0/4 [00:00<?, ?it/s]"
      ]
     },
     "metadata": {},
     "output_type": "display_data"
    },
    {
     "data": {
      "application/vnd.jupyter.widget-view+json": {
       "model_id": "5a2ecea4323945298f903820f7bb18c8",
       "version_major": 2,
       "version_minor": 0
      },
      "text/plain": [
       "Varying Uncertain Radius:   0%|          | 0/4 [00:00<?, ?it/s]"
      ]
     },
     "metadata": {},
     "output_type": "display_data"
    },
    {
     "data": {
      "application/vnd.jupyter.widget-view+json": {
       "model_id": "684c1cf218cf41b993a283ea883acd23",
       "version_major": 2,
       "version_minor": 0
      },
      "text/plain": [
       "Varying Uncertain Radius:   0%|          | 0/4 [00:00<?, ?it/s]"
      ]
     },
     "metadata": {},
     "output_type": "display_data"
    },
    {
     "data": {
      "application/vnd.jupyter.widget-view+json": {
       "model_id": "6ea1fc526be14efca4f6fad06820025a",
       "version_major": 2,
       "version_minor": 0
      },
      "text/plain": [
       "Varying Uncertain Radius:   0%|          | 0/4 [00:00<?, ?it/s]"
      ]
     },
     "metadata": {},
     "output_type": "display_data"
    },
    {
     "data": {
      "application/vnd.jupyter.widget-view+json": {
       "model_id": "c92b05e042cc40a1a7f942b3ac742eb3",
       "version_major": 2,
       "version_minor": 0
      },
      "text/plain": [
       "Varying Uncertain Radius:   0%|          | 0/4 [00:00<?, ?it/s]"
      ]
     },
     "metadata": {},
     "output_type": "display_data"
    },
    {
     "data": {
      "application/vnd.jupyter.widget-view+json": {
       "model_id": "12c8f5169ca94255b986d51ffc34fb5b",
       "version_major": 2,
       "version_minor": 0
      },
      "text/plain": [
       "Varying Uncertain Radius:   0%|          | 0/4 [00:00<?, ?it/s]"
      ]
     },
     "metadata": {},
     "output_type": "display_data"
    },
    {
     "data": {
      "application/vnd.jupyter.widget-view+json": {
       "model_id": "e96c3cbdcb964c01a1ea8fe85e656696",
       "version_major": 2,
       "version_minor": 0
      },
      "text/plain": [
       "Varying Uncertain Radius:   0%|          | 0/4 [00:00<?, ?it/s]"
      ]
     },
     "metadata": {},
     "output_type": "display_data"
    },
    {
     "data": {
      "application/vnd.jupyter.widget-view+json": {
       "model_id": "6359bff54e4b431dad674cb505a5a550",
       "version_major": 2,
       "version_minor": 0
      },
      "text/plain": [
       "Progess:   0%|          | 0/10 [00:00<?, ?it/s]"
      ]
     },
     "metadata": {},
     "output_type": "display_data"
    },
    {
     "data": {
      "application/vnd.jupyter.widget-view+json": {
       "model_id": "cbf2fcb657764938abda351ff73e2c2a",
       "version_major": 2,
       "version_minor": 0
      },
      "text/plain": [
       "Varying Uncertain Radius:   0%|          | 0/4 [00:00<?, ?it/s]"
      ]
     },
     "metadata": {},
     "output_type": "display_data"
    },
    {
     "data": {
      "application/vnd.jupyter.widget-view+json": {
       "model_id": "0954021db5b843159500bf3725860bd1",
       "version_major": 2,
       "version_minor": 0
      },
      "text/plain": [
       "Varying Uncertain Radius:   0%|          | 0/4 [00:00<?, ?it/s]"
      ]
     },
     "metadata": {},
     "output_type": "display_data"
    },
    {
     "data": {
      "application/vnd.jupyter.widget-view+json": {
       "model_id": "f15d4831a8e04188a5ffda35a067180c",
       "version_major": 2,
       "version_minor": 0
      },
      "text/plain": [
       "Varying Uncertain Radius:   0%|          | 0/4 [00:00<?, ?it/s]"
      ]
     },
     "metadata": {},
     "output_type": "display_data"
    },
    {
     "data": {
      "application/vnd.jupyter.widget-view+json": {
       "model_id": "a880a0e89fda4fa8b77404b150706e95",
       "version_major": 2,
       "version_minor": 0
      },
      "text/plain": [
       "Varying Uncertain Radius:   0%|          | 0/4 [00:00<?, ?it/s]"
      ]
     },
     "metadata": {},
     "output_type": "display_data"
    },
    {
     "data": {
      "application/vnd.jupyter.widget-view+json": {
       "model_id": "3290e696a84b43b5bb216def1865b37a",
       "version_major": 2,
       "version_minor": 0
      },
      "text/plain": [
       "Varying Uncertain Radius:   0%|          | 0/4 [00:00<?, ?it/s]"
      ]
     },
     "metadata": {},
     "output_type": "display_data"
    },
    {
     "data": {
      "application/vnd.jupyter.widget-view+json": {
       "model_id": "5ef63f7b4a6d44fba80ef802c6b9adba",
       "version_major": 2,
       "version_minor": 0
      },
      "text/plain": [
       "Varying Uncertain Radius:   0%|          | 0/4 [00:00<?, ?it/s]"
      ]
     },
     "metadata": {},
     "output_type": "display_data"
    },
    {
     "data": {
      "application/vnd.jupyter.widget-view+json": {
       "model_id": "aaceeaa45f844180b1222b5f80552460",
       "version_major": 2,
       "version_minor": 0
      },
      "text/plain": [
       "Varying Uncertain Radius:   0%|          | 0/4 [00:00<?, ?it/s]"
      ]
     },
     "metadata": {},
     "output_type": "display_data"
    },
    {
     "data": {
      "application/vnd.jupyter.widget-view+json": {
       "model_id": "d55b88764f054ba39db6549016fa5f9d",
       "version_major": 2,
       "version_minor": 0
      },
      "text/plain": [
       "Varying Uncertain Radius:   0%|          | 0/4 [00:00<?, ?it/s]"
      ]
     },
     "metadata": {},
     "output_type": "display_data"
    },
    {
     "data": {
      "application/vnd.jupyter.widget-view+json": {
       "model_id": "aa3e078caa574a24ad6520d8f09e1c88",
       "version_major": 2,
       "version_minor": 0
      },
      "text/plain": [
       "Varying Uncertain Radius:   0%|          | 0/4 [00:00<?, ?it/s]"
      ]
     },
     "metadata": {},
     "output_type": "display_data"
    },
    {
     "data": {
      "application/vnd.jupyter.widget-view+json": {
       "model_id": "64bbbf03a43642e4a2cc95c03b9e1bc0",
       "version_major": 2,
       "version_minor": 0
      },
      "text/plain": [
       "Varying Uncertain Radius:   0%|          | 0/4 [00:00<?, ?it/s]"
      ]
     },
     "metadata": {},
     "output_type": "display_data"
    },
    {
     "data": {
      "application/vnd.jupyter.widget-view+json": {
       "model_id": "64d41561633a4b1d95134bfa1f4afe27",
       "version_major": 2,
       "version_minor": 0
      },
      "text/plain": [
       "Progess:   0%|          | 0/10 [00:00<?, ?it/s]"
      ]
     },
     "metadata": {},
     "output_type": "display_data"
    },
    {
     "data": {
      "application/vnd.jupyter.widget-view+json": {
       "model_id": "25b0b3373c4145809f101a222fa0296e",
       "version_major": 2,
       "version_minor": 0
      },
      "text/plain": [
       "Varying Uncertain Radius:   0%|          | 0/4 [00:00<?, ?it/s]"
      ]
     },
     "metadata": {},
     "output_type": "display_data"
    },
    {
     "data": {
      "application/vnd.jupyter.widget-view+json": {
       "model_id": "40a00bf0126b4ecfa4063f1304d9e323",
       "version_major": 2,
       "version_minor": 0
      },
      "text/plain": [
       "Varying Uncertain Radius:   0%|          | 0/4 [00:00<?, ?it/s]"
      ]
     },
     "metadata": {},
     "output_type": "display_data"
    },
    {
     "data": {
      "application/vnd.jupyter.widget-view+json": {
       "model_id": "5fc4f8657aad414aa93bc5916b19fb70",
       "version_major": 2,
       "version_minor": 0
      },
      "text/plain": [
       "Varying Uncertain Radius:   0%|          | 0/4 [00:00<?, ?it/s]"
      ]
     },
     "metadata": {},
     "output_type": "display_data"
    },
    {
     "data": {
      "application/vnd.jupyter.widget-view+json": {
       "model_id": "0d808b655c124f32a548af45ccc3212d",
       "version_major": 2,
       "version_minor": 0
      },
      "text/plain": [
       "Varying Uncertain Radius:   0%|          | 0/4 [00:00<?, ?it/s]"
      ]
     },
     "metadata": {},
     "output_type": "display_data"
    },
    {
     "data": {
      "application/vnd.jupyter.widget-view+json": {
       "model_id": "87bc24fd090946dfbf0957de8fe1ebb8",
       "version_major": 2,
       "version_minor": 0
      },
      "text/plain": [
       "Varying Uncertain Radius:   0%|          | 0/4 [00:00<?, ?it/s]"
      ]
     },
     "metadata": {},
     "output_type": "display_data"
    },
    {
     "data": {
      "application/vnd.jupyter.widget-view+json": {
       "model_id": "1c51a1e2cf7b4f34a0a87670d5ee5fb5",
       "version_major": 2,
       "version_minor": 0
      },
      "text/plain": [
       "Varying Uncertain Radius:   0%|          | 0/4 [00:00<?, ?it/s]"
      ]
     },
     "metadata": {},
     "output_type": "display_data"
    },
    {
     "data": {
      "application/vnd.jupyter.widget-view+json": {
       "model_id": "c95cbc3a0c1d421c89bdc6dc12ffaf22",
       "version_major": 2,
       "version_minor": 0
      },
      "text/plain": [
       "Varying Uncertain Radius:   0%|          | 0/4 [00:00<?, ?it/s]"
      ]
     },
     "metadata": {},
     "output_type": "display_data"
    },
    {
     "data": {
      "application/vnd.jupyter.widget-view+json": {
       "model_id": "15383e22e6944eba90472cfe6414609d",
       "version_major": 2,
       "version_minor": 0
      },
      "text/plain": [
       "Varying Uncertain Radius:   0%|          | 0/4 [00:00<?, ?it/s]"
      ]
     },
     "metadata": {},
     "output_type": "display_data"
    },
    {
     "data": {
      "application/vnd.jupyter.widget-view+json": {
       "model_id": "75002a1ea4844b70ac84b143040731d1",
       "version_major": 2,
       "version_minor": 0
      },
      "text/plain": [
       "Varying Uncertain Radius:   0%|          | 0/4 [00:00<?, ?it/s]"
      ]
     },
     "metadata": {},
     "output_type": "display_data"
    },
    {
     "data": {
      "application/vnd.jupyter.widget-view+json": {
       "model_id": "f6ca0ec6e5de4dea8145fba6e5a1ca8f",
       "version_major": 2,
       "version_minor": 0
      },
      "text/plain": [
       "Varying Uncertain Radius:   0%|          | 0/4 [00:00<?, ?it/s]"
      ]
     },
     "metadata": {},
     "output_type": "display_data"
    }
   ],
   "source": [
    "# Testing more extreme uncertain percentages\n",
    "robustness_dicts = []\n",
    "for seed in range(5):\n",
    "    # mpg +- 2 is robust\n",
    "    robustness_radius = 500\n",
    "    label_range = (y_train.max()-y_train.min())\n",
    "    ratios = [0.02, 0.04, 0.06, 0.08]\n",
    "    uncertain_radiuses = [ratio*label_range for ratio in ratios]\n",
    "    uncertain_pcts = list(np.arange(1, 11)/100)\n",
    "    robustness_dict = dict()\n",
    "    robustness_dict['uncertain_radius'] = uncertain_radiuses\n",
    "    robustness_dict['uncertain_radius_ratios'] = ratios\n",
    "    for uncertain_pct in tqdm(uncertain_pcts, desc='Progess'):\n",
    "        robustness_dict[uncertain_pct] = list()\n",
    "        uncertain_num = int(uncertain_pct*len(y_train))\n",
    "        for uncertain_radius in tqdm(uncertain_radiuses, desc=f'Varying Uncertain Radius'):\n",
    "            #print(uncertain_radius)\n",
    "            robustness_ratio = compute_robustness_ratio_sensitive_label_error(X_train, y_train, X_test, y_test, \n",
    "                                                                    uncertain_num=uncertain_num,\n",
    "                                                                    boundary_indices=boundary_indices,\n",
    "                                                                    uncertain_radius=uncertain_radius, \n",
    "                                                                    robustness_radius=robustness_radius, \n",
    "                                                                    interval=False, seed=seed)\n",
    "            robustness_dict[uncertain_pct].append(robustness_ratio)\n",
    "    robustness_dicts.append(robustness_dict)"
   ]
  },
  {
   "cell_type": "code",
   "execution_count": 15,
   "id": "28794ad4-4f1b-4538-ab06-3f41161e1351",
   "metadata": {},
   "outputs": [
    {
     "data": {
      "application/vnd.jupyter.widget-view+json": {
       "model_id": "70a438a9807f4354915b121ea4898436",
       "version_major": 2,
       "version_minor": 0
      },
      "text/plain": [
       "Progress:   0%|          | 0/5 [00:00<?, ?it/s]"
      ]
     },
     "metadata": {},
     "output_type": "display_data"
    },
    {
     "data": {
      "application/vnd.jupyter.widget-view+json": {
       "model_id": "",
       "version_major": 2,
       "version_minor": 0
      },
      "text/plain": [
       "Rep 1:   0%|          | 0/10 [00:00<?, ?it/s]"
      ]
     },
     "metadata": {},
     "output_type": "display_data"
    },
    {
     "data": {
      "application/vnd.jupyter.widget-view+json": {
       "model_id": "",
       "version_major": 2,
       "version_minor": 0
      },
      "text/plain": [
       "Varying Uncertain Radius:   0%|          | 0/4 [00:00<?, ?it/s]"
      ]
     },
     "metadata": {},
     "output_type": "display_data"
    },
    {
     "data": {
      "application/vnd.jupyter.widget-view+json": {
       "model_id": "",
       "version_major": 2,
       "version_minor": 0
      },
      "text/plain": [
       "Varying Uncertain Radius:   0%|          | 0/4 [00:00<?, ?it/s]"
      ]
     },
     "metadata": {},
     "output_type": "display_data"
    },
    {
     "data": {
      "application/vnd.jupyter.widget-view+json": {
       "model_id": "",
       "version_major": 2,
       "version_minor": 0
      },
      "text/plain": [
       "Varying Uncertain Radius:   0%|          | 0/4 [00:00<?, ?it/s]"
      ]
     },
     "metadata": {},
     "output_type": "display_data"
    },
    {
     "data": {
      "application/vnd.jupyter.widget-view+json": {
       "model_id": "",
       "version_major": 2,
       "version_minor": 0
      },
      "text/plain": [
       "Varying Uncertain Radius:   0%|          | 0/4 [00:00<?, ?it/s]"
      ]
     },
     "metadata": {},
     "output_type": "display_data"
    },
    {
     "data": {
      "application/vnd.jupyter.widget-view+json": {
       "model_id": "",
       "version_major": 2,
       "version_minor": 0
      },
      "text/plain": [
       "Varying Uncertain Radius:   0%|          | 0/4 [00:00<?, ?it/s]"
      ]
     },
     "metadata": {},
     "output_type": "display_data"
    },
    {
     "data": {
      "application/vnd.jupyter.widget-view+json": {
       "model_id": "",
       "version_major": 2,
       "version_minor": 0
      },
      "text/plain": [
       "Varying Uncertain Radius:   0%|          | 0/4 [00:00<?, ?it/s]"
      ]
     },
     "metadata": {},
     "output_type": "display_data"
    },
    {
     "data": {
      "application/vnd.jupyter.widget-view+json": {
       "model_id": "",
       "version_major": 2,
       "version_minor": 0
      },
      "text/plain": [
       "Varying Uncertain Radius:   0%|          | 0/4 [00:00<?, ?it/s]"
      ]
     },
     "metadata": {},
     "output_type": "display_data"
    },
    {
     "data": {
      "application/vnd.jupyter.widget-view+json": {
       "model_id": "",
       "version_major": 2,
       "version_minor": 0
      },
      "text/plain": [
       "Varying Uncertain Radius:   0%|          | 0/4 [00:00<?, ?it/s]"
      ]
     },
     "metadata": {},
     "output_type": "display_data"
    },
    {
     "data": {
      "application/vnd.jupyter.widget-view+json": {
       "model_id": "",
       "version_major": 2,
       "version_minor": 0
      },
      "text/plain": [
       "Varying Uncertain Radius:   0%|          | 0/4 [00:00<?, ?it/s]"
      ]
     },
     "metadata": {},
     "output_type": "display_data"
    },
    {
     "data": {
      "application/vnd.jupyter.widget-view+json": {
       "model_id": "",
       "version_major": 2,
       "version_minor": 0
      },
      "text/plain": [
       "Varying Uncertain Radius:   0%|          | 0/4 [00:00<?, ?it/s]"
      ]
     },
     "metadata": {},
     "output_type": "display_data"
    },
    {
     "data": {
      "application/vnd.jupyter.widget-view+json": {
       "model_id": "",
       "version_major": 2,
       "version_minor": 0
      },
      "text/plain": [
       "Rep 2:   0%|          | 0/10 [00:00<?, ?it/s]"
      ]
     },
     "metadata": {},
     "output_type": "display_data"
    },
    {
     "data": {
      "application/vnd.jupyter.widget-view+json": {
       "model_id": "",
       "version_major": 2,
       "version_minor": 0
      },
      "text/plain": [
       "Varying Uncertain Radius:   0%|          | 0/4 [00:00<?, ?it/s]"
      ]
     },
     "metadata": {},
     "output_type": "display_data"
    },
    {
     "data": {
      "application/vnd.jupyter.widget-view+json": {
       "model_id": "",
       "version_major": 2,
       "version_minor": 0
      },
      "text/plain": [
       "Varying Uncertain Radius:   0%|          | 0/4 [00:00<?, ?it/s]"
      ]
     },
     "metadata": {},
     "output_type": "display_data"
    },
    {
     "data": {
      "application/vnd.jupyter.widget-view+json": {
       "model_id": "",
       "version_major": 2,
       "version_minor": 0
      },
      "text/plain": [
       "Varying Uncertain Radius:   0%|          | 0/4 [00:00<?, ?it/s]"
      ]
     },
     "metadata": {},
     "output_type": "display_data"
    },
    {
     "data": {
      "application/vnd.jupyter.widget-view+json": {
       "model_id": "",
       "version_major": 2,
       "version_minor": 0
      },
      "text/plain": [
       "Varying Uncertain Radius:   0%|          | 0/4 [00:00<?, ?it/s]"
      ]
     },
     "metadata": {},
     "output_type": "display_data"
    },
    {
     "data": {
      "application/vnd.jupyter.widget-view+json": {
       "model_id": "",
       "version_major": 2,
       "version_minor": 0
      },
      "text/plain": [
       "Varying Uncertain Radius:   0%|          | 0/4 [00:00<?, ?it/s]"
      ]
     },
     "metadata": {},
     "output_type": "display_data"
    },
    {
     "data": {
      "application/vnd.jupyter.widget-view+json": {
       "model_id": "",
       "version_major": 2,
       "version_minor": 0
      },
      "text/plain": [
       "Varying Uncertain Radius:   0%|          | 0/4 [00:00<?, ?it/s]"
      ]
     },
     "metadata": {},
     "output_type": "display_data"
    },
    {
     "data": {
      "application/vnd.jupyter.widget-view+json": {
       "model_id": "",
       "version_major": 2,
       "version_minor": 0
      },
      "text/plain": [
       "Varying Uncertain Radius:   0%|          | 0/4 [00:00<?, ?it/s]"
      ]
     },
     "metadata": {},
     "output_type": "display_data"
    },
    {
     "data": {
      "application/vnd.jupyter.widget-view+json": {
       "model_id": "",
       "version_major": 2,
       "version_minor": 0
      },
      "text/plain": [
       "Varying Uncertain Radius:   0%|          | 0/4 [00:00<?, ?it/s]"
      ]
     },
     "metadata": {},
     "output_type": "display_data"
    },
    {
     "data": {
      "application/vnd.jupyter.widget-view+json": {
       "model_id": "",
       "version_major": 2,
       "version_minor": 0
      },
      "text/plain": [
       "Varying Uncertain Radius:   0%|          | 0/4 [00:00<?, ?it/s]"
      ]
     },
     "metadata": {},
     "output_type": "display_data"
    },
    {
     "data": {
      "application/vnd.jupyter.widget-view+json": {
       "model_id": "",
       "version_major": 2,
       "version_minor": 0
      },
      "text/plain": [
       "Varying Uncertain Radius:   0%|          | 0/4 [00:00<?, ?it/s]"
      ]
     },
     "metadata": {},
     "output_type": "display_data"
    },
    {
     "data": {
      "application/vnd.jupyter.widget-view+json": {
       "model_id": "",
       "version_major": 2,
       "version_minor": 0
      },
      "text/plain": [
       "Rep 3:   0%|          | 0/10 [00:00<?, ?it/s]"
      ]
     },
     "metadata": {},
     "output_type": "display_data"
    },
    {
     "data": {
      "application/vnd.jupyter.widget-view+json": {
       "model_id": "",
       "version_major": 2,
       "version_minor": 0
      },
      "text/plain": [
       "Varying Uncertain Radius:   0%|          | 0/4 [00:00<?, ?it/s]"
      ]
     },
     "metadata": {},
     "output_type": "display_data"
    },
    {
     "data": {
      "application/vnd.jupyter.widget-view+json": {
       "model_id": "",
       "version_major": 2,
       "version_minor": 0
      },
      "text/plain": [
       "Varying Uncertain Radius:   0%|          | 0/4 [00:00<?, ?it/s]"
      ]
     },
     "metadata": {},
     "output_type": "display_data"
    },
    {
     "data": {
      "application/vnd.jupyter.widget-view+json": {
       "model_id": "",
       "version_major": 2,
       "version_minor": 0
      },
      "text/plain": [
       "Varying Uncertain Radius:   0%|          | 0/4 [00:00<?, ?it/s]"
      ]
     },
     "metadata": {},
     "output_type": "display_data"
    },
    {
     "data": {
      "application/vnd.jupyter.widget-view+json": {
       "model_id": "",
       "version_major": 2,
       "version_minor": 0
      },
      "text/plain": [
       "Varying Uncertain Radius:   0%|          | 0/4 [00:00<?, ?it/s]"
      ]
     },
     "metadata": {},
     "output_type": "display_data"
    },
    {
     "data": {
      "application/vnd.jupyter.widget-view+json": {
       "model_id": "",
       "version_major": 2,
       "version_minor": 0
      },
      "text/plain": [
       "Varying Uncertain Radius:   0%|          | 0/4 [00:00<?, ?it/s]"
      ]
     },
     "metadata": {},
     "output_type": "display_data"
    },
    {
     "data": {
      "application/vnd.jupyter.widget-view+json": {
       "model_id": "",
       "version_major": 2,
       "version_minor": 0
      },
      "text/plain": [
       "Varying Uncertain Radius:   0%|          | 0/4 [00:00<?, ?it/s]"
      ]
     },
     "metadata": {},
     "output_type": "display_data"
    },
    {
     "data": {
      "application/vnd.jupyter.widget-view+json": {
       "model_id": "",
       "version_major": 2,
       "version_minor": 0
      },
      "text/plain": [
       "Varying Uncertain Radius:   0%|          | 0/4 [00:00<?, ?it/s]"
      ]
     },
     "metadata": {},
     "output_type": "display_data"
    },
    {
     "data": {
      "application/vnd.jupyter.widget-view+json": {
       "model_id": "",
       "version_major": 2,
       "version_minor": 0
      },
      "text/plain": [
       "Varying Uncertain Radius:   0%|          | 0/4 [00:00<?, ?it/s]"
      ]
     },
     "metadata": {},
     "output_type": "display_data"
    },
    {
     "data": {
      "application/vnd.jupyter.widget-view+json": {
       "model_id": "",
       "version_major": 2,
       "version_minor": 0
      },
      "text/plain": [
       "Varying Uncertain Radius:   0%|          | 0/4 [00:00<?, ?it/s]"
      ]
     },
     "metadata": {},
     "output_type": "display_data"
    },
    {
     "data": {
      "application/vnd.jupyter.widget-view+json": {
       "model_id": "",
       "version_major": 2,
       "version_minor": 0
      },
      "text/plain": [
       "Varying Uncertain Radius:   0%|          | 0/4 [00:00<?, ?it/s]"
      ]
     },
     "metadata": {},
     "output_type": "display_data"
    },
    {
     "data": {
      "application/vnd.jupyter.widget-view+json": {
       "model_id": "",
       "version_major": 2,
       "version_minor": 0
      },
      "text/plain": [
       "Rep 4:   0%|          | 0/10 [00:00<?, ?it/s]"
      ]
     },
     "metadata": {},
     "output_type": "display_data"
    },
    {
     "data": {
      "application/vnd.jupyter.widget-view+json": {
       "model_id": "",
       "version_major": 2,
       "version_minor": 0
      },
      "text/plain": [
       "Varying Uncertain Radius:   0%|          | 0/4 [00:00<?, ?it/s]"
      ]
     },
     "metadata": {},
     "output_type": "display_data"
    },
    {
     "data": {
      "application/vnd.jupyter.widget-view+json": {
       "model_id": "",
       "version_major": 2,
       "version_minor": 0
      },
      "text/plain": [
       "Varying Uncertain Radius:   0%|          | 0/4 [00:00<?, ?it/s]"
      ]
     },
     "metadata": {},
     "output_type": "display_data"
    },
    {
     "data": {
      "application/vnd.jupyter.widget-view+json": {
       "model_id": "",
       "version_major": 2,
       "version_minor": 0
      },
      "text/plain": [
       "Varying Uncertain Radius:   0%|          | 0/4 [00:00<?, ?it/s]"
      ]
     },
     "metadata": {},
     "output_type": "display_data"
    },
    {
     "data": {
      "application/vnd.jupyter.widget-view+json": {
       "model_id": "",
       "version_major": 2,
       "version_minor": 0
      },
      "text/plain": [
       "Varying Uncertain Radius:   0%|          | 0/4 [00:00<?, ?it/s]"
      ]
     },
     "metadata": {},
     "output_type": "display_data"
    },
    {
     "data": {
      "application/vnd.jupyter.widget-view+json": {
       "model_id": "",
       "version_major": 2,
       "version_minor": 0
      },
      "text/plain": [
       "Varying Uncertain Radius:   0%|          | 0/4 [00:00<?, ?it/s]"
      ]
     },
     "metadata": {},
     "output_type": "display_data"
    },
    {
     "data": {
      "application/vnd.jupyter.widget-view+json": {
       "model_id": "",
       "version_major": 2,
       "version_minor": 0
      },
      "text/plain": [
       "Varying Uncertain Radius:   0%|          | 0/4 [00:00<?, ?it/s]"
      ]
     },
     "metadata": {},
     "output_type": "display_data"
    },
    {
     "data": {
      "application/vnd.jupyter.widget-view+json": {
       "model_id": "",
       "version_major": 2,
       "version_minor": 0
      },
      "text/plain": [
       "Varying Uncertain Radius:   0%|          | 0/4 [00:00<?, ?it/s]"
      ]
     },
     "metadata": {},
     "output_type": "display_data"
    },
    {
     "data": {
      "application/vnd.jupyter.widget-view+json": {
       "model_id": "",
       "version_major": 2,
       "version_minor": 0
      },
      "text/plain": [
       "Varying Uncertain Radius:   0%|          | 0/4 [00:00<?, ?it/s]"
      ]
     },
     "metadata": {},
     "output_type": "display_data"
    },
    {
     "data": {
      "application/vnd.jupyter.widget-view+json": {
       "model_id": "",
       "version_major": 2,
       "version_minor": 0
      },
      "text/plain": [
       "Varying Uncertain Radius:   0%|          | 0/4 [00:00<?, ?it/s]"
      ]
     },
     "metadata": {},
     "output_type": "display_data"
    },
    {
     "data": {
      "application/vnd.jupyter.widget-view+json": {
       "model_id": "",
       "version_major": 2,
       "version_minor": 0
      },
      "text/plain": [
       "Varying Uncertain Radius:   0%|          | 0/4 [00:00<?, ?it/s]"
      ]
     },
     "metadata": {},
     "output_type": "display_data"
    },
    {
     "data": {
      "application/vnd.jupyter.widget-view+json": {
       "model_id": "",
       "version_major": 2,
       "version_minor": 0
      },
      "text/plain": [
       "Rep 5:   0%|          | 0/10 [00:00<?, ?it/s]"
      ]
     },
     "metadata": {},
     "output_type": "display_data"
    },
    {
     "data": {
      "application/vnd.jupyter.widget-view+json": {
       "model_id": "",
       "version_major": 2,
       "version_minor": 0
      },
      "text/plain": [
       "Varying Uncertain Radius:   0%|          | 0/4 [00:00<?, ?it/s]"
      ]
     },
     "metadata": {},
     "output_type": "display_data"
    },
    {
     "data": {
      "application/vnd.jupyter.widget-view+json": {
       "model_id": "",
       "version_major": 2,
       "version_minor": 0
      },
      "text/plain": [
       "Varying Uncertain Radius:   0%|          | 0/4 [00:00<?, ?it/s]"
      ]
     },
     "metadata": {},
     "output_type": "display_data"
    },
    {
     "data": {
      "application/vnd.jupyter.widget-view+json": {
       "model_id": "",
       "version_major": 2,
       "version_minor": 0
      },
      "text/plain": [
       "Varying Uncertain Radius:   0%|          | 0/4 [00:00<?, ?it/s]"
      ]
     },
     "metadata": {},
     "output_type": "display_data"
    },
    {
     "data": {
      "application/vnd.jupyter.widget-view+json": {
       "model_id": "",
       "version_major": 2,
       "version_minor": 0
      },
      "text/plain": [
       "Varying Uncertain Radius:   0%|          | 0/4 [00:00<?, ?it/s]"
      ]
     },
     "metadata": {},
     "output_type": "display_data"
    },
    {
     "data": {
      "application/vnd.jupyter.widget-view+json": {
       "model_id": "0e405f0b40d74787a0ba6ddc6031bd5a",
       "version_major": 2,
       "version_minor": 0
      },
      "text/plain": [
       "Varying Uncertain Radius:   0%|          | 0/4 [00:00<?, ?it/s]"
      ]
     },
     "metadata": {},
     "output_type": "display_data"
    },
    {
     "data": {
      "application/vnd.jupyter.widget-view+json": {
       "model_id": "1af5d83156d8424da2dd530268838e01",
       "version_major": 2,
       "version_minor": 0
      },
      "text/plain": [
       "Varying Uncertain Radius:   0%|          | 0/4 [00:00<?, ?it/s]"
      ]
     },
     "metadata": {},
     "output_type": "display_data"
    },
    {
     "data": {
      "application/vnd.jupyter.widget-view+json": {
       "model_id": "25db6594cb7a409aacda3be473f2eea5",
       "version_major": 2,
       "version_minor": 0
      },
      "text/plain": [
       "Varying Uncertain Radius:   0%|          | 0/4 [00:00<?, ?it/s]"
      ]
     },
     "metadata": {},
     "output_type": "display_data"
    },
    {
     "data": {
      "application/vnd.jupyter.widget-view+json": {
       "model_id": "3fec14c1baf44978be2c9b68f7c0153d",
       "version_major": 2,
       "version_minor": 0
      },
      "text/plain": [
       "Varying Uncertain Radius:   0%|          | 0/4 [00:00<?, ?it/s]"
      ]
     },
     "metadata": {},
     "output_type": "display_data"
    },
    {
     "data": {
      "application/vnd.jupyter.widget-view+json": {
       "model_id": "37b89944422f4ba1afafbecd473cde21",
       "version_major": 2,
       "version_minor": 0
      },
      "text/plain": [
       "Varying Uncertain Radius:   0%|          | 0/4 [00:00<?, ?it/s]"
      ]
     },
     "metadata": {},
     "output_type": "display_data"
    },
    {
     "data": {
      "application/vnd.jupyter.widget-view+json": {
       "model_id": "11069f4c285f421d8096ddc93c5d4d74",
       "version_major": 2,
       "version_minor": 0
      },
      "text/plain": [
       "Varying Uncertain Radius:   0%|          | 0/4 [00:00<?, ?it/s]"
      ]
     },
     "metadata": {},
     "output_type": "display_data"
    }
   ],
   "source": [
    "robustness_dicts_naive = []\n",
    "for seed in tqdm(range(5), desc=f'Progress'):\n",
    "    robustness_radius = 500\n",
    "    label_range = (y_train.max()-y_train.min())\n",
    "    ratios = [0.02, 0.04, 0.06, 0.08]\n",
    "    uncertain_radiuses = [ratio*label_range for ratio in ratios]\n",
    "    uncertain_pcts = list(np.arange(1, 11)/100)\n",
    "    robustness_dict = dict()\n",
    "    robustness_dict['uncertain_radius'] = uncertain_radiuses\n",
    "    robustness_dict['uncertain_radius_ratios'] = ratios\n",
    "    for uncertain_pct in tqdm(uncertain_pcts, desc=f'Rep {seed+1}', leave=False):\n",
    "        robustness_dict[uncertain_pct] = list()\n",
    "        uncertain_num = int(uncertain_pct*len(y_train))\n",
    "        for uncertain_radius in tqdm(uncertain_radiuses, desc=f'Varying Uncertain Radius', leave=False):\n",
    "            robustness_ratio = compute_robustness_ratio_label_error(X_train, y_train, X_test, y_test, \n",
    "                                                                    uncertain_num=uncertain_num, \n",
    "                                                                    uncertain_radius=uncertain_radius, \n",
    "                                                                    robustness_radius=robustness_radius, \n",
    "                                                                    interval=False, seed=seed)\n",
    "            robustness_dict[uncertain_pct].append(robustness_ratio)\n",
    "    robustness_dicts_naive.append(robustness_dict)"
   ]
  },
  {
   "cell_type": "code",
   "execution_count": 16,
   "id": "34bed3f9-aa9c-48a1-93b0-b450616aa378",
   "metadata": {},
   "outputs": [
    {
     "data": {
      "application/vnd.jupyter.widget-view+json": {
       "model_id": "04e08eb8bd01458d87e1ef9594f387d9",
       "version_major": 2,
       "version_minor": 0
      },
      "text/plain": [
       "Progess:   0%|          | 0/10 [00:00<?, ?it/s]"
      ]
     },
     "metadata": {},
     "output_type": "display_data"
    },
    {
     "data": {
      "application/vnd.jupyter.widget-view+json": {
       "model_id": "ee3d85fb72fb4ff6a7973962a91fa100",
       "version_major": 2,
       "version_minor": 0
      },
      "text/plain": [
       "Varying Uncertain Radius:   0%|          | 0/4 [00:00<?, ?it/s]"
      ]
     },
     "metadata": {},
     "output_type": "display_data"
    },
    {
     "data": {
      "application/vnd.jupyter.widget-view+json": {
       "model_id": "d54a1d8458bf45769100d3c6f4bf7648",
       "version_major": 2,
       "version_minor": 0
      },
      "text/plain": [
       "Varying Uncertain Radius:   0%|          | 0/4 [00:00<?, ?it/s]"
      ]
     },
     "metadata": {},
     "output_type": "display_data"
    },
    {
     "data": {
      "application/vnd.jupyter.widget-view+json": {
       "model_id": "089f3f55bd844747bc64d35308fca4d9",
       "version_major": 2,
       "version_minor": 0
      },
      "text/plain": [
       "Varying Uncertain Radius:   0%|          | 0/4 [00:00<?, ?it/s]"
      ]
     },
     "metadata": {},
     "output_type": "display_data"
    },
    {
     "data": {
      "application/vnd.jupyter.widget-view+json": {
       "model_id": "dbe6319e47114d8a8a789e9316859d96",
       "version_major": 2,
       "version_minor": 0
      },
      "text/plain": [
       "Varying Uncertain Radius:   0%|          | 0/4 [00:00<?, ?it/s]"
      ]
     },
     "metadata": {},
     "output_type": "display_data"
    },
    {
     "data": {
      "application/vnd.jupyter.widget-view+json": {
       "model_id": "1101099b805044fd9d43729ad2f3bc1c",
       "version_major": 2,
       "version_minor": 0
      },
      "text/plain": [
       "Varying Uncertain Radius:   0%|          | 0/4 [00:00<?, ?it/s]"
      ]
     },
     "metadata": {},
     "output_type": "display_data"
    },
    {
     "data": {
      "application/vnd.jupyter.widget-view+json": {
       "model_id": "10575d59651241d0af6d12c63b9ba1e1",
       "version_major": 2,
       "version_minor": 0
      },
      "text/plain": [
       "Varying Uncertain Radius:   0%|          | 0/4 [00:00<?, ?it/s]"
      ]
     },
     "metadata": {},
     "output_type": "display_data"
    },
    {
     "data": {
      "application/vnd.jupyter.widget-view+json": {
       "model_id": "e7652f0d976e4069bbddf13422228bf1",
       "version_major": 2,
       "version_minor": 0
      },
      "text/plain": [
       "Varying Uncertain Radius:   0%|          | 0/4 [00:00<?, ?it/s]"
      ]
     },
     "metadata": {},
     "output_type": "display_data"
    },
    {
     "data": {
      "application/vnd.jupyter.widget-view+json": {
       "model_id": "a56394151f3c4f8fb41d7e6e10debec5",
       "version_major": 2,
       "version_minor": 0
      },
      "text/plain": [
       "Varying Uncertain Radius:   0%|          | 0/4 [00:00<?, ?it/s]"
      ]
     },
     "metadata": {},
     "output_type": "display_data"
    },
    {
     "data": {
      "application/vnd.jupyter.widget-view+json": {
       "model_id": "d06d0649e6814e878fff7009e22b16c7",
       "version_major": 2,
       "version_minor": 0
      },
      "text/plain": [
       "Varying Uncertain Radius:   0%|          | 0/4 [00:00<?, ?it/s]"
      ]
     },
     "metadata": {},
     "output_type": "display_data"
    },
    {
     "data": {
      "application/vnd.jupyter.widget-view+json": {
       "model_id": "035966bbd4a74fdf86774ebcbf3c697c",
       "version_major": 2,
       "version_minor": 0
      },
      "text/plain": [
       "Varying Uncertain Radius:   0%|          | 0/4 [00:00<?, ?it/s]"
      ]
     },
     "metadata": {},
     "output_type": "display_data"
    },
    {
     "data": {
      "application/vnd.jupyter.widget-view+json": {
       "model_id": "0ba27a8c6f0c4232a614672e84add556",
       "version_major": 2,
       "version_minor": 0
      },
      "text/plain": [
       "Progess:   0%|          | 0/10 [00:00<?, ?it/s]"
      ]
     },
     "metadata": {},
     "output_type": "display_data"
    },
    {
     "data": {
      "application/vnd.jupyter.widget-view+json": {
       "model_id": "bf1a6648c05c43cbac6dbe3cc69b6ba8",
       "version_major": 2,
       "version_minor": 0
      },
      "text/plain": [
       "Varying Uncertain Radius:   0%|          | 0/4 [00:00<?, ?it/s]"
      ]
     },
     "metadata": {},
     "output_type": "display_data"
    },
    {
     "data": {
      "application/vnd.jupyter.widget-view+json": {
       "model_id": "a57970d0d162490bbb7cde3bc2c5f1dc",
       "version_major": 2,
       "version_minor": 0
      },
      "text/plain": [
       "Varying Uncertain Radius:   0%|          | 0/4 [00:00<?, ?it/s]"
      ]
     },
     "metadata": {},
     "output_type": "display_data"
    },
    {
     "data": {
      "application/vnd.jupyter.widget-view+json": {
       "model_id": "c101c2f0cd934f9e95276ca02506a28f",
       "version_major": 2,
       "version_minor": 0
      },
      "text/plain": [
       "Varying Uncertain Radius:   0%|          | 0/4 [00:00<?, ?it/s]"
      ]
     },
     "metadata": {},
     "output_type": "display_data"
    },
    {
     "data": {
      "application/vnd.jupyter.widget-view+json": {
       "model_id": "2b3c8abd85ab4e5facc80984ef05f19f",
       "version_major": 2,
       "version_minor": 0
      },
      "text/plain": [
       "Varying Uncertain Radius:   0%|          | 0/4 [00:00<?, ?it/s]"
      ]
     },
     "metadata": {},
     "output_type": "display_data"
    },
    {
     "data": {
      "application/vnd.jupyter.widget-view+json": {
       "model_id": "aa439d35991b488eb04fee783c11b079",
       "version_major": 2,
       "version_minor": 0
      },
      "text/plain": [
       "Varying Uncertain Radius:   0%|          | 0/4 [00:00<?, ?it/s]"
      ]
     },
     "metadata": {},
     "output_type": "display_data"
    },
    {
     "data": {
      "application/vnd.jupyter.widget-view+json": {
       "model_id": "f852589bd7574a76af0f7d2ba3aef8da",
       "version_major": 2,
       "version_minor": 0
      },
      "text/plain": [
       "Varying Uncertain Radius:   0%|          | 0/4 [00:00<?, ?it/s]"
      ]
     },
     "metadata": {},
     "output_type": "display_data"
    },
    {
     "data": {
      "application/vnd.jupyter.widget-view+json": {
       "model_id": "d5cbe892726e4df0884bab632eac97a6",
       "version_major": 2,
       "version_minor": 0
      },
      "text/plain": [
       "Varying Uncertain Radius:   0%|          | 0/4 [00:00<?, ?it/s]"
      ]
     },
     "metadata": {},
     "output_type": "display_data"
    },
    {
     "data": {
      "application/vnd.jupyter.widget-view+json": {
       "model_id": "15e2e5fe605949e3a79b284c72c69c3d",
       "version_major": 2,
       "version_minor": 0
      },
      "text/plain": [
       "Varying Uncertain Radius:   0%|          | 0/4 [00:00<?, ?it/s]"
      ]
     },
     "metadata": {},
     "output_type": "display_data"
    },
    {
     "data": {
      "application/vnd.jupyter.widget-view+json": {
       "model_id": "9a65adc5872545fe8cadac8114ddb2cd",
       "version_major": 2,
       "version_minor": 0
      },
      "text/plain": [
       "Varying Uncertain Radius:   0%|          | 0/4 [00:00<?, ?it/s]"
      ]
     },
     "metadata": {},
     "output_type": "display_data"
    },
    {
     "data": {
      "application/vnd.jupyter.widget-view+json": {
       "model_id": "e2408e77022b41d085aa2186e4be38c5",
       "version_major": 2,
       "version_minor": 0
      },
      "text/plain": [
       "Varying Uncertain Radius:   0%|          | 0/4 [00:00<?, ?it/s]"
      ]
     },
     "metadata": {},
     "output_type": "display_data"
    },
    {
     "data": {
      "application/vnd.jupyter.widget-view+json": {
       "model_id": "a38d369277834fdfa263e137ee1deeba",
       "version_major": 2,
       "version_minor": 0
      },
      "text/plain": [
       "Progess:   0%|          | 0/10 [00:00<?, ?it/s]"
      ]
     },
     "metadata": {},
     "output_type": "display_data"
    },
    {
     "data": {
      "application/vnd.jupyter.widget-view+json": {
       "model_id": "ef4a3996288a4e5c8aa869f75667e8cf",
       "version_major": 2,
       "version_minor": 0
      },
      "text/plain": [
       "Varying Uncertain Radius:   0%|          | 0/4 [00:00<?, ?it/s]"
      ]
     },
     "metadata": {},
     "output_type": "display_data"
    },
    {
     "data": {
      "application/vnd.jupyter.widget-view+json": {
       "model_id": "70ea64ad5f2c4c14804c8ec2e669124c",
       "version_major": 2,
       "version_minor": 0
      },
      "text/plain": [
       "Varying Uncertain Radius:   0%|          | 0/4 [00:00<?, ?it/s]"
      ]
     },
     "metadata": {},
     "output_type": "display_data"
    },
    {
     "data": {
      "application/vnd.jupyter.widget-view+json": {
       "model_id": "33c9b05cc7a34319b84a0be39f77c97b",
       "version_major": 2,
       "version_minor": 0
      },
      "text/plain": [
       "Varying Uncertain Radius:   0%|          | 0/4 [00:00<?, ?it/s]"
      ]
     },
     "metadata": {},
     "output_type": "display_data"
    },
    {
     "data": {
      "application/vnd.jupyter.widget-view+json": {
       "model_id": "d8bc4cdad70047c2b5666eeac56b3435",
       "version_major": 2,
       "version_minor": 0
      },
      "text/plain": [
       "Varying Uncertain Radius:   0%|          | 0/4 [00:00<?, ?it/s]"
      ]
     },
     "metadata": {},
     "output_type": "display_data"
    },
    {
     "data": {
      "application/vnd.jupyter.widget-view+json": {
       "model_id": "a7c09b10bc19467e9eda61b691313b2f",
       "version_major": 2,
       "version_minor": 0
      },
      "text/plain": [
       "Varying Uncertain Radius:   0%|          | 0/4 [00:00<?, ?it/s]"
      ]
     },
     "metadata": {},
     "output_type": "display_data"
    },
    {
     "data": {
      "application/vnd.jupyter.widget-view+json": {
       "model_id": "64ced54853284f55a2c34703311bd13a",
       "version_major": 2,
       "version_minor": 0
      },
      "text/plain": [
       "Varying Uncertain Radius:   0%|          | 0/4 [00:00<?, ?it/s]"
      ]
     },
     "metadata": {},
     "output_type": "display_data"
    },
    {
     "data": {
      "application/vnd.jupyter.widget-view+json": {
       "model_id": "4bee59c861dd4793af909c0275e0e496",
       "version_major": 2,
       "version_minor": 0
      },
      "text/plain": [
       "Varying Uncertain Radius:   0%|          | 0/4 [00:00<?, ?it/s]"
      ]
     },
     "metadata": {},
     "output_type": "display_data"
    },
    {
     "data": {
      "application/vnd.jupyter.widget-view+json": {
       "model_id": "1cb03c55819040bbbf20a30a68e62964",
       "version_major": 2,
       "version_minor": 0
      },
      "text/plain": [
       "Varying Uncertain Radius:   0%|          | 0/4 [00:00<?, ?it/s]"
      ]
     },
     "metadata": {},
     "output_type": "display_data"
    },
    {
     "data": {
      "application/vnd.jupyter.widget-view+json": {
       "model_id": "f2d6c44097054005b88c76b20e4d498e",
       "version_major": 2,
       "version_minor": 0
      },
      "text/plain": [
       "Varying Uncertain Radius:   0%|          | 0/4 [00:00<?, ?it/s]"
      ]
     },
     "metadata": {},
     "output_type": "display_data"
    },
    {
     "data": {
      "application/vnd.jupyter.widget-view+json": {
       "model_id": "180b5fa19d324c45ab406cbbd3358776",
       "version_major": 2,
       "version_minor": 0
      },
      "text/plain": [
       "Varying Uncertain Radius:   0%|          | 0/4 [00:00<?, ?it/s]"
      ]
     },
     "metadata": {},
     "output_type": "display_data"
    },
    {
     "data": {
      "application/vnd.jupyter.widget-view+json": {
       "model_id": "683930db43b14956bcc6c582f60fab82",
       "version_major": 2,
       "version_minor": 0
      },
      "text/plain": [
       "Progess:   0%|          | 0/10 [00:00<?, ?it/s]"
      ]
     },
     "metadata": {},
     "output_type": "display_data"
    },
    {
     "data": {
      "application/vnd.jupyter.widget-view+json": {
       "model_id": "4a1902fe6d334550b6df55dce62f0058",
       "version_major": 2,
       "version_minor": 0
      },
      "text/plain": [
       "Varying Uncertain Radius:   0%|          | 0/4 [00:00<?, ?it/s]"
      ]
     },
     "metadata": {},
     "output_type": "display_data"
    },
    {
     "data": {
      "application/vnd.jupyter.widget-view+json": {
       "model_id": "e773fd5c2443464587c93d0892f4175c",
       "version_major": 2,
       "version_minor": 0
      },
      "text/plain": [
       "Varying Uncertain Radius:   0%|          | 0/4 [00:00<?, ?it/s]"
      ]
     },
     "metadata": {},
     "output_type": "display_data"
    },
    {
     "data": {
      "application/vnd.jupyter.widget-view+json": {
       "model_id": "c68d10772df34b8dae72555a2e6212bd",
       "version_major": 2,
       "version_minor": 0
      },
      "text/plain": [
       "Varying Uncertain Radius:   0%|          | 0/4 [00:00<?, ?it/s]"
      ]
     },
     "metadata": {},
     "output_type": "display_data"
    },
    {
     "data": {
      "application/vnd.jupyter.widget-view+json": {
       "model_id": "eae7dd2722ab445e8f37304e7b61ebd1",
       "version_major": 2,
       "version_minor": 0
      },
      "text/plain": [
       "Varying Uncertain Radius:   0%|          | 0/4 [00:00<?, ?it/s]"
      ]
     },
     "metadata": {},
     "output_type": "display_data"
    },
    {
     "data": {
      "application/vnd.jupyter.widget-view+json": {
       "model_id": "5bc4f23c08f34272957ad607a8828672",
       "version_major": 2,
       "version_minor": 0
      },
      "text/plain": [
       "Varying Uncertain Radius:   0%|          | 0/4 [00:00<?, ?it/s]"
      ]
     },
     "metadata": {},
     "output_type": "display_data"
    },
    {
     "data": {
      "application/vnd.jupyter.widget-view+json": {
       "model_id": "a4669fe6ce5f40488283116b442986ef",
       "version_major": 2,
       "version_minor": 0
      },
      "text/plain": [
       "Varying Uncertain Radius:   0%|          | 0/4 [00:00<?, ?it/s]"
      ]
     },
     "metadata": {},
     "output_type": "display_data"
    },
    {
     "data": {
      "application/vnd.jupyter.widget-view+json": {
       "model_id": "683059cc1dab4110bceec35b5b216b58",
       "version_major": 2,
       "version_minor": 0
      },
      "text/plain": [
       "Varying Uncertain Radius:   0%|          | 0/4 [00:00<?, ?it/s]"
      ]
     },
     "metadata": {},
     "output_type": "display_data"
    },
    {
     "data": {
      "application/vnd.jupyter.widget-view+json": {
       "model_id": "026fb6037c744a45a53dd2b9648074ba",
       "version_major": 2,
       "version_minor": 0
      },
      "text/plain": [
       "Varying Uncertain Radius:   0%|          | 0/4 [00:00<?, ?it/s]"
      ]
     },
     "metadata": {},
     "output_type": "display_data"
    },
    {
     "data": {
      "application/vnd.jupyter.widget-view+json": {
       "model_id": "a3a92b1352054cd69e134044cc32a760",
       "version_major": 2,
       "version_minor": 0
      },
      "text/plain": [
       "Varying Uncertain Radius:   0%|          | 0/4 [00:00<?, ?it/s]"
      ]
     },
     "metadata": {},
     "output_type": "display_data"
    },
    {
     "data": {
      "application/vnd.jupyter.widget-view+json": {
       "model_id": "0c5537f344084d5a8de36f80cf073bb3",
       "version_major": 2,
       "version_minor": 0
      },
      "text/plain": [
       "Varying Uncertain Radius:   0%|          | 0/4 [00:00<?, ?it/s]"
      ]
     },
     "metadata": {},
     "output_type": "display_data"
    },
    {
     "data": {
      "application/vnd.jupyter.widget-view+json": {
       "model_id": "4c992aea081b4d09b819e2956d8b4cf0",
       "version_major": 2,
       "version_minor": 0
      },
      "text/plain": [
       "Progess:   0%|          | 0/10 [00:00<?, ?it/s]"
      ]
     },
     "metadata": {},
     "output_type": "display_data"
    },
    {
     "data": {
      "application/vnd.jupyter.widget-view+json": {
       "model_id": "648974319d884a1a8794437d24f14f18",
       "version_major": 2,
       "version_minor": 0
      },
      "text/plain": [
       "Varying Uncertain Radius:   0%|          | 0/4 [00:00<?, ?it/s]"
      ]
     },
     "metadata": {},
     "output_type": "display_data"
    },
    {
     "data": {
      "application/vnd.jupyter.widget-view+json": {
       "model_id": "68a98ecf584f486bb6cac2540904c608",
       "version_major": 2,
       "version_minor": 0
      },
      "text/plain": [
       "Varying Uncertain Radius:   0%|          | 0/4 [00:00<?, ?it/s]"
      ]
     },
     "metadata": {},
     "output_type": "display_data"
    },
    {
     "data": {
      "application/vnd.jupyter.widget-view+json": {
       "model_id": "afc0fbbed30e4fd8814784e46ff3167d",
       "version_major": 2,
       "version_minor": 0
      },
      "text/plain": [
       "Varying Uncertain Radius:   0%|          | 0/4 [00:00<?, ?it/s]"
      ]
     },
     "metadata": {},
     "output_type": "display_data"
    },
    {
     "data": {
      "application/vnd.jupyter.widget-view+json": {
       "model_id": "322abbe737bf4d9193751f2945ce2d65",
       "version_major": 2,
       "version_minor": 0
      },
      "text/plain": [
       "Varying Uncertain Radius:   0%|          | 0/4 [00:00<?, ?it/s]"
      ]
     },
     "metadata": {},
     "output_type": "display_data"
    },
    {
     "data": {
      "application/vnd.jupyter.widget-view+json": {
       "model_id": "c207770035874dfdbfd9760d1ba8c130",
       "version_major": 2,
       "version_minor": 0
      },
      "text/plain": [
       "Varying Uncertain Radius:   0%|          | 0/4 [00:00<?, ?it/s]"
      ]
     },
     "metadata": {},
     "output_type": "display_data"
    },
    {
     "data": {
      "application/vnd.jupyter.widget-view+json": {
       "model_id": "6a7468b48a984540a23a6114ca6e5cb9",
       "version_major": 2,
       "version_minor": 0
      },
      "text/plain": [
       "Varying Uncertain Radius:   0%|          | 0/4 [00:00<?, ?it/s]"
      ]
     },
     "metadata": {},
     "output_type": "display_data"
    },
    {
     "data": {
      "application/vnd.jupyter.widget-view+json": {
       "model_id": "7e1d3944e54c4dff96037019660abcba",
       "version_major": 2,
       "version_minor": 0
      },
      "text/plain": [
       "Varying Uncertain Radius:   0%|          | 0/4 [00:00<?, ?it/s]"
      ]
     },
     "metadata": {},
     "output_type": "display_data"
    },
    {
     "data": {
      "application/vnd.jupyter.widget-view+json": {
       "model_id": "a8e3c78932ac4c1baa12e69203e7e64e",
       "version_major": 2,
       "version_minor": 0
      },
      "text/plain": [
       "Varying Uncertain Radius:   0%|          | 0/4 [00:00<?, ?it/s]"
      ]
     },
     "metadata": {},
     "output_type": "display_data"
    },
    {
     "data": {
      "application/vnd.jupyter.widget-view+json": {
       "model_id": "6f2d17b84f2f4e30859e62ba79d5a669",
       "version_major": 2,
       "version_minor": 0
      },
      "text/plain": [
       "Varying Uncertain Radius:   0%|          | 0/4 [00:00<?, ?it/s]"
      ]
     },
     "metadata": {},
     "output_type": "display_data"
    },
    {
     "data": {
      "application/vnd.jupyter.widget-view+json": {
       "model_id": "d910b7e3066c41b8b14ea8f60855363f",
       "version_major": 2,
       "version_minor": 0
      },
      "text/plain": [
       "Varying Uncertain Radius:   0%|          | 0/4 [00:00<?, ?it/s]"
      ]
     },
     "metadata": {},
     "output_type": "display_data"
    }
   ],
   "source": [
    "# Testing more extreme uncertain percentages\n",
    "robustness_dicts_interval = []\n",
    "for seed in range(5):\n",
    "    # mpg +- 2 is robust\n",
    "    robustness_radius = 500\n",
    "    label_range = (y_train.max()-y_train.min())\n",
    "    ratios = [0.02, 0.04, 0.06, 0.08]\n",
    "    uncertain_radiuses = [ratio*label_range for ratio in ratios]\n",
    "    uncertain_pcts = list(np.arange(1, 11)/100)\n",
    "    robustness_dict_interval = dict()\n",
    "    robustness_dict_interval['uncertain_radius'] = uncertain_radiuses\n",
    "    robustness_dict_interval['uncertain_radius_ratios'] = ratios\n",
    "    for uncertain_pct in tqdm(uncertain_pcts, desc='Progess'):\n",
    "        robustness_dict_interval[uncertain_pct] = list()\n",
    "        uncertain_num = int(uncertain_pct*len(y_train))\n",
    "        for uncertain_radius in tqdm(uncertain_radiuses, desc=f'Varying Uncertain Radius'):\n",
    "            robustness_ratio = compute_robustness_ratio_sensitive_label_error(X_train, y_train, X_test, y_test, \n",
    "                                                                    uncertain_num=uncertain_num,\n",
    "                                                                    boundary_indices=boundary_indices,\n",
    "                                                                    uncertain_radius=uncertain_radius, \n",
    "                                                                    robustness_radius=robustness_radius, \n",
    "                                                                    interval=True, seed=seed)\n",
    "            robustness_dict_interval[uncertain_pct].append(robustness_ratio)\n",
    "    robustness_dicts_interval.append(robustness_dict_interval)"
   ]
  },
  {
   "cell_type": "code",
   "execution_count": 17,
   "id": "453e9c03-8afc-42c8-9666-336774639707",
   "metadata": {},
   "outputs": [
    {
     "data": {
      "application/vnd.jupyter.widget-view+json": {
       "model_id": "29b1f71dfc09416da00f84f0d4576c4c",
       "version_major": 2,
       "version_minor": 0
      },
      "text/plain": [
       "Progress:   0%|          | 0/5 [00:00<?, ?it/s]"
      ]
     },
     "metadata": {},
     "output_type": "display_data"
    },
    {
     "data": {
      "application/vnd.jupyter.widget-view+json": {
       "model_id": "",
       "version_major": 2,
       "version_minor": 0
      },
      "text/plain": [
       "Rep 1:   0%|          | 0/10 [00:00<?, ?it/s]"
      ]
     },
     "metadata": {},
     "output_type": "display_data"
    },
    {
     "data": {
      "application/vnd.jupyter.widget-view+json": {
       "model_id": "",
       "version_major": 2,
       "version_minor": 0
      },
      "text/plain": [
       "Varying Uncertain Radius:   0%|          | 0/4 [00:00<?, ?it/s]"
      ]
     },
     "metadata": {},
     "output_type": "display_data"
    },
    {
     "data": {
      "application/vnd.jupyter.widget-view+json": {
       "model_id": "",
       "version_major": 2,
       "version_minor": 0
      },
      "text/plain": [
       "Varying Uncertain Radius:   0%|          | 0/4 [00:00<?, ?it/s]"
      ]
     },
     "metadata": {},
     "output_type": "display_data"
    },
    {
     "data": {
      "application/vnd.jupyter.widget-view+json": {
       "model_id": "",
       "version_major": 2,
       "version_minor": 0
      },
      "text/plain": [
       "Varying Uncertain Radius:   0%|          | 0/4 [00:00<?, ?it/s]"
      ]
     },
     "metadata": {},
     "output_type": "display_data"
    },
    {
     "data": {
      "application/vnd.jupyter.widget-view+json": {
       "model_id": "",
       "version_major": 2,
       "version_minor": 0
      },
      "text/plain": [
       "Varying Uncertain Radius:   0%|          | 0/4 [00:00<?, ?it/s]"
      ]
     },
     "metadata": {},
     "output_type": "display_data"
    },
    {
     "data": {
      "application/vnd.jupyter.widget-view+json": {
       "model_id": "",
       "version_major": 2,
       "version_minor": 0
      },
      "text/plain": [
       "Varying Uncertain Radius:   0%|          | 0/4 [00:00<?, ?it/s]"
      ]
     },
     "metadata": {},
     "output_type": "display_data"
    },
    {
     "data": {
      "application/vnd.jupyter.widget-view+json": {
       "model_id": "",
       "version_major": 2,
       "version_minor": 0
      },
      "text/plain": [
       "Varying Uncertain Radius:   0%|          | 0/4 [00:00<?, ?it/s]"
      ]
     },
     "metadata": {},
     "output_type": "display_data"
    },
    {
     "data": {
      "application/vnd.jupyter.widget-view+json": {
       "model_id": "",
       "version_major": 2,
       "version_minor": 0
      },
      "text/plain": [
       "Varying Uncertain Radius:   0%|          | 0/4 [00:00<?, ?it/s]"
      ]
     },
     "metadata": {},
     "output_type": "display_data"
    },
    {
     "data": {
      "application/vnd.jupyter.widget-view+json": {
       "model_id": "",
       "version_major": 2,
       "version_minor": 0
      },
      "text/plain": [
       "Varying Uncertain Radius:   0%|          | 0/4 [00:00<?, ?it/s]"
      ]
     },
     "metadata": {},
     "output_type": "display_data"
    },
    {
     "data": {
      "application/vnd.jupyter.widget-view+json": {
       "model_id": "",
       "version_major": 2,
       "version_minor": 0
      },
      "text/plain": [
       "Varying Uncertain Radius:   0%|          | 0/4 [00:00<?, ?it/s]"
      ]
     },
     "metadata": {},
     "output_type": "display_data"
    },
    {
     "data": {
      "application/vnd.jupyter.widget-view+json": {
       "model_id": "",
       "version_major": 2,
       "version_minor": 0
      },
      "text/plain": [
       "Varying Uncertain Radius:   0%|          | 0/4 [00:00<?, ?it/s]"
      ]
     },
     "metadata": {},
     "output_type": "display_data"
    },
    {
     "data": {
      "application/vnd.jupyter.widget-view+json": {
       "model_id": "",
       "version_major": 2,
       "version_minor": 0
      },
      "text/plain": [
       "Rep 2:   0%|          | 0/10 [00:00<?, ?it/s]"
      ]
     },
     "metadata": {},
     "output_type": "display_data"
    },
    {
     "data": {
      "application/vnd.jupyter.widget-view+json": {
       "model_id": "",
       "version_major": 2,
       "version_minor": 0
      },
      "text/plain": [
       "Varying Uncertain Radius:   0%|          | 0/4 [00:00<?, ?it/s]"
      ]
     },
     "metadata": {},
     "output_type": "display_data"
    },
    {
     "data": {
      "application/vnd.jupyter.widget-view+json": {
       "model_id": "",
       "version_major": 2,
       "version_minor": 0
      },
      "text/plain": [
       "Varying Uncertain Radius:   0%|          | 0/4 [00:00<?, ?it/s]"
      ]
     },
     "metadata": {},
     "output_type": "display_data"
    },
    {
     "data": {
      "application/vnd.jupyter.widget-view+json": {
       "model_id": "",
       "version_major": 2,
       "version_minor": 0
      },
      "text/plain": [
       "Varying Uncertain Radius:   0%|          | 0/4 [00:00<?, ?it/s]"
      ]
     },
     "metadata": {},
     "output_type": "display_data"
    },
    {
     "data": {
      "application/vnd.jupyter.widget-view+json": {
       "model_id": "",
       "version_major": 2,
       "version_minor": 0
      },
      "text/plain": [
       "Varying Uncertain Radius:   0%|          | 0/4 [00:00<?, ?it/s]"
      ]
     },
     "metadata": {},
     "output_type": "display_data"
    },
    {
     "data": {
      "application/vnd.jupyter.widget-view+json": {
       "model_id": "",
       "version_major": 2,
       "version_minor": 0
      },
      "text/plain": [
       "Varying Uncertain Radius:   0%|          | 0/4 [00:00<?, ?it/s]"
      ]
     },
     "metadata": {},
     "output_type": "display_data"
    },
    {
     "data": {
      "application/vnd.jupyter.widget-view+json": {
       "model_id": "",
       "version_major": 2,
       "version_minor": 0
      },
      "text/plain": [
       "Varying Uncertain Radius:   0%|          | 0/4 [00:00<?, ?it/s]"
      ]
     },
     "metadata": {},
     "output_type": "display_data"
    },
    {
     "data": {
      "application/vnd.jupyter.widget-view+json": {
       "model_id": "",
       "version_major": 2,
       "version_minor": 0
      },
      "text/plain": [
       "Varying Uncertain Radius:   0%|          | 0/4 [00:00<?, ?it/s]"
      ]
     },
     "metadata": {},
     "output_type": "display_data"
    },
    {
     "data": {
      "application/vnd.jupyter.widget-view+json": {
       "model_id": "",
       "version_major": 2,
       "version_minor": 0
      },
      "text/plain": [
       "Varying Uncertain Radius:   0%|          | 0/4 [00:00<?, ?it/s]"
      ]
     },
     "metadata": {},
     "output_type": "display_data"
    },
    {
     "data": {
      "application/vnd.jupyter.widget-view+json": {
       "model_id": "",
       "version_major": 2,
       "version_minor": 0
      },
      "text/plain": [
       "Varying Uncertain Radius:   0%|          | 0/4 [00:00<?, ?it/s]"
      ]
     },
     "metadata": {},
     "output_type": "display_data"
    },
    {
     "data": {
      "application/vnd.jupyter.widget-view+json": {
       "model_id": "",
       "version_major": 2,
       "version_minor": 0
      },
      "text/plain": [
       "Varying Uncertain Radius:   0%|          | 0/4 [00:00<?, ?it/s]"
      ]
     },
     "metadata": {},
     "output_type": "display_data"
    },
    {
     "data": {
      "application/vnd.jupyter.widget-view+json": {
       "model_id": "",
       "version_major": 2,
       "version_minor": 0
      },
      "text/plain": [
       "Rep 3:   0%|          | 0/10 [00:00<?, ?it/s]"
      ]
     },
     "metadata": {},
     "output_type": "display_data"
    },
    {
     "data": {
      "application/vnd.jupyter.widget-view+json": {
       "model_id": "",
       "version_major": 2,
       "version_minor": 0
      },
      "text/plain": [
       "Varying Uncertain Radius:   0%|          | 0/4 [00:00<?, ?it/s]"
      ]
     },
     "metadata": {},
     "output_type": "display_data"
    },
    {
     "data": {
      "application/vnd.jupyter.widget-view+json": {
       "model_id": "",
       "version_major": 2,
       "version_minor": 0
      },
      "text/plain": [
       "Varying Uncertain Radius:   0%|          | 0/4 [00:00<?, ?it/s]"
      ]
     },
     "metadata": {},
     "output_type": "display_data"
    },
    {
     "data": {
      "application/vnd.jupyter.widget-view+json": {
       "model_id": "",
       "version_major": 2,
       "version_minor": 0
      },
      "text/plain": [
       "Varying Uncertain Radius:   0%|          | 0/4 [00:00<?, ?it/s]"
      ]
     },
     "metadata": {},
     "output_type": "display_data"
    },
    {
     "data": {
      "application/vnd.jupyter.widget-view+json": {
       "model_id": "",
       "version_major": 2,
       "version_minor": 0
      },
      "text/plain": [
       "Varying Uncertain Radius:   0%|          | 0/4 [00:00<?, ?it/s]"
      ]
     },
     "metadata": {},
     "output_type": "display_data"
    },
    {
     "data": {
      "application/vnd.jupyter.widget-view+json": {
       "model_id": "",
       "version_major": 2,
       "version_minor": 0
      },
      "text/plain": [
       "Varying Uncertain Radius:   0%|          | 0/4 [00:00<?, ?it/s]"
      ]
     },
     "metadata": {},
     "output_type": "display_data"
    },
    {
     "data": {
      "application/vnd.jupyter.widget-view+json": {
       "model_id": "",
       "version_major": 2,
       "version_minor": 0
      },
      "text/plain": [
       "Varying Uncertain Radius:   0%|          | 0/4 [00:00<?, ?it/s]"
      ]
     },
     "metadata": {},
     "output_type": "display_data"
    },
    {
     "data": {
      "application/vnd.jupyter.widget-view+json": {
       "model_id": "",
       "version_major": 2,
       "version_minor": 0
      },
      "text/plain": [
       "Varying Uncertain Radius:   0%|          | 0/4 [00:00<?, ?it/s]"
      ]
     },
     "metadata": {},
     "output_type": "display_data"
    },
    {
     "data": {
      "application/vnd.jupyter.widget-view+json": {
       "model_id": "",
       "version_major": 2,
       "version_minor": 0
      },
      "text/plain": [
       "Varying Uncertain Radius:   0%|          | 0/4 [00:00<?, ?it/s]"
      ]
     },
     "metadata": {},
     "output_type": "display_data"
    },
    {
     "data": {
      "application/vnd.jupyter.widget-view+json": {
       "model_id": "",
       "version_major": 2,
       "version_minor": 0
      },
      "text/plain": [
       "Varying Uncertain Radius:   0%|          | 0/4 [00:00<?, ?it/s]"
      ]
     },
     "metadata": {},
     "output_type": "display_data"
    },
    {
     "data": {
      "application/vnd.jupyter.widget-view+json": {
       "model_id": "",
       "version_major": 2,
       "version_minor": 0
      },
      "text/plain": [
       "Varying Uncertain Radius:   0%|          | 0/4 [00:00<?, ?it/s]"
      ]
     },
     "metadata": {},
     "output_type": "display_data"
    },
    {
     "data": {
      "application/vnd.jupyter.widget-view+json": {
       "model_id": "",
       "version_major": 2,
       "version_minor": 0
      },
      "text/plain": [
       "Rep 4:   0%|          | 0/10 [00:00<?, ?it/s]"
      ]
     },
     "metadata": {},
     "output_type": "display_data"
    },
    {
     "data": {
      "application/vnd.jupyter.widget-view+json": {
       "model_id": "",
       "version_major": 2,
       "version_minor": 0
      },
      "text/plain": [
       "Varying Uncertain Radius:   0%|          | 0/4 [00:00<?, ?it/s]"
      ]
     },
     "metadata": {},
     "output_type": "display_data"
    },
    {
     "data": {
      "application/vnd.jupyter.widget-view+json": {
       "model_id": "",
       "version_major": 2,
       "version_minor": 0
      },
      "text/plain": [
       "Varying Uncertain Radius:   0%|          | 0/4 [00:00<?, ?it/s]"
      ]
     },
     "metadata": {},
     "output_type": "display_data"
    },
    {
     "data": {
      "application/vnd.jupyter.widget-view+json": {
       "model_id": "",
       "version_major": 2,
       "version_minor": 0
      },
      "text/plain": [
       "Varying Uncertain Radius:   0%|          | 0/4 [00:00<?, ?it/s]"
      ]
     },
     "metadata": {},
     "output_type": "display_data"
    },
    {
     "data": {
      "application/vnd.jupyter.widget-view+json": {
       "model_id": "",
       "version_major": 2,
       "version_minor": 0
      },
      "text/plain": [
       "Varying Uncertain Radius:   0%|          | 0/4 [00:00<?, ?it/s]"
      ]
     },
     "metadata": {},
     "output_type": "display_data"
    },
    {
     "data": {
      "application/vnd.jupyter.widget-view+json": {
       "model_id": "",
       "version_major": 2,
       "version_minor": 0
      },
      "text/plain": [
       "Varying Uncertain Radius:   0%|          | 0/4 [00:00<?, ?it/s]"
      ]
     },
     "metadata": {},
     "output_type": "display_data"
    },
    {
     "data": {
      "application/vnd.jupyter.widget-view+json": {
       "model_id": "",
       "version_major": 2,
       "version_minor": 0
      },
      "text/plain": [
       "Varying Uncertain Radius:   0%|          | 0/4 [00:00<?, ?it/s]"
      ]
     },
     "metadata": {},
     "output_type": "display_data"
    },
    {
     "data": {
      "application/vnd.jupyter.widget-view+json": {
       "model_id": "",
       "version_major": 2,
       "version_minor": 0
      },
      "text/plain": [
       "Varying Uncertain Radius:   0%|          | 0/4 [00:00<?, ?it/s]"
      ]
     },
     "metadata": {},
     "output_type": "display_data"
    },
    {
     "data": {
      "application/vnd.jupyter.widget-view+json": {
       "model_id": "",
       "version_major": 2,
       "version_minor": 0
      },
      "text/plain": [
       "Varying Uncertain Radius:   0%|          | 0/4 [00:00<?, ?it/s]"
      ]
     },
     "metadata": {},
     "output_type": "display_data"
    },
    {
     "data": {
      "application/vnd.jupyter.widget-view+json": {
       "model_id": "",
       "version_major": 2,
       "version_minor": 0
      },
      "text/plain": [
       "Varying Uncertain Radius:   0%|          | 0/4 [00:00<?, ?it/s]"
      ]
     },
     "metadata": {},
     "output_type": "display_data"
    },
    {
     "data": {
      "application/vnd.jupyter.widget-view+json": {
       "model_id": "",
       "version_major": 2,
       "version_minor": 0
      },
      "text/plain": [
       "Varying Uncertain Radius:   0%|          | 0/4 [00:00<?, ?it/s]"
      ]
     },
     "metadata": {},
     "output_type": "display_data"
    },
    {
     "data": {
      "application/vnd.jupyter.widget-view+json": {
       "model_id": "",
       "version_major": 2,
       "version_minor": 0
      },
      "text/plain": [
       "Rep 5:   0%|          | 0/10 [00:00<?, ?it/s]"
      ]
     },
     "metadata": {},
     "output_type": "display_data"
    },
    {
     "data": {
      "application/vnd.jupyter.widget-view+json": {
       "model_id": "",
       "version_major": 2,
       "version_minor": 0
      },
      "text/plain": [
       "Varying Uncertain Radius:   0%|          | 0/4 [00:00<?, ?it/s]"
      ]
     },
     "metadata": {},
     "output_type": "display_data"
    },
    {
     "data": {
      "application/vnd.jupyter.widget-view+json": {
       "model_id": "",
       "version_major": 2,
       "version_minor": 0
      },
      "text/plain": [
       "Varying Uncertain Radius:   0%|          | 0/4 [00:00<?, ?it/s]"
      ]
     },
     "metadata": {},
     "output_type": "display_data"
    },
    {
     "data": {
      "application/vnd.jupyter.widget-view+json": {
       "model_id": "",
       "version_major": 2,
       "version_minor": 0
      },
      "text/plain": [
       "Varying Uncertain Radius:   0%|          | 0/4 [00:00<?, ?it/s]"
      ]
     },
     "metadata": {},
     "output_type": "display_data"
    },
    {
     "data": {
      "application/vnd.jupyter.widget-view+json": {
       "model_id": "",
       "version_major": 2,
       "version_minor": 0
      },
      "text/plain": [
       "Varying Uncertain Radius:   0%|          | 0/4 [00:00<?, ?it/s]"
      ]
     },
     "metadata": {},
     "output_type": "display_data"
    },
    {
     "data": {
      "application/vnd.jupyter.widget-view+json": {
       "model_id": "acbf3274f20f4a8f83aac306be7b7be4",
       "version_major": 2,
       "version_minor": 0
      },
      "text/plain": [
       "Varying Uncertain Radius:   0%|          | 0/4 [00:00<?, ?it/s]"
      ]
     },
     "metadata": {},
     "output_type": "display_data"
    },
    {
     "data": {
      "application/vnd.jupyter.widget-view+json": {
       "model_id": "086fb550ce3a424fb0ca59627cb74e79",
       "version_major": 2,
       "version_minor": 0
      },
      "text/plain": [
       "Varying Uncertain Radius:   0%|          | 0/4 [00:00<?, ?it/s]"
      ]
     },
     "metadata": {},
     "output_type": "display_data"
    },
    {
     "data": {
      "application/vnd.jupyter.widget-view+json": {
       "model_id": "92eff780e17b4526810d00a3fdb7f3ac",
       "version_major": 2,
       "version_minor": 0
      },
      "text/plain": [
       "Varying Uncertain Radius:   0%|          | 0/4 [00:00<?, ?it/s]"
      ]
     },
     "metadata": {},
     "output_type": "display_data"
    },
    {
     "data": {
      "application/vnd.jupyter.widget-view+json": {
       "model_id": "bc1c359aaba34ca5bbb0afeb9e5943e4",
       "version_major": 2,
       "version_minor": 0
      },
      "text/plain": [
       "Varying Uncertain Radius:   0%|          | 0/4 [00:00<?, ?it/s]"
      ]
     },
     "metadata": {},
     "output_type": "display_data"
    },
    {
     "data": {
      "application/vnd.jupyter.widget-view+json": {
       "model_id": "1e65d6ef055843a587a7ddda18814a02",
       "version_major": 2,
       "version_minor": 0
      },
      "text/plain": [
       "Varying Uncertain Radius:   0%|          | 0/4 [00:00<?, ?it/s]"
      ]
     },
     "metadata": {},
     "output_type": "display_data"
    },
    {
     "data": {
      "application/vnd.jupyter.widget-view+json": {
       "model_id": "00a5a972d0fa495193cb05807edbc6cc",
       "version_major": 2,
       "version_minor": 0
      },
      "text/plain": [
       "Varying Uncertain Radius:   0%|          | 0/4 [00:00<?, ?it/s]"
      ]
     },
     "metadata": {},
     "output_type": "display_data"
    }
   ],
   "source": [
    "robustness_dicts_interval_naive = []\n",
    "for seed in tqdm(range(5), desc=f'Progress'):\n",
    "    # mpg +- 2 is robust\n",
    "    robustness_radius = 500\n",
    "    label_range = (y_train.max()-y_train.min())\n",
    "    ratios = [0.02, 0.04, 0.06, 0.08]\n",
    "    uncertain_radiuses = [ratio*label_range for ratio in ratios]\n",
    "    uncertain_pcts = list(np.arange(1, 11)/100)\n",
    "    robustness_dict_interval = dict()\n",
    "    robustness_dict_interval['uncertain_radius'] = uncertain_radiuses\n",
    "    robustness_dict_interval['uncertain_radius_ratios'] = ratios\n",
    "    for uncertain_pct in tqdm(uncertain_pcts, desc=f'Rep {seed+1}', leave=False):\n",
    "        robustness_dict_interval[uncertain_pct] = list()\n",
    "        uncertain_num = int(uncertain_pct*len(y_train))\n",
    "        for uncertain_radius in tqdm(uncertain_radiuses, desc=f'Varying Uncertain Radius', leave=False):\n",
    "            robustness_ratio = compute_robustness_ratio_label_error(X_train, y_train, X_test, y_test, \n",
    "                                                                    uncertain_num=uncertain_num, \n",
    "                                                                    uncertain_radius=uncertain_radius, \n",
    "                                                                    robustness_radius=robustness_radius, \n",
    "                                                                    interval=True, seed=seed)\n",
    "            robustness_dict_interval[uncertain_pct].append(robustness_ratio)\n",
    "    robustness_dicts_interval_naive.append(robustness_dict_interval)"
   ]
  },
  {
   "cell_type": "code",
   "execution_count": 18,
   "id": "100f59a0-75ba-48ab-8856-7d245a9ec863",
   "metadata": {},
   "outputs": [
    {
     "data": {
      "image/png": "[encoded data removed]",
      "text/plain": [
       "<Figure size 3000x1600 with 5 Axes>"
      ]
     },
     "metadata": {},
     "output_type": "display_data"
    }
   ],
   "source": [
    "# Create the heatmap plot with a 2x2 grid\n",
    "fig, axes = plt.subplots(2, 2, figsize=(15, 8), dpi=200)\n",
    "\n",
    "# Define colormap\n",
    "cmap = plt.get_cmap(\"autumn_r\")\n",
    "\n",
    "# Function to plot a single heatmap\n",
    "def plot_heatmap(ax, heatmap_data, x_labels, y_labels, title):\n",
    "    heatmap = ax.imshow(heatmap_data, cmap=cmap, interpolation='nearest', \n",
    "                        aspect='auto', alpha=0.8, vmin=0, vmax=100)\n",
    "    ax.set_xticks(np.arange(len(x_labels)))\n",
    "    ax.set_yticks(np.arange(len(y_labels)))\n",
    "    ax.set_xticklabels(x_labels)\n",
    "    ax.set_yticklabels(y_labels)\n",
    "    ax.tick_params(axis='both', which='both', length=0)  # Remove tick marks\n",
    "    \n",
    "    # Add white lines by adjusting the linewidth for minor ticks\n",
    "    ax.set_xticks(np.arange(len(x_labels)) - 0.5, minor=True)\n",
    "    ax.set_yticks(np.arange(len(y_labels)) - 0.5, minor=True)\n",
    "    ax.grid(which=\"minor\", color=\"white\", linestyle='-', linewidth=0.5)\n",
    "    ax.tick_params(which=\"minor\", size=0)\n",
    "    \n",
    "    # Remove external boundaries\n",
    "    for spine in ax.spines.values():\n",
    "        spine.set_visible(False)\n",
    "\n",
    "    # Add text annotations\n",
    "    for i in range(len(y_labels)):\n",
    "        for j in range(len(x_labels)):\n",
    "            if heatmap_data[i][j] == 100:\n",
    "                text = ax.text(j, i, '100', ha='center', va='center', color='black')\n",
    "            elif heatmap_data[i][j] == 0:\n",
    "                text = ax.text(j, i, '0', ha='center', va='center', color='black')\n",
    "            else:\n",
    "                text = ax.text(j, i, f'{heatmap_data[i][j]:.1f}', ha='center', va='center', color='black')\n",
    "\n",
    "    ax.set_title(title, fontsize=12)\n",
    "    ax.set_xlabel('Percentage of Uncertain Data', fontsize=12)\n",
    "    ax.set_ylabel('Uncertain Radius (%)', fontsize=12)\n",
    "\n",
    "# Data for the heatmaps\n",
    "df1 = sum([pd.DataFrame(robustness_dicts_interval_naive[i]).iloc[:, 2:] for i in range(5)])/5\n",
    "df2 = sum([pd.DataFrame(robustness_dicts_interval[i]).iloc[:, 2:] for i in range(5)])/5\n",
    "df3 = sum([pd.DataFrame(robustness_dicts_naive[i]).iloc[:, 2:] for i in range(5)])/5  \n",
    "df4 = sum([pd.DataFrame(robustness_dicts[i]).iloc[:, 2:] for i in range(5)])/5  \n",
    "\n",
    "# Convert fractions to percentages\n",
    "heatmap_data1 = df1.multiply(100).values\n",
    "heatmap_data2 = df2.multiply(100).values\n",
    "heatmap_data3 = df3.multiply(100).values\n",
    "heatmap_data4 = df4.multiply(100).values\n",
    "\n",
    "# Labels\n",
    "x_labels = df1.columns.tolist()\n",
    "y_labels = [0.02, 0.04, 0.06, 0.08]\n",
    "\n",
    "# Plot each heatmap\n",
    "plot_heatmap(axes[0, 0], heatmap_data1, x_labels, y_labels, 'Meyer et al. (Naive Approach)')\n",
    "plot_heatmap(axes[0, 1], heatmap_data2, x_labels, y_labels, 'Meyer et al. (Subset Approach)')\n",
    "plot_heatmap(axes[1, 0], heatmap_data3, x_labels, y_labels, 'ZORRO (Naive Approach)')\n",
    "plot_heatmap(axes[1, 1], heatmap_data4, x_labels, y_labels, 'ZORRO (Subset Approach)')\n",
    "\n",
    "# Adjust layout and add colorbar\n",
    "plt.subplots_adjust(wspace=0.2, hspace=0.4, bottom=0.1, left=0.1, right=0.9)\n",
    "cb = fig.colorbar(axes[0, 1].images[0], ax=axes, orientation='vertical', pad=0.02)\n",
    "cb.set_label('Robustness Ratio (%)', fontsize=12)\n",
    "plt.savefig('graph_outs/discretization_ins_linearReg_mse.pdf', bbox_inches='tight')"
   ]
  },
  {
   "cell_type": "code",
   "execution_count": null,
   "id": "7265037e-7799-4f72-a2e4-a95bb8101a9c",
   "metadata": {},
   "outputs": [],
   "source": []
  }
 ],
 "metadata": {
  "kernelspec": {
   "display_name": "Python 3 (ipykernel)",
   "language": "python",
   "name": "python3"
  },
  "language_info": {
   "codemirror_mode": {
    "name": "ipython",
    "version": 3
   },
   "file_extension": ".py",
   "mimetype": "text/x-python",
   "name": "python",
   "nbconvert_exporter": "python",
   "pygments_lexer": "ipython3",
   "version": "3.11.9"
  }
 },
 "nbformat": 4,
 "nbformat_minor": 5
}

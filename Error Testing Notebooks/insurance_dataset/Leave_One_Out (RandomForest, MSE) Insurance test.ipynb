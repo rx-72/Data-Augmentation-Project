{
 "cells": [
  {
   "cell_type": "code",
   "execution_count": 7,
   "id": "063d5a76",
   "metadata": {},
   "outputs": [],
   "source": [
    "import os\n",
    "import copy\n",
    "import pickle\n",
    "import sympy\n",
    "import functools\n",
    "import itertools\n",
    "\n",
    "import numpy as np\n",
    "import pandas as pd\n",
    "import matplotlib.pyplot as plt\n",
    "\n",
    "from error_injection import MissingValueError, SamplingError, Injector\n",
    "from sklearn.decomposition import PCA\n",
    "from sklearn.model_selection import train_test_split\n",
    "from sklearn.preprocessing import StandardScaler\n",
    "from sklearn.experimental import enable_iterative_imputer\n",
    "from sklearn.impute import SimpleImputer, KNNImputer, IterativeImputer\n",
    "from sklearn.metrics import mutual_info_score, auc, roc_curve, roc_auc_score, f1_score\n",
    "from scipy.optimize import minimize as scipy_min\n",
    "from scipy.spatial import ConvexHull\n",
    "from scipy.optimize import minimize, Bounds, linprog\n",
    "from sympy import Symbol as sb\n",
    "from sympy import lambdify\n",
    "from tqdm.notebook import trange,tqdm\n",
    "from IPython.display import display,clear_output\n",
    "from random import choice\n",
    "from sklearn.linear_model import LinearRegression\n",
    "from sklearn.utils import resample\n",
    "from sklearn.ensemble import RandomForestRegressor\n",
    "from sklearn.linear_model import Ridge\n",
    "from sklearn.tree import DecisionTreeClassifier\n",
    "from sklearn.tree import _tree\n",
    "from sklearn.model_selection import GridSearchCV\n",
    "from sklearn.metrics import make_scorer, recall_score\n",
    "\n",
    "class style():\n",
    "    RED = '\\033[31m'\n",
    "    GREEN = '\\033[32m'\n",
    "    BLUE = '\\033[34m'\n",
    "    RESET = '\\033[0m'\n",
    "\n",
    "np.random.seed(1)\n",
    "\n",
    "# ignore all the warnings\n",
    "import warnings\n",
    "warnings.filterwarnings('ignore')"
   ]
  },
  {
   "cell_type": "code",
   "execution_count": 2,
   "id": "03f75259",
   "metadata": {},
   "outputs": [
    {
     "data": {
      "text/plain": [
       "1070"
      ]
     },
     "execution_count": 2,
     "metadata": {},
     "output_type": "execute_result"
    }
   ],
   "source": [
    "def load_ins_cleaned():\n",
    "    # fetch dataset\n",
    "    auto_mpg = pd.read_csv('insurance.csv').drop('sex', axis=1).drop('smoker', axis=1).drop('region', axis=1).replace('?', np.nan)\n",
    "    features = ['age', 'bmi', 'children']\n",
    "    X = auto_mpg[features].astype(float)\n",
    "    y = auto_mpg['charges']\n",
    "    \n",
    "    # assumed gt imputation\n",
    "    imputer = KNNImputer(n_neighbors=10)\n",
    "    X = pd.DataFrame(imputer.fit_transform(X), columns=X.columns)\n",
    "\n",
    "    X_train, X_test, y_train, y_test = train_test_split(X, y, test_size=0.2, random_state=1)\n",
    "    X_train = copy.deepcopy(X_train).reset_index(drop=True)\n",
    "    X_test = copy.deepcopy(X_test).reset_index(drop=True)\n",
    "    y_train = y_train.reset_index(drop=True)\n",
    "    y_test = y_test.reset_index(drop=True)\n",
    "\n",
    "    return X_train, X_test, y_train, y_test\n",
    "\n",
    "X_train, X_test, y_train, y_test = load_ins_cleaned()\n",
    "len(X_train)"
   ]
  },
  {
   "cell_type": "code",
   "execution_count": 3,
   "id": "412eb3cb",
   "metadata": {},
   "outputs": [],
   "source": [
    "#Useful functions\n",
    "symbol_id = -1\n",
    "def create_symbol(suffix=''):\n",
    "    global symbol_id\n",
    "    symbol_id += 1\n",
    "    name = f'e{symbol_id}_{suffix}' if suffix else f'e{symbol_id}'\n",
    "    return sympy.Symbol(name=name)\n",
    "\n",
    "\n",
    "scaler_symbols = set([sb(f'k{i}') for i in range(X_train.shape[1]+1)])\n",
    "linearization_dict = dict()\n",
    "reverse_linearization_dict = dict()\n",
    "\n",
    "def inject_sensitive_ranges(X, y, uncertain_attr, uncertain_num, boundary_indices, uncertain_radius_pct=None, \n",
    "                  uncertain_radius=None, seed=42):\n",
    "    global symbol_id\n",
    "    symbol_id = -1\n",
    "    \n",
    "    X_extended = np.append(np.ones((len(X), 1)), X, axis=1)\n",
    "    ss = StandardScaler()\n",
    "    X_extended[:, 1:] = ss.fit_transform(X_extended[:, 1:])\n",
    "    X_extended_symb = sympy.Matrix(X_extended)\n",
    "    \n",
    "    if not(uncertain_attr=='y'):\n",
    "        uncertain_attr_idx = X.columns.to_list().index(uncertain_attr) + 1\n",
    "        if not(uncertain_radius):\n",
    "            uncertain_radius = uncertain_radius_pct*(np.max(X_extended[:, uncertain_attr_idx])-\\\n",
    "                                                     np.min(X_extended[:, uncertain_attr_idx]))\n",
    "    else:\n",
    "        if not(uncertain_radius):\n",
    "            uncertain_radius = uncertain_radius_pct*(y_train.max()-y_train.min())[0]\n",
    "    \n",
    "    np.random.seed(seed)\n",
    "    uncertain_indices = boundary_indices[:uncertain_num]\n",
    "    y_symb = sympy.Matrix(y)\n",
    "    symbols_in_data = set()\n",
    "    #print(uncertain_indices)\n",
    "    for uncertain_idx in uncertain_indices:\n",
    "        new_symb = create_symbol()\n",
    "        symbols_in_data.add(new_symb)\n",
    "        if uncertain_attr=='y':\n",
    "            y_symb[uncertain_idx] = y_symb[uncertain_idx] + uncertain_radius*new_symb\n",
    "        else:\n",
    "            X_extended_symb[uncertain_idx, uncertain_attr_idx] = X_extended_symb[uncertain_idx, uncertain_attr_idx] + uncertain_radius*new_symb\n",
    "    return X_extended_symb, y_symb, symbols_in_data, ss\n",
    "\n",
    "# if interval=True, use interval arithmetic, otherwise use zonotopes\n",
    "def compute_robustness_ratio_sensitive_label_error(X_train, y_train, X_test, y_test, robustness_radius,\n",
    "                                         uncertain_num, boundary_indices, uncertain_radius=None, \n",
    "                                         lr=0.1, seed=42, interval=True):\n",
    "    X, y, symbols_in_data, ss = inject_sensitive_ranges(X=X_train, y=y_train, uncertain_attr='y', \n",
    "                                              uncertain_num=uncertain_num, boundary_indices=boundary_indices, \n",
    "                                              uncertain_radius=uncertain_radius, \n",
    "                                              uncertain_radius_pct=None, seed=seed)\n",
    "    \n",
    "    assert len(X.free_symbols)==0\n",
    "    # closed-form\n",
    "    param = (X.T*X).inv()*X.T*y\n",
    "    \n",
    "    if interval:\n",
    "        # make param intervals\n",
    "        for d in range(len(param)):\n",
    "            expr = param[d]\n",
    "            if not(expr.free_symbols):\n",
    "                continue\n",
    "            else:\n",
    "                constant_part = 0\n",
    "                interval_radius = 0\n",
    "                for arg in expr.args:\n",
    "                    if arg.free_symbols:\n",
    "                        interval_radius += abs(arg.args[0])\n",
    "                    else:\n",
    "                        assert constant_part == 0\n",
    "                        constant_part = arg\n",
    "                param[d] = constant_part + create_symbol()*interval_radius\n",
    "    \n",
    "    test_preds = sympy.Matrix(np.append(np.ones((len(X_test), 1)), ss.transform(X_test), axis=1))*param\n",
    "    robustness_ls = []\n",
    "    for pred in test_preds:\n",
    "        pred_range_radius = 0\n",
    "        for arg in pred.args:\n",
    "            if arg.free_symbols:\n",
    "                pred_range_radius += abs(arg.args[0])\n",
    "        if pred_range_radius <= robustness_radius:\n",
    "            robustness_ls.append(1)\n",
    "        else:\n",
    "            robustness_ls.append(0)\n",
    "    \n",
    "#     print(param)\n",
    "    return np.mean(robustness_ls)"
   ]
  },
  {
   "cell_type": "code",
   "execution_count": 4,
   "id": "949ffe56",
   "metadata": {},
   "outputs": [],
   "source": [
    "#accuracy r2 = True; rmse, mse = False for maximize\n",
    "def leave_one_out(X_train, y_train, X_test, y_test, model, metric, maximize=True): \n",
    "    predictions = model.fit(X_train, y_train).predict(X_test)\n",
    "    initial_metric = metric(y_test.to_numpy(), predictions)\n",
    "    influence_results = []\n",
    "   \n",
    "    for i in range(len(X_train)):\n",
    "        X_train_new = np.delete(X_train, i, axis=0)\n",
    "        y_train_new = np.delete(y_train, i, axis=0)\n",
    "       \n",
    "        model_clone = model.__class__(**model.get_params())\n",
    "        new_preds = model_clone.fit(X_train_new, y_train_new).predict(X_test)\n",
    "        new_metric = metric(y_test.to_numpy(), new_preds)\n",
    "       \n",
    "        metric_diff = (initial_metric - new_metric) if maximize else (new_metric - initial_metric)\n",
    "        \n",
    "        influence_results.append((i, metric_diff))\n",
    "       \n",
    "       \n",
    "   \n",
    "    influence_results = sorted(influence_results,key=lambda x: x[1], reverse=True)\n",
    "    #print(influence_results)\n",
    "    return [i[0] for i in influence_results]\n",
    "\n",
    "def mae(y_true, y_pred):\n",
    "    return sum(abs(y_true - y_pred))/len(y_true)\n",
    "\n",
    "def mse(y_true, y_pred):\n",
    "    return sum((y_true - y_pred)**2)/len(y_true)\n",
    "\n",
    "def r_squared(y_true, y_pred):\n",
    "    y_bar = np.mean(y_true)\n",
    "    return 1 -(sum((y_true - y_pred)**2)/sum((y_true-y_bar)**2))\n",
    "\n",
    "def rmse(y_true, y_pred):\n",
    "    return np.sqrt(sum((y_true - y_pred)**2)/len(y_true))"
   ]
  },
  {
   "cell_type": "code",
   "execution_count": 5,
   "id": "343c243a",
   "metadata": {},
   "outputs": [],
   "source": [
    "#Using mse, RandomForest\n",
    "lr = RandomForestRegressor()\n",
    "X_train, X_test, y_train, y_test = X_train.reset_index(drop=True) , X_test.reset_index(drop=True) , y_train.reset_index(drop=True) , y_test.reset_index(drop=True)\n",
    "boundary_indices = leave_one_out(X_train, y_train, X_test, y_test, lr, mse, maximize=False)"
   ]
  },
  {
   "cell_type": "code",
   "execution_count": 6,
   "id": "6eb126e3",
   "metadata": {},
   "outputs": [
    {
     "data": {
      "application/vnd.jupyter.widget-view+json": {
       "model_id": "c8b512b9b31e4d378ac87b87ab2f7fc0",
       "version_major": 2,
       "version_minor": 0
      },
      "text/plain": [
       "Progess:   0%|          | 0/10 [00:00<?, ?it/s]"
      ]
     },
     "metadata": {},
     "output_type": "display_data"
    },
    {
     "data": {
      "application/vnd.jupyter.widget-view+json": {
       "model_id": "15190ff2ac394f818a19b91bbbbc6072",
       "version_major": 2,
       "version_minor": 0
      },
      "text/plain": [
       "Varying Uncertain Radius:   0%|          | 0/4 [00:00<?, ?it/s]"
      ]
     },
     "metadata": {},
     "output_type": "display_data"
    },
    {
     "data": {
      "application/vnd.jupyter.widget-view+json": {
       "model_id": "328215182b9d41029c7b7dbe04237c36",
       "version_major": 2,
       "version_minor": 0
      },
      "text/plain": [
       "Varying Uncertain Radius:   0%|          | 0/4 [00:00<?, ?it/s]"
      ]
     },
     "metadata": {},
     "output_type": "display_data"
    },
    {
     "data": {
      "application/vnd.jupyter.widget-view+json": {
       "model_id": "8e6f052a0dd7466a8fb4173e4f16dacf",
       "version_major": 2,
       "version_minor": 0
      },
      "text/plain": [
       "Varying Uncertain Radius:   0%|          | 0/4 [00:00<?, ?it/s]"
      ]
     },
     "metadata": {},
     "output_type": "display_data"
    },
    {
     "data": {
      "application/vnd.jupyter.widget-view+json": {
       "model_id": "82388e86765d4ca885487e5647a875f3",
       "version_major": 2,
       "version_minor": 0
      },
      "text/plain": [
       "Varying Uncertain Radius:   0%|          | 0/4 [00:00<?, ?it/s]"
      ]
     },
     "metadata": {},
     "output_type": "display_data"
    },
    {
     "data": {
      "application/vnd.jupyter.widget-view+json": {
       "model_id": "ddb34e37fbd7465392c8fe44103763e7",
       "version_major": 2,
       "version_minor": 0
      },
      "text/plain": [
       "Varying Uncertain Radius:   0%|          | 0/4 [00:00<?, ?it/s]"
      ]
     },
     "metadata": {},
     "output_type": "display_data"
    },
    {
     "data": {
      "application/vnd.jupyter.widget-view+json": {
       "model_id": "a4c80dee57094b919926946cf09dcbf3",
       "version_major": 2,
       "version_minor": 0
      },
      "text/plain": [
       "Varying Uncertain Radius:   0%|          | 0/4 [00:00<?, ?it/s]"
      ]
     },
     "metadata": {},
     "output_type": "display_data"
    },
    {
     "data": {
      "application/vnd.jupyter.widget-view+json": {
       "model_id": "e87b0ef64156479eb06da40850ba1299",
       "version_major": 2,
       "version_minor": 0
      },
      "text/plain": [
       "Varying Uncertain Radius:   0%|          | 0/4 [00:00<?, ?it/s]"
      ]
     },
     "metadata": {},
     "output_type": "display_data"
    },
    {
     "data": {
      "application/vnd.jupyter.widget-view+json": {
       "model_id": "79a014b71c614d05b9d66c6e5b9b69cd",
       "version_major": 2,
       "version_minor": 0
      },
      "text/plain": [
       "Varying Uncertain Radius:   0%|          | 0/4 [00:00<?, ?it/s]"
      ]
     },
     "metadata": {},
     "output_type": "display_data"
    },
    {
     "data": {
      "application/vnd.jupyter.widget-view+json": {
       "model_id": "734fa3d8464340d1b1c16ef14aad9e34",
       "version_major": 2,
       "version_minor": 0
      },
      "text/plain": [
       "Varying Uncertain Radius:   0%|          | 0/4 [00:00<?, ?it/s]"
      ]
     },
     "metadata": {},
     "output_type": "display_data"
    },
    {
     "data": {
      "application/vnd.jupyter.widget-view+json": {
       "model_id": "5462a8408f1a47f5bd81a933a2640bc8",
       "version_major": 2,
       "version_minor": 0
      },
      "text/plain": [
       "Varying Uncertain Radius:   0%|          | 0/4 [00:00<?, ?it/s]"
      ]
     },
     "metadata": {},
     "output_type": "display_data"
    },
    {
     "data": {
      "application/vnd.jupyter.widget-view+json": {
       "model_id": "764e6d8ee5f640b281dcabd79a727af0",
       "version_major": 2,
       "version_minor": 0
      },
      "text/plain": [
       "Progess:   0%|          | 0/10 [00:00<?, ?it/s]"
      ]
     },
     "metadata": {},
     "output_type": "display_data"
    },
    {
     "data": {
      "application/vnd.jupyter.widget-view+json": {
       "model_id": "b30a18008e2842da814d1c3192200c13",
       "version_major": 2,
       "version_minor": 0
      },
      "text/plain": [
       "Varying Uncertain Radius:   0%|          | 0/4 [00:00<?, ?it/s]"
      ]
     },
     "metadata": {},
     "output_type": "display_data"
    },
    {
     "data": {
      "application/vnd.jupyter.widget-view+json": {
       "model_id": "23ccebb555be420caa0613e2fea3d17a",
       "version_major": 2,
       "version_minor": 0
      },
      "text/plain": [
       "Varying Uncertain Radius:   0%|          | 0/4 [00:00<?, ?it/s]"
      ]
     },
     "metadata": {},
     "output_type": "display_data"
    },
    {
     "data": {
      "application/vnd.jupyter.widget-view+json": {
       "model_id": "1b3e7923817942a5a3851cd2e32fc8e7",
       "version_major": 2,
       "version_minor": 0
      },
      "text/plain": [
       "Varying Uncertain Radius:   0%|          | 0/4 [00:00<?, ?it/s]"
      ]
     },
     "metadata": {},
     "output_type": "display_data"
    },
    {
     "data": {
      "application/vnd.jupyter.widget-view+json": {
       "model_id": "26e709d056a04047b661b578bf9bdeb4",
       "version_major": 2,
       "version_minor": 0
      },
      "text/plain": [
       "Varying Uncertain Radius:   0%|          | 0/4 [00:00<?, ?it/s]"
      ]
     },
     "metadata": {},
     "output_type": "display_data"
    },
    {
     "data": {
      "application/vnd.jupyter.widget-view+json": {
       "model_id": "8e245b44603b48538387751e693e4027",
       "version_major": 2,
       "version_minor": 0
      },
      "text/plain": [
       "Varying Uncertain Radius:   0%|          | 0/4 [00:00<?, ?it/s]"
      ]
     },
     "metadata": {},
     "output_type": "display_data"
    },
    {
     "data": {
      "application/vnd.jupyter.widget-view+json": {
       "model_id": "c6648cb6a3c543ba8ce4647ef633b6ea",
       "version_major": 2,
       "version_minor": 0
      },
      "text/plain": [
       "Varying Uncertain Radius:   0%|          | 0/4 [00:00<?, ?it/s]"
      ]
     },
     "metadata": {},
     "output_type": "display_data"
    },
    {
     "data": {
      "application/vnd.jupyter.widget-view+json": {
       "model_id": "7c2843525a3749e99b61fd7ec511b8de",
       "version_major": 2,
       "version_minor": 0
      },
      "text/plain": [
       "Varying Uncertain Radius:   0%|          | 0/4 [00:00<?, ?it/s]"
      ]
     },
     "metadata": {},
     "output_type": "display_data"
    },
    {
     "data": {
      "application/vnd.jupyter.widget-view+json": {
       "model_id": "ee8e52726507430bbeedba38c18896ce",
       "version_major": 2,
       "version_minor": 0
      },
      "text/plain": [
       "Varying Uncertain Radius:   0%|          | 0/4 [00:00<?, ?it/s]"
      ]
     },
     "metadata": {},
     "output_type": "display_data"
    },
    {
     "data": {
      "application/vnd.jupyter.widget-view+json": {
       "model_id": "5b70b129b28144768e89c94357903bb8",
       "version_major": 2,
       "version_minor": 0
      },
      "text/plain": [
       "Varying Uncertain Radius:   0%|          | 0/4 [00:00<?, ?it/s]"
      ]
     },
     "metadata": {},
     "output_type": "display_data"
    },
    {
     "data": {
      "application/vnd.jupyter.widget-view+json": {
       "model_id": "850e18d644b149d8a66ed7e3b0970f70",
       "version_major": 2,
       "version_minor": 0
      },
      "text/plain": [
       "Varying Uncertain Radius:   0%|          | 0/4 [00:00<?, ?it/s]"
      ]
     },
     "metadata": {},
     "output_type": "display_data"
    },
    {
     "data": {
      "application/vnd.jupyter.widget-view+json": {
       "model_id": "c6060314f257408eb7ec2b1ad1115303",
       "version_major": 2,
       "version_minor": 0
      },
      "text/plain": [
       "Progess:   0%|          | 0/10 [00:00<?, ?it/s]"
      ]
     },
     "metadata": {},
     "output_type": "display_data"
    },
    {
     "data": {
      "application/vnd.jupyter.widget-view+json": {
       "model_id": "73307db8b3fb4b929fb6d72413750497",
       "version_major": 2,
       "version_minor": 0
      },
      "text/plain": [
       "Varying Uncertain Radius:   0%|          | 0/4 [00:00<?, ?it/s]"
      ]
     },
     "metadata": {},
     "output_type": "display_data"
    },
    {
     "data": {
      "application/vnd.jupyter.widget-view+json": {
       "model_id": "77cb2c305a2b40bd9fdc66f57cdfe9b5",
       "version_major": 2,
       "version_minor": 0
      },
      "text/plain": [
       "Varying Uncertain Radius:   0%|          | 0/4 [00:00<?, ?it/s]"
      ]
     },
     "metadata": {},
     "output_type": "display_data"
    },
    {
     "data": {
      "application/vnd.jupyter.widget-view+json": {
       "model_id": "d537561c091646208c5f1b039cb9796a",
       "version_major": 2,
       "version_minor": 0
      },
      "text/plain": [
       "Varying Uncertain Radius:   0%|          | 0/4 [00:00<?, ?it/s]"
      ]
     },
     "metadata": {},
     "output_type": "display_data"
    },
    {
     "data": {
      "application/vnd.jupyter.widget-view+json": {
       "model_id": "a4872281287f4be0884c9eff7d4a3183",
       "version_major": 2,
       "version_minor": 0
      },
      "text/plain": [
       "Varying Uncertain Radius:   0%|          | 0/4 [00:00<?, ?it/s]"
      ]
     },
     "metadata": {},
     "output_type": "display_data"
    },
    {
     "data": {
      "application/vnd.jupyter.widget-view+json": {
       "model_id": "e0ec6e067b594e759ec1aff100a75074",
       "version_major": 2,
       "version_minor": 0
      },
      "text/plain": [
       "Varying Uncertain Radius:   0%|          | 0/4 [00:00<?, ?it/s]"
      ]
     },
     "metadata": {},
     "output_type": "display_data"
    },
    {
     "data": {
      "application/vnd.jupyter.widget-view+json": {
       "model_id": "b59f5f14dbf4493e869dca4dce7d2c7b",
       "version_major": 2,
       "version_minor": 0
      },
      "text/plain": [
       "Varying Uncertain Radius:   0%|          | 0/4 [00:00<?, ?it/s]"
      ]
     },
     "metadata": {},
     "output_type": "display_data"
    },
    {
     "data": {
      "application/vnd.jupyter.widget-view+json": {
       "model_id": "dc298f5ddb804bfea23319f2709af595",
       "version_major": 2,
       "version_minor": 0
      },
      "text/plain": [
       "Varying Uncertain Radius:   0%|          | 0/4 [00:00<?, ?it/s]"
      ]
     },
     "metadata": {},
     "output_type": "display_data"
    },
    {
     "data": {
      "application/vnd.jupyter.widget-view+json": {
       "model_id": "3bbe5f675d6448518b1e4ec0b908ed37",
       "version_major": 2,
       "version_minor": 0
      },
      "text/plain": [
       "Varying Uncertain Radius:   0%|          | 0/4 [00:00<?, ?it/s]"
      ]
     },
     "metadata": {},
     "output_type": "display_data"
    },
    {
     "data": {
      "application/vnd.jupyter.widget-view+json": {
       "model_id": "0b8baa0ff5074e0c889a5d6b46fe4770",
       "version_major": 2,
       "version_minor": 0
      },
      "text/plain": [
       "Varying Uncertain Radius:   0%|          | 0/4 [00:00<?, ?it/s]"
      ]
     },
     "metadata": {},
     "output_type": "display_data"
    },
    {
     "data": {
      "application/vnd.jupyter.widget-view+json": {
       "model_id": "c9d20db3609745759cb88c03a61ff8d0",
       "version_major": 2,
       "version_minor": 0
      },
      "text/plain": [
       "Varying Uncertain Radius:   0%|          | 0/4 [00:00<?, ?it/s]"
      ]
     },
     "metadata": {},
     "output_type": "display_data"
    },
    {
     "data": {
      "application/vnd.jupyter.widget-view+json": {
       "model_id": "777e45e8cc584656ad9c6017e5cee820",
       "version_major": 2,
       "version_minor": 0
      },
      "text/plain": [
       "Progess:   0%|          | 0/10 [00:00<?, ?it/s]"
      ]
     },
     "metadata": {},
     "output_type": "display_data"
    },
    {
     "data": {
      "application/vnd.jupyter.widget-view+json": {
       "model_id": "891d09b8ab0a452883b8c00fe1011317",
       "version_major": 2,
       "version_minor": 0
      },
      "text/plain": [
       "Varying Uncertain Radius:   0%|          | 0/4 [00:00<?, ?it/s]"
      ]
     },
     "metadata": {},
     "output_type": "display_data"
    },
    {
     "data": {
      "application/vnd.jupyter.widget-view+json": {
       "model_id": "d2a2af6ef52545be9e58eded77759778",
       "version_major": 2,
       "version_minor": 0
      },
      "text/plain": [
       "Varying Uncertain Radius:   0%|          | 0/4 [00:00<?, ?it/s]"
      ]
     },
     "metadata": {},
     "output_type": "display_data"
    },
    {
     "data": {
      "application/vnd.jupyter.widget-view+json": {
       "model_id": "1823eff5b38549b4acbcd50803155104",
       "version_major": 2,
       "version_minor": 0
      },
      "text/plain": [
       "Varying Uncertain Radius:   0%|          | 0/4 [00:00<?, ?it/s]"
      ]
     },
     "metadata": {},
     "output_type": "display_data"
    },
    {
     "data": {
      "application/vnd.jupyter.widget-view+json": {
       "model_id": "a4bc6e65a89c41768a5feb323805cb79",
       "version_major": 2,
       "version_minor": 0
      },
      "text/plain": [
       "Varying Uncertain Radius:   0%|          | 0/4 [00:00<?, ?it/s]"
      ]
     },
     "metadata": {},
     "output_type": "display_data"
    },
    {
     "data": {
      "application/vnd.jupyter.widget-view+json": {
       "model_id": "aab921f20c4e47488412d1fc993646b9",
       "version_major": 2,
       "version_minor": 0
      },
      "text/plain": [
       "Varying Uncertain Radius:   0%|          | 0/4 [00:00<?, ?it/s]"
      ]
     },
     "metadata": {},
     "output_type": "display_data"
    },
    {
     "data": {
      "application/vnd.jupyter.widget-view+json": {
       "model_id": "05fd6c98a44a4841bcc328ca4e754ca9",
       "version_major": 2,
       "version_minor": 0
      },
      "text/plain": [
       "Varying Uncertain Radius:   0%|          | 0/4 [00:00<?, ?it/s]"
      ]
     },
     "metadata": {},
     "output_type": "display_data"
    },
    {
     "data": {
      "application/vnd.jupyter.widget-view+json": {
       "model_id": "054170637f1b40398e7cdfeae4da1e1e",
       "version_major": 2,
       "version_minor": 0
      },
      "text/plain": [
       "Varying Uncertain Radius:   0%|          | 0/4 [00:00<?, ?it/s]"
      ]
     },
     "metadata": {},
     "output_type": "display_data"
    },
    {
     "data": {
      "application/vnd.jupyter.widget-view+json": {
       "model_id": "88923c8fb2504feeb336e6d95f52c560",
       "version_major": 2,
       "version_minor": 0
      },
      "text/plain": [
       "Varying Uncertain Radius:   0%|          | 0/4 [00:00<?, ?it/s]"
      ]
     },
     "metadata": {},
     "output_type": "display_data"
    },
    {
     "data": {
      "application/vnd.jupyter.widget-view+json": {
       "model_id": "cb411d4c14694e99b21bb173924d67bf",
       "version_major": 2,
       "version_minor": 0
      },
      "text/plain": [
       "Varying Uncertain Radius:   0%|          | 0/4 [00:00<?, ?it/s]"
      ]
     },
     "metadata": {},
     "output_type": "display_data"
    },
    {
     "data": {
      "application/vnd.jupyter.widget-view+json": {
       "model_id": "ef48fe2b644c478e8242025d32c30cee",
       "version_major": 2,
       "version_minor": 0
      },
      "text/plain": [
       "Varying Uncertain Radius:   0%|          | 0/4 [00:00<?, ?it/s]"
      ]
     },
     "metadata": {},
     "output_type": "display_data"
    },
    {
     "data": {
      "application/vnd.jupyter.widget-view+json": {
       "model_id": "0f3b1c79e6424e9d82337d4bd89b72a9",
       "version_major": 2,
       "version_minor": 0
      },
      "text/plain": [
       "Progess:   0%|          | 0/10 [00:00<?, ?it/s]"
      ]
     },
     "metadata": {},
     "output_type": "display_data"
    },
    {
     "data": {
      "application/vnd.jupyter.widget-view+json": {
       "model_id": "e652aaf0386c49f39f3cce76798aaac7",
       "version_major": 2,
       "version_minor": 0
      },
      "text/plain": [
       "Varying Uncertain Radius:   0%|          | 0/4 [00:00<?, ?it/s]"
      ]
     },
     "metadata": {},
     "output_type": "display_data"
    },
    {
     "data": {
      "application/vnd.jupyter.widget-view+json": {
       "model_id": "341fb47a35fa43a68347bc3af66d2505",
       "version_major": 2,
       "version_minor": 0
      },
      "text/plain": [
       "Varying Uncertain Radius:   0%|          | 0/4 [00:00<?, ?it/s]"
      ]
     },
     "metadata": {},
     "output_type": "display_data"
    },
    {
     "data": {
      "application/vnd.jupyter.widget-view+json": {
       "model_id": "894f3150e107466eb00cddef88aba7f9",
       "version_major": 2,
       "version_minor": 0
      },
      "text/plain": [
       "Varying Uncertain Radius:   0%|          | 0/4 [00:00<?, ?it/s]"
      ]
     },
     "metadata": {},
     "output_type": "display_data"
    },
    {
     "data": {
      "application/vnd.jupyter.widget-view+json": {
       "model_id": "b98140fa6d284f90a05ccac58b1a4c08",
       "version_major": 2,
       "version_minor": 0
      },
      "text/plain": [
       "Varying Uncertain Radius:   0%|          | 0/4 [00:00<?, ?it/s]"
      ]
     },
     "metadata": {},
     "output_type": "display_data"
    },
    {
     "data": {
      "application/vnd.jupyter.widget-view+json": {
       "model_id": "ad572cd6dc66420cac081d60ec3c20f2",
       "version_major": 2,
       "version_minor": 0
      },
      "text/plain": [
       "Varying Uncertain Radius:   0%|          | 0/4 [00:00<?, ?it/s]"
      ]
     },
     "metadata": {},
     "output_type": "display_data"
    },
    {
     "data": {
      "application/vnd.jupyter.widget-view+json": {
       "model_id": "330658bc66fe4f34a9a59e6d4d4bb38e",
       "version_major": 2,
       "version_minor": 0
      },
      "text/plain": [
       "Varying Uncertain Radius:   0%|          | 0/4 [00:00<?, ?it/s]"
      ]
     },
     "metadata": {},
     "output_type": "display_data"
    },
    {
     "data": {
      "application/vnd.jupyter.widget-view+json": {
       "model_id": "c6d09cf3757d487a8beb4b0021de1698",
       "version_major": 2,
       "version_minor": 0
      },
      "text/plain": [
       "Varying Uncertain Radius:   0%|          | 0/4 [00:00<?, ?it/s]"
      ]
     },
     "metadata": {},
     "output_type": "display_data"
    },
    {
     "data": {
      "application/vnd.jupyter.widget-view+json": {
       "model_id": "e7fa5f326bf243bf91674263116a54c7",
       "version_major": 2,
       "version_minor": 0
      },
      "text/plain": [
       "Varying Uncertain Radius:   0%|          | 0/4 [00:00<?, ?it/s]"
      ]
     },
     "metadata": {},
     "output_type": "display_data"
    },
    {
     "data": {
      "application/vnd.jupyter.widget-view+json": {
       "model_id": "63e4e8178d0243a3aa2c2c4ab6c36d22",
       "version_major": 2,
       "version_minor": 0
      },
      "text/plain": [
       "Varying Uncertain Radius:   0%|          | 0/4 [00:00<?, ?it/s]"
      ]
     },
     "metadata": {},
     "output_type": "display_data"
    },
    {
     "data": {
      "application/vnd.jupyter.widget-view+json": {
       "model_id": "124981370f5a44128f04022ed71a6386",
       "version_major": 2,
       "version_minor": 0
      },
      "text/plain": [
       "Varying Uncertain Radius:   0%|          | 0/4 [00:00<?, ?it/s]"
      ]
     },
     "metadata": {},
     "output_type": "display_data"
    }
   ],
   "source": [
    "# Testing more extreme uncertain percentages\n",
    "robustness_dicts = []\n",
    "for seed in range(5):\n",
    "    # mpg +- 2 is robust\n",
    "    robustness_radius = 500\n",
    "    label_range = (y_train.max()-y_train.min())\n",
    "    ratios = [0.02, 0.04, 0.06, 0.08]\n",
    "    uncertain_radiuses = [ratio*label_range for ratio in ratios]\n",
    "    uncertain_pcts = list(np.arange(1, 11)/100)\n",
    "    robustness_dict = dict()\n",
    "    robustness_dict['uncertain_radius'] = uncertain_radiuses\n",
    "    robustness_dict['uncertain_radius_ratios'] = ratios\n",
    "    for uncertain_pct in tqdm(uncertain_pcts, desc='Progess'):\n",
    "        robustness_dict[uncertain_pct] = list()\n",
    "        uncertain_num = int(uncertain_pct*len(y_train))\n",
    "        for uncertain_radius in tqdm(uncertain_radiuses, desc=f'Varying Uncertain Radius'):\n",
    "            #print(uncertain_radius)\n",
    "            robustness_ratio = compute_robustness_ratio_sensitive_label_error(X_train, y_train, X_test, y_test, \n",
    "                                                                    uncertain_num=uncertain_num,\n",
    "                                                                    boundary_indices=boundary_indices,\n",
    "                                                                    uncertain_radius=uncertain_radius, \n",
    "                                                                    robustness_radius=robustness_radius, \n",
    "                                                                    interval=False, seed=seed)\n",
    "            robustness_dict[uncertain_pct].append(robustness_ratio)\n",
    "    robustness_dicts.append(robustness_dict)"
   ]
  },
  {
   "cell_type": "code",
   "execution_count": 7,
   "id": "b6d15adf",
   "metadata": {},
   "outputs": [
    {
     "data": {
      "application/vnd.jupyter.widget-view+json": {
       "model_id": "60e6a8e7eb1f4c8b8d60f410a8d9b7bf",
       "version_major": 2,
       "version_minor": 0
      },
      "text/plain": [
       "Progess:   0%|          | 0/10 [00:00<?, ?it/s]"
      ]
     },
     "metadata": {},
     "output_type": "display_data"
    },
    {
     "data": {
      "application/vnd.jupyter.widget-view+json": {
       "model_id": "63a20ddcb94c46f590856de40e68449b",
       "version_major": 2,
       "version_minor": 0
      },
      "text/plain": [
       "Varying Uncertain Radius:   0%|          | 0/4 [00:00<?, ?it/s]"
      ]
     },
     "metadata": {},
     "output_type": "display_data"
    },
    {
     "data": {
      "application/vnd.jupyter.widget-view+json": {
       "model_id": "8a1780a403c44c338d84dd93c5deebf4",
       "version_major": 2,
       "version_minor": 0
      },
      "text/plain": [
       "Varying Uncertain Radius:   0%|          | 0/4 [00:00<?, ?it/s]"
      ]
     },
     "metadata": {},
     "output_type": "display_data"
    },
    {
     "data": {
      "application/vnd.jupyter.widget-view+json": {
       "model_id": "1b3bf3bae73d4f1b98e08584354c3d77",
       "version_major": 2,
       "version_minor": 0
      },
      "text/plain": [
       "Varying Uncertain Radius:   0%|          | 0/4 [00:00<?, ?it/s]"
      ]
     },
     "metadata": {},
     "output_type": "display_data"
    },
    {
     "data": {
      "application/vnd.jupyter.widget-view+json": {
       "model_id": "a30ded46eab846fc904cb24b33e98791",
       "version_major": 2,
       "version_minor": 0
      },
      "text/plain": [
       "Varying Uncertain Radius:   0%|          | 0/4 [00:00<?, ?it/s]"
      ]
     },
     "metadata": {},
     "output_type": "display_data"
    },
    {
     "data": {
      "application/vnd.jupyter.widget-view+json": {
       "model_id": "30f00184507442e4a34290084a1cdfb1",
       "version_major": 2,
       "version_minor": 0
      },
      "text/plain": [
       "Varying Uncertain Radius:   0%|          | 0/4 [00:00<?, ?it/s]"
      ]
     },
     "metadata": {},
     "output_type": "display_data"
    },
    {
     "data": {
      "application/vnd.jupyter.widget-view+json": {
       "model_id": "cd00dea98b2a41ce8cfb39c7dd168ce8",
       "version_major": 2,
       "version_minor": 0
      },
      "text/plain": [
       "Varying Uncertain Radius:   0%|          | 0/4 [00:00<?, ?it/s]"
      ]
     },
     "metadata": {},
     "output_type": "display_data"
    },
    {
     "data": {
      "application/vnd.jupyter.widget-view+json": {
       "model_id": "6738bc27712643e3901468b4039549f8",
       "version_major": 2,
       "version_minor": 0
      },
      "text/plain": [
       "Varying Uncertain Radius:   0%|          | 0/4 [00:00<?, ?it/s]"
      ]
     },
     "metadata": {},
     "output_type": "display_data"
    },
    {
     "data": {
      "application/vnd.jupyter.widget-view+json": {
       "model_id": "71ba647075b848fe84135c595d10dce8",
       "version_major": 2,
       "version_minor": 0
      },
      "text/plain": [
       "Varying Uncertain Radius:   0%|          | 0/4 [00:00<?, ?it/s]"
      ]
     },
     "metadata": {},
     "output_type": "display_data"
    },
    {
     "data": {
      "application/vnd.jupyter.widget-view+json": {
       "model_id": "dae420a6c8c646a58d77989de7950199",
       "version_major": 2,
       "version_minor": 0
      },
      "text/plain": [
       "Varying Uncertain Radius:   0%|          | 0/4 [00:00<?, ?it/s]"
      ]
     },
     "metadata": {},
     "output_type": "display_data"
    },
    {
     "data": {
      "application/vnd.jupyter.widget-view+json": {
       "model_id": "07e97e67f5584d66a2ff1099c0c36b35",
       "version_major": 2,
       "version_minor": 0
      },
      "text/plain": [
       "Varying Uncertain Radius:   0%|          | 0/4 [00:00<?, ?it/s]"
      ]
     },
     "metadata": {},
     "output_type": "display_data"
    },
    {
     "data": {
      "application/vnd.jupyter.widget-view+json": {
       "model_id": "f68c0f9bfe224949b504a74aeec25652",
       "version_major": 2,
       "version_minor": 0
      },
      "text/plain": [
       "Progess:   0%|          | 0/10 [00:00<?, ?it/s]"
      ]
     },
     "metadata": {},
     "output_type": "display_data"
    },
    {
     "data": {
      "application/vnd.jupyter.widget-view+json": {
       "model_id": "7cf8e9fffb8b4a319e389bed1b65847e",
       "version_major": 2,
       "version_minor": 0
      },
      "text/plain": [
       "Varying Uncertain Radius:   0%|          | 0/4 [00:00<?, ?it/s]"
      ]
     },
     "metadata": {},
     "output_type": "display_data"
    },
    {
     "data": {
      "application/vnd.jupyter.widget-view+json": {
       "model_id": "77a61e35f8784f2283251cb1b73980a9",
       "version_major": 2,
       "version_minor": 0
      },
      "text/plain": [
       "Varying Uncertain Radius:   0%|          | 0/4 [00:00<?, ?it/s]"
      ]
     },
     "metadata": {},
     "output_type": "display_data"
    },
    {
     "data": {
      "application/vnd.jupyter.widget-view+json": {
       "model_id": "8e67ef9ebe934998abcd1d5da12d2f39",
       "version_major": 2,
       "version_minor": 0
      },
      "text/plain": [
       "Varying Uncertain Radius:   0%|          | 0/4 [00:00<?, ?it/s]"
      ]
     },
     "metadata": {},
     "output_type": "display_data"
    },
    {
     "data": {
      "application/vnd.jupyter.widget-view+json": {
       "model_id": "22c9a91c4c9a4c149d9fa867ed95f71f",
       "version_major": 2,
       "version_minor": 0
      },
      "text/plain": [
       "Varying Uncertain Radius:   0%|          | 0/4 [00:00<?, ?it/s]"
      ]
     },
     "metadata": {},
     "output_type": "display_data"
    },
    {
     "data": {
      "application/vnd.jupyter.widget-view+json": {
       "model_id": "a3a273d57f1240869482bb5194665500",
       "version_major": 2,
       "version_minor": 0
      },
      "text/plain": [
       "Varying Uncertain Radius:   0%|          | 0/4 [00:00<?, ?it/s]"
      ]
     },
     "metadata": {},
     "output_type": "display_data"
    },
    {
     "data": {
      "application/vnd.jupyter.widget-view+json": {
       "model_id": "c6715266e3b64ff28c2439d92d636034",
       "version_major": 2,
       "version_minor": 0
      },
      "text/plain": [
       "Varying Uncertain Radius:   0%|          | 0/4 [00:00<?, ?it/s]"
      ]
     },
     "metadata": {},
     "output_type": "display_data"
    },
    {
     "data": {
      "application/vnd.jupyter.widget-view+json": {
       "model_id": "1364052763b34385b5cb921abd002e0c",
       "version_major": 2,
       "version_minor": 0
      },
      "text/plain": [
       "Varying Uncertain Radius:   0%|          | 0/4 [00:00<?, ?it/s]"
      ]
     },
     "metadata": {},
     "output_type": "display_data"
    },
    {
     "data": {
      "application/vnd.jupyter.widget-view+json": {
       "model_id": "94560cf5a9dc4f60a65d9af99126d619",
       "version_major": 2,
       "version_minor": 0
      },
      "text/plain": [
       "Varying Uncertain Radius:   0%|          | 0/4 [00:00<?, ?it/s]"
      ]
     },
     "metadata": {},
     "output_type": "display_data"
    },
    {
     "data": {
      "application/vnd.jupyter.widget-view+json": {
       "model_id": "fb9e9db5f986495aab9d7cce48e2239a",
       "version_major": 2,
       "version_minor": 0
      },
      "text/plain": [
       "Varying Uncertain Radius:   0%|          | 0/4 [00:00<?, ?it/s]"
      ]
     },
     "metadata": {},
     "output_type": "display_data"
    },
    {
     "data": {
      "application/vnd.jupyter.widget-view+json": {
       "model_id": "492afca73cc74c7dba8e1fd4b8b9a787",
       "version_major": 2,
       "version_minor": 0
      },
      "text/plain": [
       "Varying Uncertain Radius:   0%|          | 0/4 [00:00<?, ?it/s]"
      ]
     },
     "metadata": {},
     "output_type": "display_data"
    },
    {
     "data": {
      "application/vnd.jupyter.widget-view+json": {
       "model_id": "e2baa397999343faa157b680d56fdc4a",
       "version_major": 2,
       "version_minor": 0
      },
      "text/plain": [
       "Progess:   0%|          | 0/10 [00:00<?, ?it/s]"
      ]
     },
     "metadata": {},
     "output_type": "display_data"
    },
    {
     "data": {
      "application/vnd.jupyter.widget-view+json": {
       "model_id": "02002fd5e6c64b2ca2b45b56ce9ec037",
       "version_major": 2,
       "version_minor": 0
      },
      "text/plain": [
       "Varying Uncertain Radius:   0%|          | 0/4 [00:00<?, ?it/s]"
      ]
     },
     "metadata": {},
     "output_type": "display_data"
    },
    {
     "data": {
      "application/vnd.jupyter.widget-view+json": {
       "model_id": "614334c6c2bd427e8b8a34a203140f61",
       "version_major": 2,
       "version_minor": 0
      },
      "text/plain": [
       "Varying Uncertain Radius:   0%|          | 0/4 [00:00<?, ?it/s]"
      ]
     },
     "metadata": {},
     "output_type": "display_data"
    },
    {
     "data": {
      "application/vnd.jupyter.widget-view+json": {
       "model_id": "e63504fe662d4ffc87df79d1fa391eea",
       "version_major": 2,
       "version_minor": 0
      },
      "text/plain": [
       "Varying Uncertain Radius:   0%|          | 0/4 [00:00<?, ?it/s]"
      ]
     },
     "metadata": {},
     "output_type": "display_data"
    },
    {
     "data": {
      "application/vnd.jupyter.widget-view+json": {
       "model_id": "31861289ff1d42ada5f3b79cfda127d8",
       "version_major": 2,
       "version_minor": 0
      },
      "text/plain": [
       "Varying Uncertain Radius:   0%|          | 0/4 [00:00<?, ?it/s]"
      ]
     },
     "metadata": {},
     "output_type": "display_data"
    },
    {
     "data": {
      "application/vnd.jupyter.widget-view+json": {
       "model_id": "b1faa5bdc88044b88652800f98165a1e",
       "version_major": 2,
       "version_minor": 0
      },
      "text/plain": [
       "Varying Uncertain Radius:   0%|          | 0/4 [00:00<?, ?it/s]"
      ]
     },
     "metadata": {},
     "output_type": "display_data"
    },
    {
     "data": {
      "application/vnd.jupyter.widget-view+json": {
       "model_id": "ae8a1b1357654943ab91ef1d4ea1961d",
       "version_major": 2,
       "version_minor": 0
      },
      "text/plain": [
       "Varying Uncertain Radius:   0%|          | 0/4 [00:00<?, ?it/s]"
      ]
     },
     "metadata": {},
     "output_type": "display_data"
    },
    {
     "data": {
      "application/vnd.jupyter.widget-view+json": {
       "model_id": "b525061ae5dc4326ba0d419c5dd395f7",
       "version_major": 2,
       "version_minor": 0
      },
      "text/plain": [
       "Varying Uncertain Radius:   0%|          | 0/4 [00:00<?, ?it/s]"
      ]
     },
     "metadata": {},
     "output_type": "display_data"
    },
    {
     "data": {
      "application/vnd.jupyter.widget-view+json": {
       "model_id": "88dc274bdc1241c2aec04f44f91e8ea6",
       "version_major": 2,
       "version_minor": 0
      },
      "text/plain": [
       "Varying Uncertain Radius:   0%|          | 0/4 [00:00<?, ?it/s]"
      ]
     },
     "metadata": {},
     "output_type": "display_data"
    },
    {
     "data": {
      "application/vnd.jupyter.widget-view+json": {
       "model_id": "a3db8958eb194842ba611708948c3f68",
       "version_major": 2,
       "version_minor": 0
      },
      "text/plain": [
       "Varying Uncertain Radius:   0%|          | 0/4 [00:00<?, ?it/s]"
      ]
     },
     "metadata": {},
     "output_type": "display_data"
    },
    {
     "data": {
      "application/vnd.jupyter.widget-view+json": {
       "model_id": "d7435a6d815c49f7ad8e216220975c7f",
       "version_major": 2,
       "version_minor": 0
      },
      "text/plain": [
       "Varying Uncertain Radius:   0%|          | 0/4 [00:00<?, ?it/s]"
      ]
     },
     "metadata": {},
     "output_type": "display_data"
    },
    {
     "data": {
      "application/vnd.jupyter.widget-view+json": {
       "model_id": "bbd67d25af2d45598da9f596afc15c79",
       "version_major": 2,
       "version_minor": 0
      },
      "text/plain": [
       "Progess:   0%|          | 0/10 [00:00<?, ?it/s]"
      ]
     },
     "metadata": {},
     "output_type": "display_data"
    },
    {
     "data": {
      "application/vnd.jupyter.widget-view+json": {
       "model_id": "9828a0316cd24a3e85248defb8ac01c9",
       "version_major": 2,
       "version_minor": 0
      },
      "text/plain": [
       "Varying Uncertain Radius:   0%|          | 0/4 [00:00<?, ?it/s]"
      ]
     },
     "metadata": {},
     "output_type": "display_data"
    },
    {
     "data": {
      "application/vnd.jupyter.widget-view+json": {
       "model_id": "5d1c2dde3d0e44f59cc4c11f9734025c",
       "version_major": 2,
       "version_minor": 0
      },
      "text/plain": [
       "Varying Uncertain Radius:   0%|          | 0/4 [00:00<?, ?it/s]"
      ]
     },
     "metadata": {},
     "output_type": "display_data"
    },
    {
     "data": {
      "application/vnd.jupyter.widget-view+json": {
       "model_id": "ae36dcaf0d204158ba0c0ea0589b202c",
       "version_major": 2,
       "version_minor": 0
      },
      "text/plain": [
       "Varying Uncertain Radius:   0%|          | 0/4 [00:00<?, ?it/s]"
      ]
     },
     "metadata": {},
     "output_type": "display_data"
    },
    {
     "data": {
      "application/vnd.jupyter.widget-view+json": {
       "model_id": "8fb53246d82b4c16ae75db7a13a2a759",
       "version_major": 2,
       "version_minor": 0
      },
      "text/plain": [
       "Varying Uncertain Radius:   0%|          | 0/4 [00:00<?, ?it/s]"
      ]
     },
     "metadata": {},
     "output_type": "display_data"
    },
    {
     "data": {
      "application/vnd.jupyter.widget-view+json": {
       "model_id": "d53f6268cb1a40dd92501dece357e23f",
       "version_major": 2,
       "version_minor": 0
      },
      "text/plain": [
       "Varying Uncertain Radius:   0%|          | 0/4 [00:00<?, ?it/s]"
      ]
     },
     "metadata": {},
     "output_type": "display_data"
    },
    {
     "data": {
      "application/vnd.jupyter.widget-view+json": {
       "model_id": "e4e2dba18a404ab08e60a79f19624792",
       "version_major": 2,
       "version_minor": 0
      },
      "text/plain": [
       "Varying Uncertain Radius:   0%|          | 0/4 [00:00<?, ?it/s]"
      ]
     },
     "metadata": {},
     "output_type": "display_data"
    },
    {
     "data": {
      "application/vnd.jupyter.widget-view+json": {
       "model_id": "a80b968b31dc4fe994374512f439bb05",
       "version_major": 2,
       "version_minor": 0
      },
      "text/plain": [
       "Varying Uncertain Radius:   0%|          | 0/4 [00:00<?, ?it/s]"
      ]
     },
     "metadata": {},
     "output_type": "display_data"
    },
    {
     "data": {
      "application/vnd.jupyter.widget-view+json": {
       "model_id": "bd0f313f52e5476db6712b24286248a2",
       "version_major": 2,
       "version_minor": 0
      },
      "text/plain": [
       "Varying Uncertain Radius:   0%|          | 0/4 [00:00<?, ?it/s]"
      ]
     },
     "metadata": {},
     "output_type": "display_data"
    },
    {
     "data": {
      "application/vnd.jupyter.widget-view+json": {
       "model_id": "fe84ef851482424aa4a7ba15b49fca4d",
       "version_major": 2,
       "version_minor": 0
      },
      "text/plain": [
       "Varying Uncertain Radius:   0%|          | 0/4 [00:00<?, ?it/s]"
      ]
     },
     "metadata": {},
     "output_type": "display_data"
    },
    {
     "data": {
      "application/vnd.jupyter.widget-view+json": {
       "model_id": "cea4236241af4afea70a25a068404022",
       "version_major": 2,
       "version_minor": 0
      },
      "text/plain": [
       "Varying Uncertain Radius:   0%|          | 0/4 [00:00<?, ?it/s]"
      ]
     },
     "metadata": {},
     "output_type": "display_data"
    },
    {
     "data": {
      "application/vnd.jupyter.widget-view+json": {
       "model_id": "498d8c1479e6465d8f5de7ef35526472",
       "version_major": 2,
       "version_minor": 0
      },
      "text/plain": [
       "Progess:   0%|          | 0/10 [00:00<?, ?it/s]"
      ]
     },
     "metadata": {},
     "output_type": "display_data"
    },
    {
     "data": {
      "application/vnd.jupyter.widget-view+json": {
       "model_id": "b76cfdfb444c4c228ae1b3d3b393b858",
       "version_major": 2,
       "version_minor": 0
      },
      "text/plain": [
       "Varying Uncertain Radius:   0%|          | 0/4 [00:00<?, ?it/s]"
      ]
     },
     "metadata": {},
     "output_type": "display_data"
    },
    {
     "data": {
      "application/vnd.jupyter.widget-view+json": {
       "model_id": "624c19fc1cce48198cfc793155736849",
       "version_major": 2,
       "version_minor": 0
      },
      "text/plain": [
       "Varying Uncertain Radius:   0%|          | 0/4 [00:00<?, ?it/s]"
      ]
     },
     "metadata": {},
     "output_type": "display_data"
    },
    {
     "data": {
      "application/vnd.jupyter.widget-view+json": {
       "model_id": "f05425e34c734f2db7688b4326f5686b",
       "version_major": 2,
       "version_minor": 0
      },
      "text/plain": [
       "Varying Uncertain Radius:   0%|          | 0/4 [00:00<?, ?it/s]"
      ]
     },
     "metadata": {},
     "output_type": "display_data"
    },
    {
     "data": {
      "application/vnd.jupyter.widget-view+json": {
       "model_id": "b3df396cc5b1492c96fc8414e92d015e",
       "version_major": 2,
       "version_minor": 0
      },
      "text/plain": [
       "Varying Uncertain Radius:   0%|          | 0/4 [00:00<?, ?it/s]"
      ]
     },
     "metadata": {},
     "output_type": "display_data"
    },
    {
     "data": {
      "application/vnd.jupyter.widget-view+json": {
       "model_id": "91a6876baadf4907922aa03633ff7542",
       "version_major": 2,
       "version_minor": 0
      },
      "text/plain": [
       "Varying Uncertain Radius:   0%|          | 0/4 [00:00<?, ?it/s]"
      ]
     },
     "metadata": {},
     "output_type": "display_data"
    },
    {
     "data": {
      "application/vnd.jupyter.widget-view+json": {
       "model_id": "1100f3d4e9fc4b1bb11d1b700aa0e742",
       "version_major": 2,
       "version_minor": 0
      },
      "text/plain": [
       "Varying Uncertain Radius:   0%|          | 0/4 [00:00<?, ?it/s]"
      ]
     },
     "metadata": {},
     "output_type": "display_data"
    },
    {
     "data": {
      "application/vnd.jupyter.widget-view+json": {
       "model_id": "761660bd9d8c4bf0bed325edba79941a",
       "version_major": 2,
       "version_minor": 0
      },
      "text/plain": [
       "Varying Uncertain Radius:   0%|          | 0/4 [00:00<?, ?it/s]"
      ]
     },
     "metadata": {},
     "output_type": "display_data"
    },
    {
     "data": {
      "application/vnd.jupyter.widget-view+json": {
       "model_id": "b9a0542599674b7a879f99f381f74ee4",
       "version_major": 2,
       "version_minor": 0
      },
      "text/plain": [
       "Varying Uncertain Radius:   0%|          | 0/4 [00:00<?, ?it/s]"
      ]
     },
     "metadata": {},
     "output_type": "display_data"
    },
    {
     "data": {
      "application/vnd.jupyter.widget-view+json": {
       "model_id": "c2a48da4a9fb4c95b5c331ec5b3650a2",
       "version_major": 2,
       "version_minor": 0
      },
      "text/plain": [
       "Varying Uncertain Radius:   0%|          | 0/4 [00:00<?, ?it/s]"
      ]
     },
     "metadata": {},
     "output_type": "display_data"
    },
    {
     "data": {
      "application/vnd.jupyter.widget-view+json": {
       "model_id": "a92147808edf432d9fdd879b8dad8cbe",
       "version_major": 2,
       "version_minor": 0
      },
      "text/plain": [
       "Varying Uncertain Radius:   0%|          | 0/4 [00:00<?, ?it/s]"
      ]
     },
     "metadata": {},
     "output_type": "display_data"
    }
   ],
   "source": [
    "# Testing more extreme uncertain percentages\n",
    "robustness_dicts_interval = []\n",
    "for seed in range(5):\n",
    "    # mpg +- 2 is robust\n",
    "    robustness_radius = 500\n",
    "    label_range = (y_train.max()-y_train.min())\n",
    "    ratios = [0.02, 0.04, 0.06, 0.08]\n",
    "    uncertain_radiuses = [ratio*label_range for ratio in ratios]\n",
    "    uncertain_pcts = list(np.arange(1, 11)/100)\n",
    "    robustness_dict_interval = dict()\n",
    "    robustness_dict_interval['uncertain_radius'] = uncertain_radiuses\n",
    "    robustness_dict_interval['uncertain_radius_ratios'] = ratios\n",
    "    for uncertain_pct in tqdm(uncertain_pcts, desc='Progess'):\n",
    "        robustness_dict_interval[uncertain_pct] = list()\n",
    "        uncertain_num = int(uncertain_pct*len(y_train))\n",
    "        for uncertain_radius in tqdm(uncertain_radiuses, desc=f'Varying Uncertain Radius'):\n",
    "            robustness_ratio = compute_robustness_ratio_sensitive_label_error(X_train, y_train, X_test, y_test, \n",
    "                                                                    uncertain_num=uncertain_num,\n",
    "                                                                    boundary_indices=boundary_indices,\n",
    "                                                                    uncertain_radius=uncertain_radius, \n",
    "                                                                    robustness_radius=robustness_radius, \n",
    "                                                                    interval=True, seed=seed)\n",
    "            robustness_dict_interval[uncertain_pct].append(robustness_ratio)\n",
    "    robustness_dicts_interval.append(robustness_dict_interval)"
   ]
  },
  {
   "cell_type": "code",
   "execution_count": 8,
   "id": "13f41c45",
   "metadata": {},
   "outputs": [],
   "source": [
    "robustness_interval_mean = sum([pd.DataFrame(robustness_dicts_interval[i]).iloc[:, 2:] for i in range(5)])/5\n",
    "robustness_interval_std = (sum([(pd.DataFrame(robustness_dicts_interval[i]).iloc[:, 2:]-robustness_interval_mean)**2 for i in range(5)])/5).apply(np.sqrt)\n",
    "robustness_zonotope_mean = sum([pd.DataFrame(robustness_dicts[i]).iloc[:, 2:] for i in range(5)])/5\n",
    "robustness_zonotope_std = (sum([(pd.DataFrame(robustness_dicts[i]).iloc[:, 2:]-robustness_zonotope_mean)**2 for i in range(5)])/5).apply(np.sqrt)\n"
   ]
  },
  {
   "cell_type": "code",
   "execution_count": 9,
   "id": "e1b5a636",
   "metadata": {},
   "outputs": [
    {
     "data": {
      "image/png": "[encoded data removed]",
      "text/plain": [
       "<Figure size 3000x600 with 3 Axes>"
      ]
     },
     "metadata": {},
     "output_type": "display_data"
    }
   ],
   "source": [
    "# Heatmaps\n",
    "df = robustness_interval_mean\n",
    "\n",
    "# Isolate the portion of the DataFrame for heatmap (exclude the first two columns)\n",
    "heatmap_data = df.multiply(100).values  # Convert fractions to percentages\n",
    "\n",
    "# Labels for x-axis and y-axis\n",
    "x_labels = df.columns.tolist()\n",
    "y_labels = [0.02, 0.04, 0.06, 0.08]\n",
    "\n",
    "# Create the heatmap plot\n",
    "# fig, (ax1, ax2) = plt.subplots(1, 2, figsize=(16, 4), sharey=True, dpi=200)\n",
    "fig, (ax1, ax2) = plt.subplots(1, 2, figsize=(15, 3), dpi=200)\n",
    "# cmap = plt.get_cmap(\"coolwarm\")\n",
    "cmap = plt.get_cmap(\"autumn_r\")\n",
    "heatmap = ax1.imshow(heatmap_data, cmap=cmap, interpolation='nearest', aspect='auto', \n",
    "                     alpha=0.8, vmin=0, vmax=100)\n",
    "\n",
    "# Add color bar\n",
    "# cbar = plt.colorbar(heatmap, ax=ax1)\n",
    "# cbar.set_label('% Percentage')\n",
    "\n",
    "# Add white lines by adjusting the linewidth for minor ticks to create separation\n",
    "ax1.set_xticks(np.arange(len(x_labels)) - 0.5, minor=True)\n",
    "ax1.set_yticks(np.arange(len(y_labels)) - 0.5, minor=True)\n",
    "ax1.grid(which=\"minor\", color=\"white\", linestyle='-', linewidth=0.5)\n",
    "ax1.tick_params(which=\"minor\", size=0)\n",
    "\n",
    "# Set major ticks for labels without ticks\n",
    "ax1.set_xticks(np.arange(len(x_labels)))\n",
    "ax1.set_yticks(np.arange(len(y_labels)))\n",
    "ax1.set_xticklabels(x_labels)\n",
    "ax1.set_yticklabels(y_labels)\n",
    "ax1.tick_params(axis='both', which='both', length=0)  # Remove tick marks\n",
    "\n",
    "# Remove external boundaries\n",
    "ax1.spines['top'].set_visible(False)\n",
    "ax1.spines['right'].set_visible(False)\n",
    "ax1.spines['left'].set_visible(False)\n",
    "ax1.spines['bottom'].set_visible(False)\n",
    "\n",
    "# Set axis labels\n",
    "ax1.set_xlabel('Percentage of Uncertain Data', fontsize=12)\n",
    "ax1.set_ylabel('Uncertain Radius (%)', fontsize=12)\n",
    "\n",
    "# Add text annotations\n",
    "for i in range(len(y_labels)):\n",
    "    for j in range(len(x_labels)):\n",
    "        if heatmap_data[i][j]==100:\n",
    "            text = ax1.text(j, i, f'{heatmap_data[i][j]:.0f}', ha='center', va='center', color='black')\n",
    "        elif heatmap_data[i][j]==0:\n",
    "            text = ax1.text(j, i, '0', ha='center', va='center', color='black')\n",
    "        else:\n",
    "            text = ax1.text(j, i, f'{heatmap_data[i][j]:.1f}', ha='center', va='center', color='black')\n",
    "ax1.set_title('Meyer et al.')\n",
    "\n",
    "df = robustness_zonotope_mean\n",
    "\n",
    "# Isolate the portion of the DataFrame for heatmap (exclude the first two columns)\n",
    "heatmap_data = df.multiply(100).values  # Convert fractions to percentages\n",
    "heatmap2 = ax2.imshow(heatmap_data, cmap=cmap, interpolation='nearest', \n",
    "                      aspect='auto', alpha=0.8, vmin=0, vmax=100)\n",
    "\n",
    "# Add color bar\n",
    "# cbar.set_label('% Percentage')\n",
    "\n",
    "# Add white lines by adjusting the linewidth for minor ticks to create separation\n",
    "ax2.set_xticks(np.arange(len(x_labels)) - 0.5, minor=True)\n",
    "ax2.set_yticks(np.arange(len(y_labels)) - 0.5, minor=True)\n",
    "ax2.grid(which=\"minor\", color=\"white\", linestyle='-', linewidth=0.5)\n",
    "ax2.tick_params(which=\"minor\", size=0)\n",
    "\n",
    "# Set major ticks for labels without ticks\n",
    "ax2.set_xticks(np.arange(len(x_labels)))\n",
    "ax2.set_yticks(np.arange(len(y_labels)))\n",
    "ax2.set_xticklabels(x_labels)\n",
    "ax2.set_yticklabels(y_labels)\n",
    "ax2.tick_params(axis='both', which='both', length=0)  # Remove tick marks\n",
    "\n",
    "# Remove external boundaries\n",
    "ax2.spines['top'].set_visible(False)\n",
    "ax2.spines['right'].set_visible(False)\n",
    "ax2.spines['left'].set_visible(False)\n",
    "ax2.spines['bottom'].set_visible(False)\n",
    "\n",
    "# Set axis labels\n",
    "ax2.set_xlabel('Percentage of Uncertain Data', fontsize=12)\n",
    "ax2.set_ylabel('Uncertain Radius (%)', fontsize=12)\n",
    "\n",
    "# Add text annotations\n",
    "for i in range(len(y_labels)):\n",
    "    for j in range(len(x_labels)):\n",
    "        if heatmap_data[i][j]==100:\n",
    "            text = ax2.text(j, i, '100', ha='center', va='center', color='black')\n",
    "        elif heatmap_data[i][j]==0:\n",
    "            text = ax2.text(j, i, '0', ha='center', va='center', color='black')\n",
    "        else:\n",
    "            text = ax2.text(j, i, f'{np.around(heatmap_data[i][j], 1)}', ha='center', \n",
    "                            va='center', color='black')\n",
    "ax2.set_title('ZORRO')\n",
    "\n",
    "# fig.suptitle('Robustness Ratio (%)', fontsize=14)\n",
    "plt.subplots_adjust(wspace=0.2, bottom=0.2, left=0.1, right=0.9)\n",
    "cb = fig.colorbar(heatmap2, ax=(ax1, ax2), orientation='vertical', pad=0.02)\n",
    "cb.set_label('Robustness Ratio (%)', fontsize=12)\n",
    "plt.savefig('graph_outs/insurance_RandomForest_mse.pdf', bbox_inches='tight')"
   ]
  },
  {
   "cell_type": "code",
   "execution_count": 8,
   "id": "67821a1b",
   "metadata": {},
   "outputs": [
    {
     "name": "stdout",
     "output_type": "stream",
     "text": [
      "Top 1 Scenario:\n",
      " - -∞ < age <= 28.0\n",
      " - -∞ < children <= 1.5\n",
      " - 28.547499656677246 < bmi <= 28.6899995803833\n",
      "\n",
      "Top 2 Scenario:\n",
      " - 34.5 < age <= 35.5\n",
      " - -∞ < children <= 1.5\n",
      " - 27.355000495910645 < bmi <= 29.05500030517578\n",
      "\n",
      "Top 3 Scenario:\n",
      " - 34.5 < age <= 35.5\n",
      " - -∞ < children <= 1.5\n",
      " - 34.5049991607666 < bmi <= 35.307498931884766\n",
      "\n"
     ]
    }
   ],
   "source": [
    "# Decision Tree research: 1% of the data\n",
    "array_indexes = np.zeros(len(X_train))\n",
    "perc = 0.01 * len(X_train)\n",
    "for i in range(0, len(X_train)):\n",
    "    if i <= perc:\n",
    "        index = boundary_indices[i]\n",
    "        array_indexes[index] = 1\n",
    "\n",
    "# Define a custom scoring function that prioritizes positive class recall\n",
    "def positive_recall(y_true, y_pred):\n",
    "    return recall_score(y_true, y_pred, pos_label=1)\n",
    "\n",
    "scorer = make_scorer(positive_recall)\n",
    "\n",
    "# Define the parameter grid; adjust based on initial max depth if known\n",
    "param_grid = {\n",
    "    'max_depth': list(range(1, 13)),  # for example, depths from 1 to 12\n",
    "    'min_samples_split': [2, 5, 10],\n",
    "    'min_samples_leaf': [1, 5, 10]\n",
    "}\n",
    "\n",
    "# Initialize and run the grid search\n",
    "clf = DecisionTreeClassifier()\n",
    "grid_search = GridSearchCV(clf, param_grid, scoring=scorer, cv=5)\n",
    "grid_search.fit(X_train, array_indexes)\n",
    "\n",
    "def get_positive_paths(tree, feature_names, node=0, conditions=None, results=None):\n",
    "    if conditions is None:\n",
    "        conditions = {}\n",
    "    if results is None:\n",
    "        results = []\n",
    "\n",
    "    left_child = tree.children_left[node]\n",
    "    right_child = tree.children_right[node]\n",
    "    threshold = tree.threshold[node]\n",
    "    feature = tree.feature[node]\n",
    "\n",
    "    # Check if it's a leaf node\n",
    "    if left_child == _tree.TREE_LEAF and right_child == _tree.TREE_LEAF:\n",
    "        # Count the number of positive samples at this leaf\n",
    "        positive_count = int(tree.value[node][0, 1])\n",
    "        negative_count = int(tree.value[node][0, 0])\n",
    "\n",
    "        # Only consider this leaf if it has more positive than negative samples\n",
    "        if positive_count > negative_count:\n",
    "            # Store the path with the positive count\n",
    "            path_conditions = []\n",
    "            for feat, bounds in conditions.items():\n",
    "                lower_bound = bounds.get('lower', '-∞')\n",
    "                upper_bound = bounds.get('upper', '∞')\n",
    "                path_conditions.append(f\"{lower_bound} < {feat} <= {upper_bound}\")\n",
    "            \n",
    "            results.append((positive_count, path_conditions))\n",
    "\n",
    "        return\n",
    "\n",
    "    # Update bounds for the current feature in conditions\n",
    "    feature_name = feature_names[feature]\n",
    "    if left_child != _tree.TREE_LEAF:\n",
    "        # Set an upper bound for the feature\n",
    "        new_conditions = {k: v.copy() for k, v in conditions.items()}\n",
    "        new_conditions.setdefault(feature_name, {}).update({'upper': threshold})\n",
    "        get_positive_paths(tree, feature_names, left_child, new_conditions, results)\n",
    "\n",
    "    if right_child != _tree.TREE_LEAF:\n",
    "        # Set a lower bound for the feature\n",
    "        new_conditions = {k: v.copy() for k, v in conditions.items()}\n",
    "        new_conditions.setdefault(feature_name, {}).update({'lower': threshold})\n",
    "        get_positive_paths(tree, feature_names, right_child, new_conditions, results)\n",
    "\n",
    "    # After traversal, if we are at the root node, print the top 3 paths\n",
    "    if node == 0:\n",
    "        # Sort results by the positive count in descending order and keep top 3\n",
    "        top_results = sorted(results, key=lambda x: x[0], reverse=True)[:3]\n",
    "        for idx, (pos_count, conditions) in enumerate(top_results, start=1):\n",
    "            print(f\"Top {idx} Scenario:\")\n",
    "            for condition in conditions:\n",
    "                print(f\" - {condition}\")\n",
    "            print()\n",
    "\n",
    "# Feature names list\n",
    "feature_names = X_train.columns\n",
    "\n",
    "# Best estimator after tuning\n",
    "best_model = grid_search.best_estimator_\n",
    "\n",
    "# Use get_positive_paths on the best model\n",
    "get_positive_paths(best_model.tree_, feature_names)"
   ]
  },
  {
   "cell_type": "code",
   "execution_count": null,
   "id": "c72bf101-0f04-4423-85c6-7ec86e8e8003",
   "metadata": {},
   "outputs": [],
   "source": []
  }
 ],
 "metadata": {
  "kernelspec": {
   "display_name": "Python 3 (ipykernel)",
   "language": "python",
   "name": "python3"
  },
  "language_info": {
   "codemirror_mode": {
    "name": "ipython",
    "version": 3
   },
   "file_extension": ".py",
   "mimetype": "text/x-python",
   "name": "python",
   "nbconvert_exporter": "python",
   "pygments_lexer": "ipython3",
   "version": "3.11.9"
  }
 },
 "nbformat": 4,
 "nbformat_minor": 5
}

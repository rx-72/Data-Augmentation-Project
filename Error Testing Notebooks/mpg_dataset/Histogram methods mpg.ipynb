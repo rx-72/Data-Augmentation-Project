{
 "cells": [
  {
   "cell_type": "code",
   "execution_count": 1,
   "id": "d887e17f-0734-44c1-908f-f7f887d03303",
   "metadata": {},
   "outputs": [],
   "source": [
    "import os\n",
    "import copy\n",
    "import pickle\n",
    "import sympy\n",
    "import functools\n",
    "import itertools\n",
    "\n",
    "import numpy as np\n",
    "import pandas as pd\n",
    "import matplotlib.pyplot as plt\n",
    "\n",
    "from error_injection import MissingValueError, SamplingError, Injector\n",
    "from sklearn.decomposition import PCA\n",
    "from sklearn.model_selection import train_test_split\n",
    "from sklearn.preprocessing import StandardScaler\n",
    "from sklearn.experimental import enable_iterative_imputer\n",
    "from sklearn.impute import SimpleImputer, KNNImputer, IterativeImputer\n",
    "from sklearn.metrics import mutual_info_score, auc, roc_curve, roc_auc_score, f1_score\n",
    "from scipy.optimize import minimize as scipy_min\n",
    "from scipy.spatial import ConvexHull\n",
    "from scipy.optimize import minimize, Bounds, linprog\n",
    "from sympy import Symbol as sb\n",
    "from sympy import lambdify\n",
    "from tqdm.notebook import trange,tqdm\n",
    "from IPython.display import display,clear_output\n",
    "from random import choice\n",
    "from sklearn.linear_model import LinearRegression\n",
    "from sklearn.utils import resample\n",
    "from sklearn.ensemble import RandomForestRegressor\n",
    "from sklearn.linear_model import Ridge\n",
    "from sklearn.tree import DecisionTreeClassifier\n",
    "from sklearn.tree import _tree\n",
    "from sklearn.model_selection import GridSearchCV\n",
    "from sklearn.metrics import make_scorer, recall_score\n",
    "\n",
    "class style():\n",
    "    RED = '\\033[31m'\n",
    "    GREEN = '\\033[32m'\n",
    "    BLUE = '\\033[34m'\n",
    "    RESET = '\\033[0m'\n",
    "\n",
    "np.random.seed(1)\n",
    "\n",
    "# ignore all the warnings\n",
    "import warnings\n",
    "warnings.filterwarnings('ignore')"
   ]
  },
  {
   "cell_type": "code",
   "execution_count": 2,
   "id": "c7979bbd-ab16-4935-8b32-4b797965e887",
   "metadata": {},
   "outputs": [
    {
     "data": {
      "text/plain": [
       "318"
      ]
     },
     "execution_count": 2,
     "metadata": {},
     "output_type": "execute_result"
    }
   ],
   "source": [
    "# first impute the data and make it hypothetically clean\n",
    "def load_mpg_cleaned():\n",
    "    # fetch dataset\n",
    "    auto_mpg = pd.read_csv('auto-mpg.csv').drop('car name', axis=1).replace('?', np.nan)\n",
    "    \n",
    "    features = ['cylinders', 'displacement', 'horsepower', 'weight',\n",
    "                'acceleration', 'model year', 'origin']\n",
    "    X = auto_mpg[features].astype(float)\n",
    "    y = auto_mpg['mpg']\n",
    "    \n",
    "    # assumed gt imputation\n",
    "    imputer = KNNImputer(n_neighbors=10)\n",
    "    X = pd.DataFrame(imputer.fit_transform(X), columns=X.columns)\n",
    "\n",
    "    X_train, X_test, y_train, y_test = train_test_split(X, y, test_size=0.2, random_state=1)\n",
    "    X_train = copy.deepcopy(X_train).reset_index(drop=True)\n",
    "    X_test = copy.deepcopy(X_test).reset_index(drop=True)\n",
    "    y_train = y_train.reset_index(drop=True)\n",
    "    y_test = y_test.reset_index(drop=True)\n",
    "\n",
    "    return X_train, X_test, y_train, y_test\n",
    "X_train, X_test, y_train, y_test = load_mpg_cleaned()\n",
    "len(X_train)"
   ]
  },
  {
   "cell_type": "code",
   "execution_count": 3,
   "id": "6705c603-a020-45a5-8ae7-fbf48fff3428",
   "metadata": {},
   "outputs": [
    {
     "data": {
      "text/plain": [
       "'weight'"
      ]
     },
     "execution_count": 3,
     "metadata": {},
     "output_type": "execute_result"
    }
   ],
   "source": [
    "def select_best_feature(X, y, method=\"correlation\"):\n",
    "    if method == \"correlation\":\n",
    "        correlations = X.corrwith(y)\n",
    "        best_feature = correlations.abs().idxmax()\n",
    "    return best_feature\n",
    "\n",
    "best_feature = select_best_feature(X_train, y_train)\n",
    "best_feature"
   ]
  },
  {
   "cell_type": "code",
   "execution_count": 4,
   "id": "85294c04-bb40-417c-855f-d76aad9682f6",
   "metadata": {},
   "outputs": [],
   "source": [
    "#Useful functions\n",
    "symbol_id = -1\n",
    "def create_symbol(suffix=''):\n",
    "    global symbol_id\n",
    "    symbol_id += 1\n",
    "    name = f'e{symbol_id}_{suffix}' if suffix else f'e{symbol_id}'\n",
    "    return sympy.Symbol(name=name)\n",
    "\n",
    "\n",
    "scaler_symbols = set([sb(f'k{i}') for i in range(X_train.shape[1]+1)])\n",
    "linearization_dict = dict()\n",
    "reverse_linearization_dict = dict()\n",
    "\n",
    "def inject_sensitive_ranges(X, y, uncertain_attr, uncertain_num, boundary_indices, uncertain_radius_pct=None, \n",
    "                  uncertain_radius=None, seed=42):\n",
    "    global symbol_id\n",
    "    symbol_id = -1\n",
    "    \n",
    "    X_extended = np.append(np.ones((len(X), 1)), X, axis=1)\n",
    "    ss = StandardScaler()\n",
    "    X_extended[:, 1:] = ss.fit_transform(X_extended[:, 1:])\n",
    "    X_extended_symb = sympy.Matrix(X_extended)\n",
    "    \n",
    "    if not(uncertain_attr=='y'):\n",
    "        uncertain_attr_idx = X.columns.to_list().index(uncertain_attr) + 1\n",
    "        if not(uncertain_radius):\n",
    "            uncertain_radius = uncertain_radius_pct*(np.max(X_extended[:, uncertain_attr_idx])-\\\n",
    "                                                     np.min(X_extended[:, uncertain_attr_idx]))\n",
    "    else:\n",
    "        if not(uncertain_radius):\n",
    "            uncertain_radius = uncertain_radius_pct*(y_train.max()-y_train.min())[0]\n",
    "    \n",
    "    np.random.seed(seed)\n",
    "    uncertain_indices = boundary_indices[:uncertain_num]\n",
    "    y_symb = sympy.Matrix(y)\n",
    "    symbols_in_data = set()\n",
    "    #print(uncertain_indices)\n",
    "    for uncertain_idx in uncertain_indices:\n",
    "        new_symb = create_symbol()\n",
    "        symbols_in_data.add(new_symb)\n",
    "        if uncertain_attr=='y':\n",
    "            y_symb[uncertain_idx] = y_symb[uncertain_idx] + uncertain_radius*new_symb\n",
    "        else:\n",
    "            X_extended_symb[uncertain_idx, uncertain_attr_idx] = X_extended_symb[uncertain_idx, uncertain_attr_idx] + uncertain_radius*new_symb\n",
    "    return X_extended_symb, y_symb, symbols_in_data, ss\n",
    "\n",
    "# if interval=True, use interval arithmetic, otherwise use zonotopes\n",
    "def compute_robustness_ratio_sensitive_label_error(X_train, y_train, X_test, y_test, robustness_radius,\n",
    "                                         uncertain_num, boundary_indices, uncertain_radius=None, \n",
    "                                         lr=0.1, seed=42, interval=True):\n",
    "    X, y, symbols_in_data, ss = inject_sensitive_ranges(X=X_train, y=y_train, uncertain_attr='y', \n",
    "                                              uncertain_num=uncertain_num, boundary_indices=boundary_indices, \n",
    "                                              uncertain_radius=uncertain_radius, \n",
    "                                              uncertain_radius_pct=None, seed=seed)\n",
    "    \n",
    "    assert len(X.free_symbols)==0\n",
    "    # closed-form\n",
    "    param = (X.T*X).inv()*X.T*y\n",
    "    \n",
    "    if interval:\n",
    "        # make param intervals\n",
    "        for d in range(len(param)):\n",
    "            expr = param[d]\n",
    "            if not(expr.free_symbols):\n",
    "                continue\n",
    "            else:\n",
    "                constant_part = 0\n",
    "                interval_radius = 0\n",
    "                for arg in expr.args:\n",
    "                    if arg.free_symbols:\n",
    "                        interval_radius += abs(arg.args[0])\n",
    "                    else:\n",
    "                        assert constant_part == 0\n",
    "                        constant_part = arg\n",
    "                param[d] = constant_part + create_symbol()*interval_radius\n",
    "    \n",
    "    test_preds = sympy.Matrix(np.append(np.ones((len(X_test), 1)), ss.transform(X_test), axis=1))*param\n",
    "    robustness_ls = []\n",
    "    for pred in test_preds:\n",
    "        pred_range_radius = 0\n",
    "        for arg in pred.args:\n",
    "            if arg.free_symbols:\n",
    "                pred_range_radius += abs(arg.args[0])\n",
    "        if pred_range_radius <= robustness_radius:\n",
    "            robustness_ls.append(1)\n",
    "        else:\n",
    "            robustness_ls.append(0)\n",
    "    \n",
    "#     print(param)\n",
    "    return np.mean(robustness_ls)\n",
    "\n",
    "def inject_ranges(X, y, uncertain_attr, uncertain_num, uncertain_radius_pct=None, uncertain_radius=None, seed=42):\n",
    "    global symbol_id\n",
    "    symbol_id = -1\n",
    "    \n",
    "    X_extended = np.append(np.ones((len(X), 1)), X, axis=1)\n",
    "    ss = StandardScaler()\n",
    "    X_extended[:, 1:] = ss.fit_transform(X_extended[:, 1:])\n",
    "    X_extended_symb = sympy.Matrix(X_extended)\n",
    "    \n",
    "    if not(uncertain_attr=='y'):\n",
    "        uncertain_attr_idx = X.columns.to_list().index(uncertain_attr) + 1\n",
    "        if not(uncertain_radius):\n",
    "            uncertain_radius = uncertain_radius_pct*(np.max(X_extended[:, uncertain_attr_idx])-\\\n",
    "                                                     np.min(X_extended[:, uncertain_attr_idx]))\n",
    "    else:\n",
    "        if not(uncertain_radius):\n",
    "            uncertain_radius = uncertain_radius_pct*(y_train.max()-y_train.min())[0]\n",
    "    \n",
    "    np.random.seed(seed)\n",
    "    uncertain_indices = np.random.choice(range(len(y)), uncertain_num, replace=False)\n",
    "    y_symb = sympy.Matrix(y)\n",
    "    symbols_in_data = set()\n",
    "    for uncertain_idx in uncertain_indices:\n",
    "        new_symb = create_symbol()\n",
    "        symbols_in_data.add(new_symb)\n",
    "        if uncertain_attr=='y':\n",
    "            y_symb[uncertain_idx] = y_symb[uncertain_idx] + uncertain_radius*new_symb\n",
    "        else:\n",
    "            X_extended_symb[uncertain_idx, uncertain_attr_idx] = X_extended_symb[uncertain_idx, uncertain_attr_idx] + uncertain_radius*new_symb\n",
    "    return X_extended_symb, y_symb, symbols_in_data, ss\n",
    "\n",
    "# if interval=True, use interval arithmetic, otherwise use zonotopes\n",
    "def compute_robustness_ratio_label_error(X_train, y_train, X_test, y_test, robustness_radius,\n",
    "                                         uncertain_num, uncertain_radius=None, \n",
    "                                         lr=0.1, seed=42, interval=True):\n",
    "    X, y, symbols_in_data, ss = inject_ranges(X=X_train, y=y_train, uncertain_attr='y', \n",
    "                                              uncertain_num=uncertain_num, uncertain_radius=uncertain_radius, \n",
    "                                              uncertain_radius_pct=None, seed=seed)\n",
    "    \n",
    "    assert len(X.free_symbols)==0\n",
    "    # closed-form\n",
    "    param = (X.T*X).inv()*X.T*y\n",
    "    \n",
    "    if interval:\n",
    "        # make param intervals\n",
    "        for d in range(len(param)):\n",
    "            expr = param[d]\n",
    "            if not(expr.free_symbols):\n",
    "                continue\n",
    "            else:\n",
    "                constant_part = 0\n",
    "                interval_radius = 0\n",
    "                for arg in expr.args:\n",
    "                    if arg.free_symbols:\n",
    "                        interval_radius += abs(arg.args[0])\n",
    "                    else:\n",
    "                        assert constant_part == 0\n",
    "                        constant_part = arg\n",
    "                param[d] = constant_part + create_symbol()*interval_radius\n",
    "    \n",
    "    test_preds = sympy.Matrix(np.append(np.ones((len(X_test), 1)), ss.transform(X_test), axis=1))*param\n",
    "    robustness_ls = []\n",
    "    for pred in test_preds:\n",
    "        pred_range_radius = 0\n",
    "        for arg in pred.args:\n",
    "            if arg.free_symbols:\n",
    "                pred_range_radius += abs(arg.args[0])\n",
    "        if pred_range_radius <= robustness_radius:\n",
    "            robustness_ls.append(1)\n",
    "        else:\n",
    "            robustness_ls.append(0)\n",
    "    \n",
    "#     print(param)\n",
    "    return np.mean(robustness_ls)"
   ]
  },
  {
   "cell_type": "code",
   "execution_count": 5,
   "id": "f8dc51bc-040e-494c-9574-bf0214d27bd7",
   "metadata": {},
   "outputs": [],
   "source": [
    "#accuracy r2 = True; rmse, mse = False for maximize\n",
    "def leave_one_out(X_train, y_train, X_test, y_test, model, metric, maximize=True): \n",
    "    predictions = model.fit(X_train, y_train).predict(X_test)\n",
    "    initial_metric = metric(y_test.to_numpy(), predictions)\n",
    "    influence_results = []\n",
    "   \n",
    "    for i in range(len(X_train)):\n",
    "        X_train_new = np.delete(X_train, i, axis=0)\n",
    "        y_train_new = np.delete(y_train, i, axis=0)\n",
    "       \n",
    "        model_clone = model.__class__(**model.get_params())\n",
    "        new_preds = model_clone.fit(X_train_new, y_train_new).predict(X_test)\n",
    "        new_metric = metric(y_test.to_numpy(), new_preds)\n",
    "       \n",
    "        metric_diff = (initial_metric - new_metric) if maximize else (new_metric - initial_metric)\n",
    "        \n",
    "        influence_results.append((i, metric_diff))\n",
    "       \n",
    "       \n",
    "   \n",
    "    influence_results = sorted(influence_results,key=lambda x: x[1], reverse=True)\n",
    "    #print(influence_results)\n",
    "    return [i[0] for i in influence_results]\n",
    "\n",
    "def mae(y_true, y_pred):\n",
    "    return sum(abs(y_true - y_pred))/len(y_true)\n",
    "\n",
    "def mse(y_true, y_pred):\n",
    "    return sum((y_true - y_pred)**2)/len(y_true)\n",
    "\n",
    "def r_squared(y_true, y_pred):\n",
    "    y_bar = np.mean(y_true)\n",
    "    return 1 -(sum((y_true - y_pred)**2)/sum((y_true-y_bar)**2))\n",
    "\n",
    "def rmse(y_true, y_pred):\n",
    "    return np.sqrt(sum((y_true - y_pred)**2)/len(y_true))\n",
    "\n",
    "def get_positive_paths(tree, feature_names, node=0, depth=0, conditions=None, results=None, min_positive_ratio=0.5):\n",
    "    if conditions is None:\n",
    "        conditions = {}\n",
    "    if results is None:\n",
    "        results = []\n",
    "\n",
    "    left_child = tree.children_left[node]\n",
    "    right_child = tree.children_right[node]\n",
    "    threshold = tree.threshold[node]\n",
    "    feature = tree.feature[node]\n",
    "\n",
    "    # Count samples in this node\n",
    "    sample_count = int(tree.n_node_samples[node])\n",
    "    positive_count = int(tree.value[node][0, 1]) if tree.n_outputs == 1 else int(tree.value[node][0][1])\n",
    "    negative_count = int(tree.value[node][0, 0]) if tree.n_outputs == 1 else int(tree.value[node][0][0])\n",
    "\n",
    "    # Calculate the positive ratio for this node\n",
    "    positive_ratio = positive_count / sample_count if sample_count > 0 else 0\n",
    "\n",
    "    # If it's a leaf or qualifies as a 'positive node' by ratio, store the path\n",
    "    if (left_child == _tree.TREE_LEAF and right_child == _tree.TREE_LEAF) or positive_ratio >= min_positive_ratio:\n",
    "        path_conditions = {}\n",
    "        for feat, bounds in conditions.items():\n",
    "            lower_bound = bounds.get('lower', 0)\n",
    "            upper_bound = bounds.get('upper', feature_max_values.get(feat, '∞'))  # Use the max value for the feature\n",
    "            path_conditions[feat] = (lower_bound, upper_bound)\n",
    "        \n",
    "        # Only store if there are significant positives\n",
    "        if positive_count > 0:  # Ensure that there's at least one positive sample\n",
    "            results.append((positive_count, sample_count, path_conditions, positive_ratio, depth))\n",
    "\n",
    "    # Update bounds for the current feature in conditions and recurse\n",
    "    feature_name = feature_names[feature] if feature != _tree.TREE_UNDEFINED else None\n",
    "    if left_child != _tree.TREE_LEAF and feature_name:\n",
    "        # Left child represents the <= threshold split\n",
    "        new_conditions = {k: v.copy() for k, v in conditions.items()}\n",
    "        new_conditions.setdefault(feature_name, {}).update({'upper': threshold})\n",
    "        get_positive_paths(tree, feature_names, left_child, depth + 1, new_conditions, results, min_positive_ratio)\n",
    "\n",
    "    if right_child != _tree.TREE_LEAF and feature_name:\n",
    "        # Right child represents the > threshold split\n",
    "        new_conditions = {k: v.copy() for k, v in conditions.items()}\n",
    "        new_conditions.setdefault(feature_name, {}).update({'lower': threshold})\n",
    "        get_positive_paths(tree, feature_names, right_child, depth + 1, new_conditions, results, min_positive_ratio)\n",
    "\n",
    "    # Print and store paths after completing all nodes, if we are at the root node\n",
    "    if node == 0:\n",
    "        # Sort results first by depth (root to leaf), then by positive ratio, and then by positive count\n",
    "        top_results = sorted(results, key=lambda x: (x[4], x[3], x[0]), reverse=False)[:3]  # Prioritize by depth first\n",
    "        \n",
    "        # Store top thresholds\n",
    "        top_thresholds = []\n",
    "        for idx, (pos_count, total_count, conditions, pos_ratio, dep) in enumerate(top_results, start=1):\n",
    "            top_thresholds.append(conditions)  # Save conditions (thresholds) for each scenario    \n",
    "        return top_thresholds"
   ]
  },
  {
   "cell_type": "code",
   "execution_count": 6,
   "id": "b8857a28-a74a-4302-843f-8bb78c8fbd18",
   "metadata": {},
   "outputs": [],
   "source": [
    "lr = RandomForestRegressor()\n",
    "X_train, X_test, y_train, y_test = X_train.reset_index(drop=True) , X_test.reset_index(drop=True) , y_train.reset_index(drop=True) , y_test.reset_index(drop=True)\n",
    "boundary_indices = leave_one_out(X_train, y_train, X_test, y_test, lr, mae, maximize=False)\n",
    "\n",
    "# Decision Tree research: 1% of the data\n",
    "array_indexes = np.zeros(len(X_train))\n",
    "perc = 0.1 * len(X_train)\n",
    "for i in range(0, len(X_train)):\n",
    "    if i <= perc:\n",
    "        index = boundary_indices[i]\n",
    "        array_indexes[index] = 1\n",
    "\n",
    "clf = DecisionTreeClassifier(max_depth=None)\n",
    "clf.fit(X_train, array_indexes)\n",
    "\n",
    "feature_max_values = X_train.max()\n",
    "tree = clf.tree_\n",
    "feature_names = X_train.columns\n",
    "best_thresholds = get_positive_paths(tree, feature_names)\n",
    "thresholds = [thres[best_feature] for thres in best_thresholds if best_feature in thres]"
   ]
  },
  {
   "cell_type": "code",
   "execution_count": 7,
   "id": "814502c7-496b-4a9d-ae62-314716ee64cd",
   "metadata": {},
   "outputs": [],
   "source": [
    "def discretize_and_sample(X_train, feature, thresholds, total_samples, num_bins):\n",
    "    feature_values = X_train[feature]  # Extract the column of interest\n",
    "    min_val, max_val = feature_values.min(), feature_values.max()\n",
    "\n",
    "    # Ensure the values are within the valid range of bins (clip out-of-range values)\n",
    "    feature_values = feature_values.clip(lower=min_val, upper=max_val)\n",
    "\n",
    "    # Dynamically calculate bin edges based on the feature values range\n",
    "    bin_edges = np.linspace(min_val, max_val, num_bins + 1)\n",
    "    bin_counts, bin_labels = pd.cut(feature_values, bins=bin_edges, labels=False, retbins=True)\n",
    "\n",
    "    selected_bins_by_threshold = []  # Combined threshold list\n",
    "    for thresh in thresholds:  # Iterate over age thresholds\n",
    "        selected_bins = []  # New bin list for that respective threshold\n",
    "        for bin_idx in range(num_bins):  # For each bin\n",
    "            bin_lower = bin_edges[bin_idx]  # Get lower bin threshold at bin_idx\n",
    "            bin_upper = bin_edges[bin_idx + 1]  # Get upper bin threshold at bin_idx\n",
    "            if thresh[0] <= bin_lower and thresh[1] >= bin_upper:  # If bin meets threshold requirements\n",
    "                selected_bins.append(bin_idx)\n",
    "        selected_bins_by_threshold.append(selected_bins)  # Add threshold bin list to combined threshold list\n",
    "\n",
    "    sampled_indices = set()\n",
    "\n",
    "    for threshold_idx, selected_bins in enumerate(selected_bins_by_threshold):\n",
    "        bin_freqs = feature_values.groupby(bin_counts).size()  # Calculate bin frequency of each bin for this threshold\n",
    "        \n",
    "        # Reindex to ensure all bins are accounted for, including those with zero frequency\n",
    "        bin_freqs = bin_freqs.reindex(range(num_bins), fill_value=0)\n",
    "\n",
    "        bin_priority = sorted([(bin_idx, bin_freqs[bin_idx])  # Sort by frequency of bin, decreasing\n",
    "                           for bin_idx in selected_bins], \n",
    "                          key=lambda x: -x[1]) \n",
    "\n",
    "        for bin_idx, _ in bin_priority:  # Enumerate over the bins ordered by frequency for this threshold\n",
    "            bin_indices = feature_values[bin_counts == bin_idx].index  # Get the indices\n",
    "            needed = total_samples - len(sampled_indices)  # Get however many values are still needed to grab\n",
    "            \n",
    "            for idx in bin_indices:  # Iterate over indices\n",
    "                if len(sampled_indices) < total_samples:\n",
    "                    sampled_indices.add(idx)\n",
    "                else:\n",
    "                    break\n",
    "            if len(sampled_indices) >= total_samples:\n",
    "                break\n",
    "\n",
    "        if len(sampled_indices) >= total_samples:  # End early if total samples needed is met\n",
    "            break\n",
    "            \n",
    "    return list(sampled_indices), bin_edges\n",
    "\n",
    "def find_best_bin_size(X_train, y_train, X_test, y_test, feature, thresholds, ratio, robustness_radius, uncertain_percentage):\n",
    "\n",
    "    label_range = (y_train.max() - y_train.min())\n",
    "    uncertain_radius = ratio * label_range\n",
    "    min_robustness_ratio = float('inf')\n",
    "    best_bins = None\n",
    "    best_result = None\n",
    "    \n",
    "    # Wrapping the range with tqdm to display a progress bar\n",
    "    for num_bins in tqdm(range(5, 51), desc='Testing bin sizes'):  # Progress bar with a description\n",
    "        sampled_indices, bin_edges = discretize_and_sample(X_train, feature, thresholds, \n",
    "                                                           total_samples=int(uncertain_percentage * len(X_train)), \n",
    "                                                           num_bins=num_bins)\n",
    "        \n",
    "        boundary_indices = np.array(sampled_indices)\n",
    "        robustness_ratio = compute_robustness_ratio_sensitive_label_error(\n",
    "            X_train, y_train, X_test, y_test,\n",
    "            uncertain_num=int(uncertain_percentage * len(X_train)),\n",
    "            boundary_indices=boundary_indices,\n",
    "            uncertain_radius=uncertain_radius,\n",
    "            robustness_radius=robustness_radius,\n",
    "            interval=False\n",
    "        )\n",
    "        \n",
    "        if robustness_ratio < min_robustness_ratio:\n",
    "            min_robustness_ratio = robustness_ratio\n",
    "            best_bins = num_bins\n",
    "            best_result = (bin_edges, robustness_ratio)\n",
    "        elif robustness_ratio == min_robustness_ratio:\n",
    "            if num_bins > best_bins:\n",
    "                best_bins = num_bins\n",
    "                best_result = (bin_edges, robustness_ratio)\n",
    "    \n",
    "    return best_bins, best_result"
   ]
  },
  {
   "cell_type": "code",
   "execution_count": 8,
   "id": "afd84782-cc73-4d5b-8066-e87c41e9f078",
   "metadata": {},
   "outputs": [
    {
     "data": {
      "application/vnd.jupyter.widget-view+json": {
       "model_id": "7eb62b81249b4294b020a145c9762ed7",
       "version_major": 2,
       "version_minor": 0
      },
      "text/plain": [
       "Progess:   0%|          | 0/10 [00:00<?, ?it/s]"
      ]
     },
     "metadata": {},
     "output_type": "display_data"
    },
    {
     "data": {
      "application/vnd.jupyter.widget-view+json": {
       "model_id": "6d290830fece412a9a66a9e6c4576a3f",
       "version_major": 2,
       "version_minor": 0
      },
      "text/plain": [
       "Varying Uncertain Radius:   0%|          | 0/5 [00:00<?, ?it/s]"
      ]
     },
     "metadata": {},
     "output_type": "display_data"
    },
    {
     "data": {
      "application/vnd.jupyter.widget-view+json": {
       "model_id": "8d25ffdb0e56491aad5dde2a304b4563",
       "version_major": 2,
       "version_minor": 0
      },
      "text/plain": [
       "Varying Uncertain Radius:   0%|          | 0/5 [00:00<?, ?it/s]"
      ]
     },
     "metadata": {},
     "output_type": "display_data"
    },
    {
     "data": {
      "application/vnd.jupyter.widget-view+json": {
       "model_id": "052f5dbd772b4f99b2a239786dcf4628",
       "version_major": 2,
       "version_minor": 0
      },
      "text/plain": [
       "Varying Uncertain Radius:   0%|          | 0/5 [00:00<?, ?it/s]"
      ]
     },
     "metadata": {},
     "output_type": "display_data"
    },
    {
     "data": {
      "application/vnd.jupyter.widget-view+json": {
       "model_id": "f919d83dd9504b719807c17baaac4d99",
       "version_major": 2,
       "version_minor": 0
      },
      "text/plain": [
       "Varying Uncertain Radius:   0%|          | 0/5 [00:00<?, ?it/s]"
      ]
     },
     "metadata": {},
     "output_type": "display_data"
    },
    {
     "data": {
      "application/vnd.jupyter.widget-view+json": {
       "model_id": "3e4a33664bea475da693373b1acf23fa",
       "version_major": 2,
       "version_minor": 0
      },
      "text/plain": [
       "Varying Uncertain Radius:   0%|          | 0/5 [00:00<?, ?it/s]"
      ]
     },
     "metadata": {},
     "output_type": "display_data"
    },
    {
     "data": {
      "application/vnd.jupyter.widget-view+json": {
       "model_id": "399aefdafddd42cf9fb058b28bc3c500",
       "version_major": 2,
       "version_minor": 0
      },
      "text/plain": [
       "Varying Uncertain Radius:   0%|          | 0/5 [00:00<?, ?it/s]"
      ]
     },
     "metadata": {},
     "output_type": "display_data"
    },
    {
     "data": {
      "application/vnd.jupyter.widget-view+json": {
       "model_id": "6228ad651c0f4551a2c1441c3d3294ae",
       "version_major": 2,
       "version_minor": 0
      },
      "text/plain": [
       "Varying Uncertain Radius:   0%|          | 0/5 [00:00<?, ?it/s]"
      ]
     },
     "metadata": {},
     "output_type": "display_data"
    },
    {
     "data": {
      "application/vnd.jupyter.widget-view+json": {
       "model_id": "bd425a74ee1c49d0add53ab3721273bb",
       "version_major": 2,
       "version_minor": 0
      },
      "text/plain": [
       "Varying Uncertain Radius:   0%|          | 0/5 [00:00<?, ?it/s]"
      ]
     },
     "metadata": {},
     "output_type": "display_data"
    },
    {
     "data": {
      "application/vnd.jupyter.widget-view+json": {
       "model_id": "21e5a0bb26fd44a19843b4ccbe963ae1",
       "version_major": 2,
       "version_minor": 0
      },
      "text/plain": [
       "Varying Uncertain Radius:   0%|          | 0/5 [00:00<?, ?it/s]"
      ]
     },
     "metadata": {},
     "output_type": "display_data"
    },
    {
     "data": {
      "application/vnd.jupyter.widget-view+json": {
       "model_id": "3633396cb08944f1afdc1dfe12e1ded1",
       "version_major": 2,
       "version_minor": 0
      },
      "text/plain": [
       "Varying Uncertain Radius:   0%|          | 0/5 [00:00<?, ?it/s]"
      ]
     },
     "metadata": {},
     "output_type": "display_data"
    },
    {
     "data": {
      "application/vnd.jupyter.widget-view+json": {
       "model_id": "79bdaa70816846d0ba4018615438350f",
       "version_major": 2,
       "version_minor": 0
      },
      "text/plain": [
       "Progess:   0%|          | 0/10 [00:00<?, ?it/s]"
      ]
     },
     "metadata": {},
     "output_type": "display_data"
    },
    {
     "data": {
      "application/vnd.jupyter.widget-view+json": {
       "model_id": "92a18f58b2fb4851bb249831139f22ba",
       "version_major": 2,
       "version_minor": 0
      },
      "text/plain": [
       "Varying Uncertain Radius:   0%|          | 0/5 [00:00<?, ?it/s]"
      ]
     },
     "metadata": {},
     "output_type": "display_data"
    },
    {
     "data": {
      "application/vnd.jupyter.widget-view+json": {
       "model_id": "1589b782eda440b491346bdd610236b6",
       "version_major": 2,
       "version_minor": 0
      },
      "text/plain": [
       "Varying Uncertain Radius:   0%|          | 0/5 [00:00<?, ?it/s]"
      ]
     },
     "metadata": {},
     "output_type": "display_data"
    },
    {
     "data": {
      "application/vnd.jupyter.widget-view+json": {
       "model_id": "843764466d784a44bfb550cfe026b440",
       "version_major": 2,
       "version_minor": 0
      },
      "text/plain": [
       "Varying Uncertain Radius:   0%|          | 0/5 [00:00<?, ?it/s]"
      ]
     },
     "metadata": {},
     "output_type": "display_data"
    },
    {
     "data": {
      "application/vnd.jupyter.widget-view+json": {
       "model_id": "60836ed96a444afd9ae9be515907539a",
       "version_major": 2,
       "version_minor": 0
      },
      "text/plain": [
       "Varying Uncertain Radius:   0%|          | 0/5 [00:00<?, ?it/s]"
      ]
     },
     "metadata": {},
     "output_type": "display_data"
    },
    {
     "data": {
      "application/vnd.jupyter.widget-view+json": {
       "model_id": "05634d38e1c147429a895c80333932b0",
       "version_major": 2,
       "version_minor": 0
      },
      "text/plain": [
       "Varying Uncertain Radius:   0%|          | 0/5 [00:00<?, ?it/s]"
      ]
     },
     "metadata": {},
     "output_type": "display_data"
    },
    {
     "data": {
      "application/vnd.jupyter.widget-view+json": {
       "model_id": "b2a1a86860ff49a1852e4dc6a4ddc46f",
       "version_major": 2,
       "version_minor": 0
      },
      "text/plain": [
       "Varying Uncertain Radius:   0%|          | 0/5 [00:00<?, ?it/s]"
      ]
     },
     "metadata": {},
     "output_type": "display_data"
    },
    {
     "data": {
      "application/vnd.jupyter.widget-view+json": {
       "model_id": "8d95c3a824db4747a478e91521b1690d",
       "version_major": 2,
       "version_minor": 0
      },
      "text/plain": [
       "Varying Uncertain Radius:   0%|          | 0/5 [00:00<?, ?it/s]"
      ]
     },
     "metadata": {},
     "output_type": "display_data"
    },
    {
     "data": {
      "application/vnd.jupyter.widget-view+json": {
       "model_id": "ae130143035b4faaa4df80269220c073",
       "version_major": 2,
       "version_minor": 0
      },
      "text/plain": [
       "Varying Uncertain Radius:   0%|          | 0/5 [00:00<?, ?it/s]"
      ]
     },
     "metadata": {},
     "output_type": "display_data"
    },
    {
     "data": {
      "application/vnd.jupyter.widget-view+json": {
       "model_id": "40212c1d5af54440921a8e3991097b89",
       "version_major": 2,
       "version_minor": 0
      },
      "text/plain": [
       "Varying Uncertain Radius:   0%|          | 0/5 [00:00<?, ?it/s]"
      ]
     },
     "metadata": {},
     "output_type": "display_data"
    },
    {
     "data": {
      "application/vnd.jupyter.widget-view+json": {
       "model_id": "6c114f0822134247a394c64eede8a301",
       "version_major": 2,
       "version_minor": 0
      },
      "text/plain": [
       "Varying Uncertain Radius:   0%|          | 0/5 [00:00<?, ?it/s]"
      ]
     },
     "metadata": {},
     "output_type": "display_data"
    },
    {
     "data": {
      "application/vnd.jupyter.widget-view+json": {
       "model_id": "552ab26e76fe45b8a978215499475eb6",
       "version_major": 2,
       "version_minor": 0
      },
      "text/plain": [
       "Progess:   0%|          | 0/10 [00:00<?, ?it/s]"
      ]
     },
     "metadata": {},
     "output_type": "display_data"
    },
    {
     "data": {
      "application/vnd.jupyter.widget-view+json": {
       "model_id": "136b39ea7fee403c9871c1dc389476b6",
       "version_major": 2,
       "version_minor": 0
      },
      "text/plain": [
       "Varying Uncertain Radius:   0%|          | 0/5 [00:00<?, ?it/s]"
      ]
     },
     "metadata": {},
     "output_type": "display_data"
    },
    {
     "data": {
      "application/vnd.jupyter.widget-view+json": {
       "model_id": "a623230120f444dca5cbb3de1ddcc766",
       "version_major": 2,
       "version_minor": 0
      },
      "text/plain": [
       "Varying Uncertain Radius:   0%|          | 0/5 [00:00<?, ?it/s]"
      ]
     },
     "metadata": {},
     "output_type": "display_data"
    },
    {
     "data": {
      "application/vnd.jupyter.widget-view+json": {
       "model_id": "40ce15e6b7a54b8c8bc3a0447da78b82",
       "version_major": 2,
       "version_minor": 0
      },
      "text/plain": [
       "Varying Uncertain Radius:   0%|          | 0/5 [00:00<?, ?it/s]"
      ]
     },
     "metadata": {},
     "output_type": "display_data"
    },
    {
     "data": {
      "application/vnd.jupyter.widget-view+json": {
       "model_id": "9d15c38e0833472cb790d3b92cf574f6",
       "version_major": 2,
       "version_minor": 0
      },
      "text/plain": [
       "Varying Uncertain Radius:   0%|          | 0/5 [00:00<?, ?it/s]"
      ]
     },
     "metadata": {},
     "output_type": "display_data"
    },
    {
     "data": {
      "application/vnd.jupyter.widget-view+json": {
       "model_id": "eedd93eeb609449792d4449551fb800b",
       "version_major": 2,
       "version_minor": 0
      },
      "text/plain": [
       "Varying Uncertain Radius:   0%|          | 0/5 [00:00<?, ?it/s]"
      ]
     },
     "metadata": {},
     "output_type": "display_data"
    },
    {
     "data": {
      "application/vnd.jupyter.widget-view+json": {
       "model_id": "b85a754c4362444eaa6b525092c29006",
       "version_major": 2,
       "version_minor": 0
      },
      "text/plain": [
       "Varying Uncertain Radius:   0%|          | 0/5 [00:00<?, ?it/s]"
      ]
     },
     "metadata": {},
     "output_type": "display_data"
    },
    {
     "data": {
      "application/vnd.jupyter.widget-view+json": {
       "model_id": "2ed933ace9524194b00e5ef3276ee0d6",
       "version_major": 2,
       "version_minor": 0
      },
      "text/plain": [
       "Varying Uncertain Radius:   0%|          | 0/5 [00:00<?, ?it/s]"
      ]
     },
     "metadata": {},
     "output_type": "display_data"
    },
    {
     "data": {
      "application/vnd.jupyter.widget-view+json": {
       "model_id": "6346747b5ac7467795a26b6a8f220cae",
       "version_major": 2,
       "version_minor": 0
      },
      "text/plain": [
       "Varying Uncertain Radius:   0%|          | 0/5 [00:00<?, ?it/s]"
      ]
     },
     "metadata": {},
     "output_type": "display_data"
    },
    {
     "data": {
      "application/vnd.jupyter.widget-view+json": {
       "model_id": "697dc1536a3a4cb4ac51c1d4053dbcd9",
       "version_major": 2,
       "version_minor": 0
      },
      "text/plain": [
       "Varying Uncertain Radius:   0%|          | 0/5 [00:00<?, ?it/s]"
      ]
     },
     "metadata": {},
     "output_type": "display_data"
    },
    {
     "data": {
      "application/vnd.jupyter.widget-view+json": {
       "model_id": "0719193b98184ea19db13c2d1c60686b",
       "version_major": 2,
       "version_minor": 0
      },
      "text/plain": [
       "Varying Uncertain Radius:   0%|          | 0/5 [00:00<?, ?it/s]"
      ]
     },
     "metadata": {},
     "output_type": "display_data"
    },
    {
     "data": {
      "application/vnd.jupyter.widget-view+json": {
       "model_id": "c117bb8d8e2e4250838e4b52fdec8921",
       "version_major": 2,
       "version_minor": 0
      },
      "text/plain": [
       "Progess:   0%|          | 0/10 [00:00<?, ?it/s]"
      ]
     },
     "metadata": {},
     "output_type": "display_data"
    },
    {
     "data": {
      "application/vnd.jupyter.widget-view+json": {
       "model_id": "6779c8f66a19486c97318729d4896c76",
       "version_major": 2,
       "version_minor": 0
      },
      "text/plain": [
       "Varying Uncertain Radius:   0%|          | 0/5 [00:00<?, ?it/s]"
      ]
     },
     "metadata": {},
     "output_type": "display_data"
    },
    {
     "data": {
      "application/vnd.jupyter.widget-view+json": {
       "model_id": "2ba63c3e6418463ea1929a2f33416740",
       "version_major": 2,
       "version_minor": 0
      },
      "text/plain": [
       "Varying Uncertain Radius:   0%|          | 0/5 [00:00<?, ?it/s]"
      ]
     },
     "metadata": {},
     "output_type": "display_data"
    },
    {
     "data": {
      "application/vnd.jupyter.widget-view+json": {
       "model_id": "f1c9ab9537ed4473ba6800a9fcd51e45",
       "version_major": 2,
       "version_minor": 0
      },
      "text/plain": [
       "Varying Uncertain Radius:   0%|          | 0/5 [00:00<?, ?it/s]"
      ]
     },
     "metadata": {},
     "output_type": "display_data"
    },
    {
     "data": {
      "application/vnd.jupyter.widget-view+json": {
       "model_id": "e328bc1346234e2b8a6d85cae8fccfd1",
       "version_major": 2,
       "version_minor": 0
      },
      "text/plain": [
       "Varying Uncertain Radius:   0%|          | 0/5 [00:00<?, ?it/s]"
      ]
     },
     "metadata": {},
     "output_type": "display_data"
    },
    {
     "data": {
      "application/vnd.jupyter.widget-view+json": {
       "model_id": "ae9719647c164982af0be328c2148d3e",
       "version_major": 2,
       "version_minor": 0
      },
      "text/plain": [
       "Varying Uncertain Radius:   0%|          | 0/5 [00:00<?, ?it/s]"
      ]
     },
     "metadata": {},
     "output_type": "display_data"
    },
    {
     "data": {
      "application/vnd.jupyter.widget-view+json": {
       "model_id": "ebf408d4ff2649b08ca4e13dad595ec9",
       "version_major": 2,
       "version_minor": 0
      },
      "text/plain": [
       "Varying Uncertain Radius:   0%|          | 0/5 [00:00<?, ?it/s]"
      ]
     },
     "metadata": {},
     "output_type": "display_data"
    },
    {
     "data": {
      "application/vnd.jupyter.widget-view+json": {
       "model_id": "4072ec7658354b05acd3396af514cdb3",
       "version_major": 2,
       "version_minor": 0
      },
      "text/plain": [
       "Varying Uncertain Radius:   0%|          | 0/5 [00:00<?, ?it/s]"
      ]
     },
     "metadata": {},
     "output_type": "display_data"
    },
    {
     "data": {
      "application/vnd.jupyter.widget-view+json": {
       "model_id": "c17dbac78f2a4e9bb3d4f0eae3d6e9e3",
       "version_major": 2,
       "version_minor": 0
      },
      "text/plain": [
       "Varying Uncertain Radius:   0%|          | 0/5 [00:00<?, ?it/s]"
      ]
     },
     "metadata": {},
     "output_type": "display_data"
    },
    {
     "data": {
      "application/vnd.jupyter.widget-view+json": {
       "model_id": "c9761abfc24c42019b37945a74b17f0a",
       "version_major": 2,
       "version_minor": 0
      },
      "text/plain": [
       "Varying Uncertain Radius:   0%|          | 0/5 [00:00<?, ?it/s]"
      ]
     },
     "metadata": {},
     "output_type": "display_data"
    },
    {
     "data": {
      "application/vnd.jupyter.widget-view+json": {
       "model_id": "c348eda25cb84877901989681fd890ce",
       "version_major": 2,
       "version_minor": 0
      },
      "text/plain": [
       "Varying Uncertain Radius:   0%|          | 0/5 [00:00<?, ?it/s]"
      ]
     },
     "metadata": {},
     "output_type": "display_data"
    },
    {
     "data": {
      "application/vnd.jupyter.widget-view+json": {
       "model_id": "1c011fc291f04523bb7a52d9ff46e5f3",
       "version_major": 2,
       "version_minor": 0
      },
      "text/plain": [
       "Progess:   0%|          | 0/10 [00:00<?, ?it/s]"
      ]
     },
     "metadata": {},
     "output_type": "display_data"
    },
    {
     "data": {
      "application/vnd.jupyter.widget-view+json": {
       "model_id": "b45ca4ab2a334f438ddd34ccf0a99700",
       "version_major": 2,
       "version_minor": 0
      },
      "text/plain": [
       "Varying Uncertain Radius:   0%|          | 0/5 [00:00<?, ?it/s]"
      ]
     },
     "metadata": {},
     "output_type": "display_data"
    },
    {
     "data": {
      "application/vnd.jupyter.widget-view+json": {
       "model_id": "ee3dc80899084056b6ffb48f9191fd9a",
       "version_major": 2,
       "version_minor": 0
      },
      "text/plain": [
       "Varying Uncertain Radius:   0%|          | 0/5 [00:00<?, ?it/s]"
      ]
     },
     "metadata": {},
     "output_type": "display_data"
    },
    {
     "data": {
      "application/vnd.jupyter.widget-view+json": {
       "model_id": "2497aa4553c14514bfc471b2f53012ca",
       "version_major": 2,
       "version_minor": 0
      },
      "text/plain": [
       "Varying Uncertain Radius:   0%|          | 0/5 [00:00<?, ?it/s]"
      ]
     },
     "metadata": {},
     "output_type": "display_data"
    },
    {
     "data": {
      "application/vnd.jupyter.widget-view+json": {
       "model_id": "50269ad607fc4dd09439ecc83b77832a",
       "version_major": 2,
       "version_minor": 0
      },
      "text/plain": [
       "Varying Uncertain Radius:   0%|          | 0/5 [00:00<?, ?it/s]"
      ]
     },
     "metadata": {},
     "output_type": "display_data"
    },
    {
     "data": {
      "application/vnd.jupyter.widget-view+json": {
       "model_id": "d7a55df4c3cb4fabbf20c662aadf3dac",
       "version_major": 2,
       "version_minor": 0
      },
      "text/plain": [
       "Varying Uncertain Radius:   0%|          | 0/5 [00:00<?, ?it/s]"
      ]
     },
     "metadata": {},
     "output_type": "display_data"
    },
    {
     "data": {
      "application/vnd.jupyter.widget-view+json": {
       "model_id": "8d7b61c155a24041a163743c6928f128",
       "version_major": 2,
       "version_minor": 0
      },
      "text/plain": [
       "Varying Uncertain Radius:   0%|          | 0/5 [00:00<?, ?it/s]"
      ]
     },
     "metadata": {},
     "output_type": "display_data"
    },
    {
     "data": {
      "application/vnd.jupyter.widget-view+json": {
       "model_id": "76b1c3f7e356458d80b4aaba90ce305a",
       "version_major": 2,
       "version_minor": 0
      },
      "text/plain": [
       "Varying Uncertain Radius:   0%|          | 0/5 [00:00<?, ?it/s]"
      ]
     },
     "metadata": {},
     "output_type": "display_data"
    },
    {
     "data": {
      "application/vnd.jupyter.widget-view+json": {
       "model_id": "ac418c4ea73b4afa8cb140c4ac8ffbaa",
       "version_major": 2,
       "version_minor": 0
      },
      "text/plain": [
       "Varying Uncertain Radius:   0%|          | 0/5 [00:00<?, ?it/s]"
      ]
     },
     "metadata": {},
     "output_type": "display_data"
    },
    {
     "data": {
      "application/vnd.jupyter.widget-view+json": {
       "model_id": "d5bf8855ff234c5d9a9f29b9b1d742ee",
       "version_major": 2,
       "version_minor": 0
      },
      "text/plain": [
       "Varying Uncertain Radius:   0%|          | 0/5 [00:00<?, ?it/s]"
      ]
     },
     "metadata": {},
     "output_type": "display_data"
    },
    {
     "data": {
      "application/vnd.jupyter.widget-view+json": {
       "model_id": "d8651e005c8a4edaa4f84c0cc015469f",
       "version_major": 2,
       "version_minor": 0
      },
      "text/plain": [
       "Varying Uncertain Radius:   0%|          | 0/5 [00:00<?, ?it/s]"
      ]
     },
     "metadata": {},
     "output_type": "display_data"
    }
   ],
   "source": [
    "boundary_indices, bin_edges = discretize_and_sample(X_train, best_feature, thresholds, total_samples=int(0.1 * len(X_train)), num_bins=44)\n",
    "\n",
    "# Testing more extreme uncertain percentages\n",
    "robustness_dicts_rndFrst_mae = []\n",
    "for seed in range(5):\n",
    "    # mpg +- 2 is robust\n",
    "    robustness_radius = 2\n",
    "    label_range = (y_train.max()-y_train.min())\n",
    "    ratios = [0.05, 0.10, 0.15, 0.2, 0.25]\n",
    "    uncertain_radiuses = [ratio*label_range for ratio in ratios]\n",
    "    uncertain_pcts = list(np.arange(1, 11)/100)\n",
    "    robustness_dict = dict()\n",
    "    robustness_dict['uncertain_radius'] = uncertain_radiuses\n",
    "    robustness_dict['uncertain_radius_ratios'] = ratios\n",
    "    for uncertain_pct in tqdm(uncertain_pcts, desc='Progess'):\n",
    "        robustness_dict[uncertain_pct] = list()\n",
    "        uncertain_num = int(uncertain_pct*len(y_train))\n",
    "        for uncertain_radius in tqdm(uncertain_radiuses, desc=f'Varying Uncertain Radius'):\n",
    "            #print(uncertain_radius)\n",
    "            robustness_ratio = compute_robustness_ratio_sensitive_label_error(X_train, y_train, X_test, y_test, \n",
    "                                                                    uncertain_num=uncertain_num,\n",
    "                                                                    boundary_indices=boundary_indices,\n",
    "                                                                    uncertain_radius=uncertain_radius, \n",
    "                                                                    robustness_radius=robustness_radius, \n",
    "                                                                    interval=False, seed=seed)\n",
    "            robustness_dict[uncertain_pct].append(robustness_ratio)\n",
    "    robustness_dicts_rndFrst_mae.append(robustness_dict)"
   ]
  },
  {
   "cell_type": "code",
   "execution_count": 9,
   "id": "5aef7ff1-c91d-4ce2-8d50-4663ce78457a",
   "metadata": {},
   "outputs": [
    {
     "data": {
      "application/vnd.jupyter.widget-view+json": {
       "model_id": "7a83e9fe194a4c6ea691cbd48969b914",
       "version_major": 2,
       "version_minor": 0
      },
      "text/plain": [
       "Progress:   0%|          | 0/5 [00:00<?, ?it/s]"
      ]
     },
     "metadata": {},
     "output_type": "display_data"
    },
    {
     "data": {
      "application/vnd.jupyter.widget-view+json": {
       "model_id": "",
       "version_major": 2,
       "version_minor": 0
      },
      "text/plain": [
       "Rep 1:   0%|          | 0/10 [00:00<?, ?it/s]"
      ]
     },
     "metadata": {},
     "output_type": "display_data"
    },
    {
     "data": {
      "application/vnd.jupyter.widget-view+json": {
       "model_id": "",
       "version_major": 2,
       "version_minor": 0
      },
      "text/plain": [
       "Varying Uncertain Radius:   0%|          | 0/5 [00:00<?, ?it/s]"
      ]
     },
     "metadata": {},
     "output_type": "display_data"
    },
    {
     "data": {
      "application/vnd.jupyter.widget-view+json": {
       "model_id": "",
       "version_major": 2,
       "version_minor": 0
      },
      "text/plain": [
       "Varying Uncertain Radius:   0%|          | 0/5 [00:00<?, ?it/s]"
      ]
     },
     "metadata": {},
     "output_type": "display_data"
    },
    {
     "data": {
      "application/vnd.jupyter.widget-view+json": {
       "model_id": "",
       "version_major": 2,
       "version_minor": 0
      },
      "text/plain": [
       "Varying Uncertain Radius:   0%|          | 0/5 [00:00<?, ?it/s]"
      ]
     },
     "metadata": {},
     "output_type": "display_data"
    },
    {
     "data": {
      "application/vnd.jupyter.widget-view+json": {
       "model_id": "",
       "version_major": 2,
       "version_minor": 0
      },
      "text/plain": [
       "Varying Uncertain Radius:   0%|          | 0/5 [00:00<?, ?it/s]"
      ]
     },
     "metadata": {},
     "output_type": "display_data"
    },
    {
     "data": {
      "application/vnd.jupyter.widget-view+json": {
       "model_id": "",
       "version_major": 2,
       "version_minor": 0
      },
      "text/plain": [
       "Varying Uncertain Radius:   0%|          | 0/5 [00:00<?, ?it/s]"
      ]
     },
     "metadata": {},
     "output_type": "display_data"
    },
    {
     "data": {
      "application/vnd.jupyter.widget-view+json": {
       "model_id": "",
       "version_major": 2,
       "version_minor": 0
      },
      "text/plain": [
       "Varying Uncertain Radius:   0%|          | 0/5 [00:00<?, ?it/s]"
      ]
     },
     "metadata": {},
     "output_type": "display_data"
    },
    {
     "data": {
      "application/vnd.jupyter.widget-view+json": {
       "model_id": "",
       "version_major": 2,
       "version_minor": 0
      },
      "text/plain": [
       "Varying Uncertain Radius:   0%|          | 0/5 [00:00<?, ?it/s]"
      ]
     },
     "metadata": {},
     "output_type": "display_data"
    },
    {
     "data": {
      "application/vnd.jupyter.widget-view+json": {
       "model_id": "",
       "version_major": 2,
       "version_minor": 0
      },
      "text/plain": [
       "Varying Uncertain Radius:   0%|          | 0/5 [00:00<?, ?it/s]"
      ]
     },
     "metadata": {},
     "output_type": "display_data"
    },
    {
     "data": {
      "application/vnd.jupyter.widget-view+json": {
       "model_id": "",
       "version_major": 2,
       "version_minor": 0
      },
      "text/plain": [
       "Varying Uncertain Radius:   0%|          | 0/5 [00:00<?, ?it/s]"
      ]
     },
     "metadata": {},
     "output_type": "display_data"
    },
    {
     "data": {
      "application/vnd.jupyter.widget-view+json": {
       "model_id": "",
       "version_major": 2,
       "version_minor": 0
      },
      "text/plain": [
       "Varying Uncertain Radius:   0%|          | 0/5 [00:00<?, ?it/s]"
      ]
     },
     "metadata": {},
     "output_type": "display_data"
    },
    {
     "data": {
      "application/vnd.jupyter.widget-view+json": {
       "model_id": "",
       "version_major": 2,
       "version_minor": 0
      },
      "text/plain": [
       "Rep 2:   0%|          | 0/10 [00:00<?, ?it/s]"
      ]
     },
     "metadata": {},
     "output_type": "display_data"
    },
    {
     "data": {
      "application/vnd.jupyter.widget-view+json": {
       "model_id": "",
       "version_major": 2,
       "version_minor": 0
      },
      "text/plain": [
       "Varying Uncertain Radius:   0%|          | 0/5 [00:00<?, ?it/s]"
      ]
     },
     "metadata": {},
     "output_type": "display_data"
    },
    {
     "data": {
      "application/vnd.jupyter.widget-view+json": {
       "model_id": "",
       "version_major": 2,
       "version_minor": 0
      },
      "text/plain": [
       "Varying Uncertain Radius:   0%|          | 0/5 [00:00<?, ?it/s]"
      ]
     },
     "metadata": {},
     "output_type": "display_data"
    },
    {
     "data": {
      "application/vnd.jupyter.widget-view+json": {
       "model_id": "",
       "version_major": 2,
       "version_minor": 0
      },
      "text/plain": [
       "Varying Uncertain Radius:   0%|          | 0/5 [00:00<?, ?it/s]"
      ]
     },
     "metadata": {},
     "output_type": "display_data"
    },
    {
     "data": {
      "application/vnd.jupyter.widget-view+json": {
       "model_id": "",
       "version_major": 2,
       "version_minor": 0
      },
      "text/plain": [
       "Varying Uncertain Radius:   0%|          | 0/5 [00:00<?, ?it/s]"
      ]
     },
     "metadata": {},
     "output_type": "display_data"
    },
    {
     "data": {
      "application/vnd.jupyter.widget-view+json": {
       "model_id": "",
       "version_major": 2,
       "version_minor": 0
      },
      "text/plain": [
       "Varying Uncertain Radius:   0%|          | 0/5 [00:00<?, ?it/s]"
      ]
     },
     "metadata": {},
     "output_type": "display_data"
    },
    {
     "data": {
      "application/vnd.jupyter.widget-view+json": {
       "model_id": "",
       "version_major": 2,
       "version_minor": 0
      },
      "text/plain": [
       "Varying Uncertain Radius:   0%|          | 0/5 [00:00<?, ?it/s]"
      ]
     },
     "metadata": {},
     "output_type": "display_data"
    },
    {
     "data": {
      "application/vnd.jupyter.widget-view+json": {
       "model_id": "",
       "version_major": 2,
       "version_minor": 0
      },
      "text/plain": [
       "Varying Uncertain Radius:   0%|          | 0/5 [00:00<?, ?it/s]"
      ]
     },
     "metadata": {},
     "output_type": "display_data"
    },
    {
     "data": {
      "application/vnd.jupyter.widget-view+json": {
       "model_id": "",
       "version_major": 2,
       "version_minor": 0
      },
      "text/plain": [
       "Varying Uncertain Radius:   0%|          | 0/5 [00:00<?, ?it/s]"
      ]
     },
     "metadata": {},
     "output_type": "display_data"
    },
    {
     "data": {
      "application/vnd.jupyter.widget-view+json": {
       "model_id": "",
       "version_major": 2,
       "version_minor": 0
      },
      "text/plain": [
       "Varying Uncertain Radius:   0%|          | 0/5 [00:00<?, ?it/s]"
      ]
     },
     "metadata": {},
     "output_type": "display_data"
    },
    {
     "data": {
      "application/vnd.jupyter.widget-view+json": {
       "model_id": "",
       "version_major": 2,
       "version_minor": 0
      },
      "text/plain": [
       "Varying Uncertain Radius:   0%|          | 0/5 [00:00<?, ?it/s]"
      ]
     },
     "metadata": {},
     "output_type": "display_data"
    },
    {
     "data": {
      "application/vnd.jupyter.widget-view+json": {
       "model_id": "",
       "version_major": 2,
       "version_minor": 0
      },
      "text/plain": [
       "Rep 3:   0%|          | 0/10 [00:00<?, ?it/s]"
      ]
     },
     "metadata": {},
     "output_type": "display_data"
    },
    {
     "data": {
      "application/vnd.jupyter.widget-view+json": {
       "model_id": "",
       "version_major": 2,
       "version_minor": 0
      },
      "text/plain": [
       "Varying Uncertain Radius:   0%|          | 0/5 [00:00<?, ?it/s]"
      ]
     },
     "metadata": {},
     "output_type": "display_data"
    },
    {
     "data": {
      "application/vnd.jupyter.widget-view+json": {
       "model_id": "",
       "version_major": 2,
       "version_minor": 0
      },
      "text/plain": [
       "Varying Uncertain Radius:   0%|          | 0/5 [00:00<?, ?it/s]"
      ]
     },
     "metadata": {},
     "output_type": "display_data"
    },
    {
     "data": {
      "application/vnd.jupyter.widget-view+json": {
       "model_id": "",
       "version_major": 2,
       "version_minor": 0
      },
      "text/plain": [
       "Varying Uncertain Radius:   0%|          | 0/5 [00:00<?, ?it/s]"
      ]
     },
     "metadata": {},
     "output_type": "display_data"
    },
    {
     "data": {
      "application/vnd.jupyter.widget-view+json": {
       "model_id": "",
       "version_major": 2,
       "version_minor": 0
      },
      "text/plain": [
       "Varying Uncertain Radius:   0%|          | 0/5 [00:00<?, ?it/s]"
      ]
     },
     "metadata": {},
     "output_type": "display_data"
    },
    {
     "data": {
      "application/vnd.jupyter.widget-view+json": {
       "model_id": "",
       "version_major": 2,
       "version_minor": 0
      },
      "text/plain": [
       "Varying Uncertain Radius:   0%|          | 0/5 [00:00<?, ?it/s]"
      ]
     },
     "metadata": {},
     "output_type": "display_data"
    },
    {
     "data": {
      "application/vnd.jupyter.widget-view+json": {
       "model_id": "",
       "version_major": 2,
       "version_minor": 0
      },
      "text/plain": [
       "Varying Uncertain Radius:   0%|          | 0/5 [00:00<?, ?it/s]"
      ]
     },
     "metadata": {},
     "output_type": "display_data"
    },
    {
     "data": {
      "application/vnd.jupyter.widget-view+json": {
       "model_id": "",
       "version_major": 2,
       "version_minor": 0
      },
      "text/plain": [
       "Varying Uncertain Radius:   0%|          | 0/5 [00:00<?, ?it/s]"
      ]
     },
     "metadata": {},
     "output_type": "display_data"
    },
    {
     "data": {
      "application/vnd.jupyter.widget-view+json": {
       "model_id": "",
       "version_major": 2,
       "version_minor": 0
      },
      "text/plain": [
       "Varying Uncertain Radius:   0%|          | 0/5 [00:00<?, ?it/s]"
      ]
     },
     "metadata": {},
     "output_type": "display_data"
    },
    {
     "data": {
      "application/vnd.jupyter.widget-view+json": {
       "model_id": "",
       "version_major": 2,
       "version_minor": 0
      },
      "text/plain": [
       "Varying Uncertain Radius:   0%|          | 0/5 [00:00<?, ?it/s]"
      ]
     },
     "metadata": {},
     "output_type": "display_data"
    },
    {
     "data": {
      "application/vnd.jupyter.widget-view+json": {
       "model_id": "",
       "version_major": 2,
       "version_minor": 0
      },
      "text/plain": [
       "Varying Uncertain Radius:   0%|          | 0/5 [00:00<?, ?it/s]"
      ]
     },
     "metadata": {},
     "output_type": "display_data"
    },
    {
     "data": {
      "application/vnd.jupyter.widget-view+json": {
       "model_id": "",
       "version_major": 2,
       "version_minor": 0
      },
      "text/plain": [
       "Rep 4:   0%|          | 0/10 [00:00<?, ?it/s]"
      ]
     },
     "metadata": {},
     "output_type": "display_data"
    },
    {
     "data": {
      "application/vnd.jupyter.widget-view+json": {
       "model_id": "",
       "version_major": 2,
       "version_minor": 0
      },
      "text/plain": [
       "Varying Uncertain Radius:   0%|          | 0/5 [00:00<?, ?it/s]"
      ]
     },
     "metadata": {},
     "output_type": "display_data"
    },
    {
     "data": {
      "application/vnd.jupyter.widget-view+json": {
       "model_id": "",
       "version_major": 2,
       "version_minor": 0
      },
      "text/plain": [
       "Varying Uncertain Radius:   0%|          | 0/5 [00:00<?, ?it/s]"
      ]
     },
     "metadata": {},
     "output_type": "display_data"
    },
    {
     "data": {
      "application/vnd.jupyter.widget-view+json": {
       "model_id": "",
       "version_major": 2,
       "version_minor": 0
      },
      "text/plain": [
       "Varying Uncertain Radius:   0%|          | 0/5 [00:00<?, ?it/s]"
      ]
     },
     "metadata": {},
     "output_type": "display_data"
    },
    {
     "data": {
      "application/vnd.jupyter.widget-view+json": {
       "model_id": "",
       "version_major": 2,
       "version_minor": 0
      },
      "text/plain": [
       "Varying Uncertain Radius:   0%|          | 0/5 [00:00<?, ?it/s]"
      ]
     },
     "metadata": {},
     "output_type": "display_data"
    },
    {
     "data": {
      "application/vnd.jupyter.widget-view+json": {
       "model_id": "",
       "version_major": 2,
       "version_minor": 0
      },
      "text/plain": [
       "Varying Uncertain Radius:   0%|          | 0/5 [00:00<?, ?it/s]"
      ]
     },
     "metadata": {},
     "output_type": "display_data"
    },
    {
     "data": {
      "application/vnd.jupyter.widget-view+json": {
       "model_id": "",
       "version_major": 2,
       "version_minor": 0
      },
      "text/plain": [
       "Varying Uncertain Radius:   0%|          | 0/5 [00:00<?, ?it/s]"
      ]
     },
     "metadata": {},
     "output_type": "display_data"
    },
    {
     "data": {
      "application/vnd.jupyter.widget-view+json": {
       "model_id": "",
       "version_major": 2,
       "version_minor": 0
      },
      "text/plain": [
       "Varying Uncertain Radius:   0%|          | 0/5 [00:00<?, ?it/s]"
      ]
     },
     "metadata": {},
     "output_type": "display_data"
    },
    {
     "data": {
      "application/vnd.jupyter.widget-view+json": {
       "model_id": "",
       "version_major": 2,
       "version_minor": 0
      },
      "text/plain": [
       "Varying Uncertain Radius:   0%|          | 0/5 [00:00<?, ?it/s]"
      ]
     },
     "metadata": {},
     "output_type": "display_data"
    },
    {
     "data": {
      "application/vnd.jupyter.widget-view+json": {
       "model_id": "",
       "version_major": 2,
       "version_minor": 0
      },
      "text/plain": [
       "Varying Uncertain Radius:   0%|          | 0/5 [00:00<?, ?it/s]"
      ]
     },
     "metadata": {},
     "output_type": "display_data"
    },
    {
     "data": {
      "application/vnd.jupyter.widget-view+json": {
       "model_id": "",
       "version_major": 2,
       "version_minor": 0
      },
      "text/plain": [
       "Varying Uncertain Radius:   0%|          | 0/5 [00:00<?, ?it/s]"
      ]
     },
     "metadata": {},
     "output_type": "display_data"
    },
    {
     "data": {
      "application/vnd.jupyter.widget-view+json": {
       "model_id": "",
       "version_major": 2,
       "version_minor": 0
      },
      "text/plain": [
       "Rep 5:   0%|          | 0/10 [00:00<?, ?it/s]"
      ]
     },
     "metadata": {},
     "output_type": "display_data"
    },
    {
     "data": {
      "application/vnd.jupyter.widget-view+json": {
       "model_id": "",
       "version_major": 2,
       "version_minor": 0
      },
      "text/plain": [
       "Varying Uncertain Radius:   0%|          | 0/5 [00:00<?, ?it/s]"
      ]
     },
     "metadata": {},
     "output_type": "display_data"
    },
    {
     "data": {
      "application/vnd.jupyter.widget-view+json": {
       "model_id": "",
       "version_major": 2,
       "version_minor": 0
      },
      "text/plain": [
       "Varying Uncertain Radius:   0%|          | 0/5 [00:00<?, ?it/s]"
      ]
     },
     "metadata": {},
     "output_type": "display_data"
    },
    {
     "data": {
      "application/vnd.jupyter.widget-view+json": {
       "model_id": "",
       "version_major": 2,
       "version_minor": 0
      },
      "text/plain": [
       "Varying Uncertain Radius:   0%|          | 0/5 [00:00<?, ?it/s]"
      ]
     },
     "metadata": {},
     "output_type": "display_data"
    },
    {
     "data": {
      "application/vnd.jupyter.widget-view+json": {
       "model_id": "",
       "version_major": 2,
       "version_minor": 0
      },
      "text/plain": [
       "Varying Uncertain Radius:   0%|          | 0/5 [00:00<?, ?it/s]"
      ]
     },
     "metadata": {},
     "output_type": "display_data"
    },
    {
     "data": {
      "application/vnd.jupyter.widget-view+json": {
       "model_id": "5ff4be31a6ba4f69afc8cbd93dd7e6c7",
       "version_major": 2,
       "version_minor": 0
      },
      "text/plain": [
       "Varying Uncertain Radius:   0%|          | 0/5 [00:00<?, ?it/s]"
      ]
     },
     "metadata": {},
     "output_type": "display_data"
    },
    {
     "data": {
      "application/vnd.jupyter.widget-view+json": {
       "model_id": "7e02d6e274b74b43803cde5457d8a7a2",
       "version_major": 2,
       "version_minor": 0
      },
      "text/plain": [
       "Varying Uncertain Radius:   0%|          | 0/5 [00:00<?, ?it/s]"
      ]
     },
     "metadata": {},
     "output_type": "display_data"
    },
    {
     "data": {
      "application/vnd.jupyter.widget-view+json": {
       "model_id": "05f0b8dc0c7d4c38b6a1f1aa63dcbb52",
       "version_major": 2,
       "version_minor": 0
      },
      "text/plain": [
       "Varying Uncertain Radius:   0%|          | 0/5 [00:00<?, ?it/s]"
      ]
     },
     "metadata": {},
     "output_type": "display_data"
    },
    {
     "data": {
      "application/vnd.jupyter.widget-view+json": {
       "model_id": "44a671e30b104a83939abc6862b6e65e",
       "version_major": 2,
       "version_minor": 0
      },
      "text/plain": [
       "Varying Uncertain Radius:   0%|          | 0/5 [00:00<?, ?it/s]"
      ]
     },
     "metadata": {},
     "output_type": "display_data"
    },
    {
     "data": {
      "application/vnd.jupyter.widget-view+json": {
       "model_id": "5c380af2d46b4c298937ac86b7420189",
       "version_major": 2,
       "version_minor": 0
      },
      "text/plain": [
       "Varying Uncertain Radius:   0%|          | 0/5 [00:00<?, ?it/s]"
      ]
     },
     "metadata": {},
     "output_type": "display_data"
    },
    {
     "data": {
      "application/vnd.jupyter.widget-view+json": {
       "model_id": "cc8f738ed02342c5982d9e3b88e8dc5e",
       "version_major": 2,
       "version_minor": 0
      },
      "text/plain": [
       "Varying Uncertain Radius:   0%|          | 0/5 [00:00<?, ?it/s]"
      ]
     },
     "metadata": {},
     "output_type": "display_data"
    }
   ],
   "source": [
    "robustness_dicts_naive = []\n",
    "for seed in tqdm(range(5), desc=f'Progress'):\n",
    "    robustness_radius = 2\n",
    "    label_range = (y_train.max()-y_train.min())\n",
    "    ratios = [0.05, 0.10, 0.15, 0.2, 0.25]\n",
    "    uncertain_radiuses = [ratio*label_range for ratio in ratios]\n",
    "    uncertain_pcts = list(np.arange(1, 11)/100)\n",
    "    robustness_dict = dict()\n",
    "    robustness_dict['uncertain_radius'] = uncertain_radiuses\n",
    "    robustness_dict['uncertain_radius_ratios'] = ratios\n",
    "    for uncertain_pct in tqdm(uncertain_pcts, desc=f'Rep {seed+1}', leave=False):\n",
    "        robustness_dict[uncertain_pct] = list()\n",
    "        uncertain_num = int(uncertain_pct*len(y_train))\n",
    "        for uncertain_radius in tqdm(uncertain_radiuses, desc=f'Varying Uncertain Radius', leave=False):\n",
    "            robustness_ratio = compute_robustness_ratio_label_error(X_train, y_train, X_test, y_test, \n",
    "                                                                    uncertain_num=uncertain_num, \n",
    "                                                                    uncertain_radius=uncertain_radius, \n",
    "                                                                    robustness_radius=robustness_radius, \n",
    "                                                                    interval=False, seed=seed)\n",
    "            robustness_dict[uncertain_pct].append(robustness_ratio)\n",
    "    robustness_dicts_naive.append(robustness_dict)"
   ]
  },
  {
   "cell_type": "code",
   "execution_count": 10,
   "id": "fcbbb24e-a083-4b68-baf9-b6845560b3bf",
   "metadata": {},
   "outputs": [
    {
     "data": {
      "application/vnd.jupyter.widget-view+json": {
       "model_id": "59d30cc775fc46e590d1aa91466eec13",
       "version_major": 2,
       "version_minor": 0
      },
      "text/plain": [
       "Progess:   0%|          | 0/10 [00:00<?, ?it/s]"
      ]
     },
     "metadata": {},
     "output_type": "display_data"
    },
    {
     "data": {
      "application/vnd.jupyter.widget-view+json": {
       "model_id": "5278c0e48ed14eb5aca10c99e52f4d5e",
       "version_major": 2,
       "version_minor": 0
      },
      "text/plain": [
       "Varying Uncertain Radius:   0%|          | 0/5 [00:00<?, ?it/s]"
      ]
     },
     "metadata": {},
     "output_type": "display_data"
    },
    {
     "data": {
      "application/vnd.jupyter.widget-view+json": {
       "model_id": "f61237d2fc9943f1a657566e55f78f07",
       "version_major": 2,
       "version_minor": 0
      },
      "text/plain": [
       "Varying Uncertain Radius:   0%|          | 0/5 [00:00<?, ?it/s]"
      ]
     },
     "metadata": {},
     "output_type": "display_data"
    },
    {
     "data": {
      "application/vnd.jupyter.widget-view+json": {
       "model_id": "6052f65a35ec459390db376e47242320",
       "version_major": 2,
       "version_minor": 0
      },
      "text/plain": [
       "Varying Uncertain Radius:   0%|          | 0/5 [00:00<?, ?it/s]"
      ]
     },
     "metadata": {},
     "output_type": "display_data"
    },
    {
     "data": {
      "application/vnd.jupyter.widget-view+json": {
       "model_id": "37d2a1e83d1f41e8b3ad9b847af4b9e5",
       "version_major": 2,
       "version_minor": 0
      },
      "text/plain": [
       "Varying Uncertain Radius:   0%|          | 0/5 [00:00<?, ?it/s]"
      ]
     },
     "metadata": {},
     "output_type": "display_data"
    },
    {
     "data": {
      "application/vnd.jupyter.widget-view+json": {
       "model_id": "7d95c020e49b40c68c4db1c99334e176",
       "version_major": 2,
       "version_minor": 0
      },
      "text/plain": [
       "Varying Uncertain Radius:   0%|          | 0/5 [00:00<?, ?it/s]"
      ]
     },
     "metadata": {},
     "output_type": "display_data"
    },
    {
     "data": {
      "application/vnd.jupyter.widget-view+json": {
       "model_id": "0e15ad446f4b4688b5e4a1fc568e2883",
       "version_major": 2,
       "version_minor": 0
      },
      "text/plain": [
       "Varying Uncertain Radius:   0%|          | 0/5 [00:00<?, ?it/s]"
      ]
     },
     "metadata": {},
     "output_type": "display_data"
    },
    {
     "data": {
      "application/vnd.jupyter.widget-view+json": {
       "model_id": "f3af54f53d124675be42a7fdff396b00",
       "version_major": 2,
       "version_minor": 0
      },
      "text/plain": [
       "Varying Uncertain Radius:   0%|          | 0/5 [00:00<?, ?it/s]"
      ]
     },
     "metadata": {},
     "output_type": "display_data"
    },
    {
     "data": {
      "application/vnd.jupyter.widget-view+json": {
       "model_id": "176e9f92a1de48a29a55fabc5cb2ed02",
       "version_major": 2,
       "version_minor": 0
      },
      "text/plain": [
       "Varying Uncertain Radius:   0%|          | 0/5 [00:00<?, ?it/s]"
      ]
     },
     "metadata": {},
     "output_type": "display_data"
    },
    {
     "data": {
      "application/vnd.jupyter.widget-view+json": {
       "model_id": "885ff6d324dc48a790a66ca37984fb7f",
       "version_major": 2,
       "version_minor": 0
      },
      "text/plain": [
       "Varying Uncertain Radius:   0%|          | 0/5 [00:00<?, ?it/s]"
      ]
     },
     "metadata": {},
     "output_type": "display_data"
    },
    {
     "data": {
      "application/vnd.jupyter.widget-view+json": {
       "model_id": "051243a048c5474da60fcbc53c7ab326",
       "version_major": 2,
       "version_minor": 0
      },
      "text/plain": [
       "Varying Uncertain Radius:   0%|          | 0/5 [00:00<?, ?it/s]"
      ]
     },
     "metadata": {},
     "output_type": "display_data"
    },
    {
     "data": {
      "application/vnd.jupyter.widget-view+json": {
       "model_id": "06414cef88e64f50b5109f38e740d7c0",
       "version_major": 2,
       "version_minor": 0
      },
      "text/plain": [
       "Progess:   0%|          | 0/10 [00:00<?, ?it/s]"
      ]
     },
     "metadata": {},
     "output_type": "display_data"
    },
    {
     "data": {
      "application/vnd.jupyter.widget-view+json": {
       "model_id": "4a030e55aa57479e9c71a0f07a300e2a",
       "version_major": 2,
       "version_minor": 0
      },
      "text/plain": [
       "Varying Uncertain Radius:   0%|          | 0/5 [00:00<?, ?it/s]"
      ]
     },
     "metadata": {},
     "output_type": "display_data"
    },
    {
     "data": {
      "application/vnd.jupyter.widget-view+json": {
       "model_id": "78a0d5039bcd49f3b0c16571ce4c874d",
       "version_major": 2,
       "version_minor": 0
      },
      "text/plain": [
       "Varying Uncertain Radius:   0%|          | 0/5 [00:00<?, ?it/s]"
      ]
     },
     "metadata": {},
     "output_type": "display_data"
    },
    {
     "data": {
      "application/vnd.jupyter.widget-view+json": {
       "model_id": "1377f485058047768954c86fefccefd2",
       "version_major": 2,
       "version_minor": 0
      },
      "text/plain": [
       "Varying Uncertain Radius:   0%|          | 0/5 [00:00<?, ?it/s]"
      ]
     },
     "metadata": {},
     "output_type": "display_data"
    },
    {
     "data": {
      "application/vnd.jupyter.widget-view+json": {
       "model_id": "e6f031d0394143e4969683c2cfe78d5c",
       "version_major": 2,
       "version_minor": 0
      },
      "text/plain": [
       "Varying Uncertain Radius:   0%|          | 0/5 [00:00<?, ?it/s]"
      ]
     },
     "metadata": {},
     "output_type": "display_data"
    },
    {
     "data": {
      "application/vnd.jupyter.widget-view+json": {
       "model_id": "b2d8f8b5dbab4023a05d2e9f6fc54ebf",
       "version_major": 2,
       "version_minor": 0
      },
      "text/plain": [
       "Varying Uncertain Radius:   0%|          | 0/5 [00:00<?, ?it/s]"
      ]
     },
     "metadata": {},
     "output_type": "display_data"
    },
    {
     "data": {
      "application/vnd.jupyter.widget-view+json": {
       "model_id": "cb5d05fcd0cd4831871ece9c27f84308",
       "version_major": 2,
       "version_minor": 0
      },
      "text/plain": [
       "Varying Uncertain Radius:   0%|          | 0/5 [00:00<?, ?it/s]"
      ]
     },
     "metadata": {},
     "output_type": "display_data"
    },
    {
     "data": {
      "application/vnd.jupyter.widget-view+json": {
       "model_id": "408c27cfb5d640c2986879bbe54f2a89",
       "version_major": 2,
       "version_minor": 0
      },
      "text/plain": [
       "Varying Uncertain Radius:   0%|          | 0/5 [00:00<?, ?it/s]"
      ]
     },
     "metadata": {},
     "output_type": "display_data"
    },
    {
     "data": {
      "application/vnd.jupyter.widget-view+json": {
       "model_id": "d911c868cb9e467998c597fcf98bf535",
       "version_major": 2,
       "version_minor": 0
      },
      "text/plain": [
       "Varying Uncertain Radius:   0%|          | 0/5 [00:00<?, ?it/s]"
      ]
     },
     "metadata": {},
     "output_type": "display_data"
    },
    {
     "data": {
      "application/vnd.jupyter.widget-view+json": {
       "model_id": "a2488412b0434762a879392f770b5804",
       "version_major": 2,
       "version_minor": 0
      },
      "text/plain": [
       "Varying Uncertain Radius:   0%|          | 0/5 [00:00<?, ?it/s]"
      ]
     },
     "metadata": {},
     "output_type": "display_data"
    },
    {
     "data": {
      "application/vnd.jupyter.widget-view+json": {
       "model_id": "d7a336ef0cd94b40801d8d105e4617ac",
       "version_major": 2,
       "version_minor": 0
      },
      "text/plain": [
       "Varying Uncertain Radius:   0%|          | 0/5 [00:00<?, ?it/s]"
      ]
     },
     "metadata": {},
     "output_type": "display_data"
    },
    {
     "data": {
      "application/vnd.jupyter.widget-view+json": {
       "model_id": "d00cbc4ec0a44d7688536d82cc3a8aa6",
       "version_major": 2,
       "version_minor": 0
      },
      "text/plain": [
       "Progess:   0%|          | 0/10 [00:00<?, ?it/s]"
      ]
     },
     "metadata": {},
     "output_type": "display_data"
    },
    {
     "data": {
      "application/vnd.jupyter.widget-view+json": {
       "model_id": "30af652181fe480b9c67129cda92d843",
       "version_major": 2,
       "version_minor": 0
      },
      "text/plain": [
       "Varying Uncertain Radius:   0%|          | 0/5 [00:00<?, ?it/s]"
      ]
     },
     "metadata": {},
     "output_type": "display_data"
    },
    {
     "data": {
      "application/vnd.jupyter.widget-view+json": {
       "model_id": "3b9ac5c19b594ddaab897f25b449f663",
       "version_major": 2,
       "version_minor": 0
      },
      "text/plain": [
       "Varying Uncertain Radius:   0%|          | 0/5 [00:00<?, ?it/s]"
      ]
     },
     "metadata": {},
     "output_type": "display_data"
    },
    {
     "data": {
      "application/vnd.jupyter.widget-view+json": {
       "model_id": "2a9fdf8c0d864ea388dc1aeea52ffba5",
       "version_major": 2,
       "version_minor": 0
      },
      "text/plain": [
       "Varying Uncertain Radius:   0%|          | 0/5 [00:00<?, ?it/s]"
      ]
     },
     "metadata": {},
     "output_type": "display_data"
    },
    {
     "data": {
      "application/vnd.jupyter.widget-view+json": {
       "model_id": "17bf0f7590f34c70b013f3caa3c046f1",
       "version_major": 2,
       "version_minor": 0
      },
      "text/plain": [
       "Varying Uncertain Radius:   0%|          | 0/5 [00:00<?, ?it/s]"
      ]
     },
     "metadata": {},
     "output_type": "display_data"
    },
    {
     "data": {
      "application/vnd.jupyter.widget-view+json": {
       "model_id": "fd8a2928542b4a5c8048ed517a0750d7",
       "version_major": 2,
       "version_minor": 0
      },
      "text/plain": [
       "Varying Uncertain Radius:   0%|          | 0/5 [00:00<?, ?it/s]"
      ]
     },
     "metadata": {},
     "output_type": "display_data"
    },
    {
     "data": {
      "application/vnd.jupyter.widget-view+json": {
       "model_id": "7771b46c5b224b3095c799a7e5baf79f",
       "version_major": 2,
       "version_minor": 0
      },
      "text/plain": [
       "Varying Uncertain Radius:   0%|          | 0/5 [00:00<?, ?it/s]"
      ]
     },
     "metadata": {},
     "output_type": "display_data"
    },
    {
     "data": {
      "application/vnd.jupyter.widget-view+json": {
       "model_id": "58b36453d9fe4d94be7e40bdb9443303",
       "version_major": 2,
       "version_minor": 0
      },
      "text/plain": [
       "Varying Uncertain Radius:   0%|          | 0/5 [00:00<?, ?it/s]"
      ]
     },
     "metadata": {},
     "output_type": "display_data"
    },
    {
     "data": {
      "application/vnd.jupyter.widget-view+json": {
       "model_id": "6706d339b4514d19971c3ef5c50d5ca5",
       "version_major": 2,
       "version_minor": 0
      },
      "text/plain": [
       "Varying Uncertain Radius:   0%|          | 0/5 [00:00<?, ?it/s]"
      ]
     },
     "metadata": {},
     "output_type": "display_data"
    },
    {
     "data": {
      "application/vnd.jupyter.widget-view+json": {
       "model_id": "5b43b9c25f254529bd138474ac176936",
       "version_major": 2,
       "version_minor": 0
      },
      "text/plain": [
       "Varying Uncertain Radius:   0%|          | 0/5 [00:00<?, ?it/s]"
      ]
     },
     "metadata": {},
     "output_type": "display_data"
    },
    {
     "data": {
      "application/vnd.jupyter.widget-view+json": {
       "model_id": "119167d145ca4488a3c226090375467f",
       "version_major": 2,
       "version_minor": 0
      },
      "text/plain": [
       "Varying Uncertain Radius:   0%|          | 0/5 [00:00<?, ?it/s]"
      ]
     },
     "metadata": {},
     "output_type": "display_data"
    },
    {
     "data": {
      "application/vnd.jupyter.widget-view+json": {
       "model_id": "f21c889613d1422c9d4872d5742dfe55",
       "version_major": 2,
       "version_minor": 0
      },
      "text/plain": [
       "Progess:   0%|          | 0/10 [00:00<?, ?it/s]"
      ]
     },
     "metadata": {},
     "output_type": "display_data"
    },
    {
     "data": {
      "application/vnd.jupyter.widget-view+json": {
       "model_id": "2760b0b0ccaf4471bffb60fc1c1b2c56",
       "version_major": 2,
       "version_minor": 0
      },
      "text/plain": [
       "Varying Uncertain Radius:   0%|          | 0/5 [00:00<?, ?it/s]"
      ]
     },
     "metadata": {},
     "output_type": "display_data"
    },
    {
     "data": {
      "application/vnd.jupyter.widget-view+json": {
       "model_id": "e49ba02a6cc74ebca3826fd80fba85c8",
       "version_major": 2,
       "version_minor": 0
      },
      "text/plain": [
       "Varying Uncertain Radius:   0%|          | 0/5 [00:00<?, ?it/s]"
      ]
     },
     "metadata": {},
     "output_type": "display_data"
    },
    {
     "data": {
      "application/vnd.jupyter.widget-view+json": {
       "model_id": "3d4dba8c99c543fa8c7d3781ffddc5ad",
       "version_major": 2,
       "version_minor": 0
      },
      "text/plain": [
       "Varying Uncertain Radius:   0%|          | 0/5 [00:00<?, ?it/s]"
      ]
     },
     "metadata": {},
     "output_type": "display_data"
    },
    {
     "data": {
      "application/vnd.jupyter.widget-view+json": {
       "model_id": "94ddfc2dbdff4e868f08033e396c45a8",
       "version_major": 2,
       "version_minor": 0
      },
      "text/plain": [
       "Varying Uncertain Radius:   0%|          | 0/5 [00:00<?, ?it/s]"
      ]
     },
     "metadata": {},
     "output_type": "display_data"
    },
    {
     "data": {
      "application/vnd.jupyter.widget-view+json": {
       "model_id": "409ee2aa75564cf995edd61237715451",
       "version_major": 2,
       "version_minor": 0
      },
      "text/plain": [
       "Varying Uncertain Radius:   0%|          | 0/5 [00:00<?, ?it/s]"
      ]
     },
     "metadata": {},
     "output_type": "display_data"
    },
    {
     "data": {
      "application/vnd.jupyter.widget-view+json": {
       "model_id": "ece7d94c9b4d49f79ce0d26c3eb5b64d",
       "version_major": 2,
       "version_minor": 0
      },
      "text/plain": [
       "Varying Uncertain Radius:   0%|          | 0/5 [00:00<?, ?it/s]"
      ]
     },
     "metadata": {},
     "output_type": "display_data"
    },
    {
     "data": {
      "application/vnd.jupyter.widget-view+json": {
       "model_id": "68474e9f62de416db95be1de7a0ac4c1",
       "version_major": 2,
       "version_minor": 0
      },
      "text/plain": [
       "Varying Uncertain Radius:   0%|          | 0/5 [00:00<?, ?it/s]"
      ]
     },
     "metadata": {},
     "output_type": "display_data"
    },
    {
     "data": {
      "application/vnd.jupyter.widget-view+json": {
       "model_id": "afd74d1c7f8d477f99141e493ea4679f",
       "version_major": 2,
       "version_minor": 0
      },
      "text/plain": [
       "Varying Uncertain Radius:   0%|          | 0/5 [00:00<?, ?it/s]"
      ]
     },
     "metadata": {},
     "output_type": "display_data"
    },
    {
     "data": {
      "application/vnd.jupyter.widget-view+json": {
       "model_id": "9f48dd6125a4407f9cb9e683bbd29046",
       "version_major": 2,
       "version_minor": 0
      },
      "text/plain": [
       "Varying Uncertain Radius:   0%|          | 0/5 [00:00<?, ?it/s]"
      ]
     },
     "metadata": {},
     "output_type": "display_data"
    },
    {
     "data": {
      "application/vnd.jupyter.widget-view+json": {
       "model_id": "9c188f51481544c2bab865f3b5010c59",
       "version_major": 2,
       "version_minor": 0
      },
      "text/plain": [
       "Varying Uncertain Radius:   0%|          | 0/5 [00:00<?, ?it/s]"
      ]
     },
     "metadata": {},
     "output_type": "display_data"
    },
    {
     "data": {
      "application/vnd.jupyter.widget-view+json": {
       "model_id": "472db920212746d6ac6a6f4b7b407729",
       "version_major": 2,
       "version_minor": 0
      },
      "text/plain": [
       "Progess:   0%|          | 0/10 [00:00<?, ?it/s]"
      ]
     },
     "metadata": {},
     "output_type": "display_data"
    },
    {
     "data": {
      "application/vnd.jupyter.widget-view+json": {
       "model_id": "a011e84d680f4f7fb03787d62a3f6563",
       "version_major": 2,
       "version_minor": 0
      },
      "text/plain": [
       "Varying Uncertain Radius:   0%|          | 0/5 [00:00<?, ?it/s]"
      ]
     },
     "metadata": {},
     "output_type": "display_data"
    },
    {
     "data": {
      "application/vnd.jupyter.widget-view+json": {
       "model_id": "567bd710fed14beb8c3e627775b1affa",
       "version_major": 2,
       "version_minor": 0
      },
      "text/plain": [
       "Varying Uncertain Radius:   0%|          | 0/5 [00:00<?, ?it/s]"
      ]
     },
     "metadata": {},
     "output_type": "display_data"
    },
    {
     "data": {
      "application/vnd.jupyter.widget-view+json": {
       "model_id": "99be849c85514a418d334ca4a8b39d7f",
       "version_major": 2,
       "version_minor": 0
      },
      "text/plain": [
       "Varying Uncertain Radius:   0%|          | 0/5 [00:00<?, ?it/s]"
      ]
     },
     "metadata": {},
     "output_type": "display_data"
    },
    {
     "data": {
      "application/vnd.jupyter.widget-view+json": {
       "model_id": "c7feb8e09b8c4baa82cf70a7f62af6d5",
       "version_major": 2,
       "version_minor": 0
      },
      "text/plain": [
       "Varying Uncertain Radius:   0%|          | 0/5 [00:00<?, ?it/s]"
      ]
     },
     "metadata": {},
     "output_type": "display_data"
    },
    {
     "data": {
      "application/vnd.jupyter.widget-view+json": {
       "model_id": "bc9891ec98544b2a89ca7b42c969971e",
       "version_major": 2,
       "version_minor": 0
      },
      "text/plain": [
       "Varying Uncertain Radius:   0%|          | 0/5 [00:00<?, ?it/s]"
      ]
     },
     "metadata": {},
     "output_type": "display_data"
    },
    {
     "data": {
      "application/vnd.jupyter.widget-view+json": {
       "model_id": "5c1060555d3d420e8c583027e9939ec3",
       "version_major": 2,
       "version_minor": 0
      },
      "text/plain": [
       "Varying Uncertain Radius:   0%|          | 0/5 [00:00<?, ?it/s]"
      ]
     },
     "metadata": {},
     "output_type": "display_data"
    },
    {
     "data": {
      "application/vnd.jupyter.widget-view+json": {
       "model_id": "594637a16b00444cb5db8930eaf3feaf",
       "version_major": 2,
       "version_minor": 0
      },
      "text/plain": [
       "Varying Uncertain Radius:   0%|          | 0/5 [00:00<?, ?it/s]"
      ]
     },
     "metadata": {},
     "output_type": "display_data"
    },
    {
     "data": {
      "application/vnd.jupyter.widget-view+json": {
       "model_id": "66e04e6d196c4248881ee65e8bf1dd3d",
       "version_major": 2,
       "version_minor": 0
      },
      "text/plain": [
       "Varying Uncertain Radius:   0%|          | 0/5 [00:00<?, ?it/s]"
      ]
     },
     "metadata": {},
     "output_type": "display_data"
    },
    {
     "data": {
      "application/vnd.jupyter.widget-view+json": {
       "model_id": "4d5566557c474ef2a71ca3b2e3e99ab6",
       "version_major": 2,
       "version_minor": 0
      },
      "text/plain": [
       "Varying Uncertain Radius:   0%|          | 0/5 [00:00<?, ?it/s]"
      ]
     },
     "metadata": {},
     "output_type": "display_data"
    },
    {
     "data": {
      "application/vnd.jupyter.widget-view+json": {
       "model_id": "d62eb9f237b846f69982d505e6acfea0",
       "version_major": 2,
       "version_minor": 0
      },
      "text/plain": [
       "Varying Uncertain Radius:   0%|          | 0/5 [00:00<?, ?it/s]"
      ]
     },
     "metadata": {},
     "output_type": "display_data"
    }
   ],
   "source": [
    "# Testing more extreme uncertain percentages\n",
    "robustness_dicts_interval_rndFrst_mae = []\n",
    "for seed in range(5):\n",
    "    # mpg +- 2 is robust\n",
    "    robustness_radius = 2\n",
    "    label_range = (y_train.max()-y_train.min())\n",
    "    ratios = [0.05, 0.10, 0.15, 0.2, 0.25]\n",
    "    uncertain_radiuses = [ratio*label_range for ratio in ratios]\n",
    "    uncertain_pcts = list(np.arange(1, 11)/100)\n",
    "    robustness_dict_interval = dict()\n",
    "    robustness_dict_interval['uncertain_radius'] = uncertain_radiuses\n",
    "    robustness_dict_interval['uncertain_radius_ratios'] = ratios\n",
    "    for uncertain_pct in tqdm(uncertain_pcts, desc='Progess'):\n",
    "        robustness_dict_interval[uncertain_pct] = list()\n",
    "        uncertain_num = int(uncertain_pct*len(y_train))\n",
    "        for uncertain_radius in tqdm(uncertain_radiuses, desc=f'Varying Uncertain Radius'):\n",
    "            robustness_ratio = compute_robustness_ratio_sensitive_label_error(X_train, y_train, X_test, y_test, \n",
    "                                                                    uncertain_num=uncertain_num,\n",
    "                                                                    boundary_indices=boundary_indices,\n",
    "                                                                    uncertain_radius=uncertain_radius, \n",
    "                                                                    robustness_radius=robustness_radius, \n",
    "                                                                    interval=True, seed=seed)\n",
    "            robustness_dict_interval[uncertain_pct].append(robustness_ratio)\n",
    "    robustness_dicts_interval_rndFrst_mae.append(robustness_dict_interval)"
   ]
  },
  {
   "cell_type": "code",
   "execution_count": 11,
   "id": "fde92342-f817-43cd-b2d8-4985c3e90c38",
   "metadata": {},
   "outputs": [
    {
     "data": {
      "application/vnd.jupyter.widget-view+json": {
       "model_id": "deca9e7e78e544429b272aa0b609bbcc",
       "version_major": 2,
       "version_minor": 0
      },
      "text/plain": [
       "Progress:   0%|          | 0/5 [00:00<?, ?it/s]"
      ]
     },
     "metadata": {},
     "output_type": "display_data"
    },
    {
     "data": {
      "application/vnd.jupyter.widget-view+json": {
       "model_id": "",
       "version_major": 2,
       "version_minor": 0
      },
      "text/plain": [
       "Rep 1:   0%|          | 0/10 [00:00<?, ?it/s]"
      ]
     },
     "metadata": {},
     "output_type": "display_data"
    },
    {
     "data": {
      "application/vnd.jupyter.widget-view+json": {
       "model_id": "",
       "version_major": 2,
       "version_minor": 0
      },
      "text/plain": [
       "Varying Uncertain Radius:   0%|          | 0/5 [00:00<?, ?it/s]"
      ]
     },
     "metadata": {},
     "output_type": "display_data"
    },
    {
     "data": {
      "application/vnd.jupyter.widget-view+json": {
       "model_id": "",
       "version_major": 2,
       "version_minor": 0
      },
      "text/plain": [
       "Varying Uncertain Radius:   0%|          | 0/5 [00:00<?, ?it/s]"
      ]
     },
     "metadata": {},
     "output_type": "display_data"
    },
    {
     "data": {
      "application/vnd.jupyter.widget-view+json": {
       "model_id": "",
       "version_major": 2,
       "version_minor": 0
      },
      "text/plain": [
       "Varying Uncertain Radius:   0%|          | 0/5 [00:00<?, ?it/s]"
      ]
     },
     "metadata": {},
     "output_type": "display_data"
    },
    {
     "data": {
      "application/vnd.jupyter.widget-view+json": {
       "model_id": "",
       "version_major": 2,
       "version_minor": 0
      },
      "text/plain": [
       "Varying Uncertain Radius:   0%|          | 0/5 [00:00<?, ?it/s]"
      ]
     },
     "metadata": {},
     "output_type": "display_data"
    },
    {
     "data": {
      "application/vnd.jupyter.widget-view+json": {
       "model_id": "",
       "version_major": 2,
       "version_minor": 0
      },
      "text/plain": [
       "Varying Uncertain Radius:   0%|          | 0/5 [00:00<?, ?it/s]"
      ]
     },
     "metadata": {},
     "output_type": "display_data"
    },
    {
     "data": {
      "application/vnd.jupyter.widget-view+json": {
       "model_id": "",
       "version_major": 2,
       "version_minor": 0
      },
      "text/plain": [
       "Varying Uncertain Radius:   0%|          | 0/5 [00:00<?, ?it/s]"
      ]
     },
     "metadata": {},
     "output_type": "display_data"
    },
    {
     "data": {
      "application/vnd.jupyter.widget-view+json": {
       "model_id": "",
       "version_major": 2,
       "version_minor": 0
      },
      "text/plain": [
       "Varying Uncertain Radius:   0%|          | 0/5 [00:00<?, ?it/s]"
      ]
     },
     "metadata": {},
     "output_type": "display_data"
    },
    {
     "data": {
      "application/vnd.jupyter.widget-view+json": {
       "model_id": "",
       "version_major": 2,
       "version_minor": 0
      },
      "text/plain": [
       "Varying Uncertain Radius:   0%|          | 0/5 [00:00<?, ?it/s]"
      ]
     },
     "metadata": {},
     "output_type": "display_data"
    },
    {
     "data": {
      "application/vnd.jupyter.widget-view+json": {
       "model_id": "",
       "version_major": 2,
       "version_minor": 0
      },
      "text/plain": [
       "Varying Uncertain Radius:   0%|          | 0/5 [00:00<?, ?it/s]"
      ]
     },
     "metadata": {},
     "output_type": "display_data"
    },
    {
     "data": {
      "application/vnd.jupyter.widget-view+json": {
       "model_id": "",
       "version_major": 2,
       "version_minor": 0
      },
      "text/plain": [
       "Varying Uncertain Radius:   0%|          | 0/5 [00:00<?, ?it/s]"
      ]
     },
     "metadata": {},
     "output_type": "display_data"
    },
    {
     "data": {
      "application/vnd.jupyter.widget-view+json": {
       "model_id": "",
       "version_major": 2,
       "version_minor": 0
      },
      "text/plain": [
       "Rep 2:   0%|          | 0/10 [00:00<?, ?it/s]"
      ]
     },
     "metadata": {},
     "output_type": "display_data"
    },
    {
     "data": {
      "application/vnd.jupyter.widget-view+json": {
       "model_id": "",
       "version_major": 2,
       "version_minor": 0
      },
      "text/plain": [
       "Varying Uncertain Radius:   0%|          | 0/5 [00:00<?, ?it/s]"
      ]
     },
     "metadata": {},
     "output_type": "display_data"
    },
    {
     "data": {
      "application/vnd.jupyter.widget-view+json": {
       "model_id": "",
       "version_major": 2,
       "version_minor": 0
      },
      "text/plain": [
       "Varying Uncertain Radius:   0%|          | 0/5 [00:00<?, ?it/s]"
      ]
     },
     "metadata": {},
     "output_type": "display_data"
    },
    {
     "data": {
      "application/vnd.jupyter.widget-view+json": {
       "model_id": "",
       "version_major": 2,
       "version_minor": 0
      },
      "text/plain": [
       "Varying Uncertain Radius:   0%|          | 0/5 [00:00<?, ?it/s]"
      ]
     },
     "metadata": {},
     "output_type": "display_data"
    },
    {
     "data": {
      "application/vnd.jupyter.widget-view+json": {
       "model_id": "",
       "version_major": 2,
       "version_minor": 0
      },
      "text/plain": [
       "Varying Uncertain Radius:   0%|          | 0/5 [00:00<?, ?it/s]"
      ]
     },
     "metadata": {},
     "output_type": "display_data"
    },
    {
     "data": {
      "application/vnd.jupyter.widget-view+json": {
       "model_id": "",
       "version_major": 2,
       "version_minor": 0
      },
      "text/plain": [
       "Varying Uncertain Radius:   0%|          | 0/5 [00:00<?, ?it/s]"
      ]
     },
     "metadata": {},
     "output_type": "display_data"
    },
    {
     "data": {
      "application/vnd.jupyter.widget-view+json": {
       "model_id": "",
       "version_major": 2,
       "version_minor": 0
      },
      "text/plain": [
       "Varying Uncertain Radius:   0%|          | 0/5 [00:00<?, ?it/s]"
      ]
     },
     "metadata": {},
     "output_type": "display_data"
    },
    {
     "data": {
      "application/vnd.jupyter.widget-view+json": {
       "model_id": "",
       "version_major": 2,
       "version_minor": 0
      },
      "text/plain": [
       "Varying Uncertain Radius:   0%|          | 0/5 [00:00<?, ?it/s]"
      ]
     },
     "metadata": {},
     "output_type": "display_data"
    },
    {
     "data": {
      "application/vnd.jupyter.widget-view+json": {
       "model_id": "",
       "version_major": 2,
       "version_minor": 0
      },
      "text/plain": [
       "Varying Uncertain Radius:   0%|          | 0/5 [00:00<?, ?it/s]"
      ]
     },
     "metadata": {},
     "output_type": "display_data"
    },
    {
     "data": {
      "application/vnd.jupyter.widget-view+json": {
       "model_id": "",
       "version_major": 2,
       "version_minor": 0
      },
      "text/plain": [
       "Varying Uncertain Radius:   0%|          | 0/5 [00:00<?, ?it/s]"
      ]
     },
     "metadata": {},
     "output_type": "display_data"
    },
    {
     "data": {
      "application/vnd.jupyter.widget-view+json": {
       "model_id": "",
       "version_major": 2,
       "version_minor": 0
      },
      "text/plain": [
       "Varying Uncertain Radius:   0%|          | 0/5 [00:00<?, ?it/s]"
      ]
     },
     "metadata": {},
     "output_type": "display_data"
    },
    {
     "data": {
      "application/vnd.jupyter.widget-view+json": {
       "model_id": "",
       "version_major": 2,
       "version_minor": 0
      },
      "text/plain": [
       "Rep 3:   0%|          | 0/10 [00:00<?, ?it/s]"
      ]
     },
     "metadata": {},
     "output_type": "display_data"
    },
    {
     "data": {
      "application/vnd.jupyter.widget-view+json": {
       "model_id": "",
       "version_major": 2,
       "version_minor": 0
      },
      "text/plain": [
       "Varying Uncertain Radius:   0%|          | 0/5 [00:00<?, ?it/s]"
      ]
     },
     "metadata": {},
     "output_type": "display_data"
    },
    {
     "data": {
      "application/vnd.jupyter.widget-view+json": {
       "model_id": "",
       "version_major": 2,
       "version_minor": 0
      },
      "text/plain": [
       "Varying Uncertain Radius:   0%|          | 0/5 [00:00<?, ?it/s]"
      ]
     },
     "metadata": {},
     "output_type": "display_data"
    },
    {
     "data": {
      "application/vnd.jupyter.widget-view+json": {
       "model_id": "",
       "version_major": 2,
       "version_minor": 0
      },
      "text/plain": [
       "Varying Uncertain Radius:   0%|          | 0/5 [00:00<?, ?it/s]"
      ]
     },
     "metadata": {},
     "output_type": "display_data"
    },
    {
     "data": {
      "application/vnd.jupyter.widget-view+json": {
       "model_id": "",
       "version_major": 2,
       "version_minor": 0
      },
      "text/plain": [
       "Varying Uncertain Radius:   0%|          | 0/5 [00:00<?, ?it/s]"
      ]
     },
     "metadata": {},
     "output_type": "display_data"
    },
    {
     "data": {
      "application/vnd.jupyter.widget-view+json": {
       "model_id": "",
       "version_major": 2,
       "version_minor": 0
      },
      "text/plain": [
       "Varying Uncertain Radius:   0%|          | 0/5 [00:00<?, ?it/s]"
      ]
     },
     "metadata": {},
     "output_type": "display_data"
    },
    {
     "data": {
      "application/vnd.jupyter.widget-view+json": {
       "model_id": "",
       "version_major": 2,
       "version_minor": 0
      },
      "text/plain": [
       "Varying Uncertain Radius:   0%|          | 0/5 [00:00<?, ?it/s]"
      ]
     },
     "metadata": {},
     "output_type": "display_data"
    },
    {
     "data": {
      "application/vnd.jupyter.widget-view+json": {
       "model_id": "",
       "version_major": 2,
       "version_minor": 0
      },
      "text/plain": [
       "Varying Uncertain Radius:   0%|          | 0/5 [00:00<?, ?it/s]"
      ]
     },
     "metadata": {},
     "output_type": "display_data"
    },
    {
     "data": {
      "application/vnd.jupyter.widget-view+json": {
       "model_id": "",
       "version_major": 2,
       "version_minor": 0
      },
      "text/plain": [
       "Varying Uncertain Radius:   0%|          | 0/5 [00:00<?, ?it/s]"
      ]
     },
     "metadata": {},
     "output_type": "display_data"
    },
    {
     "data": {
      "application/vnd.jupyter.widget-view+json": {
       "model_id": "",
       "version_major": 2,
       "version_minor": 0
      },
      "text/plain": [
       "Varying Uncertain Radius:   0%|          | 0/5 [00:00<?, ?it/s]"
      ]
     },
     "metadata": {},
     "output_type": "display_data"
    },
    {
     "data": {
      "application/vnd.jupyter.widget-view+json": {
       "model_id": "",
       "version_major": 2,
       "version_minor": 0
      },
      "text/plain": [
       "Varying Uncertain Radius:   0%|          | 0/5 [00:00<?, ?it/s]"
      ]
     },
     "metadata": {},
     "output_type": "display_data"
    },
    {
     "data": {
      "application/vnd.jupyter.widget-view+json": {
       "model_id": "",
       "version_major": 2,
       "version_minor": 0
      },
      "text/plain": [
       "Rep 4:   0%|          | 0/10 [00:00<?, ?it/s]"
      ]
     },
     "metadata": {},
     "output_type": "display_data"
    },
    {
     "data": {
      "application/vnd.jupyter.widget-view+json": {
       "model_id": "",
       "version_major": 2,
       "version_minor": 0
      },
      "text/plain": [
       "Varying Uncertain Radius:   0%|          | 0/5 [00:00<?, ?it/s]"
      ]
     },
     "metadata": {},
     "output_type": "display_data"
    },
    {
     "data": {
      "application/vnd.jupyter.widget-view+json": {
       "model_id": "",
       "version_major": 2,
       "version_minor": 0
      },
      "text/plain": [
       "Varying Uncertain Radius:   0%|          | 0/5 [00:00<?, ?it/s]"
      ]
     },
     "metadata": {},
     "output_type": "display_data"
    },
    {
     "data": {
      "application/vnd.jupyter.widget-view+json": {
       "model_id": "",
       "version_major": 2,
       "version_minor": 0
      },
      "text/plain": [
       "Varying Uncertain Radius:   0%|          | 0/5 [00:00<?, ?it/s]"
      ]
     },
     "metadata": {},
     "output_type": "display_data"
    },
    {
     "data": {
      "application/vnd.jupyter.widget-view+json": {
       "model_id": "",
       "version_major": 2,
       "version_minor": 0
      },
      "text/plain": [
       "Varying Uncertain Radius:   0%|          | 0/5 [00:00<?, ?it/s]"
      ]
     },
     "metadata": {},
     "output_type": "display_data"
    },
    {
     "data": {
      "application/vnd.jupyter.widget-view+json": {
       "model_id": "",
       "version_major": 2,
       "version_minor": 0
      },
      "text/plain": [
       "Varying Uncertain Radius:   0%|          | 0/5 [00:00<?, ?it/s]"
      ]
     },
     "metadata": {},
     "output_type": "display_data"
    },
    {
     "data": {
      "application/vnd.jupyter.widget-view+json": {
       "model_id": "",
       "version_major": 2,
       "version_minor": 0
      },
      "text/plain": [
       "Varying Uncertain Radius:   0%|          | 0/5 [00:00<?, ?it/s]"
      ]
     },
     "metadata": {},
     "output_type": "display_data"
    },
    {
     "data": {
      "application/vnd.jupyter.widget-view+json": {
       "model_id": "",
       "version_major": 2,
       "version_minor": 0
      },
      "text/plain": [
       "Varying Uncertain Radius:   0%|          | 0/5 [00:00<?, ?it/s]"
      ]
     },
     "metadata": {},
     "output_type": "display_data"
    },
    {
     "data": {
      "application/vnd.jupyter.widget-view+json": {
       "model_id": "",
       "version_major": 2,
       "version_minor": 0
      },
      "text/plain": [
       "Varying Uncertain Radius:   0%|          | 0/5 [00:00<?, ?it/s]"
      ]
     },
     "metadata": {},
     "output_type": "display_data"
    },
    {
     "data": {
      "application/vnd.jupyter.widget-view+json": {
       "model_id": "",
       "version_major": 2,
       "version_minor": 0
      },
      "text/plain": [
       "Varying Uncertain Radius:   0%|          | 0/5 [00:00<?, ?it/s]"
      ]
     },
     "metadata": {},
     "output_type": "display_data"
    },
    {
     "data": {
      "application/vnd.jupyter.widget-view+json": {
       "model_id": "",
       "version_major": 2,
       "version_minor": 0
      },
      "text/plain": [
       "Varying Uncertain Radius:   0%|          | 0/5 [00:00<?, ?it/s]"
      ]
     },
     "metadata": {},
     "output_type": "display_data"
    },
    {
     "data": {
      "application/vnd.jupyter.widget-view+json": {
       "model_id": "",
       "version_major": 2,
       "version_minor": 0
      },
      "text/plain": [
       "Rep 5:   0%|          | 0/10 [00:00<?, ?it/s]"
      ]
     },
     "metadata": {},
     "output_type": "display_data"
    },
    {
     "data": {
      "application/vnd.jupyter.widget-view+json": {
       "model_id": "",
       "version_major": 2,
       "version_minor": 0
      },
      "text/plain": [
       "Varying Uncertain Radius:   0%|          | 0/5 [00:00<?, ?it/s]"
      ]
     },
     "metadata": {},
     "output_type": "display_data"
    },
    {
     "data": {
      "application/vnd.jupyter.widget-view+json": {
       "model_id": "",
       "version_major": 2,
       "version_minor": 0
      },
      "text/plain": [
       "Varying Uncertain Radius:   0%|          | 0/5 [00:00<?, ?it/s]"
      ]
     },
     "metadata": {},
     "output_type": "display_data"
    },
    {
     "data": {
      "application/vnd.jupyter.widget-view+json": {
       "model_id": "",
       "version_major": 2,
       "version_minor": 0
      },
      "text/plain": [
       "Varying Uncertain Radius:   0%|          | 0/5 [00:00<?, ?it/s]"
      ]
     },
     "metadata": {},
     "output_type": "display_data"
    },
    {
     "data": {
      "application/vnd.jupyter.widget-view+json": {
       "model_id": "",
       "version_major": 2,
       "version_minor": 0
      },
      "text/plain": [
       "Varying Uncertain Radius:   0%|          | 0/5 [00:00<?, ?it/s]"
      ]
     },
     "metadata": {},
     "output_type": "display_data"
    },
    {
     "data": {
      "application/vnd.jupyter.widget-view+json": {
       "model_id": "c7cce0d204d3471fac5b1976220b6aae",
       "version_major": 2,
       "version_minor": 0
      },
      "text/plain": [
       "Varying Uncertain Radius:   0%|          | 0/5 [00:00<?, ?it/s]"
      ]
     },
     "metadata": {},
     "output_type": "display_data"
    },
    {
     "data": {
      "application/vnd.jupyter.widget-view+json": {
       "model_id": "89bdaad4deef42af8a33c1d459bd0fe6",
       "version_major": 2,
       "version_minor": 0
      },
      "text/plain": [
       "Varying Uncertain Radius:   0%|          | 0/5 [00:00<?, ?it/s]"
      ]
     },
     "metadata": {},
     "output_type": "display_data"
    },
    {
     "data": {
      "application/vnd.jupyter.widget-view+json": {
       "model_id": "a2d26088f4ec41e8bf65888611b41fca",
       "version_major": 2,
       "version_minor": 0
      },
      "text/plain": [
       "Varying Uncertain Radius:   0%|          | 0/5 [00:00<?, ?it/s]"
      ]
     },
     "metadata": {},
     "output_type": "display_data"
    },
    {
     "data": {
      "application/vnd.jupyter.widget-view+json": {
       "model_id": "3fec3a30fbcc4ddc87b57c0dd5f68ce1",
       "version_major": 2,
       "version_minor": 0
      },
      "text/plain": [
       "Varying Uncertain Radius:   0%|          | 0/5 [00:00<?, ?it/s]"
      ]
     },
     "metadata": {},
     "output_type": "display_data"
    },
    {
     "data": {
      "application/vnd.jupyter.widget-view+json": {
       "model_id": "8514857249984cbcb030d0dae4263031",
       "version_major": 2,
       "version_minor": 0
      },
      "text/plain": [
       "Varying Uncertain Radius:   0%|          | 0/5 [00:00<?, ?it/s]"
      ]
     },
     "metadata": {},
     "output_type": "display_data"
    },
    {
     "data": {
      "application/vnd.jupyter.widget-view+json": {
       "model_id": "edfb5192de2b4a31bbba15c3d53d3e66",
       "version_major": 2,
       "version_minor": 0
      },
      "text/plain": [
       "Varying Uncertain Radius:   0%|          | 0/5 [00:00<?, ?it/s]"
      ]
     },
     "metadata": {},
     "output_type": "display_data"
    }
   ],
   "source": [
    "robustness_dicts_interval_naive = []\n",
    "for seed in tqdm(range(5), desc=f'Progress'):\n",
    "    # mpg +- 2 is robust\n",
    "    robustness_radius = 2\n",
    "    label_range = (y_train.max()-y_train.min())\n",
    "    ratios = [0.05, 0.10, 0.15, 0.2, 0.25]\n",
    "    uncertain_radiuses = [ratio*label_range for ratio in ratios]\n",
    "    uncertain_pcts = list(np.arange(1, 11)/100)\n",
    "    robustness_dict_interval = dict()\n",
    "    robustness_dict_interval['uncertain_radius'] = uncertain_radiuses\n",
    "    robustness_dict_interval['uncertain_radius_ratios'] = ratios\n",
    "    for uncertain_pct in tqdm(uncertain_pcts, desc=f'Rep {seed+1}', leave=False):\n",
    "        robustness_dict_interval[uncertain_pct] = list()\n",
    "        uncertain_num = int(uncertain_pct*len(y_train))\n",
    "        for uncertain_radius in tqdm(uncertain_radiuses, desc=f'Varying Uncertain Radius', leave=False):\n",
    "            robustness_ratio = compute_robustness_ratio_label_error(X_train, y_train, X_test, y_test, \n",
    "                                                                    uncertain_num=uncertain_num, \n",
    "                                                                    uncertain_radius=uncertain_radius, \n",
    "                                                                    robustness_radius=robustness_radius, \n",
    "                                                                    interval=True, seed=seed)\n",
    "            robustness_dict_interval[uncertain_pct].append(robustness_ratio)\n",
    "    robustness_dicts_interval_naive.append(robustness_dict_interval)"
   ]
  },
  {
   "cell_type": "code",
   "execution_count": 12,
   "id": "e81124e1-91a8-4d1e-81f7-2bd6e4de54a8",
   "metadata": {},
   "outputs": [],
   "source": [
    "lr = LinearRegression()\n",
    "X_train, X_test, y_train, y_test = X_train.reset_index(drop=True) , X_test.reset_index(drop=True) , y_train.reset_index(drop=True) , y_test.reset_index(drop=True)\n",
    "boundary_indices = leave_one_out(X_train, y_train, X_test, y_test, lr, mae, maximize=False)\n",
    "\n",
    "# Decision Tree research: 1% of the data\n",
    "array_indexes = np.zeros(len(X_train))\n",
    "perc = 0.1 * len(X_train)\n",
    "for i in range(0, len(X_train)):\n",
    "    if i <= perc:\n",
    "        index = boundary_indices[i]\n",
    "        array_indexes[index] = 1\n",
    "\n",
    "clf = DecisionTreeClassifier(max_depth=None)\n",
    "clf.fit(X_train, array_indexes)\n",
    "\n",
    "feature_max_values = X_train.max()\n",
    "tree = clf.tree_\n",
    "feature_names = X_train.columns\n",
    "best_thresholds = get_positive_paths(tree, feature_names)\n",
    "thresholds = [thres[best_feature] for thres in best_thresholds if best_feature in thres]"
   ]
  },
  {
   "cell_type": "code",
   "execution_count": 13,
   "id": "106416d8-22f2-47f8-b372-3670840c1252",
   "metadata": {},
   "outputs": [
    {
     "data": {
      "application/vnd.jupyter.widget-view+json": {
       "model_id": "e1806ef50c644ca2972a36ff9db52a61",
       "version_major": 2,
       "version_minor": 0
      },
      "text/plain": [
       "Progess:   0%|          | 0/10 [00:00<?, ?it/s]"
      ]
     },
     "metadata": {},
     "output_type": "display_data"
    },
    {
     "data": {
      "application/vnd.jupyter.widget-view+json": {
       "model_id": "fdb9ef85a75e4e8fb9ce395aba1cbfff",
       "version_major": 2,
       "version_minor": 0
      },
      "text/plain": [
       "Varying Uncertain Radius:   0%|          | 0/5 [00:00<?, ?it/s]"
      ]
     },
     "metadata": {},
     "output_type": "display_data"
    },
    {
     "data": {
      "application/vnd.jupyter.widget-view+json": {
       "model_id": "00e2b7c2dd524b339948c26bca062957",
       "version_major": 2,
       "version_minor": 0
      },
      "text/plain": [
       "Varying Uncertain Radius:   0%|          | 0/5 [00:00<?, ?it/s]"
      ]
     },
     "metadata": {},
     "output_type": "display_data"
    },
    {
     "data": {
      "application/vnd.jupyter.widget-view+json": {
       "model_id": "3107db67aadb4ba9b524cdd12b51ccf1",
       "version_major": 2,
       "version_minor": 0
      },
      "text/plain": [
       "Varying Uncertain Radius:   0%|          | 0/5 [00:00<?, ?it/s]"
      ]
     },
     "metadata": {},
     "output_type": "display_data"
    },
    {
     "data": {
      "application/vnd.jupyter.widget-view+json": {
       "model_id": "74de52fb398e4dbc971ad95e68f6bf43",
       "version_major": 2,
       "version_minor": 0
      },
      "text/plain": [
       "Varying Uncertain Radius:   0%|          | 0/5 [00:00<?, ?it/s]"
      ]
     },
     "metadata": {},
     "output_type": "display_data"
    },
    {
     "data": {
      "application/vnd.jupyter.widget-view+json": {
       "model_id": "2ff04d522dc34cde8cc1d16aa178d1e2",
       "version_major": 2,
       "version_minor": 0
      },
      "text/plain": [
       "Varying Uncertain Radius:   0%|          | 0/5 [00:00<?, ?it/s]"
      ]
     },
     "metadata": {},
     "output_type": "display_data"
    },
    {
     "data": {
      "application/vnd.jupyter.widget-view+json": {
       "model_id": "d2b0ae181cdf4f7b83f34ff19571fb87",
       "version_major": 2,
       "version_minor": 0
      },
      "text/plain": [
       "Varying Uncertain Radius:   0%|          | 0/5 [00:00<?, ?it/s]"
      ]
     },
     "metadata": {},
     "output_type": "display_data"
    },
    {
     "data": {
      "application/vnd.jupyter.widget-view+json": {
       "model_id": "b243359a803f4737bf8d2700efe0ad62",
       "version_major": 2,
       "version_minor": 0
      },
      "text/plain": [
       "Varying Uncertain Radius:   0%|          | 0/5 [00:00<?, ?it/s]"
      ]
     },
     "metadata": {},
     "output_type": "display_data"
    },
    {
     "data": {
      "application/vnd.jupyter.widget-view+json": {
       "model_id": "54f9464b0724469f80753417192e44ff",
       "version_major": 2,
       "version_minor": 0
      },
      "text/plain": [
       "Varying Uncertain Radius:   0%|          | 0/5 [00:00<?, ?it/s]"
      ]
     },
     "metadata": {},
     "output_type": "display_data"
    },
    {
     "data": {
      "application/vnd.jupyter.widget-view+json": {
       "model_id": "53dcfd16c2d841229101de52573723ad",
       "version_major": 2,
       "version_minor": 0
      },
      "text/plain": [
       "Varying Uncertain Radius:   0%|          | 0/5 [00:00<?, ?it/s]"
      ]
     },
     "metadata": {},
     "output_type": "display_data"
    },
    {
     "data": {
      "application/vnd.jupyter.widget-view+json": {
       "model_id": "ea33fb83cde143039ac538e567424243",
       "version_major": 2,
       "version_minor": 0
      },
      "text/plain": [
       "Varying Uncertain Radius:   0%|          | 0/5 [00:00<?, ?it/s]"
      ]
     },
     "metadata": {},
     "output_type": "display_data"
    },
    {
     "data": {
      "application/vnd.jupyter.widget-view+json": {
       "model_id": "a39e9c1a49d74e3a9efa221ae8cb8ad4",
       "version_major": 2,
       "version_minor": 0
      },
      "text/plain": [
       "Progess:   0%|          | 0/10 [00:00<?, ?it/s]"
      ]
     },
     "metadata": {},
     "output_type": "display_data"
    },
    {
     "data": {
      "application/vnd.jupyter.widget-view+json": {
       "model_id": "744ba5506cf8400b8990044c7efaf53a",
       "version_major": 2,
       "version_minor": 0
      },
      "text/plain": [
       "Varying Uncertain Radius:   0%|          | 0/5 [00:00<?, ?it/s]"
      ]
     },
     "metadata": {},
     "output_type": "display_data"
    },
    {
     "data": {
      "application/vnd.jupyter.widget-view+json": {
       "model_id": "7b7623a4fbc54883ac70712331466c01",
       "version_major": 2,
       "version_minor": 0
      },
      "text/plain": [
       "Varying Uncertain Radius:   0%|          | 0/5 [00:00<?, ?it/s]"
      ]
     },
     "metadata": {},
     "output_type": "display_data"
    },
    {
     "data": {
      "application/vnd.jupyter.widget-view+json": {
       "model_id": "ff25778c77564eecaf30397038894fa7",
       "version_major": 2,
       "version_minor": 0
      },
      "text/plain": [
       "Varying Uncertain Radius:   0%|          | 0/5 [00:00<?, ?it/s]"
      ]
     },
     "metadata": {},
     "output_type": "display_data"
    },
    {
     "data": {
      "application/vnd.jupyter.widget-view+json": {
       "model_id": "2dd7d8bc6fea432cb0728a80604e6172",
       "version_major": 2,
       "version_minor": 0
      },
      "text/plain": [
       "Varying Uncertain Radius:   0%|          | 0/5 [00:00<?, ?it/s]"
      ]
     },
     "metadata": {},
     "output_type": "display_data"
    },
    {
     "data": {
      "application/vnd.jupyter.widget-view+json": {
       "model_id": "9207e353d2d44b38b69150fcf9d5060b",
       "version_major": 2,
       "version_minor": 0
      },
      "text/plain": [
       "Varying Uncertain Radius:   0%|          | 0/5 [00:00<?, ?it/s]"
      ]
     },
     "metadata": {},
     "output_type": "display_data"
    },
    {
     "data": {
      "application/vnd.jupyter.widget-view+json": {
       "model_id": "6d71c705829b47ee91bc09d04988146a",
       "version_major": 2,
       "version_minor": 0
      },
      "text/plain": [
       "Varying Uncertain Radius:   0%|          | 0/5 [00:00<?, ?it/s]"
      ]
     },
     "metadata": {},
     "output_type": "display_data"
    },
    {
     "data": {
      "application/vnd.jupyter.widget-view+json": {
       "model_id": "e2553c44cb8841f5a83430281b4a4cc0",
       "version_major": 2,
       "version_minor": 0
      },
      "text/plain": [
       "Varying Uncertain Radius:   0%|          | 0/5 [00:00<?, ?it/s]"
      ]
     },
     "metadata": {},
     "output_type": "display_data"
    },
    {
     "data": {
      "application/vnd.jupyter.widget-view+json": {
       "model_id": "d1aec48eee044f518d07ede4b3bec321",
       "version_major": 2,
       "version_minor": 0
      },
      "text/plain": [
       "Varying Uncertain Radius:   0%|          | 0/5 [00:00<?, ?it/s]"
      ]
     },
     "metadata": {},
     "output_type": "display_data"
    },
    {
     "data": {
      "application/vnd.jupyter.widget-view+json": {
       "model_id": "32fd02e5c0c24e3ca6ee2ea9538c35f8",
       "version_major": 2,
       "version_minor": 0
      },
      "text/plain": [
       "Varying Uncertain Radius:   0%|          | 0/5 [00:00<?, ?it/s]"
      ]
     },
     "metadata": {},
     "output_type": "display_data"
    },
    {
     "data": {
      "application/vnd.jupyter.widget-view+json": {
       "model_id": "903ef5e7cb894b53b1016fbf90213ed6",
       "version_major": 2,
       "version_minor": 0
      },
      "text/plain": [
       "Varying Uncertain Radius:   0%|          | 0/5 [00:00<?, ?it/s]"
      ]
     },
     "metadata": {},
     "output_type": "display_data"
    },
    {
     "data": {
      "application/vnd.jupyter.widget-view+json": {
       "model_id": "fde60bd36cf14d4b8547435705e731c7",
       "version_major": 2,
       "version_minor": 0
      },
      "text/plain": [
       "Progess:   0%|          | 0/10 [00:00<?, ?it/s]"
      ]
     },
     "metadata": {},
     "output_type": "display_data"
    },
    {
     "data": {
      "application/vnd.jupyter.widget-view+json": {
       "model_id": "a7edd6c8c30644b4a062d9bf2aa3a133",
       "version_major": 2,
       "version_minor": 0
      },
      "text/plain": [
       "Varying Uncertain Radius:   0%|          | 0/5 [00:00<?, ?it/s]"
      ]
     },
     "metadata": {},
     "output_type": "display_data"
    },
    {
     "data": {
      "application/vnd.jupyter.widget-view+json": {
       "model_id": "60ca59099b62414b94dc6373f74b48fe",
       "version_major": 2,
       "version_minor": 0
      },
      "text/plain": [
       "Varying Uncertain Radius:   0%|          | 0/5 [00:00<?, ?it/s]"
      ]
     },
     "metadata": {},
     "output_type": "display_data"
    },
    {
     "data": {
      "application/vnd.jupyter.widget-view+json": {
       "model_id": "0a5b6413da3e454695117fdc270d0e12",
       "version_major": 2,
       "version_minor": 0
      },
      "text/plain": [
       "Varying Uncertain Radius:   0%|          | 0/5 [00:00<?, ?it/s]"
      ]
     },
     "metadata": {},
     "output_type": "display_data"
    },
    {
     "data": {
      "application/vnd.jupyter.widget-view+json": {
       "model_id": "ef5a0be273304e2db9e181877f5df232",
       "version_major": 2,
       "version_minor": 0
      },
      "text/plain": [
       "Varying Uncertain Radius:   0%|          | 0/5 [00:00<?, ?it/s]"
      ]
     },
     "metadata": {},
     "output_type": "display_data"
    },
    {
     "data": {
      "application/vnd.jupyter.widget-view+json": {
       "model_id": "dba6d4f4ce5b443da224e7744e0c8099",
       "version_major": 2,
       "version_minor": 0
      },
      "text/plain": [
       "Varying Uncertain Radius:   0%|          | 0/5 [00:00<?, ?it/s]"
      ]
     },
     "metadata": {},
     "output_type": "display_data"
    },
    {
     "data": {
      "application/vnd.jupyter.widget-view+json": {
       "model_id": "a730a9659cd34a92bf873910dea3cedc",
       "version_major": 2,
       "version_minor": 0
      },
      "text/plain": [
       "Varying Uncertain Radius:   0%|          | 0/5 [00:00<?, ?it/s]"
      ]
     },
     "metadata": {},
     "output_type": "display_data"
    },
    {
     "data": {
      "application/vnd.jupyter.widget-view+json": {
       "model_id": "68c3caad76934816beab811f77541e7c",
       "version_major": 2,
       "version_minor": 0
      },
      "text/plain": [
       "Varying Uncertain Radius:   0%|          | 0/5 [00:00<?, ?it/s]"
      ]
     },
     "metadata": {},
     "output_type": "display_data"
    },
    {
     "data": {
      "application/vnd.jupyter.widget-view+json": {
       "model_id": "5f882fa3942a4ae886d33b446b74e8fa",
       "version_major": 2,
       "version_minor": 0
      },
      "text/plain": [
       "Varying Uncertain Radius:   0%|          | 0/5 [00:00<?, ?it/s]"
      ]
     },
     "metadata": {},
     "output_type": "display_data"
    },
    {
     "data": {
      "application/vnd.jupyter.widget-view+json": {
       "model_id": "1e33cfcf58f348f5a52aa667ba76a851",
       "version_major": 2,
       "version_minor": 0
      },
      "text/plain": [
       "Varying Uncertain Radius:   0%|          | 0/5 [00:00<?, ?it/s]"
      ]
     },
     "metadata": {},
     "output_type": "display_data"
    },
    {
     "data": {
      "application/vnd.jupyter.widget-view+json": {
       "model_id": "44395872f8f74afd8fdd04746bb27545",
       "version_major": 2,
       "version_minor": 0
      },
      "text/plain": [
       "Varying Uncertain Radius:   0%|          | 0/5 [00:00<?, ?it/s]"
      ]
     },
     "metadata": {},
     "output_type": "display_data"
    },
    {
     "data": {
      "application/vnd.jupyter.widget-view+json": {
       "model_id": "9886ab6e9c5d4054b0df2fc809592214",
       "version_major": 2,
       "version_minor": 0
      },
      "text/plain": [
       "Progess:   0%|          | 0/10 [00:00<?, ?it/s]"
      ]
     },
     "metadata": {},
     "output_type": "display_data"
    },
    {
     "data": {
      "application/vnd.jupyter.widget-view+json": {
       "model_id": "ef4b45cc18c34ec69ab1408f3353c47d",
       "version_major": 2,
       "version_minor": 0
      },
      "text/plain": [
       "Varying Uncertain Radius:   0%|          | 0/5 [00:00<?, ?it/s]"
      ]
     },
     "metadata": {},
     "output_type": "display_data"
    },
    {
     "data": {
      "application/vnd.jupyter.widget-view+json": {
       "model_id": "61733d0044fc44a6af5960ecdb1bf6f4",
       "version_major": 2,
       "version_minor": 0
      },
      "text/plain": [
       "Varying Uncertain Radius:   0%|          | 0/5 [00:00<?, ?it/s]"
      ]
     },
     "metadata": {},
     "output_type": "display_data"
    },
    {
     "data": {
      "application/vnd.jupyter.widget-view+json": {
       "model_id": "f1c8f9e52c9a4ba29ac215ac02239d9f",
       "version_major": 2,
       "version_minor": 0
      },
      "text/plain": [
       "Varying Uncertain Radius:   0%|          | 0/5 [00:00<?, ?it/s]"
      ]
     },
     "metadata": {},
     "output_type": "display_data"
    },
    {
     "data": {
      "application/vnd.jupyter.widget-view+json": {
       "model_id": "14c887428d9e4e4b8f3ac0dd46f9a4fd",
       "version_major": 2,
       "version_minor": 0
      },
      "text/plain": [
       "Varying Uncertain Radius:   0%|          | 0/5 [00:00<?, ?it/s]"
      ]
     },
     "metadata": {},
     "output_type": "display_data"
    },
    {
     "data": {
      "application/vnd.jupyter.widget-view+json": {
       "model_id": "43f8984093d7458095a829a316bd0fb6",
       "version_major": 2,
       "version_minor": 0
      },
      "text/plain": [
       "Varying Uncertain Radius:   0%|          | 0/5 [00:00<?, ?it/s]"
      ]
     },
     "metadata": {},
     "output_type": "display_data"
    },
    {
     "data": {
      "application/vnd.jupyter.widget-view+json": {
       "model_id": "4d6378ba533042a49b2a7e05e8400581",
       "version_major": 2,
       "version_minor": 0
      },
      "text/plain": [
       "Varying Uncertain Radius:   0%|          | 0/5 [00:00<?, ?it/s]"
      ]
     },
     "metadata": {},
     "output_type": "display_data"
    },
    {
     "data": {
      "application/vnd.jupyter.widget-view+json": {
       "model_id": "2e9453e230044a24b6f5c773f743185d",
       "version_major": 2,
       "version_minor": 0
      },
      "text/plain": [
       "Varying Uncertain Radius:   0%|          | 0/5 [00:00<?, ?it/s]"
      ]
     },
     "metadata": {},
     "output_type": "display_data"
    },
    {
     "data": {
      "application/vnd.jupyter.widget-view+json": {
       "model_id": "253c858d969944f3b2cffca6139354f5",
       "version_major": 2,
       "version_minor": 0
      },
      "text/plain": [
       "Varying Uncertain Radius:   0%|          | 0/5 [00:00<?, ?it/s]"
      ]
     },
     "metadata": {},
     "output_type": "display_data"
    },
    {
     "data": {
      "application/vnd.jupyter.widget-view+json": {
       "model_id": "b557555f738040cc9d9064183cf68ec8",
       "version_major": 2,
       "version_minor": 0
      },
      "text/plain": [
       "Varying Uncertain Radius:   0%|          | 0/5 [00:00<?, ?it/s]"
      ]
     },
     "metadata": {},
     "output_type": "display_data"
    },
    {
     "data": {
      "application/vnd.jupyter.widget-view+json": {
       "model_id": "a48f8c99cf2b4603b73cd354b818f357",
       "version_major": 2,
       "version_minor": 0
      },
      "text/plain": [
       "Varying Uncertain Radius:   0%|          | 0/5 [00:00<?, ?it/s]"
      ]
     },
     "metadata": {},
     "output_type": "display_data"
    },
    {
     "data": {
      "application/vnd.jupyter.widget-view+json": {
       "model_id": "ec2e2036d86d4224b4a943d30690137f",
       "version_major": 2,
       "version_minor": 0
      },
      "text/plain": [
       "Progess:   0%|          | 0/10 [00:00<?, ?it/s]"
      ]
     },
     "metadata": {},
     "output_type": "display_data"
    },
    {
     "data": {
      "application/vnd.jupyter.widget-view+json": {
       "model_id": "0700032bf0bd4553a59b9cbaeb06f7ab",
       "version_major": 2,
       "version_minor": 0
      },
      "text/plain": [
       "Varying Uncertain Radius:   0%|          | 0/5 [00:00<?, ?it/s]"
      ]
     },
     "metadata": {},
     "output_type": "display_data"
    },
    {
     "data": {
      "application/vnd.jupyter.widget-view+json": {
       "model_id": "3882f6ff9f8943878fc56403ff028cd5",
       "version_major": 2,
       "version_minor": 0
      },
      "text/plain": [
       "Varying Uncertain Radius:   0%|          | 0/5 [00:00<?, ?it/s]"
      ]
     },
     "metadata": {},
     "output_type": "display_data"
    },
    {
     "data": {
      "application/vnd.jupyter.widget-view+json": {
       "model_id": "a46e3d1b98014255a6ee607a7eb02da3",
       "version_major": 2,
       "version_minor": 0
      },
      "text/plain": [
       "Varying Uncertain Radius:   0%|          | 0/5 [00:00<?, ?it/s]"
      ]
     },
     "metadata": {},
     "output_type": "display_data"
    },
    {
     "data": {
      "application/vnd.jupyter.widget-view+json": {
       "model_id": "aac4f5f83d964518a1c0f0015793825c",
       "version_major": 2,
       "version_minor": 0
      },
      "text/plain": [
       "Varying Uncertain Radius:   0%|          | 0/5 [00:00<?, ?it/s]"
      ]
     },
     "metadata": {},
     "output_type": "display_data"
    },
    {
     "data": {
      "application/vnd.jupyter.widget-view+json": {
       "model_id": "377a658d0e1642f9b5e81a45b1181702",
       "version_major": 2,
       "version_minor": 0
      },
      "text/plain": [
       "Varying Uncertain Radius:   0%|          | 0/5 [00:00<?, ?it/s]"
      ]
     },
     "metadata": {},
     "output_type": "display_data"
    },
    {
     "data": {
      "application/vnd.jupyter.widget-view+json": {
       "model_id": "10cf3381a486409eb4df0f50d1e416af",
       "version_major": 2,
       "version_minor": 0
      },
      "text/plain": [
       "Varying Uncertain Radius:   0%|          | 0/5 [00:00<?, ?it/s]"
      ]
     },
     "metadata": {},
     "output_type": "display_data"
    },
    {
     "data": {
      "application/vnd.jupyter.widget-view+json": {
       "model_id": "d983e15ccb9943b389f6b143fa93acf7",
       "version_major": 2,
       "version_minor": 0
      },
      "text/plain": [
       "Varying Uncertain Radius:   0%|          | 0/5 [00:00<?, ?it/s]"
      ]
     },
     "metadata": {},
     "output_type": "display_data"
    },
    {
     "data": {
      "application/vnd.jupyter.widget-view+json": {
       "model_id": "2d27fc72b07e415ea7a65580d1514175",
       "version_major": 2,
       "version_minor": 0
      },
      "text/plain": [
       "Varying Uncertain Radius:   0%|          | 0/5 [00:00<?, ?it/s]"
      ]
     },
     "metadata": {},
     "output_type": "display_data"
    },
    {
     "data": {
      "application/vnd.jupyter.widget-view+json": {
       "model_id": "c987761096ce423980c3d3ded6a24572",
       "version_major": 2,
       "version_minor": 0
      },
      "text/plain": [
       "Varying Uncertain Radius:   0%|          | 0/5 [00:00<?, ?it/s]"
      ]
     },
     "metadata": {},
     "output_type": "display_data"
    },
    {
     "data": {
      "application/vnd.jupyter.widget-view+json": {
       "model_id": "cbb388aebfe346c79ff4797004ed19e2",
       "version_major": 2,
       "version_minor": 0
      },
      "text/plain": [
       "Varying Uncertain Radius:   0%|          | 0/5 [00:00<?, ?it/s]"
      ]
     },
     "metadata": {},
     "output_type": "display_data"
    }
   ],
   "source": [
    "boundary_indices, bin_edges = discretize_and_sample(X_train, best_feature, thresholds, total_samples=int(0.1 * len(X_train)), num_bins=44)\n",
    "\n",
    "# Testing more extreme uncertain percentages\n",
    "robustness_dicts_linReg_mae = []\n",
    "for seed in range(5):\n",
    "    # mpg +- 2 is robust\n",
    "    robustness_radius = 2\n",
    "    label_range = (y_train.max()-y_train.min())\n",
    "    ratios = [0.05, 0.10, 0.15, 0.2, 0.25]\n",
    "    uncertain_radiuses = [ratio*label_range for ratio in ratios]\n",
    "    uncertain_pcts = list(np.arange(1, 11)/100)\n",
    "    robustness_dict = dict()\n",
    "    robustness_dict['uncertain_radius'] = uncertain_radiuses\n",
    "    robustness_dict['uncertain_radius_ratios'] = ratios\n",
    "    for uncertain_pct in tqdm(uncertain_pcts, desc='Progess'):\n",
    "        robustness_dict[uncertain_pct] = list()\n",
    "        uncertain_num = int(uncertain_pct*len(y_train))\n",
    "        for uncertain_radius in tqdm(uncertain_radiuses, desc=f'Varying Uncertain Radius'):\n",
    "            #print(uncertain_radius)\n",
    "            robustness_ratio = compute_robustness_ratio_sensitive_label_error(X_train, y_train, X_test, y_test, \n",
    "                                                                    uncertain_num=uncertain_num,\n",
    "                                                                    boundary_indices=boundary_indices,\n",
    "                                                                    uncertain_radius=uncertain_radius, \n",
    "                                                                    robustness_radius=robustness_radius, \n",
    "                                                                    interval=False, seed=seed)\n",
    "            robustness_dict[uncertain_pct].append(robustness_ratio)\n",
    "    robustness_dicts_linReg_mae.append(robustness_dict)"
   ]
  },
  {
   "cell_type": "code",
   "execution_count": 14,
   "id": "8a45b597-23da-447a-884a-1308ae60e164",
   "metadata": {},
   "outputs": [
    {
     "data": {
      "application/vnd.jupyter.widget-view+json": {
       "model_id": "3277a02abc4c44cab5f7821954553609",
       "version_major": 2,
       "version_minor": 0
      },
      "text/plain": [
       "Progess:   0%|          | 0/10 [00:00<?, ?it/s]"
      ]
     },
     "metadata": {},
     "output_type": "display_data"
    },
    {
     "data": {
      "application/vnd.jupyter.widget-view+json": {
       "model_id": "7a8249650e284b6fb82085819066d030",
       "version_major": 2,
       "version_minor": 0
      },
      "text/plain": [
       "Varying Uncertain Radius:   0%|          | 0/5 [00:00<?, ?it/s]"
      ]
     },
     "metadata": {},
     "output_type": "display_data"
    },
    {
     "data": {
      "application/vnd.jupyter.widget-view+json": {
       "model_id": "06d193d156d7442bb2d57e1089b1fa5f",
       "version_major": 2,
       "version_minor": 0
      },
      "text/plain": [
       "Varying Uncertain Radius:   0%|          | 0/5 [00:00<?, ?it/s]"
      ]
     },
     "metadata": {},
     "output_type": "display_data"
    },
    {
     "data": {
      "application/vnd.jupyter.widget-view+json": {
       "model_id": "41d41e845a9949eab8e5b8e3a984907c",
       "version_major": 2,
       "version_minor": 0
      },
      "text/plain": [
       "Varying Uncertain Radius:   0%|          | 0/5 [00:00<?, ?it/s]"
      ]
     },
     "metadata": {},
     "output_type": "display_data"
    },
    {
     "data": {
      "application/vnd.jupyter.widget-view+json": {
       "model_id": "dadba02afb3f4f4ab2046c26c79f6021",
       "version_major": 2,
       "version_minor": 0
      },
      "text/plain": [
       "Varying Uncertain Radius:   0%|          | 0/5 [00:00<?, ?it/s]"
      ]
     },
     "metadata": {},
     "output_type": "display_data"
    },
    {
     "data": {
      "application/vnd.jupyter.widget-view+json": {
       "model_id": "50c0f02e14324801ab3af06363be0643",
       "version_major": 2,
       "version_minor": 0
      },
      "text/plain": [
       "Varying Uncertain Radius:   0%|          | 0/5 [00:00<?, ?it/s]"
      ]
     },
     "metadata": {},
     "output_type": "display_data"
    },
    {
     "data": {
      "application/vnd.jupyter.widget-view+json": {
       "model_id": "6f5d28ed78244f69aa8d5453be749669",
       "version_major": 2,
       "version_minor": 0
      },
      "text/plain": [
       "Varying Uncertain Radius:   0%|          | 0/5 [00:00<?, ?it/s]"
      ]
     },
     "metadata": {},
     "output_type": "display_data"
    },
    {
     "data": {
      "application/vnd.jupyter.widget-view+json": {
       "model_id": "4c805a8bbbed418a81fca9b8c96c19ef",
       "version_major": 2,
       "version_minor": 0
      },
      "text/plain": [
       "Varying Uncertain Radius:   0%|          | 0/5 [00:00<?, ?it/s]"
      ]
     },
     "metadata": {},
     "output_type": "display_data"
    },
    {
     "data": {
      "application/vnd.jupyter.widget-view+json": {
       "model_id": "96ad7f4bd063487789ea738e98680078",
       "version_major": 2,
       "version_minor": 0
      },
      "text/plain": [
       "Varying Uncertain Radius:   0%|          | 0/5 [00:00<?, ?it/s]"
      ]
     },
     "metadata": {},
     "output_type": "display_data"
    },
    {
     "data": {
      "application/vnd.jupyter.widget-view+json": {
       "model_id": "3022c5701adf4cfeb1c272d952d6b462",
       "version_major": 2,
       "version_minor": 0
      },
      "text/plain": [
       "Varying Uncertain Radius:   0%|          | 0/5 [00:00<?, ?it/s]"
      ]
     },
     "metadata": {},
     "output_type": "display_data"
    },
    {
     "data": {
      "application/vnd.jupyter.widget-view+json": {
       "model_id": "2aa2382d2f274595977a83b7b242c223",
       "version_major": 2,
       "version_minor": 0
      },
      "text/plain": [
       "Varying Uncertain Radius:   0%|          | 0/5 [00:00<?, ?it/s]"
      ]
     },
     "metadata": {},
     "output_type": "display_data"
    },
    {
     "data": {
      "application/vnd.jupyter.widget-view+json": {
       "model_id": "d0ba0be18d084184b074dec8f298a779",
       "version_major": 2,
       "version_minor": 0
      },
      "text/plain": [
       "Progess:   0%|          | 0/10 [00:00<?, ?it/s]"
      ]
     },
     "metadata": {},
     "output_type": "display_data"
    },
    {
     "data": {
      "application/vnd.jupyter.widget-view+json": {
       "model_id": "dcd739dde65044158052c447cb3af944",
       "version_major": 2,
       "version_minor": 0
      },
      "text/plain": [
       "Varying Uncertain Radius:   0%|          | 0/5 [00:00<?, ?it/s]"
      ]
     },
     "metadata": {},
     "output_type": "display_data"
    },
    {
     "data": {
      "application/vnd.jupyter.widget-view+json": {
       "model_id": "77d8a6336c474f30963e254a7f324768",
       "version_major": 2,
       "version_minor": 0
      },
      "text/plain": [
       "Varying Uncertain Radius:   0%|          | 0/5 [00:00<?, ?it/s]"
      ]
     },
     "metadata": {},
     "output_type": "display_data"
    },
    {
     "data": {
      "application/vnd.jupyter.widget-view+json": {
       "model_id": "a8210138f88c4c1c8a6fdfab6aaa2620",
       "version_major": 2,
       "version_minor": 0
      },
      "text/plain": [
       "Varying Uncertain Radius:   0%|          | 0/5 [00:00<?, ?it/s]"
      ]
     },
     "metadata": {},
     "output_type": "display_data"
    },
    {
     "data": {
      "application/vnd.jupyter.widget-view+json": {
       "model_id": "96f1cfea865a4fdaad7cdb58b893b2b4",
       "version_major": 2,
       "version_minor": 0
      },
      "text/plain": [
       "Varying Uncertain Radius:   0%|          | 0/5 [00:00<?, ?it/s]"
      ]
     },
     "metadata": {},
     "output_type": "display_data"
    },
    {
     "data": {
      "application/vnd.jupyter.widget-view+json": {
       "model_id": "3ccd84bc72b04a7fb1a4d60ea85dbe89",
       "version_major": 2,
       "version_minor": 0
      },
      "text/plain": [
       "Varying Uncertain Radius:   0%|          | 0/5 [00:00<?, ?it/s]"
      ]
     },
     "metadata": {},
     "output_type": "display_data"
    },
    {
     "data": {
      "application/vnd.jupyter.widget-view+json": {
       "model_id": "1a0da8f7e59343fca5d889a31ebd137b",
       "version_major": 2,
       "version_minor": 0
      },
      "text/plain": [
       "Varying Uncertain Radius:   0%|          | 0/5 [00:00<?, ?it/s]"
      ]
     },
     "metadata": {},
     "output_type": "display_data"
    },
    {
     "data": {
      "application/vnd.jupyter.widget-view+json": {
       "model_id": "2ce93c9b3cb642e296c6c21410a972af",
       "version_major": 2,
       "version_minor": 0
      },
      "text/plain": [
       "Varying Uncertain Radius:   0%|          | 0/5 [00:00<?, ?it/s]"
      ]
     },
     "metadata": {},
     "output_type": "display_data"
    },
    {
     "data": {
      "application/vnd.jupyter.widget-view+json": {
       "model_id": "d71dfe5bb48046aaae5bf77ed015cd7e",
       "version_major": 2,
       "version_minor": 0
      },
      "text/plain": [
       "Varying Uncertain Radius:   0%|          | 0/5 [00:00<?, ?it/s]"
      ]
     },
     "metadata": {},
     "output_type": "display_data"
    },
    {
     "data": {
      "application/vnd.jupyter.widget-view+json": {
       "model_id": "133034ec9eed447992cd656264b7cccb",
       "version_major": 2,
       "version_minor": 0
      },
      "text/plain": [
       "Varying Uncertain Radius:   0%|          | 0/5 [00:00<?, ?it/s]"
      ]
     },
     "metadata": {},
     "output_type": "display_data"
    },
    {
     "data": {
      "application/vnd.jupyter.widget-view+json": {
       "model_id": "56dcc2c8dbd644e0827d8d9257f77162",
       "version_major": 2,
       "version_minor": 0
      },
      "text/plain": [
       "Varying Uncertain Radius:   0%|          | 0/5 [00:00<?, ?it/s]"
      ]
     },
     "metadata": {},
     "output_type": "display_data"
    },
    {
     "data": {
      "application/vnd.jupyter.widget-view+json": {
       "model_id": "239a54cf20d1403e8403536104bc1656",
       "version_major": 2,
       "version_minor": 0
      },
      "text/plain": [
       "Progess:   0%|          | 0/10 [00:00<?, ?it/s]"
      ]
     },
     "metadata": {},
     "output_type": "display_data"
    },
    {
     "data": {
      "application/vnd.jupyter.widget-view+json": {
       "model_id": "877bf4f3f35548899bbe355e1e8c43cb",
       "version_major": 2,
       "version_minor": 0
      },
      "text/plain": [
       "Varying Uncertain Radius:   0%|          | 0/5 [00:00<?, ?it/s]"
      ]
     },
     "metadata": {},
     "output_type": "display_data"
    },
    {
     "data": {
      "application/vnd.jupyter.widget-view+json": {
       "model_id": "ef5bfd6a6ba842398f2687ce8dd78b24",
       "version_major": 2,
       "version_minor": 0
      },
      "text/plain": [
       "Varying Uncertain Radius:   0%|          | 0/5 [00:00<?, ?it/s]"
      ]
     },
     "metadata": {},
     "output_type": "display_data"
    },
    {
     "data": {
      "application/vnd.jupyter.widget-view+json": {
       "model_id": "cce8a8cc520f465bb6192a772f11c3bb",
       "version_major": 2,
       "version_minor": 0
      },
      "text/plain": [
       "Varying Uncertain Radius:   0%|          | 0/5 [00:00<?, ?it/s]"
      ]
     },
     "metadata": {},
     "output_type": "display_data"
    },
    {
     "data": {
      "application/vnd.jupyter.widget-view+json": {
       "model_id": "5de457be71ed473884227bf1201970eb",
       "version_major": 2,
       "version_minor": 0
      },
      "text/plain": [
       "Varying Uncertain Radius:   0%|          | 0/5 [00:00<?, ?it/s]"
      ]
     },
     "metadata": {},
     "output_type": "display_data"
    },
    {
     "data": {
      "application/vnd.jupyter.widget-view+json": {
       "model_id": "912a59475c1e47bcaa964d0eb499ead4",
       "version_major": 2,
       "version_minor": 0
      },
      "text/plain": [
       "Varying Uncertain Radius:   0%|          | 0/5 [00:00<?, ?it/s]"
      ]
     },
     "metadata": {},
     "output_type": "display_data"
    },
    {
     "data": {
      "application/vnd.jupyter.widget-view+json": {
       "model_id": "ec841b92e2b34fb9a984b0bc7660a2bb",
       "version_major": 2,
       "version_minor": 0
      },
      "text/plain": [
       "Varying Uncertain Radius:   0%|          | 0/5 [00:00<?, ?it/s]"
      ]
     },
     "metadata": {},
     "output_type": "display_data"
    },
    {
     "data": {
      "application/vnd.jupyter.widget-view+json": {
       "model_id": "b8f84274955c46f2aea300e03a05d8f2",
       "version_major": 2,
       "version_minor": 0
      },
      "text/plain": [
       "Varying Uncertain Radius:   0%|          | 0/5 [00:00<?, ?it/s]"
      ]
     },
     "metadata": {},
     "output_type": "display_data"
    },
    {
     "data": {
      "application/vnd.jupyter.widget-view+json": {
       "model_id": "5faec9bb8d4a4393b746b890c24e1883",
       "version_major": 2,
       "version_minor": 0
      },
      "text/plain": [
       "Varying Uncertain Radius:   0%|          | 0/5 [00:00<?, ?it/s]"
      ]
     },
     "metadata": {},
     "output_type": "display_data"
    },
    {
     "data": {
      "application/vnd.jupyter.widget-view+json": {
       "model_id": "62caab10b8224b9f915f43f6fa1995ea",
       "version_major": 2,
       "version_minor": 0
      },
      "text/plain": [
       "Varying Uncertain Radius:   0%|          | 0/5 [00:00<?, ?it/s]"
      ]
     },
     "metadata": {},
     "output_type": "display_data"
    },
    {
     "data": {
      "application/vnd.jupyter.widget-view+json": {
       "model_id": "e91aaaa7738244dd808668d62e132e83",
       "version_major": 2,
       "version_minor": 0
      },
      "text/plain": [
       "Varying Uncertain Radius:   0%|          | 0/5 [00:00<?, ?it/s]"
      ]
     },
     "metadata": {},
     "output_type": "display_data"
    },
    {
     "data": {
      "application/vnd.jupyter.widget-view+json": {
       "model_id": "cf795c3b47a64d53acb89bf2f8304c04",
       "version_major": 2,
       "version_minor": 0
      },
      "text/plain": [
       "Progess:   0%|          | 0/10 [00:00<?, ?it/s]"
      ]
     },
     "metadata": {},
     "output_type": "display_data"
    },
    {
     "data": {
      "application/vnd.jupyter.widget-view+json": {
       "model_id": "bacc3b7660a5484ab199ea2263d7832b",
       "version_major": 2,
       "version_minor": 0
      },
      "text/plain": [
       "Varying Uncertain Radius:   0%|          | 0/5 [00:00<?, ?it/s]"
      ]
     },
     "metadata": {},
     "output_type": "display_data"
    },
    {
     "data": {
      "application/vnd.jupyter.widget-view+json": {
       "model_id": "fbcd9f3bd3964c8393652e4c6bfc3d59",
       "version_major": 2,
       "version_minor": 0
      },
      "text/plain": [
       "Varying Uncertain Radius:   0%|          | 0/5 [00:00<?, ?it/s]"
      ]
     },
     "metadata": {},
     "output_type": "display_data"
    },
    {
     "data": {
      "application/vnd.jupyter.widget-view+json": {
       "model_id": "a3aab0fdd5fd4d37b088ee5ff6a8e846",
       "version_major": 2,
       "version_minor": 0
      },
      "text/plain": [
       "Varying Uncertain Radius:   0%|          | 0/5 [00:00<?, ?it/s]"
      ]
     },
     "metadata": {},
     "output_type": "display_data"
    },
    {
     "data": {
      "application/vnd.jupyter.widget-view+json": {
       "model_id": "b938fcb812b640c884f9ef090e84b9e3",
       "version_major": 2,
       "version_minor": 0
      },
      "text/plain": [
       "Varying Uncertain Radius:   0%|          | 0/5 [00:00<?, ?it/s]"
      ]
     },
     "metadata": {},
     "output_type": "display_data"
    },
    {
     "data": {
      "application/vnd.jupyter.widget-view+json": {
       "model_id": "da110595d0d0460098089ba16d8db3cb",
       "version_major": 2,
       "version_minor": 0
      },
      "text/plain": [
       "Varying Uncertain Radius:   0%|          | 0/5 [00:00<?, ?it/s]"
      ]
     },
     "metadata": {},
     "output_type": "display_data"
    },
    {
     "data": {
      "application/vnd.jupyter.widget-view+json": {
       "model_id": "98faf0a011a94c169f41790a64bdb142",
       "version_major": 2,
       "version_minor": 0
      },
      "text/plain": [
       "Varying Uncertain Radius:   0%|          | 0/5 [00:00<?, ?it/s]"
      ]
     },
     "metadata": {},
     "output_type": "display_data"
    },
    {
     "data": {
      "application/vnd.jupyter.widget-view+json": {
       "model_id": "6eee67781e964c80947ed4abda73e262",
       "version_major": 2,
       "version_minor": 0
      },
      "text/plain": [
       "Varying Uncertain Radius:   0%|          | 0/5 [00:00<?, ?it/s]"
      ]
     },
     "metadata": {},
     "output_type": "display_data"
    },
    {
     "data": {
      "application/vnd.jupyter.widget-view+json": {
       "model_id": "a8c6a50c470a45489c468de8b204b8af",
       "version_major": 2,
       "version_minor": 0
      },
      "text/plain": [
       "Varying Uncertain Radius:   0%|          | 0/5 [00:00<?, ?it/s]"
      ]
     },
     "metadata": {},
     "output_type": "display_data"
    },
    {
     "data": {
      "application/vnd.jupyter.widget-view+json": {
       "model_id": "6f97887d07294b988b20c72c20d380bd",
       "version_major": 2,
       "version_minor": 0
      },
      "text/plain": [
       "Varying Uncertain Radius:   0%|          | 0/5 [00:00<?, ?it/s]"
      ]
     },
     "metadata": {},
     "output_type": "display_data"
    },
    {
     "data": {
      "application/vnd.jupyter.widget-view+json": {
       "model_id": "26aba0b08e7c4614abf0634477510555",
       "version_major": 2,
       "version_minor": 0
      },
      "text/plain": [
       "Varying Uncertain Radius:   0%|          | 0/5 [00:00<?, ?it/s]"
      ]
     },
     "metadata": {},
     "output_type": "display_data"
    },
    {
     "data": {
      "application/vnd.jupyter.widget-view+json": {
       "model_id": "43724138d92c4d7d97a618cb61bbf2b0",
       "version_major": 2,
       "version_minor": 0
      },
      "text/plain": [
       "Progess:   0%|          | 0/10 [00:00<?, ?it/s]"
      ]
     },
     "metadata": {},
     "output_type": "display_data"
    },
    {
     "data": {
      "application/vnd.jupyter.widget-view+json": {
       "model_id": "60241c9d25f3464db2ab0ddd6b69e2d4",
       "version_major": 2,
       "version_minor": 0
      },
      "text/plain": [
       "Varying Uncertain Radius:   0%|          | 0/5 [00:00<?, ?it/s]"
      ]
     },
     "metadata": {},
     "output_type": "display_data"
    },
    {
     "data": {
      "application/vnd.jupyter.widget-view+json": {
       "model_id": "06663ba17c9a4aeb8a39a3929d350914",
       "version_major": 2,
       "version_minor": 0
      },
      "text/plain": [
       "Varying Uncertain Radius:   0%|          | 0/5 [00:00<?, ?it/s]"
      ]
     },
     "metadata": {},
     "output_type": "display_data"
    },
    {
     "data": {
      "application/vnd.jupyter.widget-view+json": {
       "model_id": "8dbd3c4d09784d939a343e940137fe82",
       "version_major": 2,
       "version_minor": 0
      },
      "text/plain": [
       "Varying Uncertain Radius:   0%|          | 0/5 [00:00<?, ?it/s]"
      ]
     },
     "metadata": {},
     "output_type": "display_data"
    },
    {
     "data": {
      "application/vnd.jupyter.widget-view+json": {
       "model_id": "6d5d9fc67e9b4e72ac34d57bae5b2d65",
       "version_major": 2,
       "version_minor": 0
      },
      "text/plain": [
       "Varying Uncertain Radius:   0%|          | 0/5 [00:00<?, ?it/s]"
      ]
     },
     "metadata": {},
     "output_type": "display_data"
    },
    {
     "data": {
      "application/vnd.jupyter.widget-view+json": {
       "model_id": "fb259d9295e6436697a264279e8a4853",
       "version_major": 2,
       "version_minor": 0
      },
      "text/plain": [
       "Varying Uncertain Radius:   0%|          | 0/5 [00:00<?, ?it/s]"
      ]
     },
     "metadata": {},
     "output_type": "display_data"
    },
    {
     "data": {
      "application/vnd.jupyter.widget-view+json": {
       "model_id": "1572d1d8d7ec44ac8bf65a6df74d827b",
       "version_major": 2,
       "version_minor": 0
      },
      "text/plain": [
       "Varying Uncertain Radius:   0%|          | 0/5 [00:00<?, ?it/s]"
      ]
     },
     "metadata": {},
     "output_type": "display_data"
    },
    {
     "data": {
      "application/vnd.jupyter.widget-view+json": {
       "model_id": "f445b998ff4348a185c0f9e2868123db",
       "version_major": 2,
       "version_minor": 0
      },
      "text/plain": [
       "Varying Uncertain Radius:   0%|          | 0/5 [00:00<?, ?it/s]"
      ]
     },
     "metadata": {},
     "output_type": "display_data"
    },
    {
     "data": {
      "application/vnd.jupyter.widget-view+json": {
       "model_id": "5d938d51b8214ece9089c27dea249e1a",
       "version_major": 2,
       "version_minor": 0
      },
      "text/plain": [
       "Varying Uncertain Radius:   0%|          | 0/5 [00:00<?, ?it/s]"
      ]
     },
     "metadata": {},
     "output_type": "display_data"
    },
    {
     "data": {
      "application/vnd.jupyter.widget-view+json": {
       "model_id": "64259af1e8e5436ab1885fda45730204",
       "version_major": 2,
       "version_minor": 0
      },
      "text/plain": [
       "Varying Uncertain Radius:   0%|          | 0/5 [00:00<?, ?it/s]"
      ]
     },
     "metadata": {},
     "output_type": "display_data"
    },
    {
     "data": {
      "application/vnd.jupyter.widget-view+json": {
       "model_id": "49370195495741d3b3fc8ba7407967d1",
       "version_major": 2,
       "version_minor": 0
      },
      "text/plain": [
       "Varying Uncertain Radius:   0%|          | 0/5 [00:00<?, ?it/s]"
      ]
     },
     "metadata": {},
     "output_type": "display_data"
    }
   ],
   "source": [
    "# Testing more extreme uncertain percentages\n",
    "robustness_dicts_interval_linReg_mae = []\n",
    "for seed in range(5):\n",
    "    # mpg +- 2 is robust\n",
    "    robustness_radius = 2\n",
    "    label_range = (y_train.max()-y_train.min())\n",
    "    ratios = [0.05, 0.10, 0.15, 0.2, 0.25]\n",
    "    uncertain_radiuses = [ratio*label_range for ratio in ratios]\n",
    "    uncertain_pcts = list(np.arange(1, 11)/100)\n",
    "    robustness_dict_interval = dict()\n",
    "    robustness_dict_interval['uncertain_radius'] = uncertain_radiuses\n",
    "    robustness_dict_interval['uncertain_radius_ratios'] = ratios\n",
    "    for uncertain_pct in tqdm(uncertain_pcts, desc='Progess'):\n",
    "        robustness_dict_interval[uncertain_pct] = list()\n",
    "        uncertain_num = int(uncertain_pct*len(y_train))\n",
    "        for uncertain_radius in tqdm(uncertain_radiuses, desc=f'Varying Uncertain Radius'):\n",
    "            robustness_ratio = compute_robustness_ratio_sensitive_label_error(X_train, y_train, X_test, y_test, \n",
    "                                                                    uncertain_num=uncertain_num,\n",
    "                                                                    boundary_indices=boundary_indices,\n",
    "                                                                    uncertain_radius=uncertain_radius, \n",
    "                                                                    robustness_radius=robustness_radius, \n",
    "                                                                    interval=True, seed=seed)\n",
    "            robustness_dict_interval[uncertain_pct].append(robustness_ratio)\n",
    "    robustness_dicts_interval_linReg_mae.append(robustness_dict_interval)"
   ]
  },
  {
   "cell_type": "code",
   "execution_count": 15,
   "id": "dcee0c54-13f4-40a3-a495-3b4ff0450b1d",
   "metadata": {},
   "outputs": [],
   "source": [
    "lr = LinearRegression()\n",
    "X_train, X_test, y_train, y_test = X_train.reset_index(drop=True) , X_test.reset_index(drop=True) , y_train.reset_index(drop=True) , y_test.reset_index(drop=True)\n",
    "boundary_indices = leave_one_out(X_train, y_train, X_test, y_test, lr, mse, maximize=False)\n",
    "\n",
    "# Decision Tree research: 1% of the data\n",
    "array_indexes = np.zeros(len(X_train))\n",
    "perc = 0.1 * len(X_train)\n",
    "for i in range(0, len(X_train)):\n",
    "    if i <= perc:\n",
    "        index = boundary_indices[i]\n",
    "        array_indexes[index] = 1\n",
    "\n",
    "clf = DecisionTreeClassifier(max_depth=None)\n",
    "clf.fit(X_train, array_indexes)\n",
    "\n",
    "feature_max_values = X_train.max()\n",
    "tree = clf.tree_\n",
    "feature_names = X_train.columns\n",
    "best_thresholds = get_positive_paths(tree, feature_names)\n",
    "thresholds = [thres[best_feature] for thres in best_thresholds if best_feature in thres]"
   ]
  },
  {
   "cell_type": "code",
   "execution_count": 16,
   "id": "184063f4-4603-4ede-a867-522de7ede505",
   "metadata": {},
   "outputs": [
    {
     "data": {
      "application/vnd.jupyter.widget-view+json": {
       "model_id": "9cf0933e5f1743938c5c2fe2b08c0e79",
       "version_major": 2,
       "version_minor": 0
      },
      "text/plain": [
       "Progess:   0%|          | 0/10 [00:00<?, ?it/s]"
      ]
     },
     "metadata": {},
     "output_type": "display_data"
    },
    {
     "data": {
      "application/vnd.jupyter.widget-view+json": {
       "model_id": "534e542c1f8f4308a364926ac26e60f4",
       "version_major": 2,
       "version_minor": 0
      },
      "text/plain": [
       "Varying Uncertain Radius:   0%|          | 0/5 [00:00<?, ?it/s]"
      ]
     },
     "metadata": {},
     "output_type": "display_data"
    },
    {
     "data": {
      "application/vnd.jupyter.widget-view+json": {
       "model_id": "5adf43bbd56a4fa3967b4892c242925b",
       "version_major": 2,
       "version_minor": 0
      },
      "text/plain": [
       "Varying Uncertain Radius:   0%|          | 0/5 [00:00<?, ?it/s]"
      ]
     },
     "metadata": {},
     "output_type": "display_data"
    },
    {
     "data": {
      "application/vnd.jupyter.widget-view+json": {
       "model_id": "f6d35e41a6134d0982db4b56ba4932b3",
       "version_major": 2,
       "version_minor": 0
      },
      "text/plain": [
       "Varying Uncertain Radius:   0%|          | 0/5 [00:00<?, ?it/s]"
      ]
     },
     "metadata": {},
     "output_type": "display_data"
    },
    {
     "data": {
      "application/vnd.jupyter.widget-view+json": {
       "model_id": "58339237bdbb452bb7661328ecc1f3cc",
       "version_major": 2,
       "version_minor": 0
      },
      "text/plain": [
       "Varying Uncertain Radius:   0%|          | 0/5 [00:00<?, ?it/s]"
      ]
     },
     "metadata": {},
     "output_type": "display_data"
    },
    {
     "data": {
      "application/vnd.jupyter.widget-view+json": {
       "model_id": "e5d1944c0ee64ce1ad8f87a3e0a12824",
       "version_major": 2,
       "version_minor": 0
      },
      "text/plain": [
       "Varying Uncertain Radius:   0%|          | 0/5 [00:00<?, ?it/s]"
      ]
     },
     "metadata": {},
     "output_type": "display_data"
    },
    {
     "data": {
      "application/vnd.jupyter.widget-view+json": {
       "model_id": "e460db5405c741feb0b778303dbf489c",
       "version_major": 2,
       "version_minor": 0
      },
      "text/plain": [
       "Varying Uncertain Radius:   0%|          | 0/5 [00:00<?, ?it/s]"
      ]
     },
     "metadata": {},
     "output_type": "display_data"
    },
    {
     "data": {
      "application/vnd.jupyter.widget-view+json": {
       "model_id": "3f446b0ee4e9427e814a7a094ba44398",
       "version_major": 2,
       "version_minor": 0
      },
      "text/plain": [
       "Varying Uncertain Radius:   0%|          | 0/5 [00:00<?, ?it/s]"
      ]
     },
     "metadata": {},
     "output_type": "display_data"
    },
    {
     "data": {
      "application/vnd.jupyter.widget-view+json": {
       "model_id": "c054ac83f26e406581c7fb175e6e1da4",
       "version_major": 2,
       "version_minor": 0
      },
      "text/plain": [
       "Varying Uncertain Radius:   0%|          | 0/5 [00:00<?, ?it/s]"
      ]
     },
     "metadata": {},
     "output_type": "display_data"
    },
    {
     "data": {
      "application/vnd.jupyter.widget-view+json": {
       "model_id": "92e38e7cf24e4dc6bda5d8686ec75d5d",
       "version_major": 2,
       "version_minor": 0
      },
      "text/plain": [
       "Varying Uncertain Radius:   0%|          | 0/5 [00:00<?, ?it/s]"
      ]
     },
     "metadata": {},
     "output_type": "display_data"
    },
    {
     "data": {
      "application/vnd.jupyter.widget-view+json": {
       "model_id": "ed353fc8c6ac4243b0dceea66ae9ad6e",
       "version_major": 2,
       "version_minor": 0
      },
      "text/plain": [
       "Varying Uncertain Radius:   0%|          | 0/5 [00:00<?, ?it/s]"
      ]
     },
     "metadata": {},
     "output_type": "display_data"
    },
    {
     "data": {
      "application/vnd.jupyter.widget-view+json": {
       "model_id": "219c1a8055ac4631a75b4a18d8094c77",
       "version_major": 2,
       "version_minor": 0
      },
      "text/plain": [
       "Progess:   0%|          | 0/10 [00:00<?, ?it/s]"
      ]
     },
     "metadata": {},
     "output_type": "display_data"
    },
    {
     "data": {
      "application/vnd.jupyter.widget-view+json": {
       "model_id": "2245a538788b43dfa7b6fa6ec251336b",
       "version_major": 2,
       "version_minor": 0
      },
      "text/plain": [
       "Varying Uncertain Radius:   0%|          | 0/5 [00:00<?, ?it/s]"
      ]
     },
     "metadata": {},
     "output_type": "display_data"
    },
    {
     "data": {
      "application/vnd.jupyter.widget-view+json": {
       "model_id": "66f920dfd5234a78b6da3d70dc41466b",
       "version_major": 2,
       "version_minor": 0
      },
      "text/plain": [
       "Varying Uncertain Radius:   0%|          | 0/5 [00:00<?, ?it/s]"
      ]
     },
     "metadata": {},
     "output_type": "display_data"
    },
    {
     "data": {
      "application/vnd.jupyter.widget-view+json": {
       "model_id": "a5f6900dd315478ba4fb9ea08a95fa72",
       "version_major": 2,
       "version_minor": 0
      },
      "text/plain": [
       "Varying Uncertain Radius:   0%|          | 0/5 [00:00<?, ?it/s]"
      ]
     },
     "metadata": {},
     "output_type": "display_data"
    },
    {
     "data": {
      "application/vnd.jupyter.widget-view+json": {
       "model_id": "2edd4c52d30449c3a6a95e0982a32995",
       "version_major": 2,
       "version_minor": 0
      },
      "text/plain": [
       "Varying Uncertain Radius:   0%|          | 0/5 [00:00<?, ?it/s]"
      ]
     },
     "metadata": {},
     "output_type": "display_data"
    },
    {
     "data": {
      "application/vnd.jupyter.widget-view+json": {
       "model_id": "c153cab2d84c4840a151847b8e92a6a2",
       "version_major": 2,
       "version_minor": 0
      },
      "text/plain": [
       "Varying Uncertain Radius:   0%|          | 0/5 [00:00<?, ?it/s]"
      ]
     },
     "metadata": {},
     "output_type": "display_data"
    },
    {
     "data": {
      "application/vnd.jupyter.widget-view+json": {
       "model_id": "bc1e1a09d73a4bba8918e1ab76d76928",
       "version_major": 2,
       "version_minor": 0
      },
      "text/plain": [
       "Varying Uncertain Radius:   0%|          | 0/5 [00:00<?, ?it/s]"
      ]
     },
     "metadata": {},
     "output_type": "display_data"
    },
    {
     "data": {
      "application/vnd.jupyter.widget-view+json": {
       "model_id": "b04dacf7f1804e749a1176f3bc1a0fd0",
       "version_major": 2,
       "version_minor": 0
      },
      "text/plain": [
       "Varying Uncertain Radius:   0%|          | 0/5 [00:00<?, ?it/s]"
      ]
     },
     "metadata": {},
     "output_type": "display_data"
    },
    {
     "data": {
      "application/vnd.jupyter.widget-view+json": {
       "model_id": "4b5cd2a7da7d49cdb0fd4b12ebf2dc93",
       "version_major": 2,
       "version_minor": 0
      },
      "text/plain": [
       "Varying Uncertain Radius:   0%|          | 0/5 [00:00<?, ?it/s]"
      ]
     },
     "metadata": {},
     "output_type": "display_data"
    },
    {
     "data": {
      "application/vnd.jupyter.widget-view+json": {
       "model_id": "fba03c5ae1214d0fb3cc4067a4973cc1",
       "version_major": 2,
       "version_minor": 0
      },
      "text/plain": [
       "Varying Uncertain Radius:   0%|          | 0/5 [00:00<?, ?it/s]"
      ]
     },
     "metadata": {},
     "output_type": "display_data"
    },
    {
     "data": {
      "application/vnd.jupyter.widget-view+json": {
       "model_id": "dc1698b3ba634c8d993a06c9fcf6a887",
       "version_major": 2,
       "version_minor": 0
      },
      "text/plain": [
       "Varying Uncertain Radius:   0%|          | 0/5 [00:00<?, ?it/s]"
      ]
     },
     "metadata": {},
     "output_type": "display_data"
    },
    {
     "data": {
      "application/vnd.jupyter.widget-view+json": {
       "model_id": "726ec7acbc154a67a08e0fc61e54b6ff",
       "version_major": 2,
       "version_minor": 0
      },
      "text/plain": [
       "Progess:   0%|          | 0/10 [00:00<?, ?it/s]"
      ]
     },
     "metadata": {},
     "output_type": "display_data"
    },
    {
     "data": {
      "application/vnd.jupyter.widget-view+json": {
       "model_id": "00da881d16d44298b70a71cf5eff8314",
       "version_major": 2,
       "version_minor": 0
      },
      "text/plain": [
       "Varying Uncertain Radius:   0%|          | 0/5 [00:00<?, ?it/s]"
      ]
     },
     "metadata": {},
     "output_type": "display_data"
    },
    {
     "data": {
      "application/vnd.jupyter.widget-view+json": {
       "model_id": "07114833bd334c1a9b6c55f8728ce717",
       "version_major": 2,
       "version_minor": 0
      },
      "text/plain": [
       "Varying Uncertain Radius:   0%|          | 0/5 [00:00<?, ?it/s]"
      ]
     },
     "metadata": {},
     "output_type": "display_data"
    },
    {
     "data": {
      "application/vnd.jupyter.widget-view+json": {
       "model_id": "b233e3ab2f2d42b2abc0bec8f9ae4191",
       "version_major": 2,
       "version_minor": 0
      },
      "text/plain": [
       "Varying Uncertain Radius:   0%|          | 0/5 [00:00<?, ?it/s]"
      ]
     },
     "metadata": {},
     "output_type": "display_data"
    },
    {
     "data": {
      "application/vnd.jupyter.widget-view+json": {
       "model_id": "d295cdd2a0a94973a4a307521ed593b5",
       "version_major": 2,
       "version_minor": 0
      },
      "text/plain": [
       "Varying Uncertain Radius:   0%|          | 0/5 [00:00<?, ?it/s]"
      ]
     },
     "metadata": {},
     "output_type": "display_data"
    },
    {
     "data": {
      "application/vnd.jupyter.widget-view+json": {
       "model_id": "50989654dd8e4de698df9d915a8c515e",
       "version_major": 2,
       "version_minor": 0
      },
      "text/plain": [
       "Varying Uncertain Radius:   0%|          | 0/5 [00:00<?, ?it/s]"
      ]
     },
     "metadata": {},
     "output_type": "display_data"
    },
    {
     "data": {
      "application/vnd.jupyter.widget-view+json": {
       "model_id": "8e0c50b533b24ff6b281b5605f5dfa2f",
       "version_major": 2,
       "version_minor": 0
      },
      "text/plain": [
       "Varying Uncertain Radius:   0%|          | 0/5 [00:00<?, ?it/s]"
      ]
     },
     "metadata": {},
     "output_type": "display_data"
    },
    {
     "data": {
      "application/vnd.jupyter.widget-view+json": {
       "model_id": "e37fbf4dd4fa4f3abb6315db387fca9d",
       "version_major": 2,
       "version_minor": 0
      },
      "text/plain": [
       "Varying Uncertain Radius:   0%|          | 0/5 [00:00<?, ?it/s]"
      ]
     },
     "metadata": {},
     "output_type": "display_data"
    },
    {
     "data": {
      "application/vnd.jupyter.widget-view+json": {
       "model_id": "434bebece4cb444bbebf3b400cbcc91b",
       "version_major": 2,
       "version_minor": 0
      },
      "text/plain": [
       "Varying Uncertain Radius:   0%|          | 0/5 [00:00<?, ?it/s]"
      ]
     },
     "metadata": {},
     "output_type": "display_data"
    },
    {
     "data": {
      "application/vnd.jupyter.widget-view+json": {
       "model_id": "6028bcc9219747aa9a93da3520699be4",
       "version_major": 2,
       "version_minor": 0
      },
      "text/plain": [
       "Varying Uncertain Radius:   0%|          | 0/5 [00:00<?, ?it/s]"
      ]
     },
     "metadata": {},
     "output_type": "display_data"
    },
    {
     "data": {
      "application/vnd.jupyter.widget-view+json": {
       "model_id": "5172df6fa7a642768aab7db24dcab363",
       "version_major": 2,
       "version_minor": 0
      },
      "text/plain": [
       "Varying Uncertain Radius:   0%|          | 0/5 [00:00<?, ?it/s]"
      ]
     },
     "metadata": {},
     "output_type": "display_data"
    },
    {
     "data": {
      "application/vnd.jupyter.widget-view+json": {
       "model_id": "713668edb3a14f989ad8c4348ea89e0e",
       "version_major": 2,
       "version_minor": 0
      },
      "text/plain": [
       "Progess:   0%|          | 0/10 [00:00<?, ?it/s]"
      ]
     },
     "metadata": {},
     "output_type": "display_data"
    },
    {
     "data": {
      "application/vnd.jupyter.widget-view+json": {
       "model_id": "61a0f08f4fbb4234b6f5c1deb2fc7915",
       "version_major": 2,
       "version_minor": 0
      },
      "text/plain": [
       "Varying Uncertain Radius:   0%|          | 0/5 [00:00<?, ?it/s]"
      ]
     },
     "metadata": {},
     "output_type": "display_data"
    },
    {
     "data": {
      "application/vnd.jupyter.widget-view+json": {
       "model_id": "5b8833b6410b48fbac46c038e2a26ea0",
       "version_major": 2,
       "version_minor": 0
      },
      "text/plain": [
       "Varying Uncertain Radius:   0%|          | 0/5 [00:00<?, ?it/s]"
      ]
     },
     "metadata": {},
     "output_type": "display_data"
    },
    {
     "data": {
      "application/vnd.jupyter.widget-view+json": {
       "model_id": "feeeb0d9c1b043b9a3c38d09f686ee7c",
       "version_major": 2,
       "version_minor": 0
      },
      "text/plain": [
       "Varying Uncertain Radius:   0%|          | 0/5 [00:00<?, ?it/s]"
      ]
     },
     "metadata": {},
     "output_type": "display_data"
    },
    {
     "data": {
      "application/vnd.jupyter.widget-view+json": {
       "model_id": "7424a0e11b52489fbfc6d56adb3aab8e",
       "version_major": 2,
       "version_minor": 0
      },
      "text/plain": [
       "Varying Uncertain Radius:   0%|          | 0/5 [00:00<?, ?it/s]"
      ]
     },
     "metadata": {},
     "output_type": "display_data"
    },
    {
     "data": {
      "application/vnd.jupyter.widget-view+json": {
       "model_id": "e01f43006b0148538ae026c53598c3cb",
       "version_major": 2,
       "version_minor": 0
      },
      "text/plain": [
       "Varying Uncertain Radius:   0%|          | 0/5 [00:00<?, ?it/s]"
      ]
     },
     "metadata": {},
     "output_type": "display_data"
    },
    {
     "data": {
      "application/vnd.jupyter.widget-view+json": {
       "model_id": "341911b1fdf64241815a2f25019ecf1b",
       "version_major": 2,
       "version_minor": 0
      },
      "text/plain": [
       "Varying Uncertain Radius:   0%|          | 0/5 [00:00<?, ?it/s]"
      ]
     },
     "metadata": {},
     "output_type": "display_data"
    },
    {
     "data": {
      "application/vnd.jupyter.widget-view+json": {
       "model_id": "5d3748b2a09c48c29f7ba5c7e7d4701c",
       "version_major": 2,
       "version_minor": 0
      },
      "text/plain": [
       "Varying Uncertain Radius:   0%|          | 0/5 [00:00<?, ?it/s]"
      ]
     },
     "metadata": {},
     "output_type": "display_data"
    },
    {
     "data": {
      "application/vnd.jupyter.widget-view+json": {
       "model_id": "a08452e472cc4d999e9fa1cab473758a",
       "version_major": 2,
       "version_minor": 0
      },
      "text/plain": [
       "Varying Uncertain Radius:   0%|          | 0/5 [00:00<?, ?it/s]"
      ]
     },
     "metadata": {},
     "output_type": "display_data"
    },
    {
     "data": {
      "application/vnd.jupyter.widget-view+json": {
       "model_id": "fb79cb63f116415ca3b70caa273432be",
       "version_major": 2,
       "version_minor": 0
      },
      "text/plain": [
       "Varying Uncertain Radius:   0%|          | 0/5 [00:00<?, ?it/s]"
      ]
     },
     "metadata": {},
     "output_type": "display_data"
    },
    {
     "data": {
      "application/vnd.jupyter.widget-view+json": {
       "model_id": "62455f6e3fb84d2dac77cf61e0cafcf1",
       "version_major": 2,
       "version_minor": 0
      },
      "text/plain": [
       "Varying Uncertain Radius:   0%|          | 0/5 [00:00<?, ?it/s]"
      ]
     },
     "metadata": {},
     "output_type": "display_data"
    },
    {
     "data": {
      "application/vnd.jupyter.widget-view+json": {
       "model_id": "8d8c2e4b338242f8b4bdc8518b48ef2f",
       "version_major": 2,
       "version_minor": 0
      },
      "text/plain": [
       "Progess:   0%|          | 0/10 [00:00<?, ?it/s]"
      ]
     },
     "metadata": {},
     "output_type": "display_data"
    },
    {
     "data": {
      "application/vnd.jupyter.widget-view+json": {
       "model_id": "085241eb190043039bea203ab61a1093",
       "version_major": 2,
       "version_minor": 0
      },
      "text/plain": [
       "Varying Uncertain Radius:   0%|          | 0/5 [00:00<?, ?it/s]"
      ]
     },
     "metadata": {},
     "output_type": "display_data"
    },
    {
     "data": {
      "application/vnd.jupyter.widget-view+json": {
       "model_id": "b033eac2df9b4cbbb455c3c61d6bc5ca",
       "version_major": 2,
       "version_minor": 0
      },
      "text/plain": [
       "Varying Uncertain Radius:   0%|          | 0/5 [00:00<?, ?it/s]"
      ]
     },
     "metadata": {},
     "output_type": "display_data"
    },
    {
     "data": {
      "application/vnd.jupyter.widget-view+json": {
       "model_id": "76aa064e6a224e68b188ba97f5261c9f",
       "version_major": 2,
       "version_minor": 0
      },
      "text/plain": [
       "Varying Uncertain Radius:   0%|          | 0/5 [00:00<?, ?it/s]"
      ]
     },
     "metadata": {},
     "output_type": "display_data"
    },
    {
     "data": {
      "application/vnd.jupyter.widget-view+json": {
       "model_id": "208cd3d073cb4a67bdfa97da5969059b",
       "version_major": 2,
       "version_minor": 0
      },
      "text/plain": [
       "Varying Uncertain Radius:   0%|          | 0/5 [00:00<?, ?it/s]"
      ]
     },
     "metadata": {},
     "output_type": "display_data"
    },
    {
     "data": {
      "application/vnd.jupyter.widget-view+json": {
       "model_id": "569ede4a29ee453fb6a240f24f4cafb1",
       "version_major": 2,
       "version_minor": 0
      },
      "text/plain": [
       "Varying Uncertain Radius:   0%|          | 0/5 [00:00<?, ?it/s]"
      ]
     },
     "metadata": {},
     "output_type": "display_data"
    },
    {
     "data": {
      "application/vnd.jupyter.widget-view+json": {
       "model_id": "f2a29095d40b411799cb2c30364300c6",
       "version_major": 2,
       "version_minor": 0
      },
      "text/plain": [
       "Varying Uncertain Radius:   0%|          | 0/5 [00:00<?, ?it/s]"
      ]
     },
     "metadata": {},
     "output_type": "display_data"
    },
    {
     "data": {
      "application/vnd.jupyter.widget-view+json": {
       "model_id": "3c60bdb2b0c14b7cbee720c4b9aabc74",
       "version_major": 2,
       "version_minor": 0
      },
      "text/plain": [
       "Varying Uncertain Radius:   0%|          | 0/5 [00:00<?, ?it/s]"
      ]
     },
     "metadata": {},
     "output_type": "display_data"
    },
    {
     "data": {
      "application/vnd.jupyter.widget-view+json": {
       "model_id": "5e08a5fa442f482e89b8c2b0898c8f3d",
       "version_major": 2,
       "version_minor": 0
      },
      "text/plain": [
       "Varying Uncertain Radius:   0%|          | 0/5 [00:00<?, ?it/s]"
      ]
     },
     "metadata": {},
     "output_type": "display_data"
    },
    {
     "data": {
      "application/vnd.jupyter.widget-view+json": {
       "model_id": "8946edd6975946fcb14c434899e996af",
       "version_major": 2,
       "version_minor": 0
      },
      "text/plain": [
       "Varying Uncertain Radius:   0%|          | 0/5 [00:00<?, ?it/s]"
      ]
     },
     "metadata": {},
     "output_type": "display_data"
    },
    {
     "data": {
      "application/vnd.jupyter.widget-view+json": {
       "model_id": "cb7c39c2a1d54d4284a871881ec858f0",
       "version_major": 2,
       "version_minor": 0
      },
      "text/plain": [
       "Varying Uncertain Radius:   0%|          | 0/5 [00:00<?, ?it/s]"
      ]
     },
     "metadata": {},
     "output_type": "display_data"
    }
   ],
   "source": [
    "boundary_indices, bin_edges = discretize_and_sample(X_train, best_feature, thresholds, total_samples=int(0.1 * len(X_train)), num_bins=23)\n",
    "\n",
    "# Testing more extreme uncertain percentages\n",
    "robustness_dicts_linReg_mse = []\n",
    "for seed in range(5):\n",
    "    # mpg +- 2 is robust\n",
    "    robustness_radius = 2\n",
    "    label_range = (y_train.max()-y_train.min())\n",
    "    ratios = [0.05, 0.10, 0.15, 0.2, 0.25]\n",
    "    uncertain_radiuses = [ratio*label_range for ratio in ratios]\n",
    "    uncertain_pcts = list(np.arange(1, 11)/100)\n",
    "    robustness_dict = dict()\n",
    "    robustness_dict['uncertain_radius'] = uncertain_radiuses\n",
    "    robustness_dict['uncertain_radius_ratios'] = ratios\n",
    "    for uncertain_pct in tqdm(uncertain_pcts, desc='Progess'):\n",
    "        robustness_dict[uncertain_pct] = list()\n",
    "        uncertain_num = int(uncertain_pct*len(y_train))\n",
    "        for uncertain_radius in tqdm(uncertain_radiuses, desc=f'Varying Uncertain Radius'):\n",
    "            #print(uncertain_radius)\n",
    "            robustness_ratio = compute_robustness_ratio_sensitive_label_error(X_train, y_train, X_test, y_test, \n",
    "                                                                    uncertain_num=uncertain_num,\n",
    "                                                                    boundary_indices=boundary_indices,\n",
    "                                                                    uncertain_radius=uncertain_radius, \n",
    "                                                                    robustness_radius=robustness_radius, \n",
    "                                                                    interval=False, seed=seed)\n",
    "            robustness_dict[uncertain_pct].append(robustness_ratio)\n",
    "    robustness_dicts_linReg_mse.append(robustness_dict)"
   ]
  },
  {
   "cell_type": "code",
   "execution_count": 17,
   "id": "0e7521a5-32bd-4157-bda9-d00a8c49e1d9",
   "metadata": {},
   "outputs": [
    {
     "data": {
      "application/vnd.jupyter.widget-view+json": {
       "model_id": "dd8b26d4e9ad4db5a247c36ddf2ca95e",
       "version_major": 2,
       "version_minor": 0
      },
      "text/plain": [
       "Progess:   0%|          | 0/10 [00:00<?, ?it/s]"
      ]
     },
     "metadata": {},
     "output_type": "display_data"
    },
    {
     "data": {
      "application/vnd.jupyter.widget-view+json": {
       "model_id": "abf2dde160c84d6c8b29c8e7b913d97f",
       "version_major": 2,
       "version_minor": 0
      },
      "text/plain": [
       "Varying Uncertain Radius:   0%|          | 0/5 [00:00<?, ?it/s]"
      ]
     },
     "metadata": {},
     "output_type": "display_data"
    },
    {
     "data": {
      "application/vnd.jupyter.widget-view+json": {
       "model_id": "e8f17c3d09a440d78ef289bb4dffc92e",
       "version_major": 2,
       "version_minor": 0
      },
      "text/plain": [
       "Varying Uncertain Radius:   0%|          | 0/5 [00:00<?, ?it/s]"
      ]
     },
     "metadata": {},
     "output_type": "display_data"
    },
    {
     "data": {
      "application/vnd.jupyter.widget-view+json": {
       "model_id": "0cf9c5731ae64bcfbf87e04921187217",
       "version_major": 2,
       "version_minor": 0
      },
      "text/plain": [
       "Varying Uncertain Radius:   0%|          | 0/5 [00:00<?, ?it/s]"
      ]
     },
     "metadata": {},
     "output_type": "display_data"
    },
    {
     "data": {
      "application/vnd.jupyter.widget-view+json": {
       "model_id": "89a56007b6c34cea8f13c9e6b8d57d4f",
       "version_major": 2,
       "version_minor": 0
      },
      "text/plain": [
       "Varying Uncertain Radius:   0%|          | 0/5 [00:00<?, ?it/s]"
      ]
     },
     "metadata": {},
     "output_type": "display_data"
    },
    {
     "data": {
      "application/vnd.jupyter.widget-view+json": {
       "model_id": "8b78d01145354375b6e85c902a9bcf6e",
       "version_major": 2,
       "version_minor": 0
      },
      "text/plain": [
       "Varying Uncertain Radius:   0%|          | 0/5 [00:00<?, ?it/s]"
      ]
     },
     "metadata": {},
     "output_type": "display_data"
    },
    {
     "data": {
      "application/vnd.jupyter.widget-view+json": {
       "model_id": "31dd647d829a47e383f7c25d70ffda69",
       "version_major": 2,
       "version_minor": 0
      },
      "text/plain": [
       "Varying Uncertain Radius:   0%|          | 0/5 [00:00<?, ?it/s]"
      ]
     },
     "metadata": {},
     "output_type": "display_data"
    },
    {
     "data": {
      "application/vnd.jupyter.widget-view+json": {
       "model_id": "06f264bb0ddf40a6b051e63413799018",
       "version_major": 2,
       "version_minor": 0
      },
      "text/plain": [
       "Varying Uncertain Radius:   0%|          | 0/5 [00:00<?, ?it/s]"
      ]
     },
     "metadata": {},
     "output_type": "display_data"
    },
    {
     "data": {
      "application/vnd.jupyter.widget-view+json": {
       "model_id": "67db6bececf248f6866bbcb829582ee3",
       "version_major": 2,
       "version_minor": 0
      },
      "text/plain": [
       "Varying Uncertain Radius:   0%|          | 0/5 [00:00<?, ?it/s]"
      ]
     },
     "metadata": {},
     "output_type": "display_data"
    },
    {
     "data": {
      "application/vnd.jupyter.widget-view+json": {
       "model_id": "aaf5efe2ee694eb58a6228c04a943da1",
       "version_major": 2,
       "version_minor": 0
      },
      "text/plain": [
       "Varying Uncertain Radius:   0%|          | 0/5 [00:00<?, ?it/s]"
      ]
     },
     "metadata": {},
     "output_type": "display_data"
    },
    {
     "data": {
      "application/vnd.jupyter.widget-view+json": {
       "model_id": "937d5256f7104843afca0998522d84ba",
       "version_major": 2,
       "version_minor": 0
      },
      "text/plain": [
       "Varying Uncertain Radius:   0%|          | 0/5 [00:00<?, ?it/s]"
      ]
     },
     "metadata": {},
     "output_type": "display_data"
    },
    {
     "data": {
      "application/vnd.jupyter.widget-view+json": {
       "model_id": "76dcbd3d8a7145ed8a1984f9b69efe87",
       "version_major": 2,
       "version_minor": 0
      },
      "text/plain": [
       "Progess:   0%|          | 0/10 [00:00<?, ?it/s]"
      ]
     },
     "metadata": {},
     "output_type": "display_data"
    },
    {
     "data": {
      "application/vnd.jupyter.widget-view+json": {
       "model_id": "33835ce38c6a4991bdc8c5b0eebb8b03",
       "version_major": 2,
       "version_minor": 0
      },
      "text/plain": [
       "Varying Uncertain Radius:   0%|          | 0/5 [00:00<?, ?it/s]"
      ]
     },
     "metadata": {},
     "output_type": "display_data"
    },
    {
     "data": {
      "application/vnd.jupyter.widget-view+json": {
       "model_id": "958b73f0ec0c4df4a88872dc65ae471d",
       "version_major": 2,
       "version_minor": 0
      },
      "text/plain": [
       "Varying Uncertain Radius:   0%|          | 0/5 [00:00<?, ?it/s]"
      ]
     },
     "metadata": {},
     "output_type": "display_data"
    },
    {
     "data": {
      "application/vnd.jupyter.widget-view+json": {
       "model_id": "af51dcd564394736b2bd2768679a6db5",
       "version_major": 2,
       "version_minor": 0
      },
      "text/plain": [
       "Varying Uncertain Radius:   0%|          | 0/5 [00:00<?, ?it/s]"
      ]
     },
     "metadata": {},
     "output_type": "display_data"
    },
    {
     "data": {
      "application/vnd.jupyter.widget-view+json": {
       "model_id": "5dcab8add8de4c9ebec6496f4f2bcd0d",
       "version_major": 2,
       "version_minor": 0
      },
      "text/plain": [
       "Varying Uncertain Radius:   0%|          | 0/5 [00:00<?, ?it/s]"
      ]
     },
     "metadata": {},
     "output_type": "display_data"
    },
    {
     "data": {
      "application/vnd.jupyter.widget-view+json": {
       "model_id": "623b71a53b2345288afd3454ae8593ba",
       "version_major": 2,
       "version_minor": 0
      },
      "text/plain": [
       "Varying Uncertain Radius:   0%|          | 0/5 [00:00<?, ?it/s]"
      ]
     },
     "metadata": {},
     "output_type": "display_data"
    },
    {
     "data": {
      "application/vnd.jupyter.widget-view+json": {
       "model_id": "4e358468d3534ee796cc10f0909e1f2c",
       "version_major": 2,
       "version_minor": 0
      },
      "text/plain": [
       "Varying Uncertain Radius:   0%|          | 0/5 [00:00<?, ?it/s]"
      ]
     },
     "metadata": {},
     "output_type": "display_data"
    },
    {
     "data": {
      "application/vnd.jupyter.widget-view+json": {
       "model_id": "f40424281b5e42d59670f26f0ba98ed7",
       "version_major": 2,
       "version_minor": 0
      },
      "text/plain": [
       "Varying Uncertain Radius:   0%|          | 0/5 [00:00<?, ?it/s]"
      ]
     },
     "metadata": {},
     "output_type": "display_data"
    },
    {
     "data": {
      "application/vnd.jupyter.widget-view+json": {
       "model_id": "68fb87e4be014fda8b7a11edb74166e4",
       "version_major": 2,
       "version_minor": 0
      },
      "text/plain": [
       "Varying Uncertain Radius:   0%|          | 0/5 [00:00<?, ?it/s]"
      ]
     },
     "metadata": {},
     "output_type": "display_data"
    },
    {
     "data": {
      "application/vnd.jupyter.widget-view+json": {
       "model_id": "fa93f8ff85754035be31f1bd80b19fcf",
       "version_major": 2,
       "version_minor": 0
      },
      "text/plain": [
       "Varying Uncertain Radius:   0%|          | 0/5 [00:00<?, ?it/s]"
      ]
     },
     "metadata": {},
     "output_type": "display_data"
    },
    {
     "data": {
      "application/vnd.jupyter.widget-view+json": {
       "model_id": "8a39cae4c6b5410390da94a77bd1a795",
       "version_major": 2,
       "version_minor": 0
      },
      "text/plain": [
       "Varying Uncertain Radius:   0%|          | 0/5 [00:00<?, ?it/s]"
      ]
     },
     "metadata": {},
     "output_type": "display_data"
    },
    {
     "data": {
      "application/vnd.jupyter.widget-view+json": {
       "model_id": "d9cbcd3f165c438c893e1740863b604a",
       "version_major": 2,
       "version_minor": 0
      },
      "text/plain": [
       "Progess:   0%|          | 0/10 [00:00<?, ?it/s]"
      ]
     },
     "metadata": {},
     "output_type": "display_data"
    },
    {
     "data": {
      "application/vnd.jupyter.widget-view+json": {
       "model_id": "1dc100bcc98e4f829d76cf411a88cb7c",
       "version_major": 2,
       "version_minor": 0
      },
      "text/plain": [
       "Varying Uncertain Radius:   0%|          | 0/5 [00:00<?, ?it/s]"
      ]
     },
     "metadata": {},
     "output_type": "display_data"
    },
    {
     "data": {
      "application/vnd.jupyter.widget-view+json": {
       "model_id": "85904dfb35514801b15201c3ca8aca1a",
       "version_major": 2,
       "version_minor": 0
      },
      "text/plain": [
       "Varying Uncertain Radius:   0%|          | 0/5 [00:00<?, ?it/s]"
      ]
     },
     "metadata": {},
     "output_type": "display_data"
    },
    {
     "data": {
      "application/vnd.jupyter.widget-view+json": {
       "model_id": "d4bb3d674317437082b7e0117d72212a",
       "version_major": 2,
       "version_minor": 0
      },
      "text/plain": [
       "Varying Uncertain Radius:   0%|          | 0/5 [00:00<?, ?it/s]"
      ]
     },
     "metadata": {},
     "output_type": "display_data"
    },
    {
     "data": {
      "application/vnd.jupyter.widget-view+json": {
       "model_id": "c1fb1a35b215420babf97088039d0af3",
       "version_major": 2,
       "version_minor": 0
      },
      "text/plain": [
       "Varying Uncertain Radius:   0%|          | 0/5 [00:00<?, ?it/s]"
      ]
     },
     "metadata": {},
     "output_type": "display_data"
    },
    {
     "data": {
      "application/vnd.jupyter.widget-view+json": {
       "model_id": "84ac3020e56f4167b441888992cd42b6",
       "version_major": 2,
       "version_minor": 0
      },
      "text/plain": [
       "Varying Uncertain Radius:   0%|          | 0/5 [00:00<?, ?it/s]"
      ]
     },
     "metadata": {},
     "output_type": "display_data"
    },
    {
     "data": {
      "application/vnd.jupyter.widget-view+json": {
       "model_id": "41d90ac343c049b99dab8915d2a0feee",
       "version_major": 2,
       "version_minor": 0
      },
      "text/plain": [
       "Varying Uncertain Radius:   0%|          | 0/5 [00:00<?, ?it/s]"
      ]
     },
     "metadata": {},
     "output_type": "display_data"
    },
    {
     "data": {
      "application/vnd.jupyter.widget-view+json": {
       "model_id": "569cb80566ca4e73a0afb3fdf110af3a",
       "version_major": 2,
       "version_minor": 0
      },
      "text/plain": [
       "Varying Uncertain Radius:   0%|          | 0/5 [00:00<?, ?it/s]"
      ]
     },
     "metadata": {},
     "output_type": "display_data"
    },
    {
     "data": {
      "application/vnd.jupyter.widget-view+json": {
       "model_id": "e3616fb2aace4c359b0e14fab23962e3",
       "version_major": 2,
       "version_minor": 0
      },
      "text/plain": [
       "Varying Uncertain Radius:   0%|          | 0/5 [00:00<?, ?it/s]"
      ]
     },
     "metadata": {},
     "output_type": "display_data"
    },
    {
     "data": {
      "application/vnd.jupyter.widget-view+json": {
       "model_id": "12d89979f9ab44508a01ba4563415c3d",
       "version_major": 2,
       "version_minor": 0
      },
      "text/plain": [
       "Varying Uncertain Radius:   0%|          | 0/5 [00:00<?, ?it/s]"
      ]
     },
     "metadata": {},
     "output_type": "display_data"
    },
    {
     "data": {
      "application/vnd.jupyter.widget-view+json": {
       "model_id": "c65df245755d4f78ae78fbdefe3538b8",
       "version_major": 2,
       "version_minor": 0
      },
      "text/plain": [
       "Varying Uncertain Radius:   0%|          | 0/5 [00:00<?, ?it/s]"
      ]
     },
     "metadata": {},
     "output_type": "display_data"
    },
    {
     "data": {
      "application/vnd.jupyter.widget-view+json": {
       "model_id": "614246d59cb34044918cc45df05ef746",
       "version_major": 2,
       "version_minor": 0
      },
      "text/plain": [
       "Progess:   0%|          | 0/10 [00:00<?, ?it/s]"
      ]
     },
     "metadata": {},
     "output_type": "display_data"
    },
    {
     "data": {
      "application/vnd.jupyter.widget-view+json": {
       "model_id": "1006c0de27ca435d8af903e0190ad68a",
       "version_major": 2,
       "version_minor": 0
      },
      "text/plain": [
       "Varying Uncertain Radius:   0%|          | 0/5 [00:00<?, ?it/s]"
      ]
     },
     "metadata": {},
     "output_type": "display_data"
    },
    {
     "data": {
      "application/vnd.jupyter.widget-view+json": {
       "model_id": "8e98e05e0a9147e49c609b25bc3a77b6",
       "version_major": 2,
       "version_minor": 0
      },
      "text/plain": [
       "Varying Uncertain Radius:   0%|          | 0/5 [00:00<?, ?it/s]"
      ]
     },
     "metadata": {},
     "output_type": "display_data"
    },
    {
     "data": {
      "application/vnd.jupyter.widget-view+json": {
       "model_id": "ab08e37e013e4bae9855150ab420d50c",
       "version_major": 2,
       "version_minor": 0
      },
      "text/plain": [
       "Varying Uncertain Radius:   0%|          | 0/5 [00:00<?, ?it/s]"
      ]
     },
     "metadata": {},
     "output_type": "display_data"
    },
    {
     "data": {
      "application/vnd.jupyter.widget-view+json": {
       "model_id": "85108ef5c0de49e8941da2e468811f74",
       "version_major": 2,
       "version_minor": 0
      },
      "text/plain": [
       "Varying Uncertain Radius:   0%|          | 0/5 [00:00<?, ?it/s]"
      ]
     },
     "metadata": {},
     "output_type": "display_data"
    },
    {
     "data": {
      "application/vnd.jupyter.widget-view+json": {
       "model_id": "bfe9399641eb4250a282dd20d937b8f3",
       "version_major": 2,
       "version_minor": 0
      },
      "text/plain": [
       "Varying Uncertain Radius:   0%|          | 0/5 [00:00<?, ?it/s]"
      ]
     },
     "metadata": {},
     "output_type": "display_data"
    },
    {
     "data": {
      "application/vnd.jupyter.widget-view+json": {
       "model_id": "fae91d7be079496588139d62a01f23e0",
       "version_major": 2,
       "version_minor": 0
      },
      "text/plain": [
       "Varying Uncertain Radius:   0%|          | 0/5 [00:00<?, ?it/s]"
      ]
     },
     "metadata": {},
     "output_type": "display_data"
    },
    {
     "data": {
      "application/vnd.jupyter.widget-view+json": {
       "model_id": "f2cda45814ff4e3b8848b1b9e4a08fd3",
       "version_major": 2,
       "version_minor": 0
      },
      "text/plain": [
       "Varying Uncertain Radius:   0%|          | 0/5 [00:00<?, ?it/s]"
      ]
     },
     "metadata": {},
     "output_type": "display_data"
    },
    {
     "data": {
      "application/vnd.jupyter.widget-view+json": {
       "model_id": "d3aeb7a994a7402495ece636e6135073",
       "version_major": 2,
       "version_minor": 0
      },
      "text/plain": [
       "Varying Uncertain Radius:   0%|          | 0/5 [00:00<?, ?it/s]"
      ]
     },
     "metadata": {},
     "output_type": "display_data"
    },
    {
     "data": {
      "application/vnd.jupyter.widget-view+json": {
       "model_id": "006da911ee9b4deeb6ceae33bf2ef5e9",
       "version_major": 2,
       "version_minor": 0
      },
      "text/plain": [
       "Varying Uncertain Radius:   0%|          | 0/5 [00:00<?, ?it/s]"
      ]
     },
     "metadata": {},
     "output_type": "display_data"
    },
    {
     "data": {
      "application/vnd.jupyter.widget-view+json": {
       "model_id": "0369ca9c84f74892a75aad485bd44303",
       "version_major": 2,
       "version_minor": 0
      },
      "text/plain": [
       "Varying Uncertain Radius:   0%|          | 0/5 [00:00<?, ?it/s]"
      ]
     },
     "metadata": {},
     "output_type": "display_data"
    },
    {
     "data": {
      "application/vnd.jupyter.widget-view+json": {
       "model_id": "f7c6b202b63744dc9cdc3021884ac97f",
       "version_major": 2,
       "version_minor": 0
      },
      "text/plain": [
       "Progess:   0%|          | 0/10 [00:00<?, ?it/s]"
      ]
     },
     "metadata": {},
     "output_type": "display_data"
    },
    {
     "data": {
      "application/vnd.jupyter.widget-view+json": {
       "model_id": "3d2e9c16fdfd46cb80ca1d25196b4c96",
       "version_major": 2,
       "version_minor": 0
      },
      "text/plain": [
       "Varying Uncertain Radius:   0%|          | 0/5 [00:00<?, ?it/s]"
      ]
     },
     "metadata": {},
     "output_type": "display_data"
    },
    {
     "data": {
      "application/vnd.jupyter.widget-view+json": {
       "model_id": "d11d6a20518041cf87e62fd5eaea40c8",
       "version_major": 2,
       "version_minor": 0
      },
      "text/plain": [
       "Varying Uncertain Radius:   0%|          | 0/5 [00:00<?, ?it/s]"
      ]
     },
     "metadata": {},
     "output_type": "display_data"
    },
    {
     "data": {
      "application/vnd.jupyter.widget-view+json": {
       "model_id": "5bb14af3aab84c4a8811cb6d67e02be7",
       "version_major": 2,
       "version_minor": 0
      },
      "text/plain": [
       "Varying Uncertain Radius:   0%|          | 0/5 [00:00<?, ?it/s]"
      ]
     },
     "metadata": {},
     "output_type": "display_data"
    },
    {
     "data": {
      "application/vnd.jupyter.widget-view+json": {
       "model_id": "aa8db42ec75747d48ffe213687cd27bd",
       "version_major": 2,
       "version_minor": 0
      },
      "text/plain": [
       "Varying Uncertain Radius:   0%|          | 0/5 [00:00<?, ?it/s]"
      ]
     },
     "metadata": {},
     "output_type": "display_data"
    },
    {
     "data": {
      "application/vnd.jupyter.widget-view+json": {
       "model_id": "7e54cd8d23a7435895a9d4518375c3ac",
       "version_major": 2,
       "version_minor": 0
      },
      "text/plain": [
       "Varying Uncertain Radius:   0%|          | 0/5 [00:00<?, ?it/s]"
      ]
     },
     "metadata": {},
     "output_type": "display_data"
    },
    {
     "data": {
      "application/vnd.jupyter.widget-view+json": {
       "model_id": "f982a44e6635493eba9291d477427c09",
       "version_major": 2,
       "version_minor": 0
      },
      "text/plain": [
       "Varying Uncertain Radius:   0%|          | 0/5 [00:00<?, ?it/s]"
      ]
     },
     "metadata": {},
     "output_type": "display_data"
    },
    {
     "data": {
      "application/vnd.jupyter.widget-view+json": {
       "model_id": "bcc823cf2f9845628e51dce9ef423982",
       "version_major": 2,
       "version_minor": 0
      },
      "text/plain": [
       "Varying Uncertain Radius:   0%|          | 0/5 [00:00<?, ?it/s]"
      ]
     },
     "metadata": {},
     "output_type": "display_data"
    },
    {
     "data": {
      "application/vnd.jupyter.widget-view+json": {
       "model_id": "bd55985a30d347d2a5b3fffd484f978c",
       "version_major": 2,
       "version_minor": 0
      },
      "text/plain": [
       "Varying Uncertain Radius:   0%|          | 0/5 [00:00<?, ?it/s]"
      ]
     },
     "metadata": {},
     "output_type": "display_data"
    },
    {
     "data": {
      "application/vnd.jupyter.widget-view+json": {
       "model_id": "04759682771f4bf0bb48c89d7a8b8400",
       "version_major": 2,
       "version_minor": 0
      },
      "text/plain": [
       "Varying Uncertain Radius:   0%|          | 0/5 [00:00<?, ?it/s]"
      ]
     },
     "metadata": {},
     "output_type": "display_data"
    },
    {
     "data": {
      "application/vnd.jupyter.widget-view+json": {
       "model_id": "d23e525961c34d4ba5b8063356d842d7",
       "version_major": 2,
       "version_minor": 0
      },
      "text/plain": [
       "Varying Uncertain Radius:   0%|          | 0/5 [00:00<?, ?it/s]"
      ]
     },
     "metadata": {},
     "output_type": "display_data"
    }
   ],
   "source": [
    "# Testing more extreme uncertain percentages\n",
    "robustness_dicts_interval_linReg_mse = []\n",
    "for seed in range(5):\n",
    "    # mpg +- 2 is robust\n",
    "    robustness_radius = 2\n",
    "    label_range = (y_train.max()-y_train.min())\n",
    "    ratios = [0.05, 0.10, 0.15, 0.2, 0.25]\n",
    "    uncertain_radiuses = [ratio*label_range for ratio in ratios]\n",
    "    uncertain_pcts = list(np.arange(1, 11)/100)\n",
    "    robustness_dict_interval = dict()\n",
    "    robustness_dict_interval['uncertain_radius'] = uncertain_radiuses\n",
    "    robustness_dict_interval['uncertain_radius_ratios'] = ratios\n",
    "    for uncertain_pct in tqdm(uncertain_pcts, desc='Progess'):\n",
    "        robustness_dict_interval[uncertain_pct] = list()\n",
    "        uncertain_num = int(uncertain_pct*len(y_train))\n",
    "        for uncertain_radius in tqdm(uncertain_radiuses, desc=f'Varying Uncertain Radius'):\n",
    "            robustness_ratio = compute_robustness_ratio_sensitive_label_error(X_train, y_train, X_test, y_test, \n",
    "                                                                    uncertain_num=uncertain_num,\n",
    "                                                                    boundary_indices=boundary_indices,\n",
    "                                                                    uncertain_radius=uncertain_radius, \n",
    "                                                                    robustness_radius=robustness_radius, \n",
    "                                                                    interval=True, seed=seed)\n",
    "            robustness_dict_interval[uncertain_pct].append(robustness_ratio)\n",
    "    robustness_dicts_interval_linReg_mse.append(robustness_dict_interval)"
   ]
  },
  {
   "cell_type": "code",
   "execution_count": 18,
   "id": "3d166696-8456-40b3-96a1-1745dd054771",
   "metadata": {},
   "outputs": [
    {
     "data": {
      "image/png": "[encoded data removed]",
      "text/plain": [
       "<Figure size 3000x3000 with 9 Axes>"
      ]
     },
     "metadata": {},
     "output_type": "display_data"
    }
   ],
   "source": [
    "# Create the heatmap plot with a 2x2 grid\n",
    "fig, axes = plt.subplots(4, 2, figsize=(15, 15), dpi=200)\n",
    "\n",
    "# Define colormap\n",
    "cmap = plt.get_cmap(\"autumn_r\")\n",
    "\n",
    "# Function to plot a single heatmap\n",
    "def plot_heatmap(ax, heatmap_data, x_labels, y_labels, title):\n",
    "    heatmap = ax.imshow(heatmap_data, cmap=cmap, interpolation='nearest', \n",
    "                        aspect='auto', alpha=0.8, vmin=0, vmax=100)\n",
    "    ax.set_xticks(np.arange(len(x_labels)))\n",
    "    ax.set_yticks(np.arange(len(y_labels)))\n",
    "    ax.set_xticklabels(x_labels)\n",
    "    ax.set_yticklabels(y_labels)\n",
    "    ax.tick_params(axis='both', which='both', length=0)  # Remove tick marks\n",
    "    \n",
    "    # Add white lines by adjusting the linewidth for minor ticks\n",
    "    ax.set_xticks(np.arange(len(x_labels)) - 0.5, minor=True)\n",
    "    ax.set_yticks(np.arange(len(y_labels)) - 0.5, minor=True)\n",
    "    ax.grid(which=\"minor\", color=\"white\", linestyle='-', linewidth=0.5)\n",
    "    ax.tick_params(which=\"minor\", size=0)\n",
    "    \n",
    "    # Remove external boundaries\n",
    "    for spine in ax.spines.values():\n",
    "        spine.set_visible(False)\n",
    "\n",
    "    # Add text annotations\n",
    "    for i in range(len(y_labels)):\n",
    "        for j in range(len(x_labels)):\n",
    "            if heatmap_data[i][j] == 100:\n",
    "                text = ax.text(j, i, '100', ha='center', va='center', color='black')\n",
    "            elif heatmap_data[i][j] == 0:\n",
    "                text = ax.text(j, i, '0', ha='center', va='center', color='black')\n",
    "            else:\n",
    "                text = ax.text(j, i, f'{heatmap_data[i][j]:.1f}', ha='center', va='center', color='black')\n",
    "\n",
    "    ax.set_title(title, fontsize=12)\n",
    "    ax.set_xlabel('Percentage of Uncertain Data', fontsize=12)\n",
    "    ax.set_ylabel('Uncertain Radius (%)', fontsize=12)\n",
    "\n",
    "# Data for the heatmaps\n",
    "df1 = sum([pd.DataFrame(robustness_dicts_interval_naive[i]).iloc[:, 2:] for i in range(5)])/5\n",
    "df2 = sum([pd.DataFrame(robustness_dicts_interval_rndFrst_mae[i]).iloc[:, 2:] for i in range(5)])/5\n",
    "df3 = sum([pd.DataFrame(robustness_dicts_naive[i]).iloc[:, 2:] for i in range(5)])/5  \n",
    "df4 = sum([pd.DataFrame(robustness_dicts_rndFrst_mae[i]).iloc[:, 2:] for i in range(5)])/5\n",
    "df5 = sum([pd.DataFrame(robustness_dicts_interval_linReg_mae[i]).iloc[:, 2:] for i in range(5)])/5\n",
    "df6 = sum([pd.DataFrame(robustness_dicts_linReg_mae[i]).iloc[:, 2:] for i in range(5)])/5\n",
    "df7 = sum([pd.DataFrame(robustness_dicts_interval_linReg_mse[i]).iloc[:, 2:] for i in range(5)])/5\n",
    "df8 = sum([pd.DataFrame(robustness_dicts_linReg_mse[i]).iloc[:, 2:] for i in range(5)])/5\n",
    "\n",
    "# Convert fractions to percentages\n",
    "heatmap_data1 = df1.multiply(100).values\n",
    "heatmap_data2 = df2.multiply(100).values\n",
    "heatmap_data3 = df3.multiply(100).values\n",
    "heatmap_data4 = df4.multiply(100).values\n",
    "heatmap_data5 = df5.multiply(100).values\n",
    "heatmap_data6 = df6.multiply(100).values\n",
    "heatmap_data7 = df7.multiply(100).values\n",
    "heatmap_data8 = df8.multiply(100).values\n",
    "\n",
    "# Labels\n",
    "x_labels = df1.columns.tolist()\n",
    "y_labels = [0.05, 0.10, 0.15, 0.2, 0.25]\n",
    "\n",
    "# Plot each heatmap\n",
    "plot_heatmap(axes[0, 0], heatmap_data1, x_labels, y_labels, 'Meyer et al. (Naive Approach)')\n",
    "plot_heatmap(axes[0, 1], heatmap_data3, x_labels, y_labels, 'ZORRO (Naive Approach)')\n",
    "plot_heatmap(axes[1, 0], heatmap_data2, x_labels, y_labels, 'Meyer et al. (RndFrst MAE Cut)')\n",
    "plot_heatmap(axes[1, 1], heatmap_data4, x_labels, y_labels, 'ZORRO (RndFrst MAE Cut)')\n",
    "plot_heatmap(axes[2, 0], heatmap_data5, x_labels, y_labels, 'Meyer et al. (LinReg MAE Cut)')\n",
    "plot_heatmap(axes[2, 1], heatmap_data6, x_labels, y_labels, 'ZORRO (LinReg MAE Cut)')\n",
    "plot_heatmap(axes[3, 0], heatmap_data7, x_labels, y_labels, 'Meyer et al. (LinReg MSE Cut)')\n",
    "plot_heatmap(axes[3, 1], heatmap_data8, x_labels, y_labels, 'ZORRO (LinReg MSE Cut)')\n",
    "\n",
    "# Adjust layout and add colorbar\n",
    "plt.subplots_adjust(wspace=0.2, hspace=0.4, bottom=0.1, left=0.1, right=0.9)\n",
    "cb = fig.colorbar(axes[0, 1].images[0], ax=axes, orientation='vertical', pad=0.02)\n",
    "cb.set_label('Robustness Ratio (%)', fontsize=12)\n",
    "plt.savefig('graph_outs/discretization_method_mpg.pdf', bbox_inches='tight')"
   ]
  }
 ],
 "metadata": {
  "kernelspec": {
   "display_name": "Python 3 (ipykernel)",
   "language": "python",
   "name": "python3"
  },
  "language_info": {
   "codemirror_mode": {
    "name": "ipython",
    "version": 3
   },
   "file_extension": ".py",
   "mimetype": "text/x-python",
   "name": "python",
   "nbconvert_exporter": "python",
   "pygments_lexer": "ipython3",
   "version": "3.11.9"
  }
 },
 "nbformat": 4,
 "nbformat_minor": 5
}
